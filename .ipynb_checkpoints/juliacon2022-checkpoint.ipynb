{
 "cells": [
  {
   "cell_type": "markdown",
   "metadata": {},
   "source": [
    "# A Complete Guide to Efficient Transformations of data frames\n",
    "\n",
    "## Tutorial for JuliaCon 2022\n",
    "## Bogumił Kamiński"
   ]
  },
  {
   "cell_type": "markdown",
   "metadata": {},
   "source": [
    "This tutorial will start with simple examples, but gradually we will go into comptex transformations (which I decided to include as typical DataFrames.jl guides show only simple transformations, so I take an opportunity to work through several complex examples today).\n",
    "\n",
    "Related material covering operation specifixation syntax:\n",
    "* https://bkamins.github.io/julialang/2020/12/24/minilanguage.html\n",
    "* https://bkamins.github.io/julialang/2022/05/06/minilanguage.html\n",
    "* https://bkamins.github.io/julialang/2021/07/09/multicol.html\n",
    "* https://bkamins.github.io/julialang/2021/01/22/transforming.html\n",
    "* https://bkamins.github.io/julialang/2022/07/22/juliacon2022.html\n",
    "\n",
    "This tutorial is not a general introduction to DataFrames.jl, as it focuses only on one aspect of its functionality.\n",
    "\n",
    "Plese check the https://dataframes.juliadata.org/stable/ link to find a list of itroductory tutorials."
   ]
  },
  {
   "cell_type": "markdown",
   "metadata": {},
   "source": [
    "## Introduction\n",
    "\n",
    "In DataFrames.jl transformations use **operation specification syntax**\n",
    "\n",
    "This syntax has a general form:\n",
    "\n",
    "```\n",
    "[input columns] => [transformation function] => [output columns]\n",
    "```\n",
    "\n",
    "Operation specification syntax works on:\n",
    "* `AbstractDataFrame`\n",
    "* `GroupedDataFrame`\n",
    "\n",
    "Functions that support operation specification syntax (versions with `!` are in-place):\n",
    "* `select`, `select!` (perform operations but keep number and order of rows fixed)\n",
    "* `transform`, `transform!` (the same as select but keep existing columns)\n",
    "* `combine` (perform operations and possibly combine rows, and reduce their number)\n",
    "* `subset`, `subset!` (without output columns)\n",
    "\n",
    "Eeach of these functions accepts multiple operation specification arguments.\n",
    "\n",
    "What can be passed as a single operation specficication argument:\n",
    "* a single operation specification as an argument\n",
    "* a vector or matrix of Pair operation specifications (`Pair` must be eltype)\n",
    "\n",
    "Additionally DataFramesMeta.jl allows you to use **assignment style operations**:\n",
    "\n",
    "```\n",
    "[output columns] = [transformation expression]\n",
    "```\n",
    "\n",
    "In this tutorial I cover both standard **operation specification syntax** from DataFrames.jl and **assignment style operations** from DataFramesMeta.jl. (You can also consider checking-out DataFrameMacros.jl that provides an alternative similar functionality)"
   ]
  },
  {
   "cell_type": "markdown",
   "metadata": {},
   "source": [
    "## Getting started\n",
    "\n",
    "We will use a subsetted version of https://database.lichess.org/#puzzles database."
   ]
  },
  {
   "cell_type": "markdown",
   "metadata": {},
   "source": [
    "First load the required packages"
   ]
  },
  {
   "cell_type": "code",
   "execution_count": 1,
   "metadata": {},
   "outputs": [],
   "source": [
    "using DataFramesMeta # this also brings DataFrames.jl into scope"
   ]
  },
  {
   "cell_type": "code",
   "execution_count": 2,
   "metadata": {},
   "outputs": [],
   "source": [
    "using Parquet2 # to read in the source data; I use Parquet format because it is compressed"
   ]
  },
  {
   "cell_type": "code",
   "execution_count": 3,
   "metadata": {},
   "outputs": [],
   "source": [
    "using Statistics # bring in common statistical functions to scope like mean or std"
   ]
  },
  {
   "cell_type": "code",
   "execution_count": 4,
   "metadata": {},
   "outputs": [],
   "source": [
    "using CategoricalArrays # for cut"
   ]
  },
  {
   "cell_type": "code",
   "execution_count": 5,
   "metadata": {},
   "outputs": [],
   "source": [
    "using GLM # we will want to estimate a linear regression"
   ]
  },
  {
   "cell_type": "code",
   "execution_count": 6,
   "metadata": {},
   "outputs": [],
   "source": [
    "using Plots # we will do some plotting"
   ]
  },
  {
   "cell_type": "code",
   "execution_count": 7,
   "metadata": {},
   "outputs": [],
   "source": [
    "using HypothesisTests # we will do some hypothesis testing"
   ]
  },
  {
   "cell_type": "markdown",
   "metadata": {},
   "source": [
    "update display size (this setting is likely to change in future releases of DataFrames.jl when we switch to PrettyTables.jl backend)"
   ]
  },
  {
   "cell_type": "code",
   "execution_count": 8,
   "metadata": {},
   "outputs": [
    {
     "data": {
      "text/plain": [
       "12"
      ]
     },
     "execution_count": 8,
     "metadata": {},
     "output_type": "execute_result"
    }
   ],
   "source": [
    "ENV[\"COLUMNS\"] = 1000\n",
    "ENV[\"LINES\"] = 12"
   ]
  },
  {
   "cell_type": "markdown",
   "metadata": {},
   "source": [
    "Load the source data"
   ]
  },
  {
   "cell_type": "code",
   "execution_count": 9,
   "metadata": {},
   "outputs": [
    {
     "data": {
      "text/plain": [
       "\u001b[34m≔ \u001b[39mParquet2.Dataset (10280073 bytes)\n",
       "\t1. \u001b[33m\"Moves\"\u001b[39m: \u001b[36mString\u001b[39m\n",
       "\t2. \u001b[33m\"Rating\"\u001b[39m: \u001b[36mInt64\u001b[39m\n",
       "\t3. \u001b[33m\"Popularity\"\u001b[39m: \u001b[36mInt64\u001b[39m\n",
       "\t4. \u001b[33m\"NbPlays\"\u001b[39m: \u001b[36mInt64\u001b[39m\n",
       "\t5. \u001b[33m\"Themes\"\u001b[39m: \u001b[36mString\u001b[39m\n",
       "\t6. \u001b[33m\"OpeningFamily\"\u001b[39m: \u001b[36mString\u001b[39m\n"
      ]
     },
     "execution_count": 9,
     "metadata": {},
     "output_type": "execute_result"
    }
   ],
   "source": [
    "ds = Parquet2.Dataset(\"puzzles.parquet\")"
   ]
  },
  {
   "cell_type": "code",
   "execution_count": 10,
   "metadata": {
    "scrolled": false
   },
   "outputs": [
    {
     "data": {
      "text/html": [
       "<div class=\"data-frame\"><p>565,133 rows × 6 columns</p><table class=\"data-frame\"><thead><tr><th></th><th>Moves</th><th>Rating</th><th>Popularity</th><th>NbPlays</th><th>Themes</th><th>OpeningFamily</th></tr><tr><th></th><th title=\"String\">String</th><th title=\"Int64\">Int64</th><th title=\"Int64\">Int64</th><th title=\"Int64\">Int64</th><th title=\"String\">String</th><th title=\"String\">String</th></tr></thead><tbody><tr><th>1</th><td>b6c5 e2g4 h3g4 d1g4</td><td>1088</td><td>85</td><td>505</td><td>advantage middlegame short</td><td>Kings_Pawn_Game</td></tr><tr><th>2</th><td>g5e7 a5c3 b2c3 c6e7</td><td>1457</td><td>86</td><td>482</td><td>advantage master middlegame short</td><td>Benoni_Defense</td></tr><tr><th>3</th><td>e8f7 e2e6 f7f8 e6f7</td><td>1595</td><td>88</td><td>448</td><td>mate mateIn2 middlegame short</td><td>Horwitz_Defense</td></tr><tr><th>4</th><td>d8f6 d1h5 h7h6 h5c5</td><td>1762</td><td>90</td><td>1572</td><td>advantage middlegame short</td><td>Scotch_Game</td></tr><tr><th>5</th><td>c7a8 a5c3</td><td>1013</td><td>39</td><td>136</td><td>bodenMate hangingPiece mate mateIn1 middlegame oneMove</td><td>Sicilian_Defense</td></tr><tr><th>6</th><td>h2g3 g6h5</td><td>1490</td><td>50</td><td>12</td><td>mate mateIn1 oneMove</td><td>Ruy_Lopez</td></tr><tr><th>7</th><td>f2f3 d6c5 g1h1 c5c4</td><td>943</td><td>96</td><td>1091</td><td>advantage fork master masterVsMaster middlegame short</td><td>Pirc_Defense</td></tr><tr><th>8</th><td>d3a6 b6c5 a6c8 c5c4</td><td>1927</td><td>93</td><td>639</td><td>crushing master masterVsMaster middlegame sacrifice short</td><td>Slav_Defense</td></tr><tr><th>9</th><td>b1c3 f5g4 h5g4 d7g4</td><td>1628</td><td>96</td><td>12910</td><td>advantage opening short trappedPiece</td><td>Queens_Pawn_Game</td></tr><tr><th>10</th><td>c6e5 d4e5 d6e7 e5f6</td><td>1303</td><td>47</td><td>19</td><td>advantage fork middlegame short</td><td>Queens_Pawn_Game</td></tr><tr><th>11</th><td>f8e7 f3e5 c7e5 e2g4</td><td>1492</td><td>93</td><td>588</td><td>crushing discoveredAttack middlegame short</td><td>Caro-Kann_Defense</td></tr><tr><th>12</th><td>g1h1 f6f4 d1f3 f4f3</td><td>1787</td><td>96</td><td>1869</td><td>crushing kingsideAttack middlegame short</td><td>Sicilian_Defense</td></tr><tr><th>&vellip;</th><td>&vellip;</td><td>&vellip;</td><td>&vellip;</td><td>&vellip;</td><td>&vellip;</td><td>&vellip;</td></tr></tbody></table></div>"
      ],
      "text/latex": [
       "\\begin{tabular}{r|cccccc}\n",
       "\t& Moves & Rating & Popularity & NbPlays & Themes & OpeningFamily\\\\\n",
       "\t\\hline\n",
       "\t& String & Int64 & Int64 & Int64 & String & String\\\\\n",
       "\t\\hline\n",
       "\t1 & b6c5 e2g4 h3g4 d1g4 & 1088 & 85 & 505 & advantage middlegame short & Kings\\_Pawn\\_Game \\\\\n",
       "\t2 & g5e7 a5c3 b2c3 c6e7 & 1457 & 86 & 482 & advantage master middlegame short & Benoni\\_Defense \\\\\n",
       "\t3 & e8f7 e2e6 f7f8 e6f7 & 1595 & 88 & 448 & mate mateIn2 middlegame short & Horwitz\\_Defense \\\\\n",
       "\t4 & d8f6 d1h5 h7h6 h5c5 & 1762 & 90 & 1572 & advantage middlegame short & Scotch\\_Game \\\\\n",
       "\t5 & c7a8 a5c3 & 1013 & 39 & 136 & bodenMate hangingPiece mate mateIn1 middlegame oneMove & Sicilian\\_Defense \\\\\n",
       "\t6 & h2g3 g6h5 & 1490 & 50 & 12 & mate mateIn1 oneMove & Ruy\\_Lopez \\\\\n",
       "\t7 & f2f3 d6c5 g1h1 c5c4 & 943 & 96 & 1091 & advantage fork master masterVsMaster middlegame short & Pirc\\_Defense \\\\\n",
       "\t8 & d3a6 b6c5 a6c8 c5c4 & 1927 & 93 & 639 & crushing master masterVsMaster middlegame sacrifice short & Slav\\_Defense \\\\\n",
       "\t9 & b1c3 f5g4 h5g4 d7g4 & 1628 & 96 & 12910 & advantage opening short trappedPiece & Queens\\_Pawn\\_Game \\\\\n",
       "\t10 & c6e5 d4e5 d6e7 e5f6 & 1303 & 47 & 19 & advantage fork middlegame short & Queens\\_Pawn\\_Game \\\\\n",
       "\t11 & f8e7 f3e5 c7e5 e2g4 & 1492 & 93 & 588 & crushing discoveredAttack middlegame short & Caro-Kann\\_Defense \\\\\n",
       "\t12 & g1h1 f6f4 d1f3 f4f3 & 1787 & 96 & 1869 & crushing kingsideAttack middlegame short & Sicilian\\_Defense \\\\\n",
       "\t$\\dots$ & $\\dots$ & $\\dots$ & $\\dots$ & $\\dots$ & $\\dots$ & $\\dots$ \\\\\n",
       "\\end{tabular}\n"
      ],
      "text/plain": [
       "\u001b[1m565133×6 DataFrame\u001b[0m\n",
       "\u001b[1m    Row \u001b[0m│\u001b[1m Moves                         \u001b[0m\u001b[1m Rating \u001b[0m\u001b[1m Popularity \u001b[0m\u001b[1m NbPlays \u001b[0m\u001b[1m Themes                            \u001b[0m\u001b[1m OpeningFamily          \u001b[0m\n",
       "\u001b[1m        \u001b[0m│\u001b[90m String                        \u001b[0m\u001b[90m Int64  \u001b[0m\u001b[90m Int64      \u001b[0m\u001b[90m Int64   \u001b[0m\u001b[90m String                            \u001b[0m\u001b[90m String                 \u001b[0m\n",
       "────────┼───────────────────────────────────────────────────────────────────────────────────────────────────────────────────────\n",
       "      1 │ b6c5 e2g4 h3g4 d1g4              1088          85      505  advantage middlegame short         Kings_Pawn_Game\n",
       "      2 │ g5e7 a5c3 b2c3 c6e7              1457          86      482  advantage master middlegame short  Benoni_Defense\n",
       "   ⋮    │               ⋮                  ⋮         ⋮          ⋮                     ⋮                            ⋮\n",
       " 565133 │ c6d4 f1e1 e8d8 b1c3 d4f3 g2f3    2496          79       50  advantage long opening             Kings_Gambit_Accepted\n",
       "\u001b[36m                                                                                                             565130 rows omitted\u001b[0m"
      ]
     },
     "execution_count": 10,
     "metadata": {},
     "output_type": "execute_result"
    }
   ],
   "source": [
    "df = DataFrame(ds)"
   ]
  },
  {
   "cell_type": "markdown",
   "metadata": {},
   "source": [
    "## Walk before you run: column selection"
   ]
  },
  {
   "cell_type": "markdown",
   "metadata": {},
   "source": [
    "In the examples we will show both DataFrames.jl and DataFramesMeta.jl styles."
   ]
  },
  {
   "cell_type": "markdown",
   "metadata": {},
   "source": [
    "Get a single column:"
   ]
  },
  {
   "cell_type": "code",
   "execution_count": 11,
   "metadata": {
    "scrolled": false
   },
   "outputs": [
    {
     "data": {
      "text/html": [
       "<div class=\"data-frame\"><p>565,133 rows × 1 columns</p><table class=\"data-frame\"><thead><tr><th></th><th>Themes</th></tr><tr><th></th><th title=\"String\">String</th></tr></thead><tbody><tr><th>1</th><td>advantage middlegame short</td></tr><tr><th>2</th><td>advantage master middlegame short</td></tr><tr><th>3</th><td>mate mateIn2 middlegame short</td></tr><tr><th>4</th><td>advantage middlegame short</td></tr><tr><th>5</th><td>bodenMate hangingPiece mate mateIn1 middlegame oneMove</td></tr><tr><th>6</th><td>mate mateIn1 oneMove</td></tr><tr><th>7</th><td>advantage fork master masterVsMaster middlegame short</td></tr><tr><th>8</th><td>crushing master masterVsMaster middlegame sacrifice short</td></tr><tr><th>9</th><td>advantage opening short trappedPiece</td></tr><tr><th>10</th><td>advantage fork middlegame short</td></tr><tr><th>11</th><td>crushing discoveredAttack middlegame short</td></tr><tr><th>12</th><td>crushing kingsideAttack middlegame short</td></tr><tr><th>&vellip;</th><td>&vellip;</td></tr></tbody></table></div>"
      ],
      "text/latex": [
       "\\begin{tabular}{r|c}\n",
       "\t& Themes\\\\\n",
       "\t\\hline\n",
       "\t& String\\\\\n",
       "\t\\hline\n",
       "\t1 & advantage middlegame short \\\\\n",
       "\t2 & advantage master middlegame short \\\\\n",
       "\t3 & mate mateIn2 middlegame short \\\\\n",
       "\t4 & advantage middlegame short \\\\\n",
       "\t5 & bodenMate hangingPiece mate mateIn1 middlegame oneMove \\\\\n",
       "\t6 & mate mateIn1 oneMove \\\\\n",
       "\t7 & advantage fork master masterVsMaster middlegame short \\\\\n",
       "\t8 & crushing master masterVsMaster middlegame sacrifice short \\\\\n",
       "\t9 & advantage opening short trappedPiece \\\\\n",
       "\t10 & advantage fork middlegame short \\\\\n",
       "\t11 & crushing discoveredAttack middlegame short \\\\\n",
       "\t12 & crushing kingsideAttack middlegame short \\\\\n",
       "\t$\\dots$ & $\\dots$ \\\\\n",
       "\\end{tabular}\n"
      ],
      "text/plain": [
       "\u001b[1m565133×1 DataFrame\u001b[0m\n",
       "\u001b[1m    Row \u001b[0m│\u001b[1m Themes                            \u001b[0m\n",
       "\u001b[1m        \u001b[0m│\u001b[90m String                            \u001b[0m\n",
       "────────┼───────────────────────────────────\n",
       "      1 │ advantage middlegame short\n",
       "      2 │ advantage master middlegame short\n",
       "   ⋮    │                 ⋮\n",
       " 565133 │ advantage long opening\n",
       "\u001b[36m                         565130 rows omitted\u001b[0m"
      ]
     },
     "execution_count": 11,
     "metadata": {},
     "output_type": "execute_result"
    }
   ],
   "source": [
    "select(df, :Themes)"
   ]
  },
  {
   "cell_type": "code",
   "execution_count": 12,
   "metadata": {
    "scrolled": false
   },
   "outputs": [
    {
     "data": {
      "text/html": [
       "<div class=\"data-frame\"><p>565,133 rows × 1 columns</p><table class=\"data-frame\"><thead><tr><th></th><th>Themes</th></tr><tr><th></th><th title=\"String\">String</th></tr></thead><tbody><tr><th>1</th><td>advantage middlegame short</td></tr><tr><th>2</th><td>advantage master middlegame short</td></tr><tr><th>3</th><td>mate mateIn2 middlegame short</td></tr><tr><th>4</th><td>advantage middlegame short</td></tr><tr><th>5</th><td>bodenMate hangingPiece mate mateIn1 middlegame oneMove</td></tr><tr><th>6</th><td>mate mateIn1 oneMove</td></tr><tr><th>7</th><td>advantage fork master masterVsMaster middlegame short</td></tr><tr><th>8</th><td>crushing master masterVsMaster middlegame sacrifice short</td></tr><tr><th>9</th><td>advantage opening short trappedPiece</td></tr><tr><th>10</th><td>advantage fork middlegame short</td></tr><tr><th>11</th><td>crushing discoveredAttack middlegame short</td></tr><tr><th>12</th><td>crushing kingsideAttack middlegame short</td></tr><tr><th>&vellip;</th><td>&vellip;</td></tr></tbody></table></div>"
      ],
      "text/latex": [
       "\\begin{tabular}{r|c}\n",
       "\t& Themes\\\\\n",
       "\t\\hline\n",
       "\t& String\\\\\n",
       "\t\\hline\n",
       "\t1 & advantage middlegame short \\\\\n",
       "\t2 & advantage master middlegame short \\\\\n",
       "\t3 & mate mateIn2 middlegame short \\\\\n",
       "\t4 & advantage middlegame short \\\\\n",
       "\t5 & bodenMate hangingPiece mate mateIn1 middlegame oneMove \\\\\n",
       "\t6 & mate mateIn1 oneMove \\\\\n",
       "\t7 & advantage fork master masterVsMaster middlegame short \\\\\n",
       "\t8 & crushing master masterVsMaster middlegame sacrifice short \\\\\n",
       "\t9 & advantage opening short trappedPiece \\\\\n",
       "\t10 & advantage fork middlegame short \\\\\n",
       "\t11 & crushing discoveredAttack middlegame short \\\\\n",
       "\t12 & crushing kingsideAttack middlegame short \\\\\n",
       "\t$\\dots$ & $\\dots$ \\\\\n",
       "\\end{tabular}\n"
      ],
      "text/plain": [
       "\u001b[1m565133×1 DataFrame\u001b[0m\n",
       "\u001b[1m    Row \u001b[0m│\u001b[1m Themes                            \u001b[0m\n",
       "\u001b[1m        \u001b[0m│\u001b[90m String                            \u001b[0m\n",
       "────────┼───────────────────────────────────\n",
       "      1 │ advantage middlegame short\n",
       "      2 │ advantage master middlegame short\n",
       "   ⋮    │                 ⋮\n",
       " 565133 │ advantage long opening\n",
       "\u001b[36m                         565130 rows omitted\u001b[0m"
      ]
     },
     "execution_count": 12,
     "metadata": {},
     "output_type": "execute_result"
    }
   ],
   "source": [
    "@select(df, :Themes)"
   ]
  },
  {
   "cell_type": "markdown",
   "metadata": {},
   "source": [
    "Select multiple columns"
   ]
  },
  {
   "cell_type": "code",
   "execution_count": 13,
   "metadata": {
    "scrolled": false
   },
   "outputs": [
    {
     "data": {
      "text/html": [
       "<div class=\"data-frame\"><p>565,133 rows × 4 columns</p><table class=\"data-frame\"><thead><tr><th></th><th>Themes</th><th>NbPlays</th><th>Rating</th><th>Moves</th></tr><tr><th></th><th title=\"String\">String</th><th title=\"Int64\">Int64</th><th title=\"Int64\">Int64</th><th title=\"String\">String</th></tr></thead><tbody><tr><th>1</th><td>advantage middlegame short</td><td>505</td><td>1088</td><td>b6c5 e2g4 h3g4 d1g4</td></tr><tr><th>2</th><td>advantage master middlegame short</td><td>482</td><td>1457</td><td>g5e7 a5c3 b2c3 c6e7</td></tr><tr><th>3</th><td>mate mateIn2 middlegame short</td><td>448</td><td>1595</td><td>e8f7 e2e6 f7f8 e6f7</td></tr><tr><th>4</th><td>advantage middlegame short</td><td>1572</td><td>1762</td><td>d8f6 d1h5 h7h6 h5c5</td></tr><tr><th>5</th><td>bodenMate hangingPiece mate mateIn1 middlegame oneMove</td><td>136</td><td>1013</td><td>c7a8 a5c3</td></tr><tr><th>6</th><td>mate mateIn1 oneMove</td><td>12</td><td>1490</td><td>h2g3 g6h5</td></tr><tr><th>7</th><td>advantage fork master masterVsMaster middlegame short</td><td>1091</td><td>943</td><td>f2f3 d6c5 g1h1 c5c4</td></tr><tr><th>8</th><td>crushing master masterVsMaster middlegame sacrifice short</td><td>639</td><td>1927</td><td>d3a6 b6c5 a6c8 c5c4</td></tr><tr><th>9</th><td>advantage opening short trappedPiece</td><td>12910</td><td>1628</td><td>b1c3 f5g4 h5g4 d7g4</td></tr><tr><th>10</th><td>advantage fork middlegame short</td><td>19</td><td>1303</td><td>c6e5 d4e5 d6e7 e5f6</td></tr><tr><th>11</th><td>crushing discoveredAttack middlegame short</td><td>588</td><td>1492</td><td>f8e7 f3e5 c7e5 e2g4</td></tr><tr><th>12</th><td>crushing kingsideAttack middlegame short</td><td>1869</td><td>1787</td><td>g1h1 f6f4 d1f3 f4f3</td></tr><tr><th>&vellip;</th><td>&vellip;</td><td>&vellip;</td><td>&vellip;</td><td>&vellip;</td></tr></tbody></table></div>"
      ],
      "text/latex": [
       "\\begin{tabular}{r|cccc}\n",
       "\t& Themes & NbPlays & Rating & Moves\\\\\n",
       "\t\\hline\n",
       "\t& String & Int64 & Int64 & String\\\\\n",
       "\t\\hline\n",
       "\t1 & advantage middlegame short & 505 & 1088 & b6c5 e2g4 h3g4 d1g4 \\\\\n",
       "\t2 & advantage master middlegame short & 482 & 1457 & g5e7 a5c3 b2c3 c6e7 \\\\\n",
       "\t3 & mate mateIn2 middlegame short & 448 & 1595 & e8f7 e2e6 f7f8 e6f7 \\\\\n",
       "\t4 & advantage middlegame short & 1572 & 1762 & d8f6 d1h5 h7h6 h5c5 \\\\\n",
       "\t5 & bodenMate hangingPiece mate mateIn1 middlegame oneMove & 136 & 1013 & c7a8 a5c3 \\\\\n",
       "\t6 & mate mateIn1 oneMove & 12 & 1490 & h2g3 g6h5 \\\\\n",
       "\t7 & advantage fork master masterVsMaster middlegame short & 1091 & 943 & f2f3 d6c5 g1h1 c5c4 \\\\\n",
       "\t8 & crushing master masterVsMaster middlegame sacrifice short & 639 & 1927 & d3a6 b6c5 a6c8 c5c4 \\\\\n",
       "\t9 & advantage opening short trappedPiece & 12910 & 1628 & b1c3 f5g4 h5g4 d7g4 \\\\\n",
       "\t10 & advantage fork middlegame short & 19 & 1303 & c6e5 d4e5 d6e7 e5f6 \\\\\n",
       "\t11 & crushing discoveredAttack middlegame short & 588 & 1492 & f8e7 f3e5 c7e5 e2g4 \\\\\n",
       "\t12 & crushing kingsideAttack middlegame short & 1869 & 1787 & g1h1 f6f4 d1f3 f4f3 \\\\\n",
       "\t$\\dots$ & $\\dots$ & $\\dots$ & $\\dots$ & $\\dots$ \\\\\n",
       "\\end{tabular}\n"
      ],
      "text/plain": [
       "\u001b[1m565133×4 DataFrame\u001b[0m\n",
       "\u001b[1m    Row \u001b[0m│\u001b[1m Themes                            \u001b[0m\u001b[1m NbPlays \u001b[0m\u001b[1m Rating \u001b[0m\u001b[1m Moves                         \u001b[0m\n",
       "\u001b[1m        \u001b[0m│\u001b[90m String                            \u001b[0m\u001b[90m Int64   \u001b[0m\u001b[90m Int64  \u001b[0m\u001b[90m String                        \u001b[0m\n",
       "────────┼───────────────────────────────────────────────────────────────────────────────────\n",
       "      1 │ advantage middlegame short             505    1088  b6c5 e2g4 h3g4 d1g4\n",
       "      2 │ advantage master middlegame short      482    1457  g5e7 a5c3 b2c3 c6e7\n",
       "   ⋮    │                 ⋮                     ⋮       ⋮                   ⋮\n",
       " 565133 │ advantage long opening                  50    2496  c6d4 f1e1 e8d8 b1c3 d4f3 g2f3\n",
       "\u001b[36m                                                                         565130 rows omitted\u001b[0m"
      ]
     },
     "execution_count": 13,
     "metadata": {},
     "output_type": "execute_result"
    }
   ],
   "source": [
    "select(df, \"Themes\", 4, [:Rating, :Moves])"
   ]
  },
  {
   "cell_type": "code",
   "execution_count": 14,
   "metadata": {
    "scrolled": false
   },
   "outputs": [
    {
     "data": {
      "text/html": [
       "<div class=\"data-frame\"><p>565,133 rows × 4 columns</p><table class=\"data-frame\"><thead><tr><th></th><th>Themes</th><th>NbPlays</th><th>Rating</th><th>Moves</th></tr><tr><th></th><th title=\"String\">String</th><th title=\"Int64\">Int64</th><th title=\"Int64\">Int64</th><th title=\"String\">String</th></tr></thead><tbody><tr><th>1</th><td>advantage middlegame short</td><td>505</td><td>1088</td><td>b6c5 e2g4 h3g4 d1g4</td></tr><tr><th>2</th><td>advantage master middlegame short</td><td>482</td><td>1457</td><td>g5e7 a5c3 b2c3 c6e7</td></tr><tr><th>3</th><td>mate mateIn2 middlegame short</td><td>448</td><td>1595</td><td>e8f7 e2e6 f7f8 e6f7</td></tr><tr><th>4</th><td>advantage middlegame short</td><td>1572</td><td>1762</td><td>d8f6 d1h5 h7h6 h5c5</td></tr><tr><th>5</th><td>bodenMate hangingPiece mate mateIn1 middlegame oneMove</td><td>136</td><td>1013</td><td>c7a8 a5c3</td></tr><tr><th>6</th><td>mate mateIn1 oneMove</td><td>12</td><td>1490</td><td>h2g3 g6h5</td></tr><tr><th>7</th><td>advantage fork master masterVsMaster middlegame short</td><td>1091</td><td>943</td><td>f2f3 d6c5 g1h1 c5c4</td></tr><tr><th>8</th><td>crushing master masterVsMaster middlegame sacrifice short</td><td>639</td><td>1927</td><td>d3a6 b6c5 a6c8 c5c4</td></tr><tr><th>9</th><td>advantage opening short trappedPiece</td><td>12910</td><td>1628</td><td>b1c3 f5g4 h5g4 d7g4</td></tr><tr><th>10</th><td>advantage fork middlegame short</td><td>19</td><td>1303</td><td>c6e5 d4e5 d6e7 e5f6</td></tr><tr><th>11</th><td>crushing discoveredAttack middlegame short</td><td>588</td><td>1492</td><td>f8e7 f3e5 c7e5 e2g4</td></tr><tr><th>12</th><td>crushing kingsideAttack middlegame short</td><td>1869</td><td>1787</td><td>g1h1 f6f4 d1f3 f4f3</td></tr><tr><th>&vellip;</th><td>&vellip;</td><td>&vellip;</td><td>&vellip;</td><td>&vellip;</td></tr></tbody></table></div>"
      ],
      "text/latex": [
       "\\begin{tabular}{r|cccc}\n",
       "\t& Themes & NbPlays & Rating & Moves\\\\\n",
       "\t\\hline\n",
       "\t& String & Int64 & Int64 & String\\\\\n",
       "\t\\hline\n",
       "\t1 & advantage middlegame short & 505 & 1088 & b6c5 e2g4 h3g4 d1g4 \\\\\n",
       "\t2 & advantage master middlegame short & 482 & 1457 & g5e7 a5c3 b2c3 c6e7 \\\\\n",
       "\t3 & mate mateIn2 middlegame short & 448 & 1595 & e8f7 e2e6 f7f8 e6f7 \\\\\n",
       "\t4 & advantage middlegame short & 1572 & 1762 & d8f6 d1h5 h7h6 h5c5 \\\\\n",
       "\t5 & bodenMate hangingPiece mate mateIn1 middlegame oneMove & 136 & 1013 & c7a8 a5c3 \\\\\n",
       "\t6 & mate mateIn1 oneMove & 12 & 1490 & h2g3 g6h5 \\\\\n",
       "\t7 & advantage fork master masterVsMaster middlegame short & 1091 & 943 & f2f3 d6c5 g1h1 c5c4 \\\\\n",
       "\t8 & crushing master masterVsMaster middlegame sacrifice short & 639 & 1927 & d3a6 b6c5 a6c8 c5c4 \\\\\n",
       "\t9 & advantage opening short trappedPiece & 12910 & 1628 & b1c3 f5g4 h5g4 d7g4 \\\\\n",
       "\t10 & advantage fork middlegame short & 19 & 1303 & c6e5 d4e5 d6e7 e5f6 \\\\\n",
       "\t11 & crushing discoveredAttack middlegame short & 588 & 1492 & f8e7 f3e5 c7e5 e2g4 \\\\\n",
       "\t12 & crushing kingsideAttack middlegame short & 1869 & 1787 & g1h1 f6f4 d1f3 f4f3 \\\\\n",
       "\t$\\dots$ & $\\dots$ & $\\dots$ & $\\dots$ & $\\dots$ \\\\\n",
       "\\end{tabular}\n"
      ],
      "text/plain": [
       "\u001b[1m565133×4 DataFrame\u001b[0m\n",
       "\u001b[1m    Row \u001b[0m│\u001b[1m Themes                            \u001b[0m\u001b[1m NbPlays \u001b[0m\u001b[1m Rating \u001b[0m\u001b[1m Moves                         \u001b[0m\n",
       "\u001b[1m        \u001b[0m│\u001b[90m String                            \u001b[0m\u001b[90m Int64   \u001b[0m\u001b[90m Int64  \u001b[0m\u001b[90m String                        \u001b[0m\n",
       "────────┼───────────────────────────────────────────────────────────────────────────────────\n",
       "      1 │ advantage middlegame short             505    1088  b6c5 e2g4 h3g4 d1g4\n",
       "      2 │ advantage master middlegame short      482    1457  g5e7 a5c3 b2c3 c6e7\n",
       "   ⋮    │                 ⋮                     ⋮       ⋮                   ⋮\n",
       " 565133 │ advantage long opening                  50    2496  c6d4 f1e1 e8d8 b1c3 d4f3 g2f3\n",
       "\u001b[36m                                                                         565130 rows omitted\u001b[0m"
      ]
     },
     "execution_count": 14,
     "metadata": {},
     "output_type": "execute_result"
    }
   ],
   "source": [
    "@select(df, :Themes, :NbPlays, :Rating, :Moves)"
   ]
  },
  {
   "cell_type": "markdown",
   "metadata": {},
   "source": [
    "Normally `@select` expects symbols; you can pass other arguments accepted by `select` verbatim by escaping them with `$`."
   ]
  },
  {
   "cell_type": "code",
   "execution_count": 15,
   "metadata": {
    "scrolled": false
   },
   "outputs": [
    {
     "data": {
      "text/html": [
       "<div class=\"data-frame\"><p>565,133 rows × 4 columns</p><table class=\"data-frame\"><thead><tr><th></th><th>Themes</th><th>NbPlays</th><th>Rating</th><th>Moves</th></tr><tr><th></th><th title=\"String\">String</th><th title=\"Int64\">Int64</th><th title=\"Int64\">Int64</th><th title=\"String\">String</th></tr></thead><tbody><tr><th>1</th><td>advantage middlegame short</td><td>505</td><td>1088</td><td>b6c5 e2g4 h3g4 d1g4</td></tr><tr><th>2</th><td>advantage master middlegame short</td><td>482</td><td>1457</td><td>g5e7 a5c3 b2c3 c6e7</td></tr><tr><th>3</th><td>mate mateIn2 middlegame short</td><td>448</td><td>1595</td><td>e8f7 e2e6 f7f8 e6f7</td></tr><tr><th>4</th><td>advantage middlegame short</td><td>1572</td><td>1762</td><td>d8f6 d1h5 h7h6 h5c5</td></tr><tr><th>5</th><td>bodenMate hangingPiece mate mateIn1 middlegame oneMove</td><td>136</td><td>1013</td><td>c7a8 a5c3</td></tr><tr><th>6</th><td>mate mateIn1 oneMove</td><td>12</td><td>1490</td><td>h2g3 g6h5</td></tr><tr><th>7</th><td>advantage fork master masterVsMaster middlegame short</td><td>1091</td><td>943</td><td>f2f3 d6c5 g1h1 c5c4</td></tr><tr><th>8</th><td>crushing master masterVsMaster middlegame sacrifice short</td><td>639</td><td>1927</td><td>d3a6 b6c5 a6c8 c5c4</td></tr><tr><th>9</th><td>advantage opening short trappedPiece</td><td>12910</td><td>1628</td><td>b1c3 f5g4 h5g4 d7g4</td></tr><tr><th>10</th><td>advantage fork middlegame short</td><td>19</td><td>1303</td><td>c6e5 d4e5 d6e7 e5f6</td></tr><tr><th>11</th><td>crushing discoveredAttack middlegame short</td><td>588</td><td>1492</td><td>f8e7 f3e5 c7e5 e2g4</td></tr><tr><th>12</th><td>crushing kingsideAttack middlegame short</td><td>1869</td><td>1787</td><td>g1h1 f6f4 d1f3 f4f3</td></tr><tr><th>&vellip;</th><td>&vellip;</td><td>&vellip;</td><td>&vellip;</td><td>&vellip;</td></tr></tbody></table></div>"
      ],
      "text/latex": [
       "\\begin{tabular}{r|cccc}\n",
       "\t& Themes & NbPlays & Rating & Moves\\\\\n",
       "\t\\hline\n",
       "\t& String & Int64 & Int64 & String\\\\\n",
       "\t\\hline\n",
       "\t1 & advantage middlegame short & 505 & 1088 & b6c5 e2g4 h3g4 d1g4 \\\\\n",
       "\t2 & advantage master middlegame short & 482 & 1457 & g5e7 a5c3 b2c3 c6e7 \\\\\n",
       "\t3 & mate mateIn2 middlegame short & 448 & 1595 & e8f7 e2e6 f7f8 e6f7 \\\\\n",
       "\t4 & advantage middlegame short & 1572 & 1762 & d8f6 d1h5 h7h6 h5c5 \\\\\n",
       "\t5 & bodenMate hangingPiece mate mateIn1 middlegame oneMove & 136 & 1013 & c7a8 a5c3 \\\\\n",
       "\t6 & mate mateIn1 oneMove & 12 & 1490 & h2g3 g6h5 \\\\\n",
       "\t7 & advantage fork master masterVsMaster middlegame short & 1091 & 943 & f2f3 d6c5 g1h1 c5c4 \\\\\n",
       "\t8 & crushing master masterVsMaster middlegame sacrifice short & 639 & 1927 & d3a6 b6c5 a6c8 c5c4 \\\\\n",
       "\t9 & advantage opening short trappedPiece & 12910 & 1628 & b1c3 f5g4 h5g4 d7g4 \\\\\n",
       "\t10 & advantage fork middlegame short & 19 & 1303 & c6e5 d4e5 d6e7 e5f6 \\\\\n",
       "\t11 & crushing discoveredAttack middlegame short & 588 & 1492 & f8e7 f3e5 c7e5 e2g4 \\\\\n",
       "\t12 & crushing kingsideAttack middlegame short & 1869 & 1787 & g1h1 f6f4 d1f3 f4f3 \\\\\n",
       "\t$\\dots$ & $\\dots$ & $\\dots$ & $\\dots$ & $\\dots$ \\\\\n",
       "\\end{tabular}\n"
      ],
      "text/plain": [
       "\u001b[1m565133×4 DataFrame\u001b[0m\n",
       "\u001b[1m    Row \u001b[0m│\u001b[1m Themes                            \u001b[0m\u001b[1m NbPlays \u001b[0m\u001b[1m Rating \u001b[0m\u001b[1m Moves                         \u001b[0m\n",
       "\u001b[1m        \u001b[0m│\u001b[90m String                            \u001b[0m\u001b[90m Int64   \u001b[0m\u001b[90m Int64  \u001b[0m\u001b[90m String                        \u001b[0m\n",
       "────────┼───────────────────────────────────────────────────────────────────────────────────\n",
       "      1 │ advantage middlegame short             505    1088  b6c5 e2g4 h3g4 d1g4\n",
       "      2 │ advantage master middlegame short      482    1457  g5e7 a5c3 b2c3 c6e7\n",
       "   ⋮    │                 ⋮                     ⋮       ⋮                   ⋮\n",
       " 565133 │ advantage long opening                  50    2496  c6d4 f1e1 e8d8 b1c3 d4f3 g2f3\n",
       "\u001b[36m                                                                         565130 rows omitted\u001b[0m"
      ]
     },
     "execution_count": 15,
     "metadata": {},
     "output_type": "execute_result"
    }
   ],
   "source": [
    "@select(df, $\"Themes\", $4, $[:Rating, :Moves])"
   ]
  },
  {
   "cell_type": "code",
   "execution_count": 16,
   "metadata": {},
   "outputs": [
    {
     "data": {
      "text/plain": [
       "quote\n",
       "    \u001b[90m#= C:\\Users\\bogum\\.julia\\packages\\DataFramesMeta\\kWkhX\\src\\macros.jl:1645 =#\u001b[39m\n",
       "    (DataFrames).select(df, \"Themes\", 4, [:Rating, :Moves])\n",
       "end"
      ]
     },
     "execution_count": 16,
     "metadata": {},
     "output_type": "execute_result"
    }
   ],
   "source": [
    "@macroexpand @select(df, $\"Themes\", $4, $[:Rating, :Moves])"
   ]
  },
  {
   "cell_type": "markdown",
   "metadata": {},
   "source": [
    "### Recommendation:\n",
    "\n",
    "* *DataFramesMeta.jl* style is usually more convenient for \"static code\" where column names are fixed and known and is easier to learn.\n",
    "* *DataFrames.jl* style is usually more convenient for \"dynamic code\" where column names are dynamically generated, but is slightly more verbose.\n",
    "\n",
    "<div class=\"alert alert-block alert-info\">\n",
    "Since different users have different preferences and requirements we provide both options in the ecosystem.\n",
    "\n",
    "In this tutorial I show you both versions so that you can decide which one is more convenient for you (of course you can mix both styles if you wanted).\n",
    "</div>"
   ]
  },
  {
   "cell_type": "markdown",
   "metadata": {},
   "source": [
    "## Special column selectors"
   ]
  },
  {
   "cell_type": "markdown",
   "metadata": {},
   "source": [
    "Dropping columns"
   ]
  },
  {
   "cell_type": "code",
   "execution_count": 17,
   "metadata": {
    "scrolled": false
   },
   "outputs": [
    {
     "data": {
      "text/html": [
       "<div class=\"data-frame\"><p>565,133 rows × 5 columns</p><table class=\"data-frame\"><thead><tr><th></th><th>Moves</th><th>Rating</th><th>Popularity</th><th>NbPlays</th><th>OpeningFamily</th></tr><tr><th></th><th title=\"String\">String</th><th title=\"Int64\">Int64</th><th title=\"Int64\">Int64</th><th title=\"Int64\">Int64</th><th title=\"String\">String</th></tr></thead><tbody><tr><th>1</th><td>b6c5 e2g4 h3g4 d1g4</td><td>1088</td><td>85</td><td>505</td><td>Kings_Pawn_Game</td></tr><tr><th>2</th><td>g5e7 a5c3 b2c3 c6e7</td><td>1457</td><td>86</td><td>482</td><td>Benoni_Defense</td></tr><tr><th>3</th><td>e8f7 e2e6 f7f8 e6f7</td><td>1595</td><td>88</td><td>448</td><td>Horwitz_Defense</td></tr><tr><th>4</th><td>d8f6 d1h5 h7h6 h5c5</td><td>1762</td><td>90</td><td>1572</td><td>Scotch_Game</td></tr><tr><th>5</th><td>c7a8 a5c3</td><td>1013</td><td>39</td><td>136</td><td>Sicilian_Defense</td></tr><tr><th>6</th><td>h2g3 g6h5</td><td>1490</td><td>50</td><td>12</td><td>Ruy_Lopez</td></tr><tr><th>7</th><td>f2f3 d6c5 g1h1 c5c4</td><td>943</td><td>96</td><td>1091</td><td>Pirc_Defense</td></tr><tr><th>8</th><td>d3a6 b6c5 a6c8 c5c4</td><td>1927</td><td>93</td><td>639</td><td>Slav_Defense</td></tr><tr><th>9</th><td>b1c3 f5g4 h5g4 d7g4</td><td>1628</td><td>96</td><td>12910</td><td>Queens_Pawn_Game</td></tr><tr><th>10</th><td>c6e5 d4e5 d6e7 e5f6</td><td>1303</td><td>47</td><td>19</td><td>Queens_Pawn_Game</td></tr><tr><th>11</th><td>f8e7 f3e5 c7e5 e2g4</td><td>1492</td><td>93</td><td>588</td><td>Caro-Kann_Defense</td></tr><tr><th>12</th><td>g1h1 f6f4 d1f3 f4f3</td><td>1787</td><td>96</td><td>1869</td><td>Sicilian_Defense</td></tr><tr><th>&vellip;</th><td>&vellip;</td><td>&vellip;</td><td>&vellip;</td><td>&vellip;</td><td>&vellip;</td></tr></tbody></table></div>"
      ],
      "text/latex": [
       "\\begin{tabular}{r|ccccc}\n",
       "\t& Moves & Rating & Popularity & NbPlays & OpeningFamily\\\\\n",
       "\t\\hline\n",
       "\t& String & Int64 & Int64 & Int64 & String\\\\\n",
       "\t\\hline\n",
       "\t1 & b6c5 e2g4 h3g4 d1g4 & 1088 & 85 & 505 & Kings\\_Pawn\\_Game \\\\\n",
       "\t2 & g5e7 a5c3 b2c3 c6e7 & 1457 & 86 & 482 & Benoni\\_Defense \\\\\n",
       "\t3 & e8f7 e2e6 f7f8 e6f7 & 1595 & 88 & 448 & Horwitz\\_Defense \\\\\n",
       "\t4 & d8f6 d1h5 h7h6 h5c5 & 1762 & 90 & 1572 & Scotch\\_Game \\\\\n",
       "\t5 & c7a8 a5c3 & 1013 & 39 & 136 & Sicilian\\_Defense \\\\\n",
       "\t6 & h2g3 g6h5 & 1490 & 50 & 12 & Ruy\\_Lopez \\\\\n",
       "\t7 & f2f3 d6c5 g1h1 c5c4 & 943 & 96 & 1091 & Pirc\\_Defense \\\\\n",
       "\t8 & d3a6 b6c5 a6c8 c5c4 & 1927 & 93 & 639 & Slav\\_Defense \\\\\n",
       "\t9 & b1c3 f5g4 h5g4 d7g4 & 1628 & 96 & 12910 & Queens\\_Pawn\\_Game \\\\\n",
       "\t10 & c6e5 d4e5 d6e7 e5f6 & 1303 & 47 & 19 & Queens\\_Pawn\\_Game \\\\\n",
       "\t11 & f8e7 f3e5 c7e5 e2g4 & 1492 & 93 & 588 & Caro-Kann\\_Defense \\\\\n",
       "\t12 & g1h1 f6f4 d1f3 f4f3 & 1787 & 96 & 1869 & Sicilian\\_Defense \\\\\n",
       "\t$\\dots$ & $\\dots$ & $\\dots$ & $\\dots$ & $\\dots$ & $\\dots$ \\\\\n",
       "\\end{tabular}\n"
      ],
      "text/plain": [
       "\u001b[1m565133×5 DataFrame\u001b[0m\n",
       "\u001b[1m    Row \u001b[0m│\u001b[1m Moves                         \u001b[0m\u001b[1m Rating \u001b[0m\u001b[1m Popularity \u001b[0m\u001b[1m NbPlays \u001b[0m\u001b[1m OpeningFamily          \u001b[0m\n",
       "\u001b[1m        \u001b[0m│\u001b[90m String                        \u001b[0m\u001b[90m Int64  \u001b[0m\u001b[90m Int64      \u001b[0m\u001b[90m Int64   \u001b[0m\u001b[90m String                 \u001b[0m\n",
       "────────┼────────────────────────────────────────────────────────────────────────────────────\n",
       "      1 │ b6c5 e2g4 h3g4 d1g4              1088          85      505  Kings_Pawn_Game\n",
       "      2 │ g5e7 a5c3 b2c3 c6e7              1457          86      482  Benoni_Defense\n",
       "   ⋮    │               ⋮                  ⋮         ⋮          ⋮               ⋮\n",
       " 565133 │ c6d4 f1e1 e8d8 b1c3 d4f3 g2f3    2496          79       50  Kings_Gambit_Accepted\n",
       "\u001b[36m                                                                          565130 rows omitted\u001b[0m"
      ]
     },
     "execution_count": 17,
     "metadata": {},
     "output_type": "execute_result"
    }
   ],
   "source": [
    "select(df, Not(:Themes))"
   ]
  },
  {
   "cell_type": "markdown",
   "metadata": {},
   "source": [
    "Getting some range of columns"
   ]
  },
  {
   "cell_type": "code",
   "execution_count": 18,
   "metadata": {
    "scrolled": false
   },
   "outputs": [
    {
     "data": {
      "text/html": [
       "<div class=\"data-frame\"><p>565,133 rows × 3 columns</p><table class=\"data-frame\"><thead><tr><th></th><th>Rating</th><th>Popularity</th><th>NbPlays</th></tr><tr><th></th><th title=\"Int64\">Int64</th><th title=\"Int64\">Int64</th><th title=\"Int64\">Int64</th></tr></thead><tbody><tr><th>1</th><td>1088</td><td>85</td><td>505</td></tr><tr><th>2</th><td>1457</td><td>86</td><td>482</td></tr><tr><th>3</th><td>1595</td><td>88</td><td>448</td></tr><tr><th>4</th><td>1762</td><td>90</td><td>1572</td></tr><tr><th>5</th><td>1013</td><td>39</td><td>136</td></tr><tr><th>6</th><td>1490</td><td>50</td><td>12</td></tr><tr><th>7</th><td>943</td><td>96</td><td>1091</td></tr><tr><th>8</th><td>1927</td><td>93</td><td>639</td></tr><tr><th>9</th><td>1628</td><td>96</td><td>12910</td></tr><tr><th>10</th><td>1303</td><td>47</td><td>19</td></tr><tr><th>11</th><td>1492</td><td>93</td><td>588</td></tr><tr><th>12</th><td>1787</td><td>96</td><td>1869</td></tr><tr><th>&vellip;</th><td>&vellip;</td><td>&vellip;</td><td>&vellip;</td></tr></tbody></table></div>"
      ],
      "text/latex": [
       "\\begin{tabular}{r|ccc}\n",
       "\t& Rating & Popularity & NbPlays\\\\\n",
       "\t\\hline\n",
       "\t& Int64 & Int64 & Int64\\\\\n",
       "\t\\hline\n",
       "\t1 & 1088 & 85 & 505 \\\\\n",
       "\t2 & 1457 & 86 & 482 \\\\\n",
       "\t3 & 1595 & 88 & 448 \\\\\n",
       "\t4 & 1762 & 90 & 1572 \\\\\n",
       "\t5 & 1013 & 39 & 136 \\\\\n",
       "\t6 & 1490 & 50 & 12 \\\\\n",
       "\t7 & 943 & 96 & 1091 \\\\\n",
       "\t8 & 1927 & 93 & 639 \\\\\n",
       "\t9 & 1628 & 96 & 12910 \\\\\n",
       "\t10 & 1303 & 47 & 19 \\\\\n",
       "\t11 & 1492 & 93 & 588 \\\\\n",
       "\t12 & 1787 & 96 & 1869 \\\\\n",
       "\t$\\dots$ & $\\dots$ & $\\dots$ & $\\dots$ \\\\\n",
       "\\end{tabular}\n"
      ],
      "text/plain": [
       "\u001b[1m565133×3 DataFrame\u001b[0m\n",
       "\u001b[1m    Row \u001b[0m│\u001b[1m Rating \u001b[0m\u001b[1m Popularity \u001b[0m\u001b[1m NbPlays \u001b[0m\n",
       "\u001b[1m        \u001b[0m│\u001b[90m Int64  \u001b[0m\u001b[90m Int64      \u001b[0m\u001b[90m Int64   \u001b[0m\n",
       "────────┼─────────────────────────────\n",
       "      1 │   1088          85      505\n",
       "      2 │   1457          86      482\n",
       "   ⋮    │   ⋮         ⋮          ⋮\n",
       " 565133 │   2496          79       50\n",
       "\u001b[36m                   565130 rows omitted\u001b[0m"
      ]
     },
     "execution_count": 18,
     "metadata": {},
     "output_type": "execute_result"
    }
   ],
   "source": [
    "select(df, Between(\"Rating\", \"NbPlays\"))"
   ]
  },
  {
   "cell_type": "markdown",
   "metadata": {},
   "source": [
    "Selecting columns whose names match some regex pattern."
   ]
  },
  {
   "cell_type": "code",
   "execution_count": 19,
   "metadata": {
    "scrolled": false
   },
   "outputs": [
    {
     "data": {
      "text/html": [
       "<div class=\"data-frame\"><p>565,133 rows × 2 columns</p><table class=\"data-frame\"><thead><tr><th></th><th>Popularity</th><th>NbPlays</th></tr><tr><th></th><th title=\"Int64\">Int64</th><th title=\"Int64\">Int64</th></tr></thead><tbody><tr><th>1</th><td>85</td><td>505</td></tr><tr><th>2</th><td>86</td><td>482</td></tr><tr><th>3</th><td>88</td><td>448</td></tr><tr><th>4</th><td>90</td><td>1572</td></tr><tr><th>5</th><td>39</td><td>136</td></tr><tr><th>6</th><td>50</td><td>12</td></tr><tr><th>7</th><td>96</td><td>1091</td></tr><tr><th>8</th><td>93</td><td>639</td></tr><tr><th>9</th><td>96</td><td>12910</td></tr><tr><th>10</th><td>47</td><td>19</td></tr><tr><th>11</th><td>93</td><td>588</td></tr><tr><th>12</th><td>96</td><td>1869</td></tr><tr><th>&vellip;</th><td>&vellip;</td><td>&vellip;</td></tr></tbody></table></div>"
      ],
      "text/latex": [
       "\\begin{tabular}{r|cc}\n",
       "\t& Popularity & NbPlays\\\\\n",
       "\t\\hline\n",
       "\t& Int64 & Int64\\\\\n",
       "\t\\hline\n",
       "\t1 & 85 & 505 \\\\\n",
       "\t2 & 86 & 482 \\\\\n",
       "\t3 & 88 & 448 \\\\\n",
       "\t4 & 90 & 1572 \\\\\n",
       "\t5 & 39 & 136 \\\\\n",
       "\t6 & 50 & 12 \\\\\n",
       "\t7 & 96 & 1091 \\\\\n",
       "\t8 & 93 & 639 \\\\\n",
       "\t9 & 96 & 12910 \\\\\n",
       "\t10 & 47 & 19 \\\\\n",
       "\t11 & 93 & 588 \\\\\n",
       "\t12 & 96 & 1869 \\\\\n",
       "\t$\\dots$ & $\\dots$ & $\\dots$ \\\\\n",
       "\\end{tabular}\n"
      ],
      "text/plain": [
       "\u001b[1m565133×2 DataFrame\u001b[0m\n",
       "\u001b[1m    Row \u001b[0m│\u001b[1m Popularity \u001b[0m\u001b[1m NbPlays \u001b[0m\n",
       "\u001b[1m        \u001b[0m│\u001b[90m Int64      \u001b[0m\u001b[90m Int64   \u001b[0m\n",
       "────────┼─────────────────────\n",
       "      1 │         85      505\n",
       "      2 │         86      482\n",
       "   ⋮    │     ⋮          ⋮\n",
       " 565133 │         79       50\n",
       "\u001b[36m           565130 rows omitted\u001b[0m"
      ]
     },
     "execution_count": 19,
     "metadata": {},
     "output_type": "execute_result"
    }
   ],
   "source": [
    "select(df, r\"P\")"
   ]
  },
  {
   "cell_type": "markdown",
   "metadata": {},
   "source": [
    "Selecting columns whose names meet some predicate."
   ]
  },
  {
   "cell_type": "code",
   "execution_count": 20,
   "metadata": {},
   "outputs": [
    {
     "data": {
      "text/html": [
       "<div class=\"data-frame\"><p>565,133 rows × 3 columns</p><table class=\"data-frame\"><thead><tr><th></th><th>Moves</th><th>NbPlays</th><th>Themes</th></tr><tr><th></th><th title=\"String\">String</th><th title=\"Int64\">Int64</th><th title=\"String\">String</th></tr></thead><tbody><tr><th>1</th><td>b6c5 e2g4 h3g4 d1g4</td><td>505</td><td>advantage middlegame short</td></tr><tr><th>2</th><td>g5e7 a5c3 b2c3 c6e7</td><td>482</td><td>advantage master middlegame short</td></tr><tr><th>3</th><td>e8f7 e2e6 f7f8 e6f7</td><td>448</td><td>mate mateIn2 middlegame short</td></tr><tr><th>4</th><td>d8f6 d1h5 h7h6 h5c5</td><td>1572</td><td>advantage middlegame short</td></tr><tr><th>5</th><td>c7a8 a5c3</td><td>136</td><td>bodenMate hangingPiece mate mateIn1 middlegame oneMove</td></tr><tr><th>6</th><td>h2g3 g6h5</td><td>12</td><td>mate mateIn1 oneMove</td></tr><tr><th>7</th><td>f2f3 d6c5 g1h1 c5c4</td><td>1091</td><td>advantage fork master masterVsMaster middlegame short</td></tr><tr><th>8</th><td>d3a6 b6c5 a6c8 c5c4</td><td>639</td><td>crushing master masterVsMaster middlegame sacrifice short</td></tr><tr><th>9</th><td>b1c3 f5g4 h5g4 d7g4</td><td>12910</td><td>advantage opening short trappedPiece</td></tr><tr><th>10</th><td>c6e5 d4e5 d6e7 e5f6</td><td>19</td><td>advantage fork middlegame short</td></tr><tr><th>11</th><td>f8e7 f3e5 c7e5 e2g4</td><td>588</td><td>crushing discoveredAttack middlegame short</td></tr><tr><th>12</th><td>g1h1 f6f4 d1f3 f4f3</td><td>1869</td><td>crushing kingsideAttack middlegame short</td></tr><tr><th>&vellip;</th><td>&vellip;</td><td>&vellip;</td><td>&vellip;</td></tr></tbody></table></div>"
      ],
      "text/latex": [
       "\\begin{tabular}{r|ccc}\n",
       "\t& Moves & NbPlays & Themes\\\\\n",
       "\t\\hline\n",
       "\t& String & Int64 & String\\\\\n",
       "\t\\hline\n",
       "\t1 & b6c5 e2g4 h3g4 d1g4 & 505 & advantage middlegame short \\\\\n",
       "\t2 & g5e7 a5c3 b2c3 c6e7 & 482 & advantage master middlegame short \\\\\n",
       "\t3 & e8f7 e2e6 f7f8 e6f7 & 448 & mate mateIn2 middlegame short \\\\\n",
       "\t4 & d8f6 d1h5 h7h6 h5c5 & 1572 & advantage middlegame short \\\\\n",
       "\t5 & c7a8 a5c3 & 136 & bodenMate hangingPiece mate mateIn1 middlegame oneMove \\\\\n",
       "\t6 & h2g3 g6h5 & 12 & mate mateIn1 oneMove \\\\\n",
       "\t7 & f2f3 d6c5 g1h1 c5c4 & 1091 & advantage fork master masterVsMaster middlegame short \\\\\n",
       "\t8 & d3a6 b6c5 a6c8 c5c4 & 639 & crushing master masterVsMaster middlegame sacrifice short \\\\\n",
       "\t9 & b1c3 f5g4 h5g4 d7g4 & 12910 & advantage opening short trappedPiece \\\\\n",
       "\t10 & c6e5 d4e5 d6e7 e5f6 & 19 & advantage fork middlegame short \\\\\n",
       "\t11 & f8e7 f3e5 c7e5 e2g4 & 588 & crushing discoveredAttack middlegame short \\\\\n",
       "\t12 & g1h1 f6f4 d1f3 f4f3 & 1869 & crushing kingsideAttack middlegame short \\\\\n",
       "\t$\\dots$ & $\\dots$ & $\\dots$ & $\\dots$ \\\\\n",
       "\\end{tabular}\n"
      ],
      "text/plain": [
       "\u001b[1m565133×3 DataFrame\u001b[0m\n",
       "\u001b[1m    Row \u001b[0m│\u001b[1m Moves                         \u001b[0m\u001b[1m NbPlays \u001b[0m\u001b[1m Themes                            \u001b[0m\n",
       "\u001b[1m        \u001b[0m│\u001b[90m String                        \u001b[0m\u001b[90m Int64   \u001b[0m\u001b[90m String                            \u001b[0m\n",
       "────────┼───────────────────────────────────────────────────────────────────────────\n",
       "      1 │ b6c5 e2g4 h3g4 d1g4                505  advantage middlegame short\n",
       "      2 │ g5e7 a5c3 b2c3 c6e7                482  advantage master middlegame short\n",
       "   ⋮    │               ⋮                   ⋮                     ⋮\n",
       " 565133 │ c6d4 f1e1 e8d8 b1c3 d4f3 g2f3       50  advantage long opening\n",
       "\u001b[36m                                                                 565130 rows omitted\u001b[0m"
      ]
     },
     "execution_count": 20,
     "metadata": {},
     "output_type": "execute_result"
    }
   ],
   "source": [
    "select(df, Cols(endswith(\"s\")))"
   ]
  },
  {
   "cell_type": "markdown",
   "metadata": {},
   "source": [
    "How to drop a column that you may be present or not in a data frame?"
   ]
  },
  {
   "cell_type": "markdown",
   "metadata": {},
   "source": [
    "Just using `Not` fails."
   ]
  },
  {
   "cell_type": "code",
   "execution_count": 21,
   "metadata": {},
   "outputs": [
    {
     "ename": "LoadError",
     "evalue": "ArgumentError: column name :X not found in the data frame",
     "output_type": "error",
     "traceback": [
      "ArgumentError: column name :X not found in the data frame"
     ]
    }
   ],
   "source": [
    "select(df, Not(:X))"
   ]
  },
  {
   "cell_type": "markdown",
   "metadata": {},
   "source": [
    "but you can combine it with `Cols` selector:"
   ]
  },
  {
   "cell_type": "code",
   "execution_count": 22,
   "metadata": {
    "scrolled": false
   },
   "outputs": [
    {
     "data": {
      "text/html": [
       "<div class=\"data-frame\"><p>565,133 rows × 6 columns</p><table class=\"data-frame\"><thead><tr><th></th><th>Moves</th><th>Rating</th><th>Popularity</th><th>NbPlays</th><th>Themes</th><th>OpeningFamily</th></tr><tr><th></th><th title=\"String\">String</th><th title=\"Int64\">Int64</th><th title=\"Int64\">Int64</th><th title=\"Int64\">Int64</th><th title=\"String\">String</th><th title=\"String\">String</th></tr></thead><tbody><tr><th>1</th><td>b6c5 e2g4 h3g4 d1g4</td><td>1088</td><td>85</td><td>505</td><td>advantage middlegame short</td><td>Kings_Pawn_Game</td></tr><tr><th>2</th><td>g5e7 a5c3 b2c3 c6e7</td><td>1457</td><td>86</td><td>482</td><td>advantage master middlegame short</td><td>Benoni_Defense</td></tr><tr><th>3</th><td>e8f7 e2e6 f7f8 e6f7</td><td>1595</td><td>88</td><td>448</td><td>mate mateIn2 middlegame short</td><td>Horwitz_Defense</td></tr><tr><th>4</th><td>d8f6 d1h5 h7h6 h5c5</td><td>1762</td><td>90</td><td>1572</td><td>advantage middlegame short</td><td>Scotch_Game</td></tr><tr><th>5</th><td>c7a8 a5c3</td><td>1013</td><td>39</td><td>136</td><td>bodenMate hangingPiece mate mateIn1 middlegame oneMove</td><td>Sicilian_Defense</td></tr><tr><th>6</th><td>h2g3 g6h5</td><td>1490</td><td>50</td><td>12</td><td>mate mateIn1 oneMove</td><td>Ruy_Lopez</td></tr><tr><th>7</th><td>f2f3 d6c5 g1h1 c5c4</td><td>943</td><td>96</td><td>1091</td><td>advantage fork master masterVsMaster middlegame short</td><td>Pirc_Defense</td></tr><tr><th>8</th><td>d3a6 b6c5 a6c8 c5c4</td><td>1927</td><td>93</td><td>639</td><td>crushing master masterVsMaster middlegame sacrifice short</td><td>Slav_Defense</td></tr><tr><th>9</th><td>b1c3 f5g4 h5g4 d7g4</td><td>1628</td><td>96</td><td>12910</td><td>advantage opening short trappedPiece</td><td>Queens_Pawn_Game</td></tr><tr><th>10</th><td>c6e5 d4e5 d6e7 e5f6</td><td>1303</td><td>47</td><td>19</td><td>advantage fork middlegame short</td><td>Queens_Pawn_Game</td></tr><tr><th>11</th><td>f8e7 f3e5 c7e5 e2g4</td><td>1492</td><td>93</td><td>588</td><td>crushing discoveredAttack middlegame short</td><td>Caro-Kann_Defense</td></tr><tr><th>12</th><td>g1h1 f6f4 d1f3 f4f3</td><td>1787</td><td>96</td><td>1869</td><td>crushing kingsideAttack middlegame short</td><td>Sicilian_Defense</td></tr><tr><th>&vellip;</th><td>&vellip;</td><td>&vellip;</td><td>&vellip;</td><td>&vellip;</td><td>&vellip;</td><td>&vellip;</td></tr></tbody></table></div>"
      ],
      "text/latex": [
       "\\begin{tabular}{r|cccccc}\n",
       "\t& Moves & Rating & Popularity & NbPlays & Themes & OpeningFamily\\\\\n",
       "\t\\hline\n",
       "\t& String & Int64 & Int64 & Int64 & String & String\\\\\n",
       "\t\\hline\n",
       "\t1 & b6c5 e2g4 h3g4 d1g4 & 1088 & 85 & 505 & advantage middlegame short & Kings\\_Pawn\\_Game \\\\\n",
       "\t2 & g5e7 a5c3 b2c3 c6e7 & 1457 & 86 & 482 & advantage master middlegame short & Benoni\\_Defense \\\\\n",
       "\t3 & e8f7 e2e6 f7f8 e6f7 & 1595 & 88 & 448 & mate mateIn2 middlegame short & Horwitz\\_Defense \\\\\n",
       "\t4 & d8f6 d1h5 h7h6 h5c5 & 1762 & 90 & 1572 & advantage middlegame short & Scotch\\_Game \\\\\n",
       "\t5 & c7a8 a5c3 & 1013 & 39 & 136 & bodenMate hangingPiece mate mateIn1 middlegame oneMove & Sicilian\\_Defense \\\\\n",
       "\t6 & h2g3 g6h5 & 1490 & 50 & 12 & mate mateIn1 oneMove & Ruy\\_Lopez \\\\\n",
       "\t7 & f2f3 d6c5 g1h1 c5c4 & 943 & 96 & 1091 & advantage fork master masterVsMaster middlegame short & Pirc\\_Defense \\\\\n",
       "\t8 & d3a6 b6c5 a6c8 c5c4 & 1927 & 93 & 639 & crushing master masterVsMaster middlegame sacrifice short & Slav\\_Defense \\\\\n",
       "\t9 & b1c3 f5g4 h5g4 d7g4 & 1628 & 96 & 12910 & advantage opening short trappedPiece & Queens\\_Pawn\\_Game \\\\\n",
       "\t10 & c6e5 d4e5 d6e7 e5f6 & 1303 & 47 & 19 & advantage fork middlegame short & Queens\\_Pawn\\_Game \\\\\n",
       "\t11 & f8e7 f3e5 c7e5 e2g4 & 1492 & 93 & 588 & crushing discoveredAttack middlegame short & Caro-Kann\\_Defense \\\\\n",
       "\t12 & g1h1 f6f4 d1f3 f4f3 & 1787 & 96 & 1869 & crushing kingsideAttack middlegame short & Sicilian\\_Defense \\\\\n",
       "\t$\\dots$ & $\\dots$ & $\\dots$ & $\\dots$ & $\\dots$ & $\\dots$ & $\\dots$ \\\\\n",
       "\\end{tabular}\n"
      ],
      "text/plain": [
       "\u001b[1m565133×6 DataFrame\u001b[0m\n",
       "\u001b[1m    Row \u001b[0m│\u001b[1m Moves                         \u001b[0m\u001b[1m Rating \u001b[0m\u001b[1m Popularity \u001b[0m\u001b[1m NbPlays \u001b[0m\u001b[1m Themes                            \u001b[0m\u001b[1m OpeningFamily          \u001b[0m\n",
       "\u001b[1m        \u001b[0m│\u001b[90m String                        \u001b[0m\u001b[90m Int64  \u001b[0m\u001b[90m Int64      \u001b[0m\u001b[90m Int64   \u001b[0m\u001b[90m String                            \u001b[0m\u001b[90m String                 \u001b[0m\n",
       "────────┼───────────────────────────────────────────────────────────────────────────────────────────────────────────────────────\n",
       "      1 │ b6c5 e2g4 h3g4 d1g4              1088          85      505  advantage middlegame short         Kings_Pawn_Game\n",
       "      2 │ g5e7 a5c3 b2c3 c6e7              1457          86      482  advantage master middlegame short  Benoni_Defense\n",
       "   ⋮    │               ⋮                  ⋮         ⋮          ⋮                     ⋮                            ⋮\n",
       " 565133 │ c6d4 f1e1 e8d8 b1c3 d4f3 g2f3    2496          79       50  advantage long opening             Kings_Gambit_Accepted\n",
       "\u001b[36m                                                                                                             565130 rows omitted\u001b[0m"
      ]
     },
     "execution_count": 22,
     "metadata": {},
     "output_type": "execute_result"
    }
   ],
   "source": [
    "select(df, Not(Cols(==(\"X\"))))"
   ]
  },
  {
   "cell_type": "markdown",
   "metadata": {},
   "source": [
    "## Column renaming"
   ]
  },
  {
   "cell_type": "markdown",
   "metadata": {},
   "source": [
    "If you only need to rename columns use `rename` or `rename!`.\n",
    "\n",
    "However, often some columns need renaming while other need to be dropped or transformed in the same operation.\n",
    "\n",
    "Therefore **operation transformation specification** allows for column renaming."
   ]
  },
  {
   "cell_type": "code",
   "execution_count": 23,
   "metadata": {},
   "outputs": [
    {
     "data": {
      "text/html": [
       "<div class=\"data-frame\"><p>565,133 rows × 1 columns</p><table class=\"data-frame\"><thead><tr><th></th><th>Theme</th></tr><tr><th></th><th title=\"String\">String</th></tr></thead><tbody><tr><th>1</th><td>advantage middlegame short</td></tr><tr><th>2</th><td>advantage master middlegame short</td></tr><tr><th>3</th><td>mate mateIn2 middlegame short</td></tr><tr><th>4</th><td>advantage middlegame short</td></tr><tr><th>5</th><td>bodenMate hangingPiece mate mateIn1 middlegame oneMove</td></tr><tr><th>6</th><td>mate mateIn1 oneMove</td></tr><tr><th>7</th><td>advantage fork master masterVsMaster middlegame short</td></tr><tr><th>8</th><td>crushing master masterVsMaster middlegame sacrifice short</td></tr><tr><th>9</th><td>advantage opening short trappedPiece</td></tr><tr><th>10</th><td>advantage fork middlegame short</td></tr><tr><th>11</th><td>crushing discoveredAttack middlegame short</td></tr><tr><th>12</th><td>crushing kingsideAttack middlegame short</td></tr><tr><th>&vellip;</th><td>&vellip;</td></tr></tbody></table></div>"
      ],
      "text/latex": [
       "\\begin{tabular}{r|c}\n",
       "\t& Theme\\\\\n",
       "\t\\hline\n",
       "\t& String\\\\\n",
       "\t\\hline\n",
       "\t1 & advantage middlegame short \\\\\n",
       "\t2 & advantage master middlegame short \\\\\n",
       "\t3 & mate mateIn2 middlegame short \\\\\n",
       "\t4 & advantage middlegame short \\\\\n",
       "\t5 & bodenMate hangingPiece mate mateIn1 middlegame oneMove \\\\\n",
       "\t6 & mate mateIn1 oneMove \\\\\n",
       "\t7 & advantage fork master masterVsMaster middlegame short \\\\\n",
       "\t8 & crushing master masterVsMaster middlegame sacrifice short \\\\\n",
       "\t9 & advantage opening short trappedPiece \\\\\n",
       "\t10 & advantage fork middlegame short \\\\\n",
       "\t11 & crushing discoveredAttack middlegame short \\\\\n",
       "\t12 & crushing kingsideAttack middlegame short \\\\\n",
       "\t$\\dots$ & $\\dots$ \\\\\n",
       "\\end{tabular}\n"
      ],
      "text/plain": [
       "\u001b[1m565133×1 DataFrame\u001b[0m\n",
       "\u001b[1m    Row \u001b[0m│\u001b[1m Theme                             \u001b[0m\n",
       "\u001b[1m        \u001b[0m│\u001b[90m String                            \u001b[0m\n",
       "────────┼───────────────────────────────────\n",
       "      1 │ advantage middlegame short\n",
       "      2 │ advantage master middlegame short\n",
       "   ⋮    │                 ⋮\n",
       " 565133 │ advantage long opening\n",
       "\u001b[36m                         565130 rows omitted\u001b[0m"
      ]
     },
     "execution_count": 23,
     "metadata": {},
     "output_type": "execute_result"
    }
   ],
   "source": [
    "select(df, :Themes => :Theme)"
   ]
  },
  {
   "cell_type": "markdown",
   "metadata": {},
   "source": [
    "Below we start being more fancy since we use a function to rename multiple columns (you can skip this example when working with this tutorial for the first time):"
   ]
  },
  {
   "cell_type": "code",
   "execution_count": 24,
   "metadata": {},
   "outputs": [
    {
     "data": {
      "text/html": [
       "<div class=\"data-frame\"><p>565,133 rows × 3 columns</p><table class=\"data-frame\"><thead><tr><th></th><th>MOVES</th><th>NBPLAYS</th><th>THEMES</th></tr><tr><th></th><th title=\"String\">String</th><th title=\"Int64\">Int64</th><th title=\"String\">String</th></tr></thead><tbody><tr><th>1</th><td>b6c5 e2g4 h3g4 d1g4</td><td>505</td><td>advantage middlegame short</td></tr><tr><th>2</th><td>g5e7 a5c3 b2c3 c6e7</td><td>482</td><td>advantage master middlegame short</td></tr><tr><th>3</th><td>e8f7 e2e6 f7f8 e6f7</td><td>448</td><td>mate mateIn2 middlegame short</td></tr><tr><th>4</th><td>d8f6 d1h5 h7h6 h5c5</td><td>1572</td><td>advantage middlegame short</td></tr><tr><th>5</th><td>c7a8 a5c3</td><td>136</td><td>bodenMate hangingPiece mate mateIn1 middlegame oneMove</td></tr><tr><th>6</th><td>h2g3 g6h5</td><td>12</td><td>mate mateIn1 oneMove</td></tr><tr><th>7</th><td>f2f3 d6c5 g1h1 c5c4</td><td>1091</td><td>advantage fork master masterVsMaster middlegame short</td></tr><tr><th>8</th><td>d3a6 b6c5 a6c8 c5c4</td><td>639</td><td>crushing master masterVsMaster middlegame sacrifice short</td></tr><tr><th>9</th><td>b1c3 f5g4 h5g4 d7g4</td><td>12910</td><td>advantage opening short trappedPiece</td></tr><tr><th>10</th><td>c6e5 d4e5 d6e7 e5f6</td><td>19</td><td>advantage fork middlegame short</td></tr><tr><th>11</th><td>f8e7 f3e5 c7e5 e2g4</td><td>588</td><td>crushing discoveredAttack middlegame short</td></tr><tr><th>12</th><td>g1h1 f6f4 d1f3 f4f3</td><td>1869</td><td>crushing kingsideAttack middlegame short</td></tr><tr><th>&vellip;</th><td>&vellip;</td><td>&vellip;</td><td>&vellip;</td></tr></tbody></table></div>"
      ],
      "text/latex": [
       "\\begin{tabular}{r|ccc}\n",
       "\t& MOVES & NBPLAYS & THEMES\\\\\n",
       "\t\\hline\n",
       "\t& String & Int64 & String\\\\\n",
       "\t\\hline\n",
       "\t1 & b6c5 e2g4 h3g4 d1g4 & 505 & advantage middlegame short \\\\\n",
       "\t2 & g5e7 a5c3 b2c3 c6e7 & 482 & advantage master middlegame short \\\\\n",
       "\t3 & e8f7 e2e6 f7f8 e6f7 & 448 & mate mateIn2 middlegame short \\\\\n",
       "\t4 & d8f6 d1h5 h7h6 h5c5 & 1572 & advantage middlegame short \\\\\n",
       "\t5 & c7a8 a5c3 & 136 & bodenMate hangingPiece mate mateIn1 middlegame oneMove \\\\\n",
       "\t6 & h2g3 g6h5 & 12 & mate mateIn1 oneMove \\\\\n",
       "\t7 & f2f3 d6c5 g1h1 c5c4 & 1091 & advantage fork master masterVsMaster middlegame short \\\\\n",
       "\t8 & d3a6 b6c5 a6c8 c5c4 & 639 & crushing master masterVsMaster middlegame sacrifice short \\\\\n",
       "\t9 & b1c3 f5g4 h5g4 d7g4 & 12910 & advantage opening short trappedPiece \\\\\n",
       "\t10 & c6e5 d4e5 d6e7 e5f6 & 19 & advantage fork middlegame short \\\\\n",
       "\t11 & f8e7 f3e5 c7e5 e2g4 & 588 & crushing discoveredAttack middlegame short \\\\\n",
       "\t12 & g1h1 f6f4 d1f3 f4f3 & 1869 & crushing kingsideAttack middlegame short \\\\\n",
       "\t$\\dots$ & $\\dots$ & $\\dots$ & $\\dots$ \\\\\n",
       "\\end{tabular}\n"
      ],
      "text/plain": [
       "\u001b[1m565133×3 DataFrame\u001b[0m\n",
       "\u001b[1m    Row \u001b[0m│\u001b[1m MOVES                         \u001b[0m\u001b[1m NBPLAYS \u001b[0m\u001b[1m THEMES                            \u001b[0m\n",
       "\u001b[1m        \u001b[0m│\u001b[90m String                        \u001b[0m\u001b[90m Int64   \u001b[0m\u001b[90m String                            \u001b[0m\n",
       "────────┼───────────────────────────────────────────────────────────────────────────\n",
       "      1 │ b6c5 e2g4 h3g4 d1g4                505  advantage middlegame short\n",
       "      2 │ g5e7 a5c3 b2c3 c6e7                482  advantage master middlegame short\n",
       "   ⋮    │               ⋮                   ⋮                     ⋮\n",
       " 565133 │ c6d4 f1e1 e8d8 b1c3 d4f3 g2f3       50  advantage long opening\n",
       "\u001b[36m                                                                 565130 rows omitted\u001b[0m"
      ]
     },
     "execution_count": 24,
     "metadata": {},
     "output_type": "execute_result"
    }
   ],
   "source": [
    "select(df, Cols(endswith(\"s\")) .=> identity .=> uppercase)"
   ]
  },
  {
   "cell_type": "markdown",
   "metadata": {},
   "source": [
    "The operations that we do here are a bit advanced:\n",
    "* DataFrames.jl is able to dynamically identify the columns selected by `Cols(endswith(\"s\"))` and, using broadcasting, apply the requested operations to all of them\n",
    "* in the `[input columns] => [transformation function] => [output columns]` syntax `[output columns]` can be a function that dynamically generates the output column name based on the passed `[input columns]`, however, to use it in renaming we need to pass `[transformation function]` as `identity` (essentially no-op), as wihout it DataFrames.jl would think that `uppercase` is transformation function."
   ]
  },
  {
   "cell_type": "markdown",
   "metadata": {},
   "source": [
    "## Commonly used selection patterns"
   ]
  },
  {
   "cell_type": "markdown",
   "metadata": {},
   "source": [
    "Move column to the first position:"
   ]
  },
  {
   "cell_type": "code",
   "execution_count": 25,
   "metadata": {},
   "outputs": [
    {
     "data": {
      "text/html": [
       "<div class=\"data-frame\"><p>565,133 rows × 6 columns</p><table class=\"data-frame\"><thead><tr><th></th><th>OpeningFamily</th><th>Moves</th><th>Rating</th><th>Popularity</th><th>NbPlays</th><th>Themes</th></tr><tr><th></th><th title=\"String\">String</th><th title=\"String\">String</th><th title=\"Int64\">Int64</th><th title=\"Int64\">Int64</th><th title=\"Int64\">Int64</th><th title=\"String\">String</th></tr></thead><tbody><tr><th>1</th><td>Kings_Pawn_Game</td><td>b6c5 e2g4 h3g4 d1g4</td><td>1088</td><td>85</td><td>505</td><td>advantage middlegame short</td></tr><tr><th>2</th><td>Benoni_Defense</td><td>g5e7 a5c3 b2c3 c6e7</td><td>1457</td><td>86</td><td>482</td><td>advantage master middlegame short</td></tr><tr><th>3</th><td>Horwitz_Defense</td><td>e8f7 e2e6 f7f8 e6f7</td><td>1595</td><td>88</td><td>448</td><td>mate mateIn2 middlegame short</td></tr><tr><th>4</th><td>Scotch_Game</td><td>d8f6 d1h5 h7h6 h5c5</td><td>1762</td><td>90</td><td>1572</td><td>advantage middlegame short</td></tr><tr><th>5</th><td>Sicilian_Defense</td><td>c7a8 a5c3</td><td>1013</td><td>39</td><td>136</td><td>bodenMate hangingPiece mate mateIn1 middlegame oneMove</td></tr><tr><th>6</th><td>Ruy_Lopez</td><td>h2g3 g6h5</td><td>1490</td><td>50</td><td>12</td><td>mate mateIn1 oneMove</td></tr><tr><th>7</th><td>Pirc_Defense</td><td>f2f3 d6c5 g1h1 c5c4</td><td>943</td><td>96</td><td>1091</td><td>advantage fork master masterVsMaster middlegame short</td></tr><tr><th>8</th><td>Slav_Defense</td><td>d3a6 b6c5 a6c8 c5c4</td><td>1927</td><td>93</td><td>639</td><td>crushing master masterVsMaster middlegame sacrifice short</td></tr><tr><th>9</th><td>Queens_Pawn_Game</td><td>b1c3 f5g4 h5g4 d7g4</td><td>1628</td><td>96</td><td>12910</td><td>advantage opening short trappedPiece</td></tr><tr><th>10</th><td>Queens_Pawn_Game</td><td>c6e5 d4e5 d6e7 e5f6</td><td>1303</td><td>47</td><td>19</td><td>advantage fork middlegame short</td></tr><tr><th>11</th><td>Caro-Kann_Defense</td><td>f8e7 f3e5 c7e5 e2g4</td><td>1492</td><td>93</td><td>588</td><td>crushing discoveredAttack middlegame short</td></tr><tr><th>12</th><td>Sicilian_Defense</td><td>g1h1 f6f4 d1f3 f4f3</td><td>1787</td><td>96</td><td>1869</td><td>crushing kingsideAttack middlegame short</td></tr><tr><th>&vellip;</th><td>&vellip;</td><td>&vellip;</td><td>&vellip;</td><td>&vellip;</td><td>&vellip;</td><td>&vellip;</td></tr></tbody></table></div>"
      ],
      "text/latex": [
       "\\begin{tabular}{r|cccccc}\n",
       "\t& OpeningFamily & Moves & Rating & Popularity & NbPlays & Themes\\\\\n",
       "\t\\hline\n",
       "\t& String & String & Int64 & Int64 & Int64 & String\\\\\n",
       "\t\\hline\n",
       "\t1 & Kings\\_Pawn\\_Game & b6c5 e2g4 h3g4 d1g4 & 1088 & 85 & 505 & advantage middlegame short \\\\\n",
       "\t2 & Benoni\\_Defense & g5e7 a5c3 b2c3 c6e7 & 1457 & 86 & 482 & advantage master middlegame short \\\\\n",
       "\t3 & Horwitz\\_Defense & e8f7 e2e6 f7f8 e6f7 & 1595 & 88 & 448 & mate mateIn2 middlegame short \\\\\n",
       "\t4 & Scotch\\_Game & d8f6 d1h5 h7h6 h5c5 & 1762 & 90 & 1572 & advantage middlegame short \\\\\n",
       "\t5 & Sicilian\\_Defense & c7a8 a5c3 & 1013 & 39 & 136 & bodenMate hangingPiece mate mateIn1 middlegame oneMove \\\\\n",
       "\t6 & Ruy\\_Lopez & h2g3 g6h5 & 1490 & 50 & 12 & mate mateIn1 oneMove \\\\\n",
       "\t7 & Pirc\\_Defense & f2f3 d6c5 g1h1 c5c4 & 943 & 96 & 1091 & advantage fork master masterVsMaster middlegame short \\\\\n",
       "\t8 & Slav\\_Defense & d3a6 b6c5 a6c8 c5c4 & 1927 & 93 & 639 & crushing master masterVsMaster middlegame sacrifice short \\\\\n",
       "\t9 & Queens\\_Pawn\\_Game & b1c3 f5g4 h5g4 d7g4 & 1628 & 96 & 12910 & advantage opening short trappedPiece \\\\\n",
       "\t10 & Queens\\_Pawn\\_Game & c6e5 d4e5 d6e7 e5f6 & 1303 & 47 & 19 & advantage fork middlegame short \\\\\n",
       "\t11 & Caro-Kann\\_Defense & f8e7 f3e5 c7e5 e2g4 & 1492 & 93 & 588 & crushing discoveredAttack middlegame short \\\\\n",
       "\t12 & Sicilian\\_Defense & g1h1 f6f4 d1f3 f4f3 & 1787 & 96 & 1869 & crushing kingsideAttack middlegame short \\\\\n",
       "\t$\\dots$ & $\\dots$ & $\\dots$ & $\\dots$ & $\\dots$ & $\\dots$ & $\\dots$ \\\\\n",
       "\\end{tabular}\n"
      ],
      "text/plain": [
       "\u001b[1m565133×6 DataFrame\u001b[0m\n",
       "\u001b[1m    Row \u001b[0m│\u001b[1m OpeningFamily          \u001b[0m\u001b[1m Moves                         \u001b[0m\u001b[1m Rating \u001b[0m\u001b[1m Popularity \u001b[0m\u001b[1m NbPlays \u001b[0m\u001b[1m Themes                            \u001b[0m\n",
       "\u001b[1m        \u001b[0m│\u001b[90m String                 \u001b[0m\u001b[90m String                        \u001b[0m\u001b[90m Int64  \u001b[0m\u001b[90m Int64      \u001b[0m\u001b[90m Int64   \u001b[0m\u001b[90m String                            \u001b[0m\n",
       "────────┼───────────────────────────────────────────────────────────────────────────────────────────────────────────────────────\n",
       "      1 │ Kings_Pawn_Game         b6c5 e2g4 h3g4 d1g4              1088          85      505  advantage middlegame short\n",
       "      2 │ Benoni_Defense          g5e7 a5c3 b2c3 c6e7              1457          86      482  advantage master middlegame short\n",
       "   ⋮    │           ⋮                           ⋮                  ⋮         ⋮          ⋮                     ⋮\n",
       " 565133 │ Kings_Gambit_Accepted   c6d4 f1e1 e8d8 b1c3 d4f3 g2f3    2496          79       50  advantage long opening\n",
       "\u001b[36m                                                                                                             565130 rows omitted\u001b[0m"
      ]
     },
     "execution_count": 25,
     "metadata": {},
     "output_type": "execute_result"
    }
   ],
   "source": [
    "select(df, :OpeningFamily, :)"
   ]
  },
  {
   "cell_type": "markdown",
   "metadata": {},
   "source": [
    "Move column to the end:"
   ]
  },
  {
   "cell_type": "code",
   "execution_count": 26,
   "metadata": {},
   "outputs": [
    {
     "data": {
      "text/html": [
       "<div class=\"data-frame\"><p>565,133 rows × 6 columns</p><table class=\"data-frame\"><thead><tr><th></th><th>Rating</th><th>Popularity</th><th>NbPlays</th><th>Themes</th><th>OpeningFamily</th><th>Moves</th></tr><tr><th></th><th title=\"Int64\">Int64</th><th title=\"Int64\">Int64</th><th title=\"Int64\">Int64</th><th title=\"String\">String</th><th title=\"String\">String</th><th title=\"String\">String</th></tr></thead><tbody><tr><th>1</th><td>1088</td><td>85</td><td>505</td><td>advantage middlegame short</td><td>Kings_Pawn_Game</td><td>b6c5 e2g4 h3g4 d1g4</td></tr><tr><th>2</th><td>1457</td><td>86</td><td>482</td><td>advantage master middlegame short</td><td>Benoni_Defense</td><td>g5e7 a5c3 b2c3 c6e7</td></tr><tr><th>3</th><td>1595</td><td>88</td><td>448</td><td>mate mateIn2 middlegame short</td><td>Horwitz_Defense</td><td>e8f7 e2e6 f7f8 e6f7</td></tr><tr><th>4</th><td>1762</td><td>90</td><td>1572</td><td>advantage middlegame short</td><td>Scotch_Game</td><td>d8f6 d1h5 h7h6 h5c5</td></tr><tr><th>5</th><td>1013</td><td>39</td><td>136</td><td>bodenMate hangingPiece mate mateIn1 middlegame oneMove</td><td>Sicilian_Defense</td><td>c7a8 a5c3</td></tr><tr><th>6</th><td>1490</td><td>50</td><td>12</td><td>mate mateIn1 oneMove</td><td>Ruy_Lopez</td><td>h2g3 g6h5</td></tr><tr><th>7</th><td>943</td><td>96</td><td>1091</td><td>advantage fork master masterVsMaster middlegame short</td><td>Pirc_Defense</td><td>f2f3 d6c5 g1h1 c5c4</td></tr><tr><th>8</th><td>1927</td><td>93</td><td>639</td><td>crushing master masterVsMaster middlegame sacrifice short</td><td>Slav_Defense</td><td>d3a6 b6c5 a6c8 c5c4</td></tr><tr><th>9</th><td>1628</td><td>96</td><td>12910</td><td>advantage opening short trappedPiece</td><td>Queens_Pawn_Game</td><td>b1c3 f5g4 h5g4 d7g4</td></tr><tr><th>10</th><td>1303</td><td>47</td><td>19</td><td>advantage fork middlegame short</td><td>Queens_Pawn_Game</td><td>c6e5 d4e5 d6e7 e5f6</td></tr><tr><th>11</th><td>1492</td><td>93</td><td>588</td><td>crushing discoveredAttack middlegame short</td><td>Caro-Kann_Defense</td><td>f8e7 f3e5 c7e5 e2g4</td></tr><tr><th>12</th><td>1787</td><td>96</td><td>1869</td><td>crushing kingsideAttack middlegame short</td><td>Sicilian_Defense</td><td>g1h1 f6f4 d1f3 f4f3</td></tr><tr><th>&vellip;</th><td>&vellip;</td><td>&vellip;</td><td>&vellip;</td><td>&vellip;</td><td>&vellip;</td><td>&vellip;</td></tr></tbody></table></div>"
      ],
      "text/latex": [
       "\\begin{tabular}{r|cccccc}\n",
       "\t& Rating & Popularity & NbPlays & Themes & OpeningFamily & Moves\\\\\n",
       "\t\\hline\n",
       "\t& Int64 & Int64 & Int64 & String & String & String\\\\\n",
       "\t\\hline\n",
       "\t1 & 1088 & 85 & 505 & advantage middlegame short & Kings\\_Pawn\\_Game & b6c5 e2g4 h3g4 d1g4 \\\\\n",
       "\t2 & 1457 & 86 & 482 & advantage master middlegame short & Benoni\\_Defense & g5e7 a5c3 b2c3 c6e7 \\\\\n",
       "\t3 & 1595 & 88 & 448 & mate mateIn2 middlegame short & Horwitz\\_Defense & e8f7 e2e6 f7f8 e6f7 \\\\\n",
       "\t4 & 1762 & 90 & 1572 & advantage middlegame short & Scotch\\_Game & d8f6 d1h5 h7h6 h5c5 \\\\\n",
       "\t5 & 1013 & 39 & 136 & bodenMate hangingPiece mate mateIn1 middlegame oneMove & Sicilian\\_Defense & c7a8 a5c3 \\\\\n",
       "\t6 & 1490 & 50 & 12 & mate mateIn1 oneMove & Ruy\\_Lopez & h2g3 g6h5 \\\\\n",
       "\t7 & 943 & 96 & 1091 & advantage fork master masterVsMaster middlegame short & Pirc\\_Defense & f2f3 d6c5 g1h1 c5c4 \\\\\n",
       "\t8 & 1927 & 93 & 639 & crushing master masterVsMaster middlegame sacrifice short & Slav\\_Defense & d3a6 b6c5 a6c8 c5c4 \\\\\n",
       "\t9 & 1628 & 96 & 12910 & advantage opening short trappedPiece & Queens\\_Pawn\\_Game & b1c3 f5g4 h5g4 d7g4 \\\\\n",
       "\t10 & 1303 & 47 & 19 & advantage fork middlegame short & Queens\\_Pawn\\_Game & c6e5 d4e5 d6e7 e5f6 \\\\\n",
       "\t11 & 1492 & 93 & 588 & crushing discoveredAttack middlegame short & Caro-Kann\\_Defense & f8e7 f3e5 c7e5 e2g4 \\\\\n",
       "\t12 & 1787 & 96 & 1869 & crushing kingsideAttack middlegame short & Sicilian\\_Defense & g1h1 f6f4 d1f3 f4f3 \\\\\n",
       "\t$\\dots$ & $\\dots$ & $\\dots$ & $\\dots$ & $\\dots$ & $\\dots$ & $\\dots$ \\\\\n",
       "\\end{tabular}\n"
      ],
      "text/plain": [
       "\u001b[1m565133×6 DataFrame\u001b[0m\n",
       "\u001b[1m    Row \u001b[0m│\u001b[1m Rating \u001b[0m\u001b[1m Popularity \u001b[0m\u001b[1m NbPlays \u001b[0m\u001b[1m Themes                            \u001b[0m\u001b[1m OpeningFamily          \u001b[0m\u001b[1m Moves                         \u001b[0m\n",
       "\u001b[1m        \u001b[0m│\u001b[90m Int64  \u001b[0m\u001b[90m Int64      \u001b[0m\u001b[90m Int64   \u001b[0m\u001b[90m String                            \u001b[0m\u001b[90m String                 \u001b[0m\u001b[90m String                        \u001b[0m\n",
       "────────┼───────────────────────────────────────────────────────────────────────────────────────────────────────────────────────\n",
       "      1 │   1088          85      505  advantage middlegame short         Kings_Pawn_Game         b6c5 e2g4 h3g4 d1g4\n",
       "      2 │   1457          86      482  advantage master middlegame short  Benoni_Defense          g5e7 a5c3 b2c3 c6e7\n",
       "   ⋮    │   ⋮         ⋮          ⋮                     ⋮                            ⋮                           ⋮\n",
       " 565133 │   2496          79       50  advantage long opening             Kings_Gambit_Accepted   c6d4 f1e1 e8d8 b1c3 d4f3 g2f3\n",
       "\u001b[36m                                                                                                             565130 rows omitted\u001b[0m"
      ]
     },
     "execution_count": 26,
     "metadata": {},
     "output_type": "execute_result"
    }
   ],
   "source": [
    "select(df, Not(:Moves), :Moves)"
   ]
  },
  {
   "cell_type": "markdown",
   "metadata": {},
   "source": [
    "Do both:"
   ]
  },
  {
   "cell_type": "code",
   "execution_count": 27,
   "metadata": {},
   "outputs": [
    {
     "data": {
      "text/html": [
       "<div class=\"data-frame\"><p>565,133 rows × 6 columns</p><table class=\"data-frame\"><thead><tr><th></th><th>OpeningFamily</th><th>Rating</th><th>Popularity</th><th>NbPlays</th><th>Themes</th><th>Moves</th></tr><tr><th></th><th title=\"String\">String</th><th title=\"Int64\">Int64</th><th title=\"Int64\">Int64</th><th title=\"Int64\">Int64</th><th title=\"String\">String</th><th title=\"String\">String</th></tr></thead><tbody><tr><th>1</th><td>Kings_Pawn_Game</td><td>1088</td><td>85</td><td>505</td><td>advantage middlegame short</td><td>b6c5 e2g4 h3g4 d1g4</td></tr><tr><th>2</th><td>Benoni_Defense</td><td>1457</td><td>86</td><td>482</td><td>advantage master middlegame short</td><td>g5e7 a5c3 b2c3 c6e7</td></tr><tr><th>3</th><td>Horwitz_Defense</td><td>1595</td><td>88</td><td>448</td><td>mate mateIn2 middlegame short</td><td>e8f7 e2e6 f7f8 e6f7</td></tr><tr><th>4</th><td>Scotch_Game</td><td>1762</td><td>90</td><td>1572</td><td>advantage middlegame short</td><td>d8f6 d1h5 h7h6 h5c5</td></tr><tr><th>5</th><td>Sicilian_Defense</td><td>1013</td><td>39</td><td>136</td><td>bodenMate hangingPiece mate mateIn1 middlegame oneMove</td><td>c7a8 a5c3</td></tr><tr><th>6</th><td>Ruy_Lopez</td><td>1490</td><td>50</td><td>12</td><td>mate mateIn1 oneMove</td><td>h2g3 g6h5</td></tr><tr><th>7</th><td>Pirc_Defense</td><td>943</td><td>96</td><td>1091</td><td>advantage fork master masterVsMaster middlegame short</td><td>f2f3 d6c5 g1h1 c5c4</td></tr><tr><th>8</th><td>Slav_Defense</td><td>1927</td><td>93</td><td>639</td><td>crushing master masterVsMaster middlegame sacrifice short</td><td>d3a6 b6c5 a6c8 c5c4</td></tr><tr><th>9</th><td>Queens_Pawn_Game</td><td>1628</td><td>96</td><td>12910</td><td>advantage opening short trappedPiece</td><td>b1c3 f5g4 h5g4 d7g4</td></tr><tr><th>10</th><td>Queens_Pawn_Game</td><td>1303</td><td>47</td><td>19</td><td>advantage fork middlegame short</td><td>c6e5 d4e5 d6e7 e5f6</td></tr><tr><th>11</th><td>Caro-Kann_Defense</td><td>1492</td><td>93</td><td>588</td><td>crushing discoveredAttack middlegame short</td><td>f8e7 f3e5 c7e5 e2g4</td></tr><tr><th>12</th><td>Sicilian_Defense</td><td>1787</td><td>96</td><td>1869</td><td>crushing kingsideAttack middlegame short</td><td>g1h1 f6f4 d1f3 f4f3</td></tr><tr><th>&vellip;</th><td>&vellip;</td><td>&vellip;</td><td>&vellip;</td><td>&vellip;</td><td>&vellip;</td><td>&vellip;</td></tr></tbody></table></div>"
      ],
      "text/latex": [
       "\\begin{tabular}{r|cccccc}\n",
       "\t& OpeningFamily & Rating & Popularity & NbPlays & Themes & Moves\\\\\n",
       "\t\\hline\n",
       "\t& String & Int64 & Int64 & Int64 & String & String\\\\\n",
       "\t\\hline\n",
       "\t1 & Kings\\_Pawn\\_Game & 1088 & 85 & 505 & advantage middlegame short & b6c5 e2g4 h3g4 d1g4 \\\\\n",
       "\t2 & Benoni\\_Defense & 1457 & 86 & 482 & advantage master middlegame short & g5e7 a5c3 b2c3 c6e7 \\\\\n",
       "\t3 & Horwitz\\_Defense & 1595 & 88 & 448 & mate mateIn2 middlegame short & e8f7 e2e6 f7f8 e6f7 \\\\\n",
       "\t4 & Scotch\\_Game & 1762 & 90 & 1572 & advantage middlegame short & d8f6 d1h5 h7h6 h5c5 \\\\\n",
       "\t5 & Sicilian\\_Defense & 1013 & 39 & 136 & bodenMate hangingPiece mate mateIn1 middlegame oneMove & c7a8 a5c3 \\\\\n",
       "\t6 & Ruy\\_Lopez & 1490 & 50 & 12 & mate mateIn1 oneMove & h2g3 g6h5 \\\\\n",
       "\t7 & Pirc\\_Defense & 943 & 96 & 1091 & advantage fork master masterVsMaster middlegame short & f2f3 d6c5 g1h1 c5c4 \\\\\n",
       "\t8 & Slav\\_Defense & 1927 & 93 & 639 & crushing master masterVsMaster middlegame sacrifice short & d3a6 b6c5 a6c8 c5c4 \\\\\n",
       "\t9 & Queens\\_Pawn\\_Game & 1628 & 96 & 12910 & advantage opening short trappedPiece & b1c3 f5g4 h5g4 d7g4 \\\\\n",
       "\t10 & Queens\\_Pawn\\_Game & 1303 & 47 & 19 & advantage fork middlegame short & c6e5 d4e5 d6e7 e5f6 \\\\\n",
       "\t11 & Caro-Kann\\_Defense & 1492 & 93 & 588 & crushing discoveredAttack middlegame short & f8e7 f3e5 c7e5 e2g4 \\\\\n",
       "\t12 & Sicilian\\_Defense & 1787 & 96 & 1869 & crushing kingsideAttack middlegame short & g1h1 f6f4 d1f3 f4f3 \\\\\n",
       "\t$\\dots$ & $\\dots$ & $\\dots$ & $\\dots$ & $\\dots$ & $\\dots$ & $\\dots$ \\\\\n",
       "\\end{tabular}\n"
      ],
      "text/plain": [
       "\u001b[1m565133×6 DataFrame\u001b[0m\n",
       "\u001b[1m    Row \u001b[0m│\u001b[1m OpeningFamily          \u001b[0m\u001b[1m Rating \u001b[0m\u001b[1m Popularity \u001b[0m\u001b[1m NbPlays \u001b[0m\u001b[1m Themes                            \u001b[0m\u001b[1m Moves                         \u001b[0m\n",
       "\u001b[1m        \u001b[0m│\u001b[90m String                 \u001b[0m\u001b[90m Int64  \u001b[0m\u001b[90m Int64      \u001b[0m\u001b[90m Int64   \u001b[0m\u001b[90m String                            \u001b[0m\u001b[90m String                        \u001b[0m\n",
       "────────┼───────────────────────────────────────────────────────────────────────────────────────────────────────────────────────\n",
       "      1 │ Kings_Pawn_Game           1088          85      505  advantage middlegame short         b6c5 e2g4 h3g4 d1g4\n",
       "      2 │ Benoni_Defense            1457          86      482  advantage master middlegame short  g5e7 a5c3 b2c3 c6e7\n",
       "   ⋮    │           ⋮               ⋮         ⋮          ⋮                     ⋮                                ⋮\n",
       " 565133 │ Kings_Gambit_Accepted     2496          79       50  advantage long opening             c6d4 f1e1 e8d8 b1c3 d4f3 g2f3\n",
       "\u001b[36m                                                                                                             565130 rows omitted\u001b[0m"
      ]
     },
     "execution_count": 27,
     "metadata": {},
     "output_type": "execute_result"
    }
   ],
   "source": [
    "select(df, :OpeningFamily, Not(:Moves), :Moves)"
   ]
  },
  {
   "cell_type": "markdown",
   "metadata": {},
   "source": [
    "When you pick multiple columns duplicate column names are allowed, but not in operations that generate single columns:"
   ]
  },
  {
   "cell_type": "code",
   "execution_count": 28,
   "metadata": {},
   "outputs": [
    {
     "data": {
      "text/html": [
       "<div class=\"data-frame\"><p>565,133 rows × 5 columns</p><table class=\"data-frame\"><thead><tr><th></th><th>Popularity</th><th>NbPlays</th><th>Themes</th><th>Moves</th><th>Rating</th></tr><tr><th></th><th title=\"Int64\">Int64</th><th title=\"Int64\">Int64</th><th title=\"String\">String</th><th title=\"String\">String</th><th title=\"Int64\">Int64</th></tr></thead><tbody><tr><th>1</th><td>85</td><td>505</td><td>advantage middlegame short</td><td>b6c5 e2g4 h3g4 d1g4</td><td>1088</td></tr><tr><th>2</th><td>86</td><td>482</td><td>advantage master middlegame short</td><td>g5e7 a5c3 b2c3 c6e7</td><td>1457</td></tr><tr><th>3</th><td>88</td><td>448</td><td>mate mateIn2 middlegame short</td><td>e8f7 e2e6 f7f8 e6f7</td><td>1595</td></tr><tr><th>4</th><td>90</td><td>1572</td><td>advantage middlegame short</td><td>d8f6 d1h5 h7h6 h5c5</td><td>1762</td></tr><tr><th>5</th><td>39</td><td>136</td><td>bodenMate hangingPiece mate mateIn1 middlegame oneMove</td><td>c7a8 a5c3</td><td>1013</td></tr><tr><th>6</th><td>50</td><td>12</td><td>mate mateIn1 oneMove</td><td>h2g3 g6h5</td><td>1490</td></tr><tr><th>7</th><td>96</td><td>1091</td><td>advantage fork master masterVsMaster middlegame short</td><td>f2f3 d6c5 g1h1 c5c4</td><td>943</td></tr><tr><th>8</th><td>93</td><td>639</td><td>crushing master masterVsMaster middlegame sacrifice short</td><td>d3a6 b6c5 a6c8 c5c4</td><td>1927</td></tr><tr><th>9</th><td>96</td><td>12910</td><td>advantage opening short trappedPiece</td><td>b1c3 f5g4 h5g4 d7g4</td><td>1628</td></tr><tr><th>10</th><td>47</td><td>19</td><td>advantage fork middlegame short</td><td>c6e5 d4e5 d6e7 e5f6</td><td>1303</td></tr><tr><th>11</th><td>93</td><td>588</td><td>crushing discoveredAttack middlegame short</td><td>f8e7 f3e5 c7e5 e2g4</td><td>1492</td></tr><tr><th>12</th><td>96</td><td>1869</td><td>crushing kingsideAttack middlegame short</td><td>g1h1 f6f4 d1f3 f4f3</td><td>1787</td></tr><tr><th>&vellip;</th><td>&vellip;</td><td>&vellip;</td><td>&vellip;</td><td>&vellip;</td><td>&vellip;</td></tr></tbody></table></div>"
      ],
      "text/latex": [
       "\\begin{tabular}{r|ccccc}\n",
       "\t& Popularity & NbPlays & Themes & Moves & Rating\\\\\n",
       "\t\\hline\n",
       "\t& Int64 & Int64 & String & String & Int64\\\\\n",
       "\t\\hline\n",
       "\t1 & 85 & 505 & advantage middlegame short & b6c5 e2g4 h3g4 d1g4 & 1088 \\\\\n",
       "\t2 & 86 & 482 & advantage master middlegame short & g5e7 a5c3 b2c3 c6e7 & 1457 \\\\\n",
       "\t3 & 88 & 448 & mate mateIn2 middlegame short & e8f7 e2e6 f7f8 e6f7 & 1595 \\\\\n",
       "\t4 & 90 & 1572 & advantage middlegame short & d8f6 d1h5 h7h6 h5c5 & 1762 \\\\\n",
       "\t5 & 39 & 136 & bodenMate hangingPiece mate mateIn1 middlegame oneMove & c7a8 a5c3 & 1013 \\\\\n",
       "\t6 & 50 & 12 & mate mateIn1 oneMove & h2g3 g6h5 & 1490 \\\\\n",
       "\t7 & 96 & 1091 & advantage fork master masterVsMaster middlegame short & f2f3 d6c5 g1h1 c5c4 & 943 \\\\\n",
       "\t8 & 93 & 639 & crushing master masterVsMaster middlegame sacrifice short & d3a6 b6c5 a6c8 c5c4 & 1927 \\\\\n",
       "\t9 & 96 & 12910 & advantage opening short trappedPiece & b1c3 f5g4 h5g4 d7g4 & 1628 \\\\\n",
       "\t10 & 47 & 19 & advantage fork middlegame short & c6e5 d4e5 d6e7 e5f6 & 1303 \\\\\n",
       "\t11 & 93 & 588 & crushing discoveredAttack middlegame short & f8e7 f3e5 c7e5 e2g4 & 1492 \\\\\n",
       "\t12 & 96 & 1869 & crushing kingsideAttack middlegame short & g1h1 f6f4 d1f3 f4f3 & 1787 \\\\\n",
       "\t$\\dots$ & $\\dots$ & $\\dots$ & $\\dots$ & $\\dots$ & $\\dots$ \\\\\n",
       "\\end{tabular}\n"
      ],
      "text/plain": [
       "\u001b[1m565133×5 DataFrame\u001b[0m\n",
       "\u001b[1m    Row \u001b[0m│\u001b[1m Popularity \u001b[0m\u001b[1m NbPlays \u001b[0m\u001b[1m Themes                            \u001b[0m\u001b[1m Moves                         \u001b[0m\u001b[1m Rating \u001b[0m\n",
       "\u001b[1m        \u001b[0m│\u001b[90m Int64      \u001b[0m\u001b[90m Int64   \u001b[0m\u001b[90m String                            \u001b[0m\u001b[90m String                        \u001b[0m\u001b[90m Int64  \u001b[0m\n",
       "────────┼───────────────────────────────────────────────────────────────────────────────────────────────\n",
       "      1 │         85      505  advantage middlegame short         b6c5 e2g4 h3g4 d1g4              1088\n",
       "      2 │         86      482  advantage master middlegame short  g5e7 a5c3 b2c3 c6e7              1457\n",
       "   ⋮    │     ⋮          ⋮                     ⋮                                ⋮                  ⋮\n",
       " 565133 │         79       50  advantage long opening             c6d4 f1e1 e8d8 b1c3 d4f3 g2f3    2496\n",
       "\u001b[36m                                                                                     565130 rows omitted\u001b[0m"
      ]
     },
     "execution_count": 28,
     "metadata": {},
     "output_type": "execute_result"
    }
   ],
   "source": [
    "select(df, Between(3, 5), Between(1, 3))"
   ]
  },
  {
   "cell_type": "code",
   "execution_count": 29,
   "metadata": {},
   "outputs": [
    {
     "ename": "LoadError",
     "evalue": "ArgumentError: duplicate output column name: :Themes",
     "output_type": "error",
     "traceback": [
      "ArgumentError: duplicate output column name: :Themes"
     ]
    }
   ],
   "source": [
    "select(df, :Themes, :Themes)"
   ]
  },
  {
   "cell_type": "code",
   "execution_count": 30,
   "metadata": {},
   "outputs": [
    {
     "ename": "LoadError",
     "evalue": "ArgumentError: duplicate output column name: :x",
     "output_type": "error",
     "traceback": [
      "ArgumentError: duplicate output column name: :x"
     ]
    }
   ],
   "source": [
    "select(df, :Themes => :x, :Moves => :x)"
   ]
  },
  {
   "cell_type": "markdown",
   "metadata": {},
   "source": [
    "## Jogging: operations on a single column of a data frame"
   ]
  },
  {
   "cell_type": "markdown",
   "metadata": {},
   "source": [
    "Let us check out several ways to do the following operation: calculate mean rating of puzzles."
   ]
  },
  {
   "cell_type": "markdown",
   "metadata": {},
   "source": [
    "Start with a full syntax."
   ]
  },
  {
   "cell_type": "code",
   "execution_count": 31,
   "metadata": {},
   "outputs": [
    {
     "data": {
      "text/html": [
       "<div class=\"data-frame\"><p>1 rows × 1 columns</p><table class=\"data-frame\"><thead><tr><th></th><th>Rating_mean</th></tr><tr><th></th><th title=\"Float64\">Float64</th></tr></thead><tbody><tr><th>1</th><td>1578.6</td></tr></tbody></table></div>"
      ],
      "text/latex": [
       "\\begin{tabular}{r|c}\n",
       "\t& Rating\\_mean\\\\\n",
       "\t\\hline\n",
       "\t& Float64\\\\\n",
       "\t\\hline\n",
       "\t1 & 1578.6 \\\\\n",
       "\\end{tabular}\n"
      ],
      "text/plain": [
       "\u001b[1m1×1 DataFrame\u001b[0m\n",
       "\u001b[1m Row \u001b[0m│\u001b[1m Rating_mean \u001b[0m\n",
       "\u001b[1m     \u001b[0m│\u001b[90m Float64     \u001b[0m\n",
       "─────┼─────────────\n",
       "   1 │      1578.6"
      ]
     },
     "execution_count": 31,
     "metadata": {},
     "output_type": "execute_result"
    }
   ],
   "source": [
    "combine(df, :Rating => mean => :Rating_mean)"
   ]
  },
  {
   "cell_type": "markdown",
   "metadata": {},
   "source": [
    "You can drop output column name to automatically generate one."
   ]
  },
  {
   "cell_type": "code",
   "execution_count": 32,
   "metadata": {},
   "outputs": [
    {
     "data": {
      "text/html": [
       "<div class=\"data-frame\"><p>1 rows × 1 columns</p><table class=\"data-frame\"><thead><tr><th></th><th>Rating_mean</th></tr><tr><th></th><th title=\"Float64\">Float64</th></tr></thead><tbody><tr><th>1</th><td>1578.6</td></tr></tbody></table></div>"
      ],
      "text/latex": [
       "\\begin{tabular}{r|c}\n",
       "\t& Rating\\_mean\\\\\n",
       "\t\\hline\n",
       "\t& Float64\\\\\n",
       "\t\\hline\n",
       "\t1 & 1578.6 \\\\\n",
       "\\end{tabular}\n"
      ],
      "text/plain": [
       "\u001b[1m1×1 DataFrame\u001b[0m\n",
       "\u001b[1m Row \u001b[0m│\u001b[1m Rating_mean \u001b[0m\n",
       "\u001b[1m     \u001b[0m│\u001b[90m Float64     \u001b[0m\n",
       "─────┼─────────────\n",
       "   1 │      1578.6"
      ]
     },
     "execution_count": 32,
     "metadata": {},
     "output_type": "execute_result"
    }
   ],
   "source": [
    "combine(df, :Rating => mean)"
   ]
  },
  {
   "cell_type": "markdown",
   "metadata": {},
   "source": [
    "Use a function to automatically generate output column name."
   ]
  },
  {
   "cell_type": "code",
   "execution_count": 33,
   "metadata": {},
   "outputs": [
    {
     "data": {
      "text/html": [
       "<div class=\"data-frame\"><p>1 rows × 1 columns</p><table class=\"data-frame\"><thead><tr><th></th><th>Rating_mean</th></tr><tr><th></th><th title=\"Float64\">Float64</th></tr></thead><tbody><tr><th>1</th><td>1578.6</td></tr></tbody></table></div>"
      ],
      "text/latex": [
       "\\begin{tabular}{r|c}\n",
       "\t& Rating\\_mean\\\\\n",
       "\t\\hline\n",
       "\t& Float64\\\\\n",
       "\t\\hline\n",
       "\t1 & 1578.6 \\\\\n",
       "\\end{tabular}\n"
      ],
      "text/plain": [
       "\u001b[1m1×1 DataFrame\u001b[0m\n",
       "\u001b[1m Row \u001b[0m│\u001b[1m Rating_mean \u001b[0m\n",
       "\u001b[1m     \u001b[0m│\u001b[90m Float64     \u001b[0m\n",
       "─────┼─────────────\n",
       "   1 │      1578.6"
      ]
     },
     "execution_count": 33,
     "metadata": {},
     "output_type": "execute_result"
    }
   ],
   "source": [
    "combine(df, :Rating => mean => x -> x * \"_mean\")"
   ]
  },
  {
   "cell_type": "markdown",
   "metadata": {},
   "source": [
    "use DataFramesMeta.jl:"
   ]
  },
  {
   "cell_type": "code",
   "execution_count": 34,
   "metadata": {},
   "outputs": [
    {
     "data": {
      "text/html": [
       "<div class=\"data-frame\"><p>1 rows × 1 columns</p><table class=\"data-frame\"><thead><tr><th></th><th>Rating_mean</th></tr><tr><th></th><th title=\"Float64\">Float64</th></tr></thead><tbody><tr><th>1</th><td>1578.6</td></tr></tbody></table></div>"
      ],
      "text/latex": [
       "\\begin{tabular}{r|c}\n",
       "\t& Rating\\_mean\\\\\n",
       "\t\\hline\n",
       "\t& Float64\\\\\n",
       "\t\\hline\n",
       "\t1 & 1578.6 \\\\\n",
       "\\end{tabular}\n"
      ],
      "text/plain": [
       "\u001b[1m1×1 DataFrame\u001b[0m\n",
       "\u001b[1m Row \u001b[0m│\u001b[1m Rating_mean \u001b[0m\n",
       "\u001b[1m     \u001b[0m│\u001b[90m Float64     \u001b[0m\n",
       "─────┼─────────────\n",
       "   1 │      1578.6"
      ]
     },
     "execution_count": 34,
     "metadata": {},
     "output_type": "execute_result"
    }
   ],
   "source": [
    "@combine(df, :Rating_mean = mean(:Rating))"
   ]
  },
  {
   "cell_type": "markdown",
   "metadata": {},
   "source": [
    "Note that `combine` combines multiple rows of the source data frame into one. If we used `select` we the result would be expanded into as many rows as were present in the source data frame."
   ]
  },
  {
   "cell_type": "code",
   "execution_count": 35,
   "metadata": {},
   "outputs": [
    {
     "data": {
      "text/html": [
       "<div class=\"data-frame\"><p>565,133 rows × 1 columns</p><table class=\"data-frame\"><thead><tr><th></th><th>Rating_mean</th></tr><tr><th></th><th title=\"Float64\">Float64</th></tr></thead><tbody><tr><th>1</th><td>1578.6</td></tr><tr><th>2</th><td>1578.6</td></tr><tr><th>3</th><td>1578.6</td></tr><tr><th>4</th><td>1578.6</td></tr><tr><th>5</th><td>1578.6</td></tr><tr><th>6</th><td>1578.6</td></tr><tr><th>7</th><td>1578.6</td></tr><tr><th>8</th><td>1578.6</td></tr><tr><th>9</th><td>1578.6</td></tr><tr><th>10</th><td>1578.6</td></tr><tr><th>11</th><td>1578.6</td></tr><tr><th>12</th><td>1578.6</td></tr><tr><th>&vellip;</th><td>&vellip;</td></tr></tbody></table></div>"
      ],
      "text/latex": [
       "\\begin{tabular}{r|c}\n",
       "\t& Rating\\_mean\\\\\n",
       "\t\\hline\n",
       "\t& Float64\\\\\n",
       "\t\\hline\n",
       "\t1 & 1578.6 \\\\\n",
       "\t2 & 1578.6 \\\\\n",
       "\t3 & 1578.6 \\\\\n",
       "\t4 & 1578.6 \\\\\n",
       "\t5 & 1578.6 \\\\\n",
       "\t6 & 1578.6 \\\\\n",
       "\t7 & 1578.6 \\\\\n",
       "\t8 & 1578.6 \\\\\n",
       "\t9 & 1578.6 \\\\\n",
       "\t10 & 1578.6 \\\\\n",
       "\t11 & 1578.6 \\\\\n",
       "\t12 & 1578.6 \\\\\n",
       "\t$\\dots$ & $\\dots$ \\\\\n",
       "\\end{tabular}\n"
      ],
      "text/plain": [
       "\u001b[1m565133×1 DataFrame\u001b[0m\n",
       "\u001b[1m    Row \u001b[0m│\u001b[1m Rating_mean \u001b[0m\n",
       "\u001b[1m        \u001b[0m│\u001b[90m Float64     \u001b[0m\n",
       "────────┼─────────────\n",
       "      1 │      1578.6\n",
       "      2 │      1578.6\n",
       "   ⋮    │      ⋮\n",
       " 565133 │      1578.6\n",
       "\u001b[36m   565130 rows omitted\u001b[0m"
      ]
     },
     "execution_count": 35,
     "metadata": {},
     "output_type": "execute_result"
    }
   ],
   "source": [
    "select(df, :Rating => mean)"
   ]
  },
  {
   "cell_type": "code",
   "execution_count": 36,
   "metadata": {},
   "outputs": [
    {
     "data": {
      "text/html": [
       "<div class=\"data-frame\"><p>565,133 rows × 1 columns</p><table class=\"data-frame\"><thead><tr><th></th><th>Rating_mean</th></tr><tr><th></th><th title=\"Float64\">Float64</th></tr></thead><tbody><tr><th>1</th><td>1578.6</td></tr><tr><th>2</th><td>1578.6</td></tr><tr><th>3</th><td>1578.6</td></tr><tr><th>4</th><td>1578.6</td></tr><tr><th>5</th><td>1578.6</td></tr><tr><th>6</th><td>1578.6</td></tr><tr><th>7</th><td>1578.6</td></tr><tr><th>8</th><td>1578.6</td></tr><tr><th>9</th><td>1578.6</td></tr><tr><th>10</th><td>1578.6</td></tr><tr><th>11</th><td>1578.6</td></tr><tr><th>12</th><td>1578.6</td></tr><tr><th>&vellip;</th><td>&vellip;</td></tr></tbody></table></div>"
      ],
      "text/latex": [
       "\\begin{tabular}{r|c}\n",
       "\t& Rating\\_mean\\\\\n",
       "\t\\hline\n",
       "\t& Float64\\\\\n",
       "\t\\hline\n",
       "\t1 & 1578.6 \\\\\n",
       "\t2 & 1578.6 \\\\\n",
       "\t3 & 1578.6 \\\\\n",
       "\t4 & 1578.6 \\\\\n",
       "\t5 & 1578.6 \\\\\n",
       "\t6 & 1578.6 \\\\\n",
       "\t7 & 1578.6 \\\\\n",
       "\t8 & 1578.6 \\\\\n",
       "\t9 & 1578.6 \\\\\n",
       "\t10 & 1578.6 \\\\\n",
       "\t11 & 1578.6 \\\\\n",
       "\t12 & 1578.6 \\\\\n",
       "\t$\\dots$ & $\\dots$ \\\\\n",
       "\\end{tabular}\n"
      ],
      "text/plain": [
       "\u001b[1m565133×1 DataFrame\u001b[0m\n",
       "\u001b[1m    Row \u001b[0m│\u001b[1m Rating_mean \u001b[0m\n",
       "\u001b[1m        \u001b[0m│\u001b[90m Float64     \u001b[0m\n",
       "────────┼─────────────\n",
       "      1 │      1578.6\n",
       "      2 │      1578.6\n",
       "   ⋮    │      ⋮\n",
       " 565133 │      1578.6\n",
       "\u001b[36m   565130 rows omitted\u001b[0m"
      ]
     },
     "execution_count": 36,
     "metadata": {},
     "output_type": "execute_result"
    }
   ],
   "source": [
    "@select(df, :Rating_mean = mean(:Rating))"
   ]
  },
  {
   "cell_type": "markdown",
   "metadata": {},
   "source": [
    "### Important rule\n",
    "* `combine` *combines* rows, which means it changes number of rows (and possibly order if you work with `GroupedDataFrame`) for a source data frame.\n",
    "* `select[!]` and `transform[!]` always keep the number and order of rows of a source data frame."
   ]
  },
  {
   "cell_type": "markdown",
   "metadata": {},
   "source": [
    "Now let us do a more complex task. Add a new column to a data frame with number of moves in the puzzle.\n",
    "We notice that consecutive moves are separated by a space in `:Moves` column."
   ]
  },
  {
   "cell_type": "markdown",
   "metadata": {},
   "source": [
    "In DataFrames.jl we use the `ByRow` wrapper which automatically broadcasts the passed function."
   ]
  },
  {
   "cell_type": "markdown",
   "metadata": {},
   "source": [
    "We use `transform` to keep all existing columns and add a new one at the end:"
   ]
  },
  {
   "cell_type": "code",
   "execution_count": 37,
   "metadata": {},
   "outputs": [
    {
     "data": {
      "text/html": [
       "<div class=\"data-frame\"><p>565,133 rows × 7 columns</p><table class=\"data-frame\"><thead><tr><th></th><th>Moves</th><th>Rating</th><th>Popularity</th><th>NbPlays</th><th>Themes</th><th>OpeningFamily</th><th>MoveNo</th></tr><tr><th></th><th title=\"String\">String</th><th title=\"Int64\">Int64</th><th title=\"Int64\">Int64</th><th title=\"Int64\">Int64</th><th title=\"String\">String</th><th title=\"String\">String</th><th title=\"Int64\">Int64</th></tr></thead><tbody><tr><th>1</th><td>b6c5 e2g4 h3g4 d1g4</td><td>1088</td><td>85</td><td>505</td><td>advantage middlegame short</td><td>Kings_Pawn_Game</td><td>4</td></tr><tr><th>2</th><td>g5e7 a5c3 b2c3 c6e7</td><td>1457</td><td>86</td><td>482</td><td>advantage master middlegame short</td><td>Benoni_Defense</td><td>4</td></tr><tr><th>3</th><td>e8f7 e2e6 f7f8 e6f7</td><td>1595</td><td>88</td><td>448</td><td>mate mateIn2 middlegame short</td><td>Horwitz_Defense</td><td>4</td></tr><tr><th>4</th><td>d8f6 d1h5 h7h6 h5c5</td><td>1762</td><td>90</td><td>1572</td><td>advantage middlegame short</td><td>Scotch_Game</td><td>4</td></tr><tr><th>5</th><td>c7a8 a5c3</td><td>1013</td><td>39</td><td>136</td><td>bodenMate hangingPiece mate mateIn1 middlegame oneMove</td><td>Sicilian_Defense</td><td>2</td></tr><tr><th>6</th><td>h2g3 g6h5</td><td>1490</td><td>50</td><td>12</td><td>mate mateIn1 oneMove</td><td>Ruy_Lopez</td><td>2</td></tr><tr><th>7</th><td>f2f3 d6c5 g1h1 c5c4</td><td>943</td><td>96</td><td>1091</td><td>advantage fork master masterVsMaster middlegame short</td><td>Pirc_Defense</td><td>4</td></tr><tr><th>8</th><td>d3a6 b6c5 a6c8 c5c4</td><td>1927</td><td>93</td><td>639</td><td>crushing master masterVsMaster middlegame sacrifice short</td><td>Slav_Defense</td><td>4</td></tr><tr><th>9</th><td>b1c3 f5g4 h5g4 d7g4</td><td>1628</td><td>96</td><td>12910</td><td>advantage opening short trappedPiece</td><td>Queens_Pawn_Game</td><td>4</td></tr><tr><th>10</th><td>c6e5 d4e5 d6e7 e5f6</td><td>1303</td><td>47</td><td>19</td><td>advantage fork middlegame short</td><td>Queens_Pawn_Game</td><td>4</td></tr><tr><th>11</th><td>f8e7 f3e5 c7e5 e2g4</td><td>1492</td><td>93</td><td>588</td><td>crushing discoveredAttack middlegame short</td><td>Caro-Kann_Defense</td><td>4</td></tr><tr><th>12</th><td>g1h1 f6f4 d1f3 f4f3</td><td>1787</td><td>96</td><td>1869</td><td>crushing kingsideAttack middlegame short</td><td>Sicilian_Defense</td><td>4</td></tr><tr><th>&vellip;</th><td>&vellip;</td><td>&vellip;</td><td>&vellip;</td><td>&vellip;</td><td>&vellip;</td><td>&vellip;</td><td>&vellip;</td></tr></tbody></table></div>"
      ],
      "text/latex": [
       "\\begin{tabular}{r|ccccccc}\n",
       "\t& Moves & Rating & Popularity & NbPlays & Themes & OpeningFamily & MoveNo\\\\\n",
       "\t\\hline\n",
       "\t& String & Int64 & Int64 & Int64 & String & String & Int64\\\\\n",
       "\t\\hline\n",
       "\t1 & b6c5 e2g4 h3g4 d1g4 & 1088 & 85 & 505 & advantage middlegame short & Kings\\_Pawn\\_Game & 4 \\\\\n",
       "\t2 & g5e7 a5c3 b2c3 c6e7 & 1457 & 86 & 482 & advantage master middlegame short & Benoni\\_Defense & 4 \\\\\n",
       "\t3 & e8f7 e2e6 f7f8 e6f7 & 1595 & 88 & 448 & mate mateIn2 middlegame short & Horwitz\\_Defense & 4 \\\\\n",
       "\t4 & d8f6 d1h5 h7h6 h5c5 & 1762 & 90 & 1572 & advantage middlegame short & Scotch\\_Game & 4 \\\\\n",
       "\t5 & c7a8 a5c3 & 1013 & 39 & 136 & bodenMate hangingPiece mate mateIn1 middlegame oneMove & Sicilian\\_Defense & 2 \\\\\n",
       "\t6 & h2g3 g6h5 & 1490 & 50 & 12 & mate mateIn1 oneMove & Ruy\\_Lopez & 2 \\\\\n",
       "\t7 & f2f3 d6c5 g1h1 c5c4 & 943 & 96 & 1091 & advantage fork master masterVsMaster middlegame short & Pirc\\_Defense & 4 \\\\\n",
       "\t8 & d3a6 b6c5 a6c8 c5c4 & 1927 & 93 & 639 & crushing master masterVsMaster middlegame sacrifice short & Slav\\_Defense & 4 \\\\\n",
       "\t9 & b1c3 f5g4 h5g4 d7g4 & 1628 & 96 & 12910 & advantage opening short trappedPiece & Queens\\_Pawn\\_Game & 4 \\\\\n",
       "\t10 & c6e5 d4e5 d6e7 e5f6 & 1303 & 47 & 19 & advantage fork middlegame short & Queens\\_Pawn\\_Game & 4 \\\\\n",
       "\t11 & f8e7 f3e5 c7e5 e2g4 & 1492 & 93 & 588 & crushing discoveredAttack middlegame short & Caro-Kann\\_Defense & 4 \\\\\n",
       "\t12 & g1h1 f6f4 d1f3 f4f3 & 1787 & 96 & 1869 & crushing kingsideAttack middlegame short & Sicilian\\_Defense & 4 \\\\\n",
       "\t$\\dots$ & $\\dots$ & $\\dots$ & $\\dots$ & $\\dots$ & $\\dots$ & $\\dots$ & $\\dots$ \\\\\n",
       "\\end{tabular}\n"
      ],
      "text/plain": [
       "\u001b[1m565133×7 DataFrame\u001b[0m\n",
       "\u001b[1m    Row \u001b[0m│\u001b[1m Moves                         \u001b[0m\u001b[1m Rating \u001b[0m\u001b[1m Popularity \u001b[0m\u001b[1m NbPlays \u001b[0m\u001b[1m Themes                            \u001b[0m\u001b[1m OpeningFamily          \u001b[0m\u001b[1m MoveNo \u001b[0m\n",
       "\u001b[1m        \u001b[0m│\u001b[90m String                        \u001b[0m\u001b[90m Int64  \u001b[0m\u001b[90m Int64      \u001b[0m\u001b[90m Int64   \u001b[0m\u001b[90m String                            \u001b[0m\u001b[90m String                 \u001b[0m\u001b[90m Int64  \u001b[0m\n",
       "────────┼───────────────────────────────────────────────────────────────────────────────────────────────────────────────────────────────\n",
       "      1 │ b6c5 e2g4 h3g4 d1g4              1088          85      505  advantage middlegame short         Kings_Pawn_Game              4\n",
       "      2 │ g5e7 a5c3 b2c3 c6e7              1457          86      482  advantage master middlegame short  Benoni_Defense               4\n",
       "   ⋮    │               ⋮                  ⋮         ⋮          ⋮                     ⋮                            ⋮               ⋮\n",
       " 565133 │ c6d4 f1e1 e8d8 b1c3 d4f3 g2f3    2496          79       50  advantage long opening             Kings_Gambit_Accepted        6\n",
       "\u001b[36m                                                                                                                     565130 rows omitted\u001b[0m"
      ]
     },
     "execution_count": 37,
     "metadata": {},
     "output_type": "execute_result"
    }
   ],
   "source": [
    "transform(df, :Moves => ByRow(x -> 1 + count(==(' '), x)) => :MoveNo)"
   ]
  },
  {
   "cell_type": "markdown",
   "metadata": {},
   "source": [
    "In DataFramesMeta.jl we prefix the macro name with `r` to make it work by row.\n",
    "\n",
    "Such transformations like the one we work with right now are typically more conveniently written using DataFamesMeta.jl."
   ]
  },
  {
   "cell_type": "code",
   "execution_count": 38,
   "metadata": {},
   "outputs": [
    {
     "data": {
      "text/html": [
       "<div class=\"data-frame\"><p>565,133 rows × 7 columns</p><table class=\"data-frame\"><thead><tr><th></th><th>Moves</th><th>Rating</th><th>Popularity</th><th>NbPlays</th><th>Themes</th><th>OpeningFamily</th><th>MoveNo</th></tr><tr><th></th><th title=\"String\">String</th><th title=\"Int64\">Int64</th><th title=\"Int64\">Int64</th><th title=\"Int64\">Int64</th><th title=\"String\">String</th><th title=\"String\">String</th><th title=\"Int64\">Int64</th></tr></thead><tbody><tr><th>1</th><td>b6c5 e2g4 h3g4 d1g4</td><td>1088</td><td>85</td><td>505</td><td>advantage middlegame short</td><td>Kings_Pawn_Game</td><td>4</td></tr><tr><th>2</th><td>g5e7 a5c3 b2c3 c6e7</td><td>1457</td><td>86</td><td>482</td><td>advantage master middlegame short</td><td>Benoni_Defense</td><td>4</td></tr><tr><th>3</th><td>e8f7 e2e6 f7f8 e6f7</td><td>1595</td><td>88</td><td>448</td><td>mate mateIn2 middlegame short</td><td>Horwitz_Defense</td><td>4</td></tr><tr><th>4</th><td>d8f6 d1h5 h7h6 h5c5</td><td>1762</td><td>90</td><td>1572</td><td>advantage middlegame short</td><td>Scotch_Game</td><td>4</td></tr><tr><th>5</th><td>c7a8 a5c3</td><td>1013</td><td>39</td><td>136</td><td>bodenMate hangingPiece mate mateIn1 middlegame oneMove</td><td>Sicilian_Defense</td><td>2</td></tr><tr><th>6</th><td>h2g3 g6h5</td><td>1490</td><td>50</td><td>12</td><td>mate mateIn1 oneMove</td><td>Ruy_Lopez</td><td>2</td></tr><tr><th>7</th><td>f2f3 d6c5 g1h1 c5c4</td><td>943</td><td>96</td><td>1091</td><td>advantage fork master masterVsMaster middlegame short</td><td>Pirc_Defense</td><td>4</td></tr><tr><th>8</th><td>d3a6 b6c5 a6c8 c5c4</td><td>1927</td><td>93</td><td>639</td><td>crushing master masterVsMaster middlegame sacrifice short</td><td>Slav_Defense</td><td>4</td></tr><tr><th>9</th><td>b1c3 f5g4 h5g4 d7g4</td><td>1628</td><td>96</td><td>12910</td><td>advantage opening short trappedPiece</td><td>Queens_Pawn_Game</td><td>4</td></tr><tr><th>10</th><td>c6e5 d4e5 d6e7 e5f6</td><td>1303</td><td>47</td><td>19</td><td>advantage fork middlegame short</td><td>Queens_Pawn_Game</td><td>4</td></tr><tr><th>11</th><td>f8e7 f3e5 c7e5 e2g4</td><td>1492</td><td>93</td><td>588</td><td>crushing discoveredAttack middlegame short</td><td>Caro-Kann_Defense</td><td>4</td></tr><tr><th>12</th><td>g1h1 f6f4 d1f3 f4f3</td><td>1787</td><td>96</td><td>1869</td><td>crushing kingsideAttack middlegame short</td><td>Sicilian_Defense</td><td>4</td></tr><tr><th>&vellip;</th><td>&vellip;</td><td>&vellip;</td><td>&vellip;</td><td>&vellip;</td><td>&vellip;</td><td>&vellip;</td><td>&vellip;</td></tr></tbody></table></div>"
      ],
      "text/latex": [
       "\\begin{tabular}{r|ccccccc}\n",
       "\t& Moves & Rating & Popularity & NbPlays & Themes & OpeningFamily & MoveNo\\\\\n",
       "\t\\hline\n",
       "\t& String & Int64 & Int64 & Int64 & String & String & Int64\\\\\n",
       "\t\\hline\n",
       "\t1 & b6c5 e2g4 h3g4 d1g4 & 1088 & 85 & 505 & advantage middlegame short & Kings\\_Pawn\\_Game & 4 \\\\\n",
       "\t2 & g5e7 a5c3 b2c3 c6e7 & 1457 & 86 & 482 & advantage master middlegame short & Benoni\\_Defense & 4 \\\\\n",
       "\t3 & e8f7 e2e6 f7f8 e6f7 & 1595 & 88 & 448 & mate mateIn2 middlegame short & Horwitz\\_Defense & 4 \\\\\n",
       "\t4 & d8f6 d1h5 h7h6 h5c5 & 1762 & 90 & 1572 & advantage middlegame short & Scotch\\_Game & 4 \\\\\n",
       "\t5 & c7a8 a5c3 & 1013 & 39 & 136 & bodenMate hangingPiece mate mateIn1 middlegame oneMove & Sicilian\\_Defense & 2 \\\\\n",
       "\t6 & h2g3 g6h5 & 1490 & 50 & 12 & mate mateIn1 oneMove & Ruy\\_Lopez & 2 \\\\\n",
       "\t7 & f2f3 d6c5 g1h1 c5c4 & 943 & 96 & 1091 & advantage fork master masterVsMaster middlegame short & Pirc\\_Defense & 4 \\\\\n",
       "\t8 & d3a6 b6c5 a6c8 c5c4 & 1927 & 93 & 639 & crushing master masterVsMaster middlegame sacrifice short & Slav\\_Defense & 4 \\\\\n",
       "\t9 & b1c3 f5g4 h5g4 d7g4 & 1628 & 96 & 12910 & advantage opening short trappedPiece & Queens\\_Pawn\\_Game & 4 \\\\\n",
       "\t10 & c6e5 d4e5 d6e7 e5f6 & 1303 & 47 & 19 & advantage fork middlegame short & Queens\\_Pawn\\_Game & 4 \\\\\n",
       "\t11 & f8e7 f3e5 c7e5 e2g4 & 1492 & 93 & 588 & crushing discoveredAttack middlegame short & Caro-Kann\\_Defense & 4 \\\\\n",
       "\t12 & g1h1 f6f4 d1f3 f4f3 & 1787 & 96 & 1869 & crushing kingsideAttack middlegame short & Sicilian\\_Defense & 4 \\\\\n",
       "\t$\\dots$ & $\\dots$ & $\\dots$ & $\\dots$ & $\\dots$ & $\\dots$ & $\\dots$ & $\\dots$ \\\\\n",
       "\\end{tabular}\n"
      ],
      "text/plain": [
       "\u001b[1m565133×7 DataFrame\u001b[0m\n",
       "\u001b[1m    Row \u001b[0m│\u001b[1m Moves                         \u001b[0m\u001b[1m Rating \u001b[0m\u001b[1m Popularity \u001b[0m\u001b[1m NbPlays \u001b[0m\u001b[1m Themes                            \u001b[0m\u001b[1m OpeningFamily          \u001b[0m\u001b[1m MoveNo \u001b[0m\n",
       "\u001b[1m        \u001b[0m│\u001b[90m String                        \u001b[0m\u001b[90m Int64  \u001b[0m\u001b[90m Int64      \u001b[0m\u001b[90m Int64   \u001b[0m\u001b[90m String                            \u001b[0m\u001b[90m String                 \u001b[0m\u001b[90m Int64  \u001b[0m\n",
       "────────┼───────────────────────────────────────────────────────────────────────────────────────────────────────────────────────────────\n",
       "      1 │ b6c5 e2g4 h3g4 d1g4              1088          85      505  advantage middlegame short         Kings_Pawn_Game              4\n",
       "      2 │ g5e7 a5c3 b2c3 c6e7              1457          86      482  advantage master middlegame short  Benoni_Defense               4\n",
       "   ⋮    │               ⋮                  ⋮         ⋮          ⋮                     ⋮                            ⋮               ⋮\n",
       " 565133 │ c6d4 f1e1 e8d8 b1c3 d4f3 g2f3    2496          79       50  advantage long opening             Kings_Gambit_Accepted        6\n",
       "\u001b[36m                                                                                                                     565130 rows omitted\u001b[0m"
      ]
     },
     "execution_count": 38,
     "metadata": {},
     "output_type": "execute_result"
    }
   ],
   "source": [
    "@rtransform(df, :MoveNo = 1 + count(==(' '), :Moves))"
   ]
  },
  {
   "cell_type": "markdown",
   "metadata": {},
   "source": [
    "Now it is time to start working with `GroupedDataFrame`.\n",
    "\n",
    "Let us continue the previous example and calculate mean puzzle rating and popularity as a function of number of moves (this is a more advanced example, you might want to skip it on the first pass through this notebook).\n",
    "\n",
    "In the example we use the `@chain` macro (which gets imported when we use DataFramesMeta.jl, but it is originaly defined in Chain.jl).\n",
    "In its simplest form it allows to chain several operations together the result of the previous operation is passed as a first argument to the next operation (and it can be skipped)."
   ]
  },
  {
   "cell_type": "markdown",
   "metadata": {},
   "source": [
    "In the example we additionaly use a special form of operation specification:\n",
    "* `nrow` returns a number of rows in a data frame (or a group) and creates `:nrow` column;\n",
    "* `nrow => :custom_column_name` does the same but allows you to pass a custom column name (`:custom_column_name` in the example)\n",
    "\n",
    "In case of `@rtransform` since this is a transformation not having an assignment form we need to escape it with `$`."
   ]
  },
  {
   "cell_type": "code",
   "execution_count": 39,
   "metadata": {},
   "outputs": [
    {
     "data": {
      "text/html": [
       "<div class=\"data-frame\"><p>11 rows × 4 columns</p><table class=\"data-frame\"><thead><tr><th></th><th>MoveNo</th><th>nrow</th><th>Rating_mean</th><th>Popularity_mean</th></tr><tr><th></th><th title=\"Int64\">Int64</th><th title=\"Int64\">Int64</th><th title=\"Float64\">Float64</th><th title=\"Float64\">Float64</th></tr></thead><tbody><tr><th>1</th><td>2</td><td>48933</td><td>1173.67</td><td>74.6678</td></tr><tr><th>2</th><td>4</td><td>357884</td><td>1505.63</td><td>81.7749</td></tr><tr><th>3</th><td>6</td><td>129576</td><td>1814.91</td><td>85.5729</td></tr><tr><th>4</th><td>8</td><td>22687</td><td>2065.25</td><td>84.2806</td></tr><tr><th>5</th><td>10</td><td>4492</td><td>2249.31</td><td>82.3771</td></tr><tr><th>6</th><td>12</td><td>1068</td><td>2357.96</td><td>80.3446</td></tr><tr><th>7</th><td>14</td><td>343</td><td>2426.43</td><td>78.5335</td></tr><tr><th>8</th><td>16</td><td>104</td><td>2408.8</td><td>76.9615</td></tr><tr><th>9</th><td>18</td><td>25</td><td>2470.04</td><td>84.16</td></tr><tr><th>10</th><td>20</td><td>16</td><td>2532.88</td><td>82.4375</td></tr><tr><th>11</th><td>22</td><td>5</td><td>2721.4</td><td>83.2</td></tr></tbody></table></div>"
      ],
      "text/latex": [
       "\\begin{tabular}{r|cccc}\n",
       "\t& MoveNo & nrow & Rating\\_mean & Popularity\\_mean\\\\\n",
       "\t\\hline\n",
       "\t& Int64 & Int64 & Float64 & Float64\\\\\n",
       "\t\\hline\n",
       "\t1 & 2 & 48933 & 1173.67 & 74.6678 \\\\\n",
       "\t2 & 4 & 357884 & 1505.63 & 81.7749 \\\\\n",
       "\t3 & 6 & 129576 & 1814.91 & 85.5729 \\\\\n",
       "\t4 & 8 & 22687 & 2065.25 & 84.2806 \\\\\n",
       "\t5 & 10 & 4492 & 2249.31 & 82.3771 \\\\\n",
       "\t6 & 12 & 1068 & 2357.96 & 80.3446 \\\\\n",
       "\t7 & 14 & 343 & 2426.43 & 78.5335 \\\\\n",
       "\t8 & 16 & 104 & 2408.8 & 76.9615 \\\\\n",
       "\t9 & 18 & 25 & 2470.04 & 84.16 \\\\\n",
       "\t10 & 20 & 16 & 2532.88 & 82.4375 \\\\\n",
       "\t11 & 22 & 5 & 2721.4 & 83.2 \\\\\n",
       "\\end{tabular}\n"
      ],
      "text/plain": [
       "\u001b[1m11×4 DataFrame\u001b[0m\n",
       "\u001b[1m Row \u001b[0m│\u001b[1m MoveNo \u001b[0m\u001b[1m nrow   \u001b[0m\u001b[1m Rating_mean \u001b[0m\u001b[1m Popularity_mean \u001b[0m\n",
       "\u001b[1m     \u001b[0m│\u001b[90m Int64  \u001b[0m\u001b[90m Int64  \u001b[0m\u001b[90m Float64     \u001b[0m\u001b[90m Float64         \u001b[0m\n",
       "─────┼──────────────────────────────────────────────\n",
       "   1 │      2   48933      1173.67          74.6678\n",
       "   2 │      4  357884      1505.63          81.7749\n",
       "  ⋮  │   ⋮       ⋮          ⋮              ⋮\n",
       "  11 │     22       5      2721.4           83.2\n",
       "\u001b[36m                                      8 rows omitted\u001b[0m"
      ]
     },
     "execution_count": 39,
     "metadata": {},
     "output_type": "execute_result"
    }
   ],
   "source": [
    "@chain df begin\n",
    "    @rtransform(:MoveNo = 1 + count(==(' '), :Moves))\n",
    "    groupby(:MoveNo, sort=true)\n",
    "    @combine($nrow,\n",
    "             :Rating_mean = mean(:Rating),\n",
    "             :Popularity_mean = mean(:Popularity))\n",
    "end"
   ]
  },
  {
   "cell_type": "markdown",
   "metadata": {},
   "source": [
    "In this case using DataFrames.jl syntax is more compact:"
   ]
  },
  {
   "cell_type": "code",
   "execution_count": 40,
   "metadata": {},
   "outputs": [
    {
     "data": {
      "text/html": [
       "<div class=\"data-frame\"><p>11 rows × 4 columns</p><table class=\"data-frame\"><thead><tr><th></th><th>MoveNo</th><th>nrow</th><th>Rating_mean</th><th>Popularity_mean</th></tr><tr><th></th><th title=\"Int64\">Int64</th><th title=\"Int64\">Int64</th><th title=\"Float64\">Float64</th><th title=\"Float64\">Float64</th></tr></thead><tbody><tr><th>1</th><td>2</td><td>48933</td><td>1173.67</td><td>74.6678</td></tr><tr><th>2</th><td>4</td><td>357884</td><td>1505.63</td><td>81.7749</td></tr><tr><th>3</th><td>6</td><td>129576</td><td>1814.91</td><td>85.5729</td></tr><tr><th>4</th><td>8</td><td>22687</td><td>2065.25</td><td>84.2806</td></tr><tr><th>5</th><td>10</td><td>4492</td><td>2249.31</td><td>82.3771</td></tr><tr><th>6</th><td>12</td><td>1068</td><td>2357.96</td><td>80.3446</td></tr><tr><th>7</th><td>14</td><td>343</td><td>2426.43</td><td>78.5335</td></tr><tr><th>8</th><td>16</td><td>104</td><td>2408.8</td><td>76.9615</td></tr><tr><th>9</th><td>18</td><td>25</td><td>2470.04</td><td>84.16</td></tr><tr><th>10</th><td>20</td><td>16</td><td>2532.88</td><td>82.4375</td></tr><tr><th>11</th><td>22</td><td>5</td><td>2721.4</td><td>83.2</td></tr></tbody></table></div>"
      ],
      "text/latex": [
       "\\begin{tabular}{r|cccc}\n",
       "\t& MoveNo & nrow & Rating\\_mean & Popularity\\_mean\\\\\n",
       "\t\\hline\n",
       "\t& Int64 & Int64 & Float64 & Float64\\\\\n",
       "\t\\hline\n",
       "\t1 & 2 & 48933 & 1173.67 & 74.6678 \\\\\n",
       "\t2 & 4 & 357884 & 1505.63 & 81.7749 \\\\\n",
       "\t3 & 6 & 129576 & 1814.91 & 85.5729 \\\\\n",
       "\t4 & 8 & 22687 & 2065.25 & 84.2806 \\\\\n",
       "\t5 & 10 & 4492 & 2249.31 & 82.3771 \\\\\n",
       "\t6 & 12 & 1068 & 2357.96 & 80.3446 \\\\\n",
       "\t7 & 14 & 343 & 2426.43 & 78.5335 \\\\\n",
       "\t8 & 16 & 104 & 2408.8 & 76.9615 \\\\\n",
       "\t9 & 18 & 25 & 2470.04 & 84.16 \\\\\n",
       "\t10 & 20 & 16 & 2532.88 & 82.4375 \\\\\n",
       "\t11 & 22 & 5 & 2721.4 & 83.2 \\\\\n",
       "\\end{tabular}\n"
      ],
      "text/plain": [
       "\u001b[1m11×4 DataFrame\u001b[0m\n",
       "\u001b[1m Row \u001b[0m│\u001b[1m MoveNo \u001b[0m\u001b[1m nrow   \u001b[0m\u001b[1m Rating_mean \u001b[0m\u001b[1m Popularity_mean \u001b[0m\n",
       "\u001b[1m     \u001b[0m│\u001b[90m Int64  \u001b[0m\u001b[90m Int64  \u001b[0m\u001b[90m Float64     \u001b[0m\u001b[90m Float64         \u001b[0m\n",
       "─────┼──────────────────────────────────────────────\n",
       "   1 │      2   48933      1173.67          74.6678\n",
       "   2 │      4  357884      1505.63          81.7749\n",
       "  ⋮  │   ⋮       ⋮          ⋮              ⋮\n",
       "  11 │     22       5      2721.4           83.2\n",
       "\u001b[36m                                      8 rows omitted\u001b[0m"
      ]
     },
     "execution_count": 40,
     "metadata": {},
     "output_type": "execute_result"
    }
   ],
   "source": [
    "@chain df begin\n",
    "    transform(:Moves => ByRow(x -> 1 + count(==(' '), x)) => :MoveNo)\n",
    "    groupby(:MoveNo, sort=true)\n",
    "    combine(nrow, [:Rating, :Popularity] .=> mean)\n",
    "end"
   ]
  },
  {
   "cell_type": "markdown",
   "metadata": {},
   "source": [
    "Let us do a siplmer `groupby` aggregation to practice it more.\n",
    "\n",
    "We want to check average `:NbPlays` by opening:"
   ]
  },
  {
   "cell_type": "code",
   "execution_count": 41,
   "metadata": {},
   "outputs": [
    {
     "data": {
      "text/html": [
       "<p><b>GroupedDataFrame with 147 groups based on key: OpeningFamily</b></p><p><i>First Group (4775 rows): OpeningFamily = &quot;Alekhine_Defense&quot;</i></p><div class=\"data-frame\"><table class=\"data-frame\"><thead><tr><th></th><th>Moves</th><th>Rating</th><th>Popularity</th><th>NbPlays</th><th>Themes</th><th>OpeningFamily</th></tr><tr><th></th><th title=\"String\">String</th><th title=\"Int64\">Int64</th><th title=\"Int64\">Int64</th><th title=\"Int64\">Int64</th><th title=\"String\">String</th><th title=\"String\">String</th></tr></thead><tbody><tr><th>1</th><td>c4b6 e4c5 b6a4 c5a4</td><td>1245</td><td>88</td><td>575</td><td>crushing middlegame short</td><td>Alekhine_Defense</td></tr><tr><th>2</th><td>b1c3 d5d4 b3b5 e6d7 b5d3 d4c3</td><td>1258</td><td>90</td><td>1417</td><td>crushing defensiveMove long middlegame</td><td>Alekhine_Defense</td></tr><tr><th>3</th><td>d5c7 e7b4 e1d1 e8e1</td><td>1543</td><td>81</td><td>65</td><td>doubleCheck mate mateIn2 opening short</td><td>Alekhine_Defense</td></tr><tr><th>4</th><td>e7g5 f3f5 g7g6 f5g5</td><td>1986</td><td>76</td><td>40</td><td>crushing middlegame short</td><td>Alekhine_Defense</td></tr><tr><th>5</th><td>f5c2 d2c4 d5c4 e2c2</td><td>1420</td><td>96</td><td>13207</td><td>advantage discoveredAttack middlegame short</td><td>Alekhine_Defense</td></tr><tr><th>6</th><td>f4h6 d3h7 e1e3 h7h6</td><td>2461</td><td>83</td><td>98</td><td>advantage master middlegame short</td><td>Alekhine_Defense</td></tr><tr><th>7</th><td>f1b5 d8a5 e1f2 a5b5</td><td>1500</td><td>100</td><td>0</td><td>crushing fork short</td><td>Alekhine_Defense</td></tr><tr><th>8</th><td>h8g8 d1h5 e8e7 f5f6 g7f6 g1h1</td><td>1772</td><td>81</td><td>271</td><td>crushing defensiveMove exposedKing fork long middlegame</td><td>Alekhine_Defense</td></tr><tr><th>9</th><td>f3d4 d8h4 e2f2 h4d4 f2f6 e3g2 e1e2 d4g4</td><td>2364</td><td>88</td><td>731</td><td>advantage exposedKing fork middlegame veryLong</td><td>Alekhine_Defense</td></tr><tr><th>10</th><td>e5a1 f3a3 e7f7 a3a6</td><td>1265</td><td>86</td><td>17</td><td>advantage fork middlegame short</td><td>Alekhine_Defense</td></tr><tr><th>11</th><td>h7g6 h5g6 f6g7 e3h6 d8e7 c3e4</td><td>2278</td><td>91</td><td>17</td><td>crushing defensiveMove kingsideAttack long</td><td>Alekhine_Defense</td></tr><tr><th>12</th><td>d3f1 e6g6 f1g2 h4h3</td><td>1930</td><td>68</td><td>45</td><td>crushing middlegame pin short</td><td>Alekhine_Defense</td></tr><tr><th>&vellip;</th><td>&vellip;</td><td>&vellip;</td><td>&vellip;</td><td>&vellip;</td><td>&vellip;</td><td>&vellip;</td></tr></tbody></table></div><p>&vellip;</p><p><i>Last Group (7551 rows): OpeningFamily = &quot;Zukertort_Opening&quot;</i></p><div class=\"data-frame\"><table class=\"data-frame\"><thead><tr><th></th><th>Moves</th><th>Rating</th><th>Popularity</th><th>NbPlays</th><th>Themes</th><th>OpeningFamily</th></tr><tr><th></th><th title=\"String\">String</th><th title=\"Int64\">Int64</th><th title=\"Int64\">Int64</th><th title=\"Int64\">Int64</th><th title=\"String\">String</th><th title=\"String\">String</th></tr></thead><tbody><tr><th>1</th><td>d7e6 d4a4 d8d7 d1d7</td><td>1912</td><td>71</td><td>39</td><td>crushing opening short</td><td>Zukertort_Opening</td></tr><tr><th>2</th><td>h2h3 g4f2 e1f2 e7e3 f2f1 d6g3</td><td>2012</td><td>94</td><td>2482</td><td>advantage attackingF2F7 attraction defensiveMove long middlegame sacrifice</td><td>Zukertort_Opening</td></tr><tr><th>3</th><td>g1h1 h6f4 d2f4 h4f4</td><td>1066</td><td>82</td><td>30</td><td>crushing middlegame short</td><td>Zukertort_Opening</td></tr><tr><th>4</th><td>h2h4 d3g3 g1h1 g3g2</td><td>1907</td><td>86</td><td>46</td><td>crushing middlegame pin short</td><td>Zukertort_Opening</td></tr><tr><th>5</th><td>h4h5 b6f2 e1d1 f2d2</td><td>1155</td><td>89</td><td>469</td><td>attackingF2F7 master mate mateIn2 middlegame short</td><td>Zukertort_Opening</td></tr><tr><th>6</th><td>g5f7 f8f7 b3f7 d7e6 f7f6 g7f6</td><td>1768</td><td>92</td><td>1473</td><td>advantage long middlegame sacrifice</td><td>Zukertort_Opening</td></tr><tr><th>7</th><td>c8c5 a1a8 c5c8 a8c8</td><td>1003</td><td>97</td><td>1205</td><td>backRankMate mate mateIn2 middlegame short</td><td>Zukertort_Opening</td></tr><tr><th>8</th><td>c6e5 g2d5 a8b8 f1e1 f7f6 f2f4</td><td>1932</td><td>95</td><td>1555</td><td>advantage hangingPiece long opening pin</td><td>Zukertort_Opening</td></tr><tr><th>9</th><td>b2b3 f6c3 d1d2 c3a1</td><td>1129</td><td>60</td><td>198</td><td>crushing deflection middlegame short</td><td>Zukertort_Opening</td></tr><tr><th>10</th><td>g3g7 h8h7 c3b5 c6b5</td><td>2215</td><td>93</td><td>5193</td><td>advantage opening short</td><td>Zukertort_Opening</td></tr><tr><th>11</th><td>b6b2 c3a4 b2a1 d1a1</td><td>1486</td><td>83</td><td>212</td><td>advantage opening short trappedPiece</td><td>Zukertort_Opening</td></tr><tr><th>12</th><td>d4b2 e4g5 d8g5 h6g5</td><td>1595</td><td>90</td><td>845</td><td>crushing middlegame short</td><td>Zukertort_Opening</td></tr><tr><th>&vellip;</th><td>&vellip;</td><td>&vellip;</td><td>&vellip;</td><td>&vellip;</td><td>&vellip;</td><td>&vellip;</td></tr></tbody></table></div>"
      ],
      "text/latex": [
       "GroupedDataFrame with 147 groups based on key: OpeningFamily\n",
       "\n",
       "First Group (4775 rows): OpeningFamily = \"Alekhine\\_Defense\"\n",
       "\n",
       "\\begin{tabular}{r|cccccc}\n",
       "\t& Moves & Rating & Popularity & NbPlays & Themes & OpeningFamily\\\\\n",
       "\t\\hline\n",
       "\t& String & Int64 & Int64 & Int64 & String & String\\\\\n",
       "\t\\hline\n",
       "\t1 & c4b6 e4c5 b6a4 c5a4 & 1245 & 88 & 575 & crushing middlegame short & Alekhine\\_Defense \\\\\n",
       "\t2 & b1c3 d5d4 b3b5 e6d7 b5d3 d4c3 & 1258 & 90 & 1417 & crushing defensiveMove long middlegame & Alekhine\\_Defense \\\\\n",
       "\t3 & d5c7 e7b4 e1d1 e8e1 & 1543 & 81 & 65 & doubleCheck mate mateIn2 opening short & Alekhine\\_Defense \\\\\n",
       "\t4 & e7g5 f3f5 g7g6 f5g5 & 1986 & 76 & 40 & crushing middlegame short & Alekhine\\_Defense \\\\\n",
       "\t5 & f5c2 d2c4 d5c4 e2c2 & 1420 & 96 & 13207 & advantage discoveredAttack middlegame short & Alekhine\\_Defense \\\\\n",
       "\t6 & f4h6 d3h7 e1e3 h7h6 & 2461 & 83 & 98 & advantage master middlegame short & Alekhine\\_Defense \\\\\n",
       "\t7 & f1b5 d8a5 e1f2 a5b5 & 1500 & 100 & 0 & crushing fork short & Alekhine\\_Defense \\\\\n",
       "\t8 & h8g8 d1h5 e8e7 f5f6 g7f6 g1h1 & 1772 & 81 & 271 & crushing defensiveMove exposedKing fork long middlegame & Alekhine\\_Defense \\\\\n",
       "\t9 & f3d4 d8h4 e2f2 h4d4 f2f6 e3g2 e1e2 d4g4 & 2364 & 88 & 731 & advantage exposedKing fork middlegame veryLong & Alekhine\\_Defense \\\\\n",
       "\t10 & e5a1 f3a3 e7f7 a3a6 & 1265 & 86 & 17 & advantage fork middlegame short & Alekhine\\_Defense \\\\\n",
       "\t11 & h7g6 h5g6 f6g7 e3h6 d8e7 c3e4 & 2278 & 91 & 17 & crushing defensiveMove kingsideAttack long & Alekhine\\_Defense \\\\\n",
       "\t12 & d3f1 e6g6 f1g2 h4h3 & 1930 & 68 & 45 & crushing middlegame pin short & Alekhine\\_Defense \\\\\n",
       "\t$\\dots$ & $\\dots$ & $\\dots$ & $\\dots$ & $\\dots$ & $\\dots$ & $\\dots$ \\\\\n",
       "\\end{tabular}\n",
       "\n",
       "$\\dots$\n",
       "\n",
       "Last Group (7551 rows): OpeningFamily = \"Zukertort\\_Opening\"\n",
       "\n",
       "\\begin{tabular}{r|cccccc}\n",
       "\t& Moves & Rating & Popularity & NbPlays & Themes & OpeningFamily\\\\\n",
       "\t\\hline\n",
       "\t& String & Int64 & Int64 & Int64 & String & String\\\\\n",
       "\t\\hline\n",
       "\t1 & d7e6 d4a4 d8d7 d1d7 & 1912 & 71 & 39 & crushing opening short & Zukertort\\_Opening \\\\\n",
       "\t2 & h2h3 g4f2 e1f2 e7e3 f2f1 d6g3 & 2012 & 94 & 2482 & advantage attackingF2F7 attraction defensiveMove long middlegame sacrifice & Zukertort\\_Opening \\\\\n",
       "\t3 & g1h1 h6f4 d2f4 h4f4 & 1066 & 82 & 30 & crushing middlegame short & Zukertort\\_Opening \\\\\n",
       "\t4 & h2h4 d3g3 g1h1 g3g2 & 1907 & 86 & 46 & crushing middlegame pin short & Zukertort\\_Opening \\\\\n",
       "\t5 & h4h5 b6f2 e1d1 f2d2 & 1155 & 89 & 469 & attackingF2F7 master mate mateIn2 middlegame short & Zukertort\\_Opening \\\\\n",
       "\t6 & g5f7 f8f7 b3f7 d7e6 f7f6 g7f6 & 1768 & 92 & 1473 & advantage long middlegame sacrifice & Zukertort\\_Opening \\\\\n",
       "\t7 & c8c5 a1a8 c5c8 a8c8 & 1003 & 97 & 1205 & backRankMate mate mateIn2 middlegame short & Zukertort\\_Opening \\\\\n",
       "\t8 & c6e5 g2d5 a8b8 f1e1 f7f6 f2f4 & 1932 & 95 & 1555 & advantage hangingPiece long opening pin & Zukertort\\_Opening \\\\\n",
       "\t9 & b2b3 f6c3 d1d2 c3a1 & 1129 & 60 & 198 & crushing deflection middlegame short & Zukertort\\_Opening \\\\\n",
       "\t10 & g3g7 h8h7 c3b5 c6b5 & 2215 & 93 & 5193 & advantage opening short & Zukertort\\_Opening \\\\\n",
       "\t11 & b6b2 c3a4 b2a1 d1a1 & 1486 & 83 & 212 & advantage opening short trappedPiece & Zukertort\\_Opening \\\\\n",
       "\t12 & d4b2 e4g5 d8g5 h6g5 & 1595 & 90 & 845 & crushing middlegame short & Zukertort\\_Opening \\\\\n",
       "\t$\\dots$ & $\\dots$ & $\\dots$ & $\\dots$ & $\\dots$ & $\\dots$ & $\\dots$ \\\\\n",
       "\\end{tabular}\n"
      ],
      "text/plain": [
       "GroupedDataFrame with 147 groups based on key: OpeningFamily\n",
       "First Group (4775 rows): OpeningFamily = \"Alekhine_Defense\"\n",
       "\u001b[1m  Row \u001b[0m│\u001b[1m Moves                             \u001b[0m\u001b[1m Rating \u001b[0m\u001b[1m Popularity \u001b[0m\u001b[1m NbPlays \u001b[0m\u001b[1m Themes                            \u001b[0m\u001b[1m OpeningFamily    \u001b[0m\n",
       "\u001b[1m      \u001b[0m│\u001b[90m String                            \u001b[0m\u001b[90m Int64  \u001b[0m\u001b[90m Int64      \u001b[0m\u001b[90m Int64   \u001b[0m\u001b[90m String                            \u001b[0m\u001b[90m String           \u001b[0m\n",
       "──────┼─────────────────────────────────────────────────────────────────────────────────────────────────────────────────────\n",
       "    1 │ c4b6 e4c5 b6a4 c5a4                  1245          88      575  crushing middlegame short          Alekhine_Defense\n",
       "    2 │ b1c3 d5d4 b3b5 e6d7 b5d3 d4c3        1258          90     1417  crushing defensiveMove long midd…  Alekhine_Defense\n",
       "  ⋮   │                 ⋮                    ⋮         ⋮          ⋮                     ⋮                         ⋮\n",
       " 4774 │ g2g4 f5g4 h3g4 d7g4 g1h2 g4f3        1765          85      614  advantage fork long middlegame     Alekhine_Defense\n",
       " 4775 │ f3d4 f6d4 d1d4 c6c5 d4e4 c5b4        1882          87       27  crushing fork long middlegame      Alekhine_Defense\n",
       "\u001b[36m                                                                                                           4771 rows omitted\u001b[0m\n",
       "⋮\n",
       "Last Group (7551 rows): OpeningFamily = \"Zukertort_Opening\"\n",
       "\u001b[1m  Row \u001b[0m│\u001b[1m Moves                         \u001b[0m\u001b[1m Rating \u001b[0m\u001b[1m Popularity \u001b[0m\u001b[1m NbPlays \u001b[0m\u001b[1m Themes                            \u001b[0m\u001b[1m OpeningFamily     \u001b[0m\n",
       "\u001b[1m      \u001b[0m│\u001b[90m String                        \u001b[0m\u001b[90m Int64  \u001b[0m\u001b[90m Int64      \u001b[0m\u001b[90m Int64   \u001b[0m\u001b[90m String                            \u001b[0m\u001b[90m String            \u001b[0m\n",
       "──────┼──────────────────────────────────────────────────────────────────────────────────────────────────────────────────\n",
       "    1 │ d7e6 d4a4 d8d7 d1d7              1912          71       39  crushing opening short             Zukertort_Opening\n",
       "    2 │ h2h3 g4f2 e1f2 e7e3 f2f1 d6g3    2012          94     2482  advantage attackingF2F7 attracti…  Zukertort_Opening\n",
       "  ⋮   │               ⋮                  ⋮         ⋮          ⋮                     ⋮                          ⋮\n",
       " 7550 │ f7b3 g7h6 f2f4 h6f4              1916          95     2509  advantage middlegame pin short     Zukertort_Opening\n",
       " 7551 │ d5e3 e4h7                         781          92      347  kingsideAttack mate mateIn1 midd…  Zukertort_Opening\n",
       "\u001b[36m                                                                                                        7547 rows omitted\u001b[0m"
      ]
     },
     "execution_count": 41,
     "metadata": {},
     "output_type": "execute_result"
    }
   ],
   "source": [
    "gdf = groupby(df, :OpeningFamily, sort=true)"
   ]
  },
  {
   "cell_type": "code",
   "execution_count": 42,
   "metadata": {},
   "outputs": [
    {
     "data": {
      "text/html": [
       "<div class=\"data-frame\"><p>147 rows × 2 columns</p><table class=\"data-frame\"><thead><tr><th></th><th>OpeningFamily</th><th>NbPlays_mean</th></tr><tr><th></th><th title=\"String\">String</th><th title=\"Float64\">Float64</th></tr></thead><tbody><tr><th>1</th><td>Alekhine_Defense</td><td>1053.93</td></tr><tr><th>2</th><td>Amar_Gambit</td><td>206.0</td></tr><tr><th>3</th><td>Amar_Opening</td><td>626.05</td></tr><tr><th>4</th><td>Amazon_Attack</td><td>483.541</td></tr><tr><th>5</th><td>Anderssens_Opening</td><td>1061.28</td></tr><tr><th>6</th><td>Australian_Defense</td><td>1317.0</td></tr><tr><th>7</th><td>Barnes_Defense</td><td>1006.73</td></tr><tr><th>8</th><td>Barnes_Opening</td><td>610.041</td></tr><tr><th>9</th><td>Benko_Gambit</td><td>1114.18</td></tr><tr><th>10</th><td>Benko_Gambit_Accepted</td><td>1043.09</td></tr><tr><th>11</th><td>Benko_Gambit_Declined</td><td>854.0</td></tr><tr><th>12</th><td>Benoni_Defense</td><td>1072.7</td></tr><tr><th>&vellip;</th><td>&vellip;</td><td>&vellip;</td></tr></tbody></table></div>"
      ],
      "text/latex": [
       "\\begin{tabular}{r|cc}\n",
       "\t& OpeningFamily & NbPlays\\_mean\\\\\n",
       "\t\\hline\n",
       "\t& String & Float64\\\\\n",
       "\t\\hline\n",
       "\t1 & Alekhine\\_Defense & 1053.93 \\\\\n",
       "\t2 & Amar\\_Gambit & 206.0 \\\\\n",
       "\t3 & Amar\\_Opening & 626.05 \\\\\n",
       "\t4 & Amazon\\_Attack & 483.541 \\\\\n",
       "\t5 & Anderssens\\_Opening & 1061.28 \\\\\n",
       "\t6 & Australian\\_Defense & 1317.0 \\\\\n",
       "\t7 & Barnes\\_Defense & 1006.73 \\\\\n",
       "\t8 & Barnes\\_Opening & 610.041 \\\\\n",
       "\t9 & Benko\\_Gambit & 1114.18 \\\\\n",
       "\t10 & Benko\\_Gambit\\_Accepted & 1043.09 \\\\\n",
       "\t11 & Benko\\_Gambit\\_Declined & 854.0 \\\\\n",
       "\t12 & Benoni\\_Defense & 1072.7 \\\\\n",
       "\t$\\dots$ & $\\dots$ & $\\dots$ \\\\\n",
       "\\end{tabular}\n"
      ],
      "text/plain": [
       "\u001b[1m147×2 DataFrame\u001b[0m\n",
       "\u001b[1m Row \u001b[0m│\u001b[1m OpeningFamily             \u001b[0m\u001b[1m NbPlays_mean \u001b[0m\n",
       "\u001b[1m     \u001b[0m│\u001b[90m String                    \u001b[0m\u001b[90m Float64      \u001b[0m\n",
       "─────┼─────────────────────────────────────────\n",
       "   1 │ Alekhine_Defense               1053.93\n",
       "   2 │ Amar_Gambit                     206.0\n",
       "  ⋮  │             ⋮                   ⋮\n",
       " 147 │ Zukertort_Opening              1025.02\n",
       "\u001b[36m                               144 rows omitted\u001b[0m"
      ]
     },
     "execution_count": 42,
     "metadata": {},
     "output_type": "execute_result"
    }
   ],
   "source": [
    "combine(gdf, :NbPlays => mean)"
   ]
  },
  {
   "cell_type": "code",
   "execution_count": 43,
   "metadata": {},
   "outputs": [
    {
     "data": {
      "text/html": [
       "<div class=\"data-frame\"><p>147 rows × 2 columns</p><table class=\"data-frame\"><thead><tr><th></th><th>OpeningFamily</th><th>Nb_Plays_mean</th></tr><tr><th></th><th title=\"String\">String</th><th title=\"Float64\">Float64</th></tr></thead><tbody><tr><th>1</th><td>Alekhine_Defense</td><td>1053.93</td></tr><tr><th>2</th><td>Amar_Gambit</td><td>206.0</td></tr><tr><th>3</th><td>Amar_Opening</td><td>626.05</td></tr><tr><th>4</th><td>Amazon_Attack</td><td>483.541</td></tr><tr><th>5</th><td>Anderssens_Opening</td><td>1061.28</td></tr><tr><th>6</th><td>Australian_Defense</td><td>1317.0</td></tr><tr><th>7</th><td>Barnes_Defense</td><td>1006.73</td></tr><tr><th>8</th><td>Barnes_Opening</td><td>610.041</td></tr><tr><th>9</th><td>Benko_Gambit</td><td>1114.18</td></tr><tr><th>10</th><td>Benko_Gambit_Accepted</td><td>1043.09</td></tr><tr><th>11</th><td>Benko_Gambit_Declined</td><td>854.0</td></tr><tr><th>12</th><td>Benoni_Defense</td><td>1072.7</td></tr><tr><th>&vellip;</th><td>&vellip;</td><td>&vellip;</td></tr></tbody></table></div>"
      ],
      "text/latex": [
       "\\begin{tabular}{r|cc}\n",
       "\t& OpeningFamily & Nb\\_Plays\\_mean\\\\\n",
       "\t\\hline\n",
       "\t& String & Float64\\\\\n",
       "\t\\hline\n",
       "\t1 & Alekhine\\_Defense & 1053.93 \\\\\n",
       "\t2 & Amar\\_Gambit & 206.0 \\\\\n",
       "\t3 & Amar\\_Opening & 626.05 \\\\\n",
       "\t4 & Amazon\\_Attack & 483.541 \\\\\n",
       "\t5 & Anderssens\\_Opening & 1061.28 \\\\\n",
       "\t6 & Australian\\_Defense & 1317.0 \\\\\n",
       "\t7 & Barnes\\_Defense & 1006.73 \\\\\n",
       "\t8 & Barnes\\_Opening & 610.041 \\\\\n",
       "\t9 & Benko\\_Gambit & 1114.18 \\\\\n",
       "\t10 & Benko\\_Gambit\\_Accepted & 1043.09 \\\\\n",
       "\t11 & Benko\\_Gambit\\_Declined & 854.0 \\\\\n",
       "\t12 & Benoni\\_Defense & 1072.7 \\\\\n",
       "\t$\\dots$ & $\\dots$ & $\\dots$ \\\\\n",
       "\\end{tabular}\n"
      ],
      "text/plain": [
       "\u001b[1m147×2 DataFrame\u001b[0m\n",
       "\u001b[1m Row \u001b[0m│\u001b[1m OpeningFamily             \u001b[0m\u001b[1m Nb_Plays_mean \u001b[0m\n",
       "\u001b[1m     \u001b[0m│\u001b[90m String                    \u001b[0m\u001b[90m Float64       \u001b[0m\n",
       "─────┼──────────────────────────────────────────\n",
       "   1 │ Alekhine_Defense                1053.93\n",
       "   2 │ Amar_Gambit                      206.0\n",
       "  ⋮  │             ⋮                    ⋮\n",
       " 147 │ Zukertort_Opening               1025.02\n",
       "\u001b[36m                                144 rows omitted\u001b[0m"
      ]
     },
     "execution_count": 43,
     "metadata": {},
     "output_type": "execute_result"
    }
   ],
   "source": [
    "@combine(gdf, :Nb_Plays_mean = mean(:NbPlays))"
   ]
  },
  {
   "cell_type": "markdown",
   "metadata": {},
   "source": [
    "It would be nice to have the results sorted, so:"
   ]
  },
  {
   "cell_type": "code",
   "execution_count": 44,
   "metadata": {},
   "outputs": [
    {
     "data": {
      "text/html": [
       "<div class=\"data-frame\"><p>147 rows × 2 columns</p><table class=\"data-frame\"><thead><tr><th></th><th>OpeningFamily</th><th>Nb_Plays_mean</th></tr><tr><th></th><th title=\"String\">String</th><th title=\"Float64\">Float64</th></tr></thead><tbody><tr><th>1</th><td>Blackmar-Diemer_Lemberger_Countergambit</td><td>4128.33</td></tr><tr><th>2</th><td>Vulture_Defense</td><td>2746.11</td></tr><tr><th>3</th><td>Global_Opening</td><td>2059.4</td></tr><tr><th>4</th><td>Crab_Opening</td><td>1696.53</td></tr><tr><th>5</th><td>Latvian_Gambit</td><td>1610.16</td></tr><tr><th>6</th><td>Guatemala_Defense</td><td>1539.2</td></tr><tr><th>7</th><td>Ware_Opening</td><td>1480.5</td></tr><tr><th>8</th><td>Bronstein_Gambit</td><td>1418.75</td></tr><tr><th>9</th><td>Kangaroo_Defense</td><td>1342.45</td></tr><tr><th>10</th><td>Valencia_Opening</td><td>1331.78</td></tr><tr><th>11</th><td>Australian_Defense</td><td>1317.0</td></tr><tr><th>12</th><td>English_Orangutan</td><td>1308.42</td></tr><tr><th>&vellip;</th><td>&vellip;</td><td>&vellip;</td></tr></tbody></table></div>"
      ],
      "text/latex": [
       "\\begin{tabular}{r|cc}\n",
       "\t& OpeningFamily & Nb\\_Plays\\_mean\\\\\n",
       "\t\\hline\n",
       "\t& String & Float64\\\\\n",
       "\t\\hline\n",
       "\t1 & Blackmar-Diemer\\_Lemberger\\_Countergambit & 4128.33 \\\\\n",
       "\t2 & Vulture\\_Defense & 2746.11 \\\\\n",
       "\t3 & Global\\_Opening & 2059.4 \\\\\n",
       "\t4 & Crab\\_Opening & 1696.53 \\\\\n",
       "\t5 & Latvian\\_Gambit & 1610.16 \\\\\n",
       "\t6 & Guatemala\\_Defense & 1539.2 \\\\\n",
       "\t7 & Ware\\_Opening & 1480.5 \\\\\n",
       "\t8 & Bronstein\\_Gambit & 1418.75 \\\\\n",
       "\t9 & Kangaroo\\_Defense & 1342.45 \\\\\n",
       "\t10 & Valencia\\_Opening & 1331.78 \\\\\n",
       "\t11 & Australian\\_Defense & 1317.0 \\\\\n",
       "\t12 & English\\_Orangutan & 1308.42 \\\\\n",
       "\t$\\dots$ & $\\dots$ & $\\dots$ \\\\\n",
       "\\end{tabular}\n"
      ],
      "text/plain": [
       "\u001b[1m147×2 DataFrame\u001b[0m\n",
       "\u001b[1m Row \u001b[0m│\u001b[1m OpeningFamily                     \u001b[0m\u001b[1m Nb_Plays_mean \u001b[0m\n",
       "\u001b[1m     \u001b[0m│\u001b[90m String                            \u001b[0m\u001b[90m Float64       \u001b[0m\n",
       "─────┼──────────────────────────────────────────────────\n",
       "   1 │ Blackmar-Diemer_Lemberger_Counte…       4128.33\n",
       "   2 │ Vulture_Defense                         2746.11\n",
       "  ⋮  │                 ⋮                        ⋮\n",
       " 147 │ Queens_Pawn_Mengarini_Attack              31.0\n",
       "\u001b[36m                                        144 rows omitted\u001b[0m"
      ]
     },
     "execution_count": 44,
     "metadata": {},
     "output_type": "execute_result"
    }
   ],
   "source": [
    "@chain gdf begin\n",
    "    @combine(:Nb_Plays_mean = mean(:NbPlays))\n",
    "    sort(:Nb_Plays_mean, rev=true)\n",
    "end"
   ]
  },
  {
   "cell_type": "markdown",
   "metadata": {},
   "source": [
    "Often you want to do aggregation by binned variable. Here `cut` from CategoricalArrays.jl is useful:"
   ]
  },
  {
   "cell_type": "code",
   "execution_count": 45,
   "metadata": {
    "scrolled": true
   },
   "outputs": [
    {
     "data": {
      "text/html": [
       "<div class=\"data-frame\"><p>10 rows × 2 columns</p><table class=\"data-frame\"><thead><tr><th></th><th>Popularity_10</th><th>Rating_mean</th></tr><tr><th></th><th title=\"CategoricalValue{String, UInt32}\">Cat…</th><th title=\"Float64\">Float64</th></tr></thead><tbody><tr><th>1</th><td>Q1: [-100.0, 65.0)</td><td>1498.09</td></tr><tr><th>2</th><td>Q2: [65.0, 78.0)</td><td>1592.56</td></tr><tr><th>3</th><td>Q3: [78.0, 83.0)</td><td>1650.06</td></tr><tr><th>4</th><td>Q4: [83.0, 86.0)</td><td>1688.62</td></tr><tr><th>5</th><td>Q5: [86.0, 89.0)</td><td>1651.15</td></tr><tr><th>6</th><td>Q6: [89.0, 92.0)</td><td>1703.36</td></tr><tr><th>7</th><td>Q7: [92.0, 93.0)</td><td>1628.76</td></tr><tr><th>8</th><td>Q8: [93.0, 95.0)</td><td>1531.27</td></tr><tr><th>9</th><td>Q9: [95.0, 99.0)</td><td>1480.38</td></tr><tr><th>10</th><td>Q10: [99.0, 171.0]</td><td>1410.23</td></tr></tbody></table></div>"
      ],
      "text/latex": [
       "\\begin{tabular}{r|cc}\n",
       "\t& Popularity\\_10 & Rating\\_mean\\\\\n",
       "\t\\hline\n",
       "\t& Cat… & Float64\\\\\n",
       "\t\\hline\n",
       "\t1 & Q1: [-100.0, 65.0) & 1498.09 \\\\\n",
       "\t2 & Q2: [65.0, 78.0) & 1592.56 \\\\\n",
       "\t3 & Q3: [78.0, 83.0) & 1650.06 \\\\\n",
       "\t4 & Q4: [83.0, 86.0) & 1688.62 \\\\\n",
       "\t5 & Q5: [86.0, 89.0) & 1651.15 \\\\\n",
       "\t6 & Q6: [89.0, 92.0) & 1703.36 \\\\\n",
       "\t7 & Q7: [92.0, 93.0) & 1628.76 \\\\\n",
       "\t8 & Q8: [93.0, 95.0) & 1531.27 \\\\\n",
       "\t9 & Q9: [95.0, 99.0) & 1480.38 \\\\\n",
       "\t10 & Q10: [99.0, 171.0] & 1410.23 \\\\\n",
       "\\end{tabular}\n"
      ],
      "text/plain": [
       "\u001b[1m10×2 DataFrame\u001b[0m\n",
       "\u001b[1m Row \u001b[0m│\u001b[1m Popularity_10      \u001b[0m\u001b[1m Rating_mean \u001b[0m\n",
       "\u001b[1m     \u001b[0m│\u001b[90m Categorical…       \u001b[0m\u001b[90m Float64     \u001b[0m\n",
       "─────┼─────────────────────────────────\n",
       "   1 │ Q1: [-100.0, 65.0)      1498.09\n",
       "   2 │ Q2: [65.0, 78.0)        1592.56\n",
       "  ⋮  │         ⋮                ⋮\n",
       "  10 │ Q10: [99.0, 171.0]      1410.23\n",
       "\u001b[36m                         7 rows omitted\u001b[0m"
      ]
     },
     "execution_count": 45,
     "metadata": {},
     "output_type": "execute_result"
    }
   ],
   "source": [
    "@chain df begin\n",
    "    transform(:Popularity => (x -> cut(x, 10)) => :Popularity_10)\n",
    "    groupby(:Popularity_10)\n",
    "    combine(:Rating => mean)\n",
    "end"
   ]
  },
  {
   "cell_type": "code",
   "execution_count": 46,
   "metadata": {},
   "outputs": [
    {
     "data": {
      "text/html": [
       "<div class=\"data-frame\"><p>10 rows × 2 columns</p><table class=\"data-frame\"><thead><tr><th></th><th>Popularity_10</th><th>Rating_mean</th></tr><tr><th></th><th title=\"CategoricalValue{String, UInt32}\">Cat…</th><th title=\"Float64\">Float64</th></tr></thead><tbody><tr><th>1</th><td>Q1: [-100.0, 65.0)</td><td>1498.09</td></tr><tr><th>2</th><td>Q2: [65.0, 78.0)</td><td>1592.56</td></tr><tr><th>3</th><td>Q3: [78.0, 83.0)</td><td>1650.06</td></tr><tr><th>4</th><td>Q4: [83.0, 86.0)</td><td>1688.62</td></tr><tr><th>5</th><td>Q5: [86.0, 89.0)</td><td>1651.15</td></tr><tr><th>6</th><td>Q6: [89.0, 92.0)</td><td>1703.36</td></tr><tr><th>7</th><td>Q7: [92.0, 93.0)</td><td>1628.76</td></tr><tr><th>8</th><td>Q8: [93.0, 95.0)</td><td>1531.27</td></tr><tr><th>9</th><td>Q9: [95.0, 99.0)</td><td>1480.38</td></tr><tr><th>10</th><td>Q10: [99.0, 171.0]</td><td>1410.23</td></tr></tbody></table></div>"
      ],
      "text/latex": [
       "\\begin{tabular}{r|cc}\n",
       "\t& Popularity\\_10 & Rating\\_mean\\\\\n",
       "\t\\hline\n",
       "\t& Cat… & Float64\\\\\n",
       "\t\\hline\n",
       "\t1 & Q1: [-100.0, 65.0) & 1498.09 \\\\\n",
       "\t2 & Q2: [65.0, 78.0) & 1592.56 \\\\\n",
       "\t3 & Q3: [78.0, 83.0) & 1650.06 \\\\\n",
       "\t4 & Q4: [83.0, 86.0) & 1688.62 \\\\\n",
       "\t5 & Q5: [86.0, 89.0) & 1651.15 \\\\\n",
       "\t6 & Q6: [89.0, 92.0) & 1703.36 \\\\\n",
       "\t7 & Q7: [92.0, 93.0) & 1628.76 \\\\\n",
       "\t8 & Q8: [93.0, 95.0) & 1531.27 \\\\\n",
       "\t9 & Q9: [95.0, 99.0) & 1480.38 \\\\\n",
       "\t10 & Q10: [99.0, 171.0] & 1410.23 \\\\\n",
       "\\end{tabular}\n"
      ],
      "text/plain": [
       "\u001b[1m10×2 DataFrame\u001b[0m\n",
       "\u001b[1m Row \u001b[0m│\u001b[1m Popularity_10      \u001b[0m\u001b[1m Rating_mean \u001b[0m\n",
       "\u001b[1m     \u001b[0m│\u001b[90m Categorical…       \u001b[0m\u001b[90m Float64     \u001b[0m\n",
       "─────┼─────────────────────────────────\n",
       "   1 │ Q1: [-100.0, 65.0)      1498.09\n",
       "   2 │ Q2: [65.0, 78.0)        1592.56\n",
       "  ⋮  │         ⋮                ⋮\n",
       "  10 │ Q10: [99.0, 171.0]      1410.23\n",
       "\u001b[36m                         7 rows omitted\u001b[0m"
      ]
     },
     "execution_count": 46,
     "metadata": {},
     "output_type": "execute_result"
    }
   ],
   "source": [
    "@chain df begin\n",
    "    @transform(:Popularity_10 = cut(:Popularity, 10))\n",
    "    groupby(:Popularity_10)\n",
    "    @combine(:Rating_mean = mean(:Rating))\n",
    "end"
   ]
  },
  {
   "cell_type": "markdown",
   "metadata": {},
   "source": [
    "What if we wanted quantiles of rating instead?"
   ]
  },
  {
   "cell_type": "code",
   "execution_count": 47,
   "metadata": {},
   "outputs": [
    {
     "data": {
      "text/html": [
       "<div class=\"data-frame\"><p>10 rows × 4 columns</p><table class=\"data-frame\"><thead><tr><th></th><th>Popularity_10</th><th>Rating25</th><th>Rating50</th><th>Rating75</th></tr><tr><th></th><th title=\"CategoricalValue{String, UInt32}\">Cat…</th><th title=\"Float64\">Float64</th><th title=\"Float64\">Float64</th><th title=\"Float64\">Float64</th></tr></thead><tbody><tr><th>1</th><td>Q1: [-100.0, 65.0)</td><td>1204.0</td><td>1457.0</td><td>1748.0</td></tr><tr><th>2</th><td>Q2: [65.0, 78.0)</td><td>1267.0</td><td>1557.0</td><td>1905.0</td></tr><tr><th>3</th><td>Q3: [78.0, 83.0)</td><td>1325.0</td><td>1629.0</td><td>1982.0</td></tr><tr><th>4</th><td>Q4: [83.0, 86.0)</td><td>1366.0</td><td>1670.5</td><td>2009.0</td></tr><tr><th>5</th><td>Q5: [86.0, 89.0)</td><td>1317.0</td><td>1639.0</td><td>1958.0</td></tr><tr><th>6</th><td>Q6: [89.0, 92.0)</td><td>1259.0</td><td>1699.0</td><td>2126.0</td></tr><tr><th>7</th><td>Q7: [92.0, 93.0)</td><td>1296.0</td><td>1628.0</td><td>1948.0</td></tr><tr><th>8</th><td>Q8: [93.0, 95.0)</td><td>1201.0</td><td>1517.0</td><td>1799.0</td></tr><tr><th>9</th><td>Q9: [95.0, 99.0)</td><td>1132.0</td><td>1482.0</td><td>1772.0</td></tr><tr><th>10</th><td>Q10: [99.0, 171.0]</td><td>1144.0</td><td>1433.0</td><td>1606.0</td></tr></tbody></table></div>"
      ],
      "text/latex": [
       "\\begin{tabular}{r|cccc}\n",
       "\t& Popularity\\_10 & Rating25 & Rating50 & Rating75\\\\\n",
       "\t\\hline\n",
       "\t& Cat… & Float64 & Float64 & Float64\\\\\n",
       "\t\\hline\n",
       "\t1 & Q1: [-100.0, 65.0) & 1204.0 & 1457.0 & 1748.0 \\\\\n",
       "\t2 & Q2: [65.0, 78.0) & 1267.0 & 1557.0 & 1905.0 \\\\\n",
       "\t3 & Q3: [78.0, 83.0) & 1325.0 & 1629.0 & 1982.0 \\\\\n",
       "\t4 & Q4: [83.0, 86.0) & 1366.0 & 1670.5 & 2009.0 \\\\\n",
       "\t5 & Q5: [86.0, 89.0) & 1317.0 & 1639.0 & 1958.0 \\\\\n",
       "\t6 & Q6: [89.0, 92.0) & 1259.0 & 1699.0 & 2126.0 \\\\\n",
       "\t7 & Q7: [92.0, 93.0) & 1296.0 & 1628.0 & 1948.0 \\\\\n",
       "\t8 & Q8: [93.0, 95.0) & 1201.0 & 1517.0 & 1799.0 \\\\\n",
       "\t9 & Q9: [95.0, 99.0) & 1132.0 & 1482.0 & 1772.0 \\\\\n",
       "\t10 & Q10: [99.0, 171.0] & 1144.0 & 1433.0 & 1606.0 \\\\\n",
       "\\end{tabular}\n"
      ],
      "text/plain": [
       "\u001b[1m10×4 DataFrame\u001b[0m\n",
       "\u001b[1m Row \u001b[0m│\u001b[1m Popularity_10      \u001b[0m\u001b[1m Rating25 \u001b[0m\u001b[1m Rating50 \u001b[0m\u001b[1m Rating75 \u001b[0m\n",
       "\u001b[1m     \u001b[0m│\u001b[90m Categorical…       \u001b[0m\u001b[90m Float64  \u001b[0m\u001b[90m Float64  \u001b[0m\u001b[90m Float64  \u001b[0m\n",
       "─────┼──────────────────────────────────────────────────\n",
       "   1 │ Q1: [-100.0, 65.0)    1204.0    1457.0    1748.0\n",
       "   2 │ Q2: [65.0, 78.0)      1267.0    1557.0    1905.0\n",
       "  ⋮  │         ⋮              ⋮         ⋮         ⋮\n",
       "  10 │ Q10: [99.0, 171.0]    1144.0    1433.0    1606.0\n",
       "\u001b[36m                                          7 rows omitted\u001b[0m"
      ]
     },
     "execution_count": 47,
     "metadata": {},
     "output_type": "execute_result"
    }
   ],
   "source": [
    "@chain df begin\n",
    "    transform(:Popularity => (x -> cut(x, 10)) => :Popularity_10)\n",
    "    groupby(:Popularity_10)\n",
    "    combine(:Rating .=> [x -> quantile(x, q) for q in [0.25, 0.5, 0.75]] .=> string.(\"Rating\", 25:25:75))\n",
    "end"
   ]
  },
  {
   "cell_type": "code",
   "execution_count": 48,
   "metadata": {},
   "outputs": [
    {
     "data": {
      "text/html": [
       "<div class=\"data-frame\"><p>10 rows × 4 columns</p><table class=\"data-frame\"><thead><tr><th></th><th>Popularity_10</th><th>Rating25</th><th>Rating5</th><th>Rating75</th></tr><tr><th></th><th title=\"CategoricalValue{String, UInt32}\">Cat…</th><th title=\"Float64\">Float64</th><th title=\"Float64\">Float64</th><th title=\"Float64\">Float64</th></tr></thead><tbody><tr><th>1</th><td>Q1: [-100.0, 65.0)</td><td>1204.0</td><td>1457.0</td><td>1748.0</td></tr><tr><th>2</th><td>Q2: [65.0, 78.0)</td><td>1267.0</td><td>1557.0</td><td>1905.0</td></tr><tr><th>3</th><td>Q3: [78.0, 83.0)</td><td>1325.0</td><td>1629.0</td><td>1982.0</td></tr><tr><th>4</th><td>Q4: [83.0, 86.0)</td><td>1366.0</td><td>1670.5</td><td>2009.0</td></tr><tr><th>5</th><td>Q5: [86.0, 89.0)</td><td>1317.0</td><td>1639.0</td><td>1958.0</td></tr><tr><th>6</th><td>Q6: [89.0, 92.0)</td><td>1259.0</td><td>1699.0</td><td>2126.0</td></tr><tr><th>7</th><td>Q7: [92.0, 93.0)</td><td>1296.0</td><td>1628.0</td><td>1948.0</td></tr><tr><th>8</th><td>Q8: [93.0, 95.0)</td><td>1201.0</td><td>1517.0</td><td>1799.0</td></tr><tr><th>9</th><td>Q9: [95.0, 99.0)</td><td>1132.0</td><td>1482.0</td><td>1772.0</td></tr><tr><th>10</th><td>Q10: [99.0, 171.0]</td><td>1144.0</td><td>1433.0</td><td>1606.0</td></tr></tbody></table></div>"
      ],
      "text/latex": [
       "\\begin{tabular}{r|cccc}\n",
       "\t& Popularity\\_10 & Rating25 & Rating5 & Rating75\\\\\n",
       "\t\\hline\n",
       "\t& Cat… & Float64 & Float64 & Float64\\\\\n",
       "\t\\hline\n",
       "\t1 & Q1: [-100.0, 65.0) & 1204.0 & 1457.0 & 1748.0 \\\\\n",
       "\t2 & Q2: [65.0, 78.0) & 1267.0 & 1557.0 & 1905.0 \\\\\n",
       "\t3 & Q3: [78.0, 83.0) & 1325.0 & 1629.0 & 1982.0 \\\\\n",
       "\t4 & Q4: [83.0, 86.0) & 1366.0 & 1670.5 & 2009.0 \\\\\n",
       "\t5 & Q5: [86.0, 89.0) & 1317.0 & 1639.0 & 1958.0 \\\\\n",
       "\t6 & Q6: [89.0, 92.0) & 1259.0 & 1699.0 & 2126.0 \\\\\n",
       "\t7 & Q7: [92.0, 93.0) & 1296.0 & 1628.0 & 1948.0 \\\\\n",
       "\t8 & Q8: [93.0, 95.0) & 1201.0 & 1517.0 & 1799.0 \\\\\n",
       "\t9 & Q9: [95.0, 99.0) & 1132.0 & 1482.0 & 1772.0 \\\\\n",
       "\t10 & Q10: [99.0, 171.0] & 1144.0 & 1433.0 & 1606.0 \\\\\n",
       "\\end{tabular}\n"
      ],
      "text/plain": [
       "\u001b[1m10×4 DataFrame\u001b[0m\n",
       "\u001b[1m Row \u001b[0m│\u001b[1m Popularity_10      \u001b[0m\u001b[1m Rating25 \u001b[0m\u001b[1m Rating5 \u001b[0m\u001b[1m Rating75 \u001b[0m\n",
       "\u001b[1m     \u001b[0m│\u001b[90m Categorical…       \u001b[0m\u001b[90m Float64  \u001b[0m\u001b[90m Float64 \u001b[0m\u001b[90m Float64  \u001b[0m\n",
       "─────┼─────────────────────────────────────────────────\n",
       "   1 │ Q1: [-100.0, 65.0)    1204.0   1457.0    1748.0\n",
       "   2 │ Q2: [65.0, 78.0)      1267.0   1557.0    1905.0\n",
       "  ⋮  │         ⋮              ⋮         ⋮        ⋮\n",
       "  10 │ Q10: [99.0, 171.0]    1144.0   1433.0    1606.0\n",
       "\u001b[36m                                         7 rows omitted\u001b[0m"
      ]
     },
     "execution_count": 48,
     "metadata": {},
     "output_type": "execute_result"
    }
   ],
   "source": [
    "@chain df begin\n",
    "    @transform(:Popularity_10 = cut(:Popularity, 10))\n",
    "    groupby(:Popularity_10)\n",
    "    @combine(:Rating25 = quantile(:Rating, 0.25),\n",
    "             :Rating5 = quantile(:Rating, 0.5),\n",
    "             :Rating75 = quantile(:Rating, 0.75))\n",
    "end"
   ]
  },
  {
   "cell_type": "markdown",
   "metadata": {},
   "source": [
    "But `quantile` accepts a vector of quantiles:"
   ]
  },
  {
   "cell_type": "code",
   "execution_count": 49,
   "metadata": {},
   "outputs": [
    {
     "data": {
      "text/plain": [
       "3-element Vector{Float64}:\n",
       " 1241.0\n",
       " 1544.0\n",
       " 1889.0"
      ]
     },
     "execution_count": 49,
     "metadata": {},
     "output_type": "execute_result"
    }
   ],
   "source": [
    "quantile(df.Rating, [0.25, 0.5, 0.75])"
   ]
  },
  {
   "cell_type": "markdown",
   "metadata": {},
   "source": [
    "Can we take advantage of this?\n",
    "\n",
    "A simple approach is problematic:"
   ]
  },
  {
   "cell_type": "code",
   "execution_count": 50,
   "metadata": {},
   "outputs": [
    {
     "data": {
      "text/html": [
       "<div class=\"data-frame\"><p>30 rows × 2 columns</p><table class=\"data-frame\"><thead><tr><th></th><th>Popularity_10</th><th>Rating_function</th></tr><tr><th></th><th title=\"CategoricalValue{String, UInt32}\">Cat…</th><th title=\"Float64\">Float64</th></tr></thead><tbody><tr><th>1</th><td>Q1: [-100.0, 65.0)</td><td>1204.0</td></tr><tr><th>2</th><td>Q1: [-100.0, 65.0)</td><td>1457.0</td></tr><tr><th>3</th><td>Q1: [-100.0, 65.0)</td><td>1748.0</td></tr><tr><th>4</th><td>Q2: [65.0, 78.0)</td><td>1267.0</td></tr><tr><th>5</th><td>Q2: [65.0, 78.0)</td><td>1557.0</td></tr><tr><th>6</th><td>Q2: [65.0, 78.0)</td><td>1905.0</td></tr><tr><th>7</th><td>Q3: [78.0, 83.0)</td><td>1325.0</td></tr><tr><th>8</th><td>Q3: [78.0, 83.0)</td><td>1629.0</td></tr><tr><th>9</th><td>Q3: [78.0, 83.0)</td><td>1982.0</td></tr><tr><th>10</th><td>Q4: [83.0, 86.0)</td><td>1366.0</td></tr><tr><th>11</th><td>Q4: [83.0, 86.0)</td><td>1670.5</td></tr><tr><th>12</th><td>Q4: [83.0, 86.0)</td><td>2009.0</td></tr><tr><th>&vellip;</th><td>&vellip;</td><td>&vellip;</td></tr></tbody></table></div>"
      ],
      "text/latex": [
       "\\begin{tabular}{r|cc}\n",
       "\t& Popularity\\_10 & Rating\\_function\\\\\n",
       "\t\\hline\n",
       "\t& Cat… & Float64\\\\\n",
       "\t\\hline\n",
       "\t1 & Q1: [-100.0, 65.0) & 1204.0 \\\\\n",
       "\t2 & Q1: [-100.0, 65.0) & 1457.0 \\\\\n",
       "\t3 & Q1: [-100.0, 65.0) & 1748.0 \\\\\n",
       "\t4 & Q2: [65.0, 78.0) & 1267.0 \\\\\n",
       "\t5 & Q2: [65.0, 78.0) & 1557.0 \\\\\n",
       "\t6 & Q2: [65.0, 78.0) & 1905.0 \\\\\n",
       "\t7 & Q3: [78.0, 83.0) & 1325.0 \\\\\n",
       "\t8 & Q3: [78.0, 83.0) & 1629.0 \\\\\n",
       "\t9 & Q3: [78.0, 83.0) & 1982.0 \\\\\n",
       "\t10 & Q4: [83.0, 86.0) & 1366.0 \\\\\n",
       "\t11 & Q4: [83.0, 86.0) & 1670.5 \\\\\n",
       "\t12 & Q4: [83.0, 86.0) & 2009.0 \\\\\n",
       "\t$\\dots$ & $\\dots$ & $\\dots$ \\\\\n",
       "\\end{tabular}\n"
      ],
      "text/plain": [
       "\u001b[1m30×2 DataFrame\u001b[0m\n",
       "\u001b[1m Row \u001b[0m│\u001b[1m Popularity_10      \u001b[0m\u001b[1m Rating_function \u001b[0m\n",
       "\u001b[1m     \u001b[0m│\u001b[90m Categorical…       \u001b[0m\u001b[90m Float64         \u001b[0m\n",
       "─────┼─────────────────────────────────────\n",
       "   1 │ Q1: [-100.0, 65.0)           1204.0\n",
       "   2 │ Q1: [-100.0, 65.0)           1457.0\n",
       "  ⋮  │         ⋮                  ⋮\n",
       "  30 │ Q10: [99.0, 171.0]           1606.0\n",
       "\u001b[36m                            27 rows omitted\u001b[0m"
      ]
     },
     "execution_count": 50,
     "metadata": {},
     "output_type": "execute_result"
    }
   ],
   "source": [
    "@chain df begin\n",
    "    transform(:Popularity => (x -> cut(x, 10)) => :Popularity_10)\n",
    "    groupby(:Popularity_10)\n",
    "    combine(:Rating => x -> quantile(x, [0.25, 0.5, 0.75]))\n",
    "end"
   ]
  },
  {
   "cell_type": "markdown",
   "metadata": {},
   "source": [
    "What is the problem? `combine` produces three values per group. Since `quantile` returns a vector we get three rows per group in the output.\n",
    "\n",
    "There are several approaches to fix it.\n",
    "\n",
    "The first is to protect the vector using `Ref`."
   ]
  },
  {
   "cell_type": "code",
   "execution_count": 51,
   "metadata": {},
   "outputs": [
    {
     "data": {
      "text/html": [
       "<div class=\"data-frame\"><p>10 rows × 2 columns</p><table class=\"data-frame\"><thead><tr><th></th><th>Popularity_10</th><th>Rating_function</th></tr><tr><th></th><th title=\"CategoricalValue{String, UInt32}\">Cat…</th><th title=\"Vector{Float64}\">Array…</th></tr></thead><tbody><tr><th>1</th><td>Q1: [-100.0, 65.0)</td><td>[1204.0, 1457.0, 1748.0]</td></tr><tr><th>2</th><td>Q2: [65.0, 78.0)</td><td>[1267.0, 1557.0, 1905.0]</td></tr><tr><th>3</th><td>Q3: [78.0, 83.0)</td><td>[1325.0, 1629.0, 1982.0]</td></tr><tr><th>4</th><td>Q4: [83.0, 86.0)</td><td>[1366.0, 1670.5, 2009.0]</td></tr><tr><th>5</th><td>Q5: [86.0, 89.0)</td><td>[1317.0, 1639.0, 1958.0]</td></tr><tr><th>6</th><td>Q6: [89.0, 92.0)</td><td>[1259.0, 1699.0, 2126.0]</td></tr><tr><th>7</th><td>Q7: [92.0, 93.0)</td><td>[1296.0, 1628.0, 1948.0]</td></tr><tr><th>8</th><td>Q8: [93.0, 95.0)</td><td>[1201.0, 1517.0, 1799.0]</td></tr><tr><th>9</th><td>Q9: [95.0, 99.0)</td><td>[1132.0, 1482.0, 1772.0]</td></tr><tr><th>10</th><td>Q10: [99.0, 171.0]</td><td>[1144.0, 1433.0, 1606.0]</td></tr></tbody></table></div>"
      ],
      "text/latex": [
       "\\begin{tabular}{r|cc}\n",
       "\t& Popularity\\_10 & Rating\\_function\\\\\n",
       "\t\\hline\n",
       "\t& Cat… & Array…\\\\\n",
       "\t\\hline\n",
       "\t1 & Q1: [-100.0, 65.0) & [1204.0, 1457.0, 1748.0] \\\\\n",
       "\t2 & Q2: [65.0, 78.0) & [1267.0, 1557.0, 1905.0] \\\\\n",
       "\t3 & Q3: [78.0, 83.0) & [1325.0, 1629.0, 1982.0] \\\\\n",
       "\t4 & Q4: [83.0, 86.0) & [1366.0, 1670.5, 2009.0] \\\\\n",
       "\t5 & Q5: [86.0, 89.0) & [1317.0, 1639.0, 1958.0] \\\\\n",
       "\t6 & Q6: [89.0, 92.0) & [1259.0, 1699.0, 2126.0] \\\\\n",
       "\t7 & Q7: [92.0, 93.0) & [1296.0, 1628.0, 1948.0] \\\\\n",
       "\t8 & Q8: [93.0, 95.0) & [1201.0, 1517.0, 1799.0] \\\\\n",
       "\t9 & Q9: [95.0, 99.0) & [1132.0, 1482.0, 1772.0] \\\\\n",
       "\t10 & Q10: [99.0, 171.0] & [1144.0, 1433.0, 1606.0] \\\\\n",
       "\\end{tabular}\n"
      ],
      "text/plain": [
       "\u001b[1m10×2 DataFrame\u001b[0m\n",
       "\u001b[1m Row \u001b[0m│\u001b[1m Popularity_10      \u001b[0m\u001b[1m Rating_function          \u001b[0m\n",
       "\u001b[1m     \u001b[0m│\u001b[90m Categorical…       \u001b[0m\u001b[90m Vector{Float64}          \u001b[0m\n",
       "─────┼──────────────────────────────────────────────\n",
       "   1 │ Q1: [-100.0, 65.0)  [1204.0, 1457.0, 1748.0]\n",
       "   2 │ Q2: [65.0, 78.0)    [1267.0, 1557.0, 1905.0]\n",
       "  ⋮  │         ⋮                      ⋮\n",
       "  10 │ Q10: [99.0, 171.0]  [1144.0, 1433.0, 1606.0]\n",
       "\u001b[36m                                      7 rows omitted\u001b[0m"
      ]
     },
     "execution_count": 51,
     "metadata": {},
     "output_type": "execute_result"
    }
   ],
   "source": [
    "@chain df begin\n",
    "    transform(:Popularity => (x -> cut(x, 10)) => :Popularity_10)\n",
    "    groupby(:Popularity_10)\n",
    "    combine(:Rating => (x -> Ref(quantile(x, [0.25, 0.5, 0.75]))))\n",
    "end"
   ]
  },
  {
   "cell_type": "markdown",
   "metadata": {},
   "source": [
    "With `Ref` return value is sotred \"as is\" as one row. We can now expand it into multiple columns in a second step.\n",
    "\n",
    "For this we specify multiple columns in the output.\n",
    "\n",
    "What can be expanded into multiple columns? Here is the list:\n",
    "* one of: `AbstractDataFrame`, `NamedTuple`, `DataFrameRow`, `AbstractMatrix`;\n",
    "* if function returns an `AbstractVector` then each element of this vector must support the `keys` function, which must return a collection of `Symbols`, strings or integers; the return value of keys must be identical for all elements. Then as many columns are created as there are elements in the return value of the keys function;\n",
    "* if function returns a value of any other type then it is assumed that it is a table conforming to the Tables.jl API and the `Tables.columntable` function is called on it."
   ]
  },
  {
   "cell_type": "code",
   "execution_count": 52,
   "metadata": {},
   "outputs": [
    {
     "data": {
      "text/html": [
       "<div class=\"data-frame\"><p>10 rows × 4 columns</p><table class=\"data-frame\"><thead><tr><th></th><th>Popularity_10</th><th>Rating25</th><th>Rating50</th><th>Rating75</th></tr><tr><th></th><th title=\"CategoricalValue{String, UInt32}\">Cat…</th><th title=\"Float64\">Float64</th><th title=\"Float64\">Float64</th><th title=\"Float64\">Float64</th></tr></thead><tbody><tr><th>1</th><td>Q1: [-100.0, 65.0)</td><td>1204.0</td><td>1457.0</td><td>1748.0</td></tr><tr><th>2</th><td>Q2: [65.0, 78.0)</td><td>1267.0</td><td>1557.0</td><td>1905.0</td></tr><tr><th>3</th><td>Q3: [78.0, 83.0)</td><td>1325.0</td><td>1629.0</td><td>1982.0</td></tr><tr><th>4</th><td>Q4: [83.0, 86.0)</td><td>1366.0</td><td>1670.5</td><td>2009.0</td></tr><tr><th>5</th><td>Q5: [86.0, 89.0)</td><td>1317.0</td><td>1639.0</td><td>1958.0</td></tr><tr><th>6</th><td>Q6: [89.0, 92.0)</td><td>1259.0</td><td>1699.0</td><td>2126.0</td></tr><tr><th>7</th><td>Q7: [92.0, 93.0)</td><td>1296.0</td><td>1628.0</td><td>1948.0</td></tr><tr><th>8</th><td>Q8: [93.0, 95.0)</td><td>1201.0</td><td>1517.0</td><td>1799.0</td></tr><tr><th>9</th><td>Q9: [95.0, 99.0)</td><td>1132.0</td><td>1482.0</td><td>1772.0</td></tr><tr><th>10</th><td>Q10: [99.0, 171.0]</td><td>1144.0</td><td>1433.0</td><td>1606.0</td></tr></tbody></table></div>"
      ],
      "text/latex": [
       "\\begin{tabular}{r|cccc}\n",
       "\t& Popularity\\_10 & Rating25 & Rating50 & Rating75\\\\\n",
       "\t\\hline\n",
       "\t& Cat… & Float64 & Float64 & Float64\\\\\n",
       "\t\\hline\n",
       "\t1 & Q1: [-100.0, 65.0) & 1204.0 & 1457.0 & 1748.0 \\\\\n",
       "\t2 & Q2: [65.0, 78.0) & 1267.0 & 1557.0 & 1905.0 \\\\\n",
       "\t3 & Q3: [78.0, 83.0) & 1325.0 & 1629.0 & 1982.0 \\\\\n",
       "\t4 & Q4: [83.0, 86.0) & 1366.0 & 1670.5 & 2009.0 \\\\\n",
       "\t5 & Q5: [86.0, 89.0) & 1317.0 & 1639.0 & 1958.0 \\\\\n",
       "\t6 & Q6: [89.0, 92.0) & 1259.0 & 1699.0 & 2126.0 \\\\\n",
       "\t7 & Q7: [92.0, 93.0) & 1296.0 & 1628.0 & 1948.0 \\\\\n",
       "\t8 & Q8: [93.0, 95.0) & 1201.0 & 1517.0 & 1799.0 \\\\\n",
       "\t9 & Q9: [95.0, 99.0) & 1132.0 & 1482.0 & 1772.0 \\\\\n",
       "\t10 & Q10: [99.0, 171.0] & 1144.0 & 1433.0 & 1606.0 \\\\\n",
       "\\end{tabular}\n"
      ],
      "text/plain": [
       "\u001b[1m10×4 DataFrame\u001b[0m\n",
       "\u001b[1m Row \u001b[0m│\u001b[1m Popularity_10      \u001b[0m\u001b[1m Rating25 \u001b[0m\u001b[1m Rating50 \u001b[0m\u001b[1m Rating75 \u001b[0m\n",
       "\u001b[1m     \u001b[0m│\u001b[90m Categorical…       \u001b[0m\u001b[90m Float64  \u001b[0m\u001b[90m Float64  \u001b[0m\u001b[90m Float64  \u001b[0m\n",
       "─────┼──────────────────────────────────────────────────\n",
       "   1 │ Q1: [-100.0, 65.0)    1204.0    1457.0    1748.0\n",
       "   2 │ Q2: [65.0, 78.0)      1267.0    1557.0    1905.0\n",
       "  ⋮  │         ⋮              ⋮         ⋮         ⋮\n",
       "  10 │ Q10: [99.0, 171.0]    1144.0    1433.0    1606.0\n",
       "\u001b[36m                                          7 rows omitted\u001b[0m"
      ]
     },
     "execution_count": 52,
     "metadata": {},
     "output_type": "execute_result"
    }
   ],
   "source": [
    "@chain df begin\n",
    "    transform(:Popularity => (x -> cut(x, 10)) => :Popularity_10)\n",
    "    groupby(:Popularity_10)\n",
    "    combine(:Rating => (x -> Ref(quantile(x, [0.25, 0.5, 0.75]))))\n",
    "    select(:Popularity_10, :Rating_function => string.(\"Rating\", 25:25:75))\n",
    "end"
   ]
  },
  {
   "cell_type": "markdown",
   "metadata": {},
   "source": [
    "Passing `AsTable` instead of a vector of column names does autogeneration of column names:"
   ]
  },
  {
   "cell_type": "code",
   "execution_count": 53,
   "metadata": {},
   "outputs": [
    {
     "data": {
      "text/html": [
       "<div class=\"data-frame\"><p>10 rows × 4 columns</p><table class=\"data-frame\"><thead><tr><th></th><th>Popularity_10</th><th>x1</th><th>x2</th><th>x3</th></tr><tr><th></th><th title=\"CategoricalValue{String, UInt32}\">Cat…</th><th title=\"Float64\">Float64</th><th title=\"Float64\">Float64</th><th title=\"Float64\">Float64</th></tr></thead><tbody><tr><th>1</th><td>Q1: [-100.0, 65.0)</td><td>1204.0</td><td>1457.0</td><td>1748.0</td></tr><tr><th>2</th><td>Q2: [65.0, 78.0)</td><td>1267.0</td><td>1557.0</td><td>1905.0</td></tr><tr><th>3</th><td>Q3: [78.0, 83.0)</td><td>1325.0</td><td>1629.0</td><td>1982.0</td></tr><tr><th>4</th><td>Q4: [83.0, 86.0)</td><td>1366.0</td><td>1670.5</td><td>2009.0</td></tr><tr><th>5</th><td>Q5: [86.0, 89.0)</td><td>1317.0</td><td>1639.0</td><td>1958.0</td></tr><tr><th>6</th><td>Q6: [89.0, 92.0)</td><td>1259.0</td><td>1699.0</td><td>2126.0</td></tr><tr><th>7</th><td>Q7: [92.0, 93.0)</td><td>1296.0</td><td>1628.0</td><td>1948.0</td></tr><tr><th>8</th><td>Q8: [93.0, 95.0)</td><td>1201.0</td><td>1517.0</td><td>1799.0</td></tr><tr><th>9</th><td>Q9: [95.0, 99.0)</td><td>1132.0</td><td>1482.0</td><td>1772.0</td></tr><tr><th>10</th><td>Q10: [99.0, 171.0]</td><td>1144.0</td><td>1433.0</td><td>1606.0</td></tr></tbody></table></div>"
      ],
      "text/latex": [
       "\\begin{tabular}{r|cccc}\n",
       "\t& Popularity\\_10 & x1 & x2 & x3\\\\\n",
       "\t\\hline\n",
       "\t& Cat… & Float64 & Float64 & Float64\\\\\n",
       "\t\\hline\n",
       "\t1 & Q1: [-100.0, 65.0) & 1204.0 & 1457.0 & 1748.0 \\\\\n",
       "\t2 & Q2: [65.0, 78.0) & 1267.0 & 1557.0 & 1905.0 \\\\\n",
       "\t3 & Q3: [78.0, 83.0) & 1325.0 & 1629.0 & 1982.0 \\\\\n",
       "\t4 & Q4: [83.0, 86.0) & 1366.0 & 1670.5 & 2009.0 \\\\\n",
       "\t5 & Q5: [86.0, 89.0) & 1317.0 & 1639.0 & 1958.0 \\\\\n",
       "\t6 & Q6: [89.0, 92.0) & 1259.0 & 1699.0 & 2126.0 \\\\\n",
       "\t7 & Q7: [92.0, 93.0) & 1296.0 & 1628.0 & 1948.0 \\\\\n",
       "\t8 & Q8: [93.0, 95.0) & 1201.0 & 1517.0 & 1799.0 \\\\\n",
       "\t9 & Q9: [95.0, 99.0) & 1132.0 & 1482.0 & 1772.0 \\\\\n",
       "\t10 & Q10: [99.0, 171.0] & 1144.0 & 1433.0 & 1606.0 \\\\\n",
       "\\end{tabular}\n"
      ],
      "text/plain": [
       "\u001b[1m10×4 DataFrame\u001b[0m\n",
       "\u001b[1m Row \u001b[0m│\u001b[1m Popularity_10      \u001b[0m\u001b[1m x1      \u001b[0m\u001b[1m x2      \u001b[0m\u001b[1m x3      \u001b[0m\n",
       "\u001b[1m     \u001b[0m│\u001b[90m Categorical…       \u001b[0m\u001b[90m Float64 \u001b[0m\u001b[90m Float64 \u001b[0m\u001b[90m Float64 \u001b[0m\n",
       "─────┼───────────────────────────────────────────────\n",
       "   1 │ Q1: [-100.0, 65.0)   1204.0   1457.0   1748.0\n",
       "   2 │ Q2: [65.0, 78.0)     1267.0   1557.0   1905.0\n",
       "  ⋮  │         ⋮              ⋮        ⋮        ⋮\n",
       "  10 │ Q10: [99.0, 171.0]   1144.0   1433.0   1606.0\n",
       "\u001b[36m                                       7 rows omitted\u001b[0m"
      ]
     },
     "execution_count": 53,
     "metadata": {},
     "output_type": "execute_result"
    }
   ],
   "source": [
    "@chain df begin\n",
    "    transform(:Popularity => (x -> cut(x, 10)) => :Popularity_10)\n",
    "    groupby(:Popularity_10)\n",
    "    combine(:Rating => (x -> Ref(quantile(x, [0.25, 0.5, 0.75]))))\n",
    "    select(:Popularity_10, :Rating_function => AsTable)\n",
    "end"
   ]
  },
  {
   "cell_type": "markdown",
   "metadata": {},
   "source": [
    "The other approach is to do the operation in \"one shot\"."
   ]
  },
  {
   "cell_type": "markdown",
   "metadata": {},
   "source": [
    "This time instead of using `Ref`, we wrap a vector in a vector (so we get a one-element vector holding a vector which can be expanded following the rules described above):"
   ]
  },
  {
   "cell_type": "code",
   "execution_count": 54,
   "metadata": {},
   "outputs": [
    {
     "data": {
      "text/html": [
       "<div class=\"data-frame\"><p>10 rows × 4 columns</p><table class=\"data-frame\"><thead><tr><th></th><th>Popularity_10</th><th>Rating25</th><th>Rating50</th><th>Rating75</th></tr><tr><th></th><th title=\"CategoricalValue{String, UInt32}\">Cat…</th><th title=\"Float64\">Float64</th><th title=\"Float64\">Float64</th><th title=\"Float64\">Float64</th></tr></thead><tbody><tr><th>1</th><td>Q1: [-100.0, 65.0)</td><td>1204.0</td><td>1457.0</td><td>1748.0</td></tr><tr><th>2</th><td>Q2: [65.0, 78.0)</td><td>1267.0</td><td>1557.0</td><td>1905.0</td></tr><tr><th>3</th><td>Q3: [78.0, 83.0)</td><td>1325.0</td><td>1629.0</td><td>1982.0</td></tr><tr><th>4</th><td>Q4: [83.0, 86.0)</td><td>1366.0</td><td>1670.5</td><td>2009.0</td></tr><tr><th>5</th><td>Q5: [86.0, 89.0)</td><td>1317.0</td><td>1639.0</td><td>1958.0</td></tr><tr><th>6</th><td>Q6: [89.0, 92.0)</td><td>1259.0</td><td>1699.0</td><td>2126.0</td></tr><tr><th>7</th><td>Q7: [92.0, 93.0)</td><td>1296.0</td><td>1628.0</td><td>1948.0</td></tr><tr><th>8</th><td>Q8: [93.0, 95.0)</td><td>1201.0</td><td>1517.0</td><td>1799.0</td></tr><tr><th>9</th><td>Q9: [95.0, 99.0)</td><td>1132.0</td><td>1482.0</td><td>1772.0</td></tr><tr><th>10</th><td>Q10: [99.0, 171.0]</td><td>1144.0</td><td>1433.0</td><td>1606.0</td></tr></tbody></table></div>"
      ],
      "text/latex": [
       "\\begin{tabular}{r|cccc}\n",
       "\t& Popularity\\_10 & Rating25 & Rating50 & Rating75\\\\\n",
       "\t\\hline\n",
       "\t& Cat… & Float64 & Float64 & Float64\\\\\n",
       "\t\\hline\n",
       "\t1 & Q1: [-100.0, 65.0) & 1204.0 & 1457.0 & 1748.0 \\\\\n",
       "\t2 & Q2: [65.0, 78.0) & 1267.0 & 1557.0 & 1905.0 \\\\\n",
       "\t3 & Q3: [78.0, 83.0) & 1325.0 & 1629.0 & 1982.0 \\\\\n",
       "\t4 & Q4: [83.0, 86.0) & 1366.0 & 1670.5 & 2009.0 \\\\\n",
       "\t5 & Q5: [86.0, 89.0) & 1317.0 & 1639.0 & 1958.0 \\\\\n",
       "\t6 & Q6: [89.0, 92.0) & 1259.0 & 1699.0 & 2126.0 \\\\\n",
       "\t7 & Q7: [92.0, 93.0) & 1296.0 & 1628.0 & 1948.0 \\\\\n",
       "\t8 & Q8: [93.0, 95.0) & 1201.0 & 1517.0 & 1799.0 \\\\\n",
       "\t9 & Q9: [95.0, 99.0) & 1132.0 & 1482.0 & 1772.0 \\\\\n",
       "\t10 & Q10: [99.0, 171.0] & 1144.0 & 1433.0 & 1606.0 \\\\\n",
       "\\end{tabular}\n"
      ],
      "text/plain": [
       "\u001b[1m10×4 DataFrame\u001b[0m\n",
       "\u001b[1m Row \u001b[0m│\u001b[1m Popularity_10      \u001b[0m\u001b[1m Rating25 \u001b[0m\u001b[1m Rating50 \u001b[0m\u001b[1m Rating75 \u001b[0m\n",
       "\u001b[1m     \u001b[0m│\u001b[90m Categorical…       \u001b[0m\u001b[90m Float64  \u001b[0m\u001b[90m Float64  \u001b[0m\u001b[90m Float64  \u001b[0m\n",
       "─────┼──────────────────────────────────────────────────\n",
       "   1 │ Q1: [-100.0, 65.0)    1204.0    1457.0    1748.0\n",
       "   2 │ Q2: [65.0, 78.0)      1267.0    1557.0    1905.0\n",
       "  ⋮  │         ⋮              ⋮         ⋮         ⋮\n",
       "  10 │ Q10: [99.0, 171.0]    1144.0    1433.0    1606.0\n",
       "\u001b[36m                                          7 rows omitted\u001b[0m"
      ]
     },
     "execution_count": 54,
     "metadata": {},
     "output_type": "execute_result"
    }
   ],
   "source": [
    "@chain df begin\n",
    "    transform(:Popularity => (x -> cut(x, 10)) => :Popularity_10)\n",
    "    groupby(:Popularity_10)\n",
    "    combine(:Rating => (x -> [quantile(x, [0.25, 0.5, 0.75])]) => string.(\"Rating\", 25:25:75))\n",
    "end"
   ]
  },
  {
   "cell_type": "markdown",
   "metadata": {},
   "source": [
    "The last approach we discuss is to use `NamedTuple`. We will do it in two ways.\n",
    "\n",
    "The first is also in \"one shot\". In it we use a `(; :name => value, ...)` style to create `NamedTuple`.\n",
    "\n",
    "Note that in this case `AsTable` uses column names from `NamedTuple`."
   ]
  },
  {
   "cell_type": "code",
   "execution_count": 55,
   "metadata": {},
   "outputs": [
    {
     "data": {
      "text/html": [
       "<div class=\"data-frame\"><p>10 rows × 4 columns</p><table class=\"data-frame\"><thead><tr><th></th><th>Popularity_10</th><th>Rating25</th><th>Rating50</th><th>Rating75</th></tr><tr><th></th><th title=\"CategoricalValue{String, UInt32}\">Cat…</th><th title=\"Float64\">Float64</th><th title=\"Float64\">Float64</th><th title=\"Float64\">Float64</th></tr></thead><tbody><tr><th>1</th><td>Q1: [-100.0, 65.0)</td><td>1204.0</td><td>1457.0</td><td>1748.0</td></tr><tr><th>2</th><td>Q2: [65.0, 78.0)</td><td>1267.0</td><td>1557.0</td><td>1905.0</td></tr><tr><th>3</th><td>Q3: [78.0, 83.0)</td><td>1325.0</td><td>1629.0</td><td>1982.0</td></tr><tr><th>4</th><td>Q4: [83.0, 86.0)</td><td>1366.0</td><td>1670.5</td><td>2009.0</td></tr><tr><th>5</th><td>Q5: [86.0, 89.0)</td><td>1317.0</td><td>1639.0</td><td>1958.0</td></tr><tr><th>6</th><td>Q6: [89.0, 92.0)</td><td>1259.0</td><td>1699.0</td><td>2126.0</td></tr><tr><th>7</th><td>Q7: [92.0, 93.0)</td><td>1296.0</td><td>1628.0</td><td>1948.0</td></tr><tr><th>8</th><td>Q8: [93.0, 95.0)</td><td>1201.0</td><td>1517.0</td><td>1799.0</td></tr><tr><th>9</th><td>Q9: [95.0, 99.0)</td><td>1132.0</td><td>1482.0</td><td>1772.0</td></tr><tr><th>10</th><td>Q10: [99.0, 171.0]</td><td>1144.0</td><td>1433.0</td><td>1606.0</td></tr></tbody></table></div>"
      ],
      "text/latex": [
       "\\begin{tabular}{r|cccc}\n",
       "\t& Popularity\\_10 & Rating25 & Rating50 & Rating75\\\\\n",
       "\t\\hline\n",
       "\t& Cat… & Float64 & Float64 & Float64\\\\\n",
       "\t\\hline\n",
       "\t1 & Q1: [-100.0, 65.0) & 1204.0 & 1457.0 & 1748.0 \\\\\n",
       "\t2 & Q2: [65.0, 78.0) & 1267.0 & 1557.0 & 1905.0 \\\\\n",
       "\t3 & Q3: [78.0, 83.0) & 1325.0 & 1629.0 & 1982.0 \\\\\n",
       "\t4 & Q4: [83.0, 86.0) & 1366.0 & 1670.5 & 2009.0 \\\\\n",
       "\t5 & Q5: [86.0, 89.0) & 1317.0 & 1639.0 & 1958.0 \\\\\n",
       "\t6 & Q6: [89.0, 92.0) & 1259.0 & 1699.0 & 2126.0 \\\\\n",
       "\t7 & Q7: [92.0, 93.0) & 1296.0 & 1628.0 & 1948.0 \\\\\n",
       "\t8 & Q8: [93.0, 95.0) & 1201.0 & 1517.0 & 1799.0 \\\\\n",
       "\t9 & Q9: [95.0, 99.0) & 1132.0 & 1482.0 & 1772.0 \\\\\n",
       "\t10 & Q10: [99.0, 171.0] & 1144.0 & 1433.0 & 1606.0 \\\\\n",
       "\\end{tabular}\n"
      ],
      "text/plain": [
       "\u001b[1m10×4 DataFrame\u001b[0m\n",
       "\u001b[1m Row \u001b[0m│\u001b[1m Popularity_10      \u001b[0m\u001b[1m Rating25 \u001b[0m\u001b[1m Rating50 \u001b[0m\u001b[1m Rating75 \u001b[0m\n",
       "\u001b[1m     \u001b[0m│\u001b[90m Categorical…       \u001b[0m\u001b[90m Float64  \u001b[0m\u001b[90m Float64  \u001b[0m\u001b[90m Float64  \u001b[0m\n",
       "─────┼──────────────────────────────────────────────────\n",
       "   1 │ Q1: [-100.0, 65.0)    1204.0    1457.0    1748.0\n",
       "   2 │ Q2: [65.0, 78.0)      1267.0    1557.0    1905.0\n",
       "  ⋮  │         ⋮              ⋮         ⋮         ⋮\n",
       "  10 │ Q10: [99.0, 171.0]    1144.0    1433.0    1606.0\n",
       "\u001b[36m                                          7 rows omitted\u001b[0m"
      ]
     },
     "execution_count": 55,
     "metadata": {},
     "output_type": "execute_result"
    }
   ],
   "source": [
    "@chain df begin\n",
    "    transform(:Popularity => (x -> cut(x, 10)) => :Popularity_10)\n",
    "    groupby(:Popularity_10)\n",
    "    combine(:Rating => (x -> (; (Symbol.(\"Rating\", 25:25:75) .=> quantile(x, [0.25, 0.5, 0.75]))...)) => AsTable)\n",
    "end"
   ]
  },
  {
   "cell_type": "markdown",
   "metadata": {},
   "source": [
    "The second approach is in two steps but a bit simpler. First we create three rows per group, and next we unstack the table:"
   ]
  },
  {
   "cell_type": "code",
   "execution_count": 56,
   "metadata": {},
   "outputs": [
    {
     "data": {
      "text/html": [
       "<div class=\"data-frame\"><p>30 rows × 3 columns</p><table class=\"data-frame\"><thead><tr><th></th><th>Popularity_10</th><th>name</th><th>value</th></tr><tr><th></th><th title=\"CategoricalValue{String, UInt32}\">Cat…</th><th title=\"String\">String</th><th title=\"Float64\">Float64</th></tr></thead><tbody><tr><th>1</th><td>Q1: [-100.0, 65.0)</td><td>Rating25</td><td>1204.0</td></tr><tr><th>2</th><td>Q1: [-100.0, 65.0)</td><td>Rating50</td><td>1457.0</td></tr><tr><th>3</th><td>Q1: [-100.0, 65.0)</td><td>Rating75</td><td>1748.0</td></tr><tr><th>4</th><td>Q2: [65.0, 78.0)</td><td>Rating25</td><td>1267.0</td></tr><tr><th>5</th><td>Q2: [65.0, 78.0)</td><td>Rating50</td><td>1557.0</td></tr><tr><th>6</th><td>Q2: [65.0, 78.0)</td><td>Rating75</td><td>1905.0</td></tr><tr><th>7</th><td>Q3: [78.0, 83.0)</td><td>Rating25</td><td>1325.0</td></tr><tr><th>8</th><td>Q3: [78.0, 83.0)</td><td>Rating50</td><td>1629.0</td></tr><tr><th>9</th><td>Q3: [78.0, 83.0)</td><td>Rating75</td><td>1982.0</td></tr><tr><th>10</th><td>Q4: [83.0, 86.0)</td><td>Rating25</td><td>1366.0</td></tr><tr><th>11</th><td>Q4: [83.0, 86.0)</td><td>Rating50</td><td>1670.5</td></tr><tr><th>12</th><td>Q4: [83.0, 86.0)</td><td>Rating75</td><td>2009.0</td></tr><tr><th>&vellip;</th><td>&vellip;</td><td>&vellip;</td><td>&vellip;</td></tr></tbody></table></div>"
      ],
      "text/latex": [
       "\\begin{tabular}{r|ccc}\n",
       "\t& Popularity\\_10 & name & value\\\\\n",
       "\t\\hline\n",
       "\t& Cat… & String & Float64\\\\\n",
       "\t\\hline\n",
       "\t1 & Q1: [-100.0, 65.0) & Rating25 & 1204.0 \\\\\n",
       "\t2 & Q1: [-100.0, 65.0) & Rating50 & 1457.0 \\\\\n",
       "\t3 & Q1: [-100.0, 65.0) & Rating75 & 1748.0 \\\\\n",
       "\t4 & Q2: [65.0, 78.0) & Rating25 & 1267.0 \\\\\n",
       "\t5 & Q2: [65.0, 78.0) & Rating50 & 1557.0 \\\\\n",
       "\t6 & Q2: [65.0, 78.0) & Rating75 & 1905.0 \\\\\n",
       "\t7 & Q3: [78.0, 83.0) & Rating25 & 1325.0 \\\\\n",
       "\t8 & Q3: [78.0, 83.0) & Rating50 & 1629.0 \\\\\n",
       "\t9 & Q3: [78.0, 83.0) & Rating75 & 1982.0 \\\\\n",
       "\t10 & Q4: [83.0, 86.0) & Rating25 & 1366.0 \\\\\n",
       "\t11 & Q4: [83.0, 86.0) & Rating50 & 1670.5 \\\\\n",
       "\t12 & Q4: [83.0, 86.0) & Rating75 & 2009.0 \\\\\n",
       "\t$\\dots$ & $\\dots$ & $\\dots$ & $\\dots$ \\\\\n",
       "\\end{tabular}\n"
      ],
      "text/plain": [
       "\u001b[1m30×3 DataFrame\u001b[0m\n",
       "\u001b[1m Row \u001b[0m│\u001b[1m Popularity_10      \u001b[0m\u001b[1m name     \u001b[0m\u001b[1m value   \u001b[0m\n",
       "\u001b[1m     \u001b[0m│\u001b[90m Categorical…       \u001b[0m\u001b[90m String   \u001b[0m\u001b[90m Float64 \u001b[0m\n",
       "─────┼───────────────────────────────────────\n",
       "   1 │ Q1: [-100.0, 65.0)  Rating25   1204.0\n",
       "   2 │ Q1: [-100.0, 65.0)  Rating50   1457.0\n",
       "  ⋮  │         ⋮              ⋮         ⋮\n",
       "  30 │ Q10: [99.0, 171.0]  Rating75   1606.0\n",
       "\u001b[36m                              27 rows omitted\u001b[0m"
      ]
     },
     "execution_count": 56,
     "metadata": {},
     "output_type": "execute_result"
    }
   ],
   "source": [
    "@chain df begin\n",
    "    transform(:Popularity => (x -> cut(x, 10)) => :Popularity_10)\n",
    "    groupby(:Popularity_10)\n",
    "    combine(:Rating => (x -> (name=string.(\"Rating\", 25:25:75), value=quantile(x, [0.25, 0.5, 0.75]))) => AsTable)\n",
    "end"
   ]
  },
  {
   "cell_type": "code",
   "execution_count": 57,
   "metadata": {},
   "outputs": [
    {
     "data": {
      "text/html": [
       "<div class=\"data-frame\"><p>10 rows × 4 columns</p><table class=\"data-frame\"><thead><tr><th></th><th>Popularity_10</th><th>Rating25</th><th>Rating50</th><th>Rating75</th></tr><tr><th></th><th title=\"CategoricalValue{String, UInt32}\">Cat…</th><th title=\"Union{Missing, Float64}\">Float64?</th><th title=\"Union{Missing, Float64}\">Float64?</th><th title=\"Union{Missing, Float64}\">Float64?</th></tr></thead><tbody><tr><th>1</th><td>Q1: [-100.0, 65.0)</td><td>1204.0</td><td>1457.0</td><td>1748.0</td></tr><tr><th>2</th><td>Q2: [65.0, 78.0)</td><td>1267.0</td><td>1557.0</td><td>1905.0</td></tr><tr><th>3</th><td>Q3: [78.0, 83.0)</td><td>1325.0</td><td>1629.0</td><td>1982.0</td></tr><tr><th>4</th><td>Q4: [83.0, 86.0)</td><td>1366.0</td><td>1670.5</td><td>2009.0</td></tr><tr><th>5</th><td>Q5: [86.0, 89.0)</td><td>1317.0</td><td>1639.0</td><td>1958.0</td></tr><tr><th>6</th><td>Q6: [89.0, 92.0)</td><td>1259.0</td><td>1699.0</td><td>2126.0</td></tr><tr><th>7</th><td>Q7: [92.0, 93.0)</td><td>1296.0</td><td>1628.0</td><td>1948.0</td></tr><tr><th>8</th><td>Q8: [93.0, 95.0)</td><td>1201.0</td><td>1517.0</td><td>1799.0</td></tr><tr><th>9</th><td>Q9: [95.0, 99.0)</td><td>1132.0</td><td>1482.0</td><td>1772.0</td></tr><tr><th>10</th><td>Q10: [99.0, 171.0]</td><td>1144.0</td><td>1433.0</td><td>1606.0</td></tr></tbody></table></div>"
      ],
      "text/latex": [
       "\\begin{tabular}{r|cccc}\n",
       "\t& Popularity\\_10 & Rating25 & Rating50 & Rating75\\\\\n",
       "\t\\hline\n",
       "\t& Cat… & Float64? & Float64? & Float64?\\\\\n",
       "\t\\hline\n",
       "\t1 & Q1: [-100.0, 65.0) & 1204.0 & 1457.0 & 1748.0 \\\\\n",
       "\t2 & Q2: [65.0, 78.0) & 1267.0 & 1557.0 & 1905.0 \\\\\n",
       "\t3 & Q3: [78.0, 83.0) & 1325.0 & 1629.0 & 1982.0 \\\\\n",
       "\t4 & Q4: [83.0, 86.0) & 1366.0 & 1670.5 & 2009.0 \\\\\n",
       "\t5 & Q5: [86.0, 89.0) & 1317.0 & 1639.0 & 1958.0 \\\\\n",
       "\t6 & Q6: [89.0, 92.0) & 1259.0 & 1699.0 & 2126.0 \\\\\n",
       "\t7 & Q7: [92.0, 93.0) & 1296.0 & 1628.0 & 1948.0 \\\\\n",
       "\t8 & Q8: [93.0, 95.0) & 1201.0 & 1517.0 & 1799.0 \\\\\n",
       "\t9 & Q9: [95.0, 99.0) & 1132.0 & 1482.0 & 1772.0 \\\\\n",
       "\t10 & Q10: [99.0, 171.0] & 1144.0 & 1433.0 & 1606.0 \\\\\n",
       "\\end{tabular}\n"
      ],
      "text/plain": [
       "\u001b[1m10×4 DataFrame\u001b[0m\n",
       "\u001b[1m Row \u001b[0m│\u001b[1m Popularity_10      \u001b[0m\u001b[1m Rating25 \u001b[0m\u001b[1m Rating50 \u001b[0m\u001b[1m Rating75 \u001b[0m\n",
       "\u001b[1m     \u001b[0m│\u001b[90m Categorical…       \u001b[0m\u001b[90m Float64? \u001b[0m\u001b[90m Float64? \u001b[0m\u001b[90m Float64? \u001b[0m\n",
       "─────┼──────────────────────────────────────────────────\n",
       "   1 │ Q1: [-100.0, 65.0)    1204.0    1457.0    1748.0\n",
       "   2 │ Q2: [65.0, 78.0)      1267.0    1557.0    1905.0\n",
       "  ⋮  │         ⋮              ⋮         ⋮         ⋮\n",
       "  10 │ Q10: [99.0, 171.0]    1144.0    1433.0    1606.0\n",
       "\u001b[36m                                          7 rows omitted\u001b[0m"
      ]
     },
     "execution_count": 57,
     "metadata": {},
     "output_type": "execute_result"
    }
   ],
   "source": [
    "@chain df begin\n",
    "    transform(:Popularity => (x -> cut(x, 10)) => :Popularity_10)\n",
    "    groupby(:Popularity_10)\n",
    "    combine(:Rating => (x -> (name=string.(\"Rating\", 25:25:75), value=quantile(x, [0.25, 0.5, 0.75]))) => AsTable)\n",
    "    unstack(:Popularity_10, :name, :value)\n",
    "end"
   ]
  },
  {
   "cell_type": "markdown",
   "metadata": {},
   "source": [
    "## Let us start running: advanced techniques"
   ]
  },
  {
   "cell_type": "markdown",
   "metadata": {},
   "source": [
    "How can we do one-hot encoding of `:Themes`?"
   ]
  },
  {
   "cell_type": "code",
   "execution_count": 58,
   "metadata": {},
   "outputs": [
    {
     "data": {
      "text/plain": [
       "565133-element Vector{Vector{SubString{String}}}:\n",
       " [\"advantage\", \"middlegame\", \"short\"]\n",
       " [\"advantage\", \"master\", \"middlegame\", \"short\"]\n",
       " [\"mate\", \"mateIn2\", \"middlegame\", \"short\"]\n",
       " [\"advantage\", \"middlegame\", \"short\"]\n",
       " ⋮\n",
       " [\"advantage\", \"middlegame\", \"short\"]\n",
       " [\"advantage\", \"fork\", \"opening\", \"short\"]\n",
       " [\"advantage\", \"long\", \"opening\"]"
      ]
     },
     "execution_count": 58,
     "metadata": {},
     "output_type": "execute_result"
    }
   ],
   "source": [
    "themes_list = split.(df.Themes)"
   ]
  },
  {
   "cell_type": "code",
   "execution_count": 59,
   "metadata": {},
   "outputs": [
    {
     "data": {
      "text/plain": [
       "54-element Vector{SubString{String}}:\n",
       " \"advancedPawn\"\n",
       " \"advantage\"\n",
       " \"anastasiaMate\"\n",
       " \"arabianMate\"\n",
       " ⋮\n",
       " \"underPromotion\"\n",
       " \"veryLong\"\n",
       " \"xRayAttack\""
      ]
     },
     "execution_count": 59,
     "metadata": {},
     "output_type": "execute_result"
    }
   ],
   "source": [
    "all_themes = @chain themes_list begin\n",
    "    reduce(vcat, _)\n",
    "    unique\n",
    "    sort\n",
    "end"
   ]
  },
  {
   "cell_type": "code",
   "execution_count": 60,
   "metadata": {},
   "outputs": [
    {
     "data": {
      "text/html": [
       "<div class=\"data-frame\"><p>565,133 rows × 55 columns</p><table class=\"data-frame\"><thead><tr><th></th><th>ThemesSplit</th><th>advancedPawn</th><th>advantage</th><th>anastasiaMate</th><th>arabianMate</th><th>attackingF2F7</th><th>attraction</th><th>backRankMate</th><th>bishopEndgame</th><th>bodenMate</th><th>capturingDefender</th><th>castling</th><th>clearance</th><th>crushing</th><th>defensiveMove</th><th>deflection</th><th>discoveredAttack</th><th>doubleBishopMate</th><th>doubleCheck</th><th>dovetailMate</th><th>enPassant</th><th>exposedKing</th><th>fork</th><th>hangingPiece</th><th>hookMate</th><th>interference</th><th>intermezzo</th><th>kingsideAttack</th><th>long</th><th>master</th><th>masterVsMaster</th><th>mate</th><th>mateIn1</th><th>mateIn2</th><th>mateIn3</th><th>mateIn4</th><th>mateIn5</th><th>middlegame</th><th>oneMove</th><th>opening</th><th>pin</th><th>promotion</th><th>queenRookEndgame</th><th>queensideAttack</th><th>quietMove</th><th>rookEndgame</th><th>sacrifice</th><th>short</th><th>skewer</th><th>smotheredMate</th><th>superGM</th><th>trappedPiece</th><th>underPromotion</th><th>veryLong</th><th>xRayAttack</th></tr><tr><th></th><th title=\"Vector{SubString{String}}\">Array…</th><th title=\"Bool\">Bool</th><th title=\"Bool\">Bool</th><th title=\"Bool\">Bool</th><th title=\"Bool\">Bool</th><th title=\"Bool\">Bool</th><th title=\"Bool\">Bool</th><th title=\"Bool\">Bool</th><th title=\"Bool\">Bool</th><th title=\"Bool\">Bool</th><th title=\"Bool\">Bool</th><th title=\"Bool\">Bool</th><th title=\"Bool\">Bool</th><th title=\"Bool\">Bool</th><th title=\"Bool\">Bool</th><th title=\"Bool\">Bool</th><th title=\"Bool\">Bool</th><th title=\"Bool\">Bool</th><th title=\"Bool\">Bool</th><th title=\"Bool\">Bool</th><th title=\"Bool\">Bool</th><th title=\"Bool\">Bool</th><th title=\"Bool\">Bool</th><th title=\"Bool\">Bool</th><th title=\"Bool\">Bool</th><th title=\"Bool\">Bool</th><th title=\"Bool\">Bool</th><th title=\"Bool\">Bool</th><th title=\"Bool\">Bool</th><th title=\"Bool\">Bool</th><th title=\"Bool\">Bool</th><th title=\"Bool\">Bool</th><th title=\"Bool\">Bool</th><th title=\"Bool\">Bool</th><th title=\"Bool\">Bool</th><th title=\"Bool\">Bool</th><th title=\"Bool\">Bool</th><th title=\"Bool\">Bool</th><th title=\"Bool\">Bool</th><th title=\"Bool\">Bool</th><th title=\"Bool\">Bool</th><th title=\"Bool\">Bool</th><th title=\"Bool\">Bool</th><th title=\"Bool\">Bool</th><th title=\"Bool\">Bool</th><th title=\"Bool\">Bool</th><th title=\"Bool\">Bool</th><th title=\"Bool\">Bool</th><th title=\"Bool\">Bool</th><th title=\"Bool\">Bool</th><th title=\"Bool\">Bool</th><th title=\"Bool\">Bool</th><th title=\"Bool\">Bool</th><th title=\"Bool\">Bool</th><th title=\"Bool\">Bool</th></tr></thead><tbody><tr><th>1</th><td>[&quot;advantage&quot;, &quot;middlegame&quot;, &quot;short&quot;]</td><td>0</td><td>1</td><td>0</td><td>0</td><td>0</td><td>0</td><td>0</td><td>0</td><td>0</td><td>0</td><td>0</td><td>0</td><td>0</td><td>0</td><td>0</td><td>0</td><td>0</td><td>0</td><td>0</td><td>0</td><td>0</td><td>0</td><td>0</td><td>0</td><td>0</td><td>0</td><td>0</td><td>0</td><td>0</td><td>0</td><td>0</td><td>0</td><td>0</td><td>0</td><td>0</td><td>0</td><td>1</td><td>0</td><td>0</td><td>0</td><td>0</td><td>0</td><td>0</td><td>0</td><td>0</td><td>0</td><td>1</td><td>0</td><td>0</td><td>0</td><td>0</td><td>0</td><td>0</td><td>0</td></tr><tr><th>2</th><td>[&quot;advantage&quot;, &quot;master&quot;, &quot;middlegame&quot;, &quot;short&quot;]</td><td>0</td><td>1</td><td>0</td><td>0</td><td>0</td><td>0</td><td>0</td><td>0</td><td>0</td><td>0</td><td>0</td><td>0</td><td>0</td><td>0</td><td>0</td><td>0</td><td>0</td><td>0</td><td>0</td><td>0</td><td>0</td><td>0</td><td>0</td><td>0</td><td>0</td><td>0</td><td>0</td><td>0</td><td>1</td><td>0</td><td>0</td><td>0</td><td>0</td><td>0</td><td>0</td><td>0</td><td>1</td><td>0</td><td>0</td><td>0</td><td>0</td><td>0</td><td>0</td><td>0</td><td>0</td><td>0</td><td>1</td><td>0</td><td>0</td><td>0</td><td>0</td><td>0</td><td>0</td><td>0</td></tr><tr><th>3</th><td>[&quot;mate&quot;, &quot;mateIn2&quot;, &quot;middlegame&quot;, &quot;short&quot;]</td><td>0</td><td>0</td><td>0</td><td>0</td><td>0</td><td>0</td><td>0</td><td>0</td><td>0</td><td>0</td><td>0</td><td>0</td><td>0</td><td>0</td><td>0</td><td>0</td><td>0</td><td>0</td><td>0</td><td>0</td><td>0</td><td>0</td><td>0</td><td>0</td><td>0</td><td>0</td><td>0</td><td>0</td><td>0</td><td>0</td><td>1</td><td>0</td><td>1</td><td>0</td><td>0</td><td>0</td><td>1</td><td>0</td><td>0</td><td>0</td><td>0</td><td>0</td><td>0</td><td>0</td><td>0</td><td>0</td><td>1</td><td>0</td><td>0</td><td>0</td><td>0</td><td>0</td><td>0</td><td>0</td></tr><tr><th>4</th><td>[&quot;advantage&quot;, &quot;middlegame&quot;, &quot;short&quot;]</td><td>0</td><td>1</td><td>0</td><td>0</td><td>0</td><td>0</td><td>0</td><td>0</td><td>0</td><td>0</td><td>0</td><td>0</td><td>0</td><td>0</td><td>0</td><td>0</td><td>0</td><td>0</td><td>0</td><td>0</td><td>0</td><td>0</td><td>0</td><td>0</td><td>0</td><td>0</td><td>0</td><td>0</td><td>0</td><td>0</td><td>0</td><td>0</td><td>0</td><td>0</td><td>0</td><td>0</td><td>1</td><td>0</td><td>0</td><td>0</td><td>0</td><td>0</td><td>0</td><td>0</td><td>0</td><td>0</td><td>1</td><td>0</td><td>0</td><td>0</td><td>0</td><td>0</td><td>0</td><td>0</td></tr><tr><th>5</th><td>[&quot;bodenMate&quot;, &quot;hangingPiece&quot;, &quot;mate&quot;, &quot;mateIn1&quot;, &quot;middlegame&quot;, &quot;oneMove&quot;]</td><td>0</td><td>0</td><td>0</td><td>0</td><td>0</td><td>0</td><td>0</td><td>0</td><td>1</td><td>0</td><td>0</td><td>0</td><td>0</td><td>0</td><td>0</td><td>0</td><td>0</td><td>0</td><td>0</td><td>0</td><td>0</td><td>0</td><td>1</td><td>0</td><td>0</td><td>0</td><td>0</td><td>0</td><td>0</td><td>0</td><td>1</td><td>1</td><td>0</td><td>0</td><td>0</td><td>0</td><td>1</td><td>1</td><td>0</td><td>0</td><td>0</td><td>0</td><td>0</td><td>0</td><td>0</td><td>0</td><td>0</td><td>0</td><td>0</td><td>0</td><td>0</td><td>0</td><td>0</td><td>0</td></tr><tr><th>6</th><td>[&quot;mate&quot;, &quot;mateIn1&quot;, &quot;oneMove&quot;]</td><td>0</td><td>0</td><td>0</td><td>0</td><td>0</td><td>0</td><td>0</td><td>0</td><td>0</td><td>0</td><td>0</td><td>0</td><td>0</td><td>0</td><td>0</td><td>0</td><td>0</td><td>0</td><td>0</td><td>0</td><td>0</td><td>0</td><td>0</td><td>0</td><td>0</td><td>0</td><td>0</td><td>0</td><td>0</td><td>0</td><td>1</td><td>1</td><td>0</td><td>0</td><td>0</td><td>0</td><td>0</td><td>1</td><td>0</td><td>0</td><td>0</td><td>0</td><td>0</td><td>0</td><td>0</td><td>0</td><td>0</td><td>0</td><td>0</td><td>0</td><td>0</td><td>0</td><td>0</td><td>0</td></tr><tr><th>7</th><td>[&quot;advantage&quot;, &quot;fork&quot;, &quot;master&quot;, &quot;masterVsMaster&quot;, &quot;middlegame&quot;, &quot;short&quot;]</td><td>0</td><td>1</td><td>0</td><td>0</td><td>0</td><td>0</td><td>0</td><td>0</td><td>0</td><td>0</td><td>0</td><td>0</td><td>0</td><td>0</td><td>0</td><td>0</td><td>0</td><td>0</td><td>0</td><td>0</td><td>0</td><td>1</td><td>0</td><td>0</td><td>0</td><td>0</td><td>0</td><td>0</td><td>1</td><td>1</td><td>0</td><td>0</td><td>0</td><td>0</td><td>0</td><td>0</td><td>1</td><td>0</td><td>0</td><td>0</td><td>0</td><td>0</td><td>0</td><td>0</td><td>0</td><td>0</td><td>1</td><td>0</td><td>0</td><td>0</td><td>0</td><td>0</td><td>0</td><td>0</td></tr><tr><th>8</th><td>[&quot;crushing&quot;, &quot;master&quot;, &quot;masterVsMaster&quot;, &quot;middlegame&quot;, &quot;sacrifice&quot;, &quot;short&quot;]</td><td>0</td><td>0</td><td>0</td><td>0</td><td>0</td><td>0</td><td>0</td><td>0</td><td>0</td><td>0</td><td>0</td><td>0</td><td>1</td><td>0</td><td>0</td><td>0</td><td>0</td><td>0</td><td>0</td><td>0</td><td>0</td><td>0</td><td>0</td><td>0</td><td>0</td><td>0</td><td>0</td><td>0</td><td>1</td><td>1</td><td>0</td><td>0</td><td>0</td><td>0</td><td>0</td><td>0</td><td>1</td><td>0</td><td>0</td><td>0</td><td>0</td><td>0</td><td>0</td><td>0</td><td>0</td><td>1</td><td>1</td><td>0</td><td>0</td><td>0</td><td>0</td><td>0</td><td>0</td><td>0</td></tr><tr><th>9</th><td>[&quot;advantage&quot;, &quot;opening&quot;, &quot;short&quot;, &quot;trappedPiece&quot;]</td><td>0</td><td>1</td><td>0</td><td>0</td><td>0</td><td>0</td><td>0</td><td>0</td><td>0</td><td>0</td><td>0</td><td>0</td><td>0</td><td>0</td><td>0</td><td>0</td><td>0</td><td>0</td><td>0</td><td>0</td><td>0</td><td>0</td><td>0</td><td>0</td><td>0</td><td>0</td><td>0</td><td>0</td><td>0</td><td>0</td><td>0</td><td>0</td><td>0</td><td>0</td><td>0</td><td>0</td><td>0</td><td>0</td><td>1</td><td>0</td><td>0</td><td>0</td><td>0</td><td>0</td><td>0</td><td>0</td><td>1</td><td>0</td><td>0</td><td>0</td><td>1</td><td>0</td><td>0</td><td>0</td></tr><tr><th>10</th><td>[&quot;advantage&quot;, &quot;fork&quot;, &quot;middlegame&quot;, &quot;short&quot;]</td><td>0</td><td>1</td><td>0</td><td>0</td><td>0</td><td>0</td><td>0</td><td>0</td><td>0</td><td>0</td><td>0</td><td>0</td><td>0</td><td>0</td><td>0</td><td>0</td><td>0</td><td>0</td><td>0</td><td>0</td><td>0</td><td>1</td><td>0</td><td>0</td><td>0</td><td>0</td><td>0</td><td>0</td><td>0</td><td>0</td><td>0</td><td>0</td><td>0</td><td>0</td><td>0</td><td>0</td><td>1</td><td>0</td><td>0</td><td>0</td><td>0</td><td>0</td><td>0</td><td>0</td><td>0</td><td>0</td><td>1</td><td>0</td><td>0</td><td>0</td><td>0</td><td>0</td><td>0</td><td>0</td></tr><tr><th>11</th><td>[&quot;crushing&quot;, &quot;discoveredAttack&quot;, &quot;middlegame&quot;, &quot;short&quot;]</td><td>0</td><td>0</td><td>0</td><td>0</td><td>0</td><td>0</td><td>0</td><td>0</td><td>0</td><td>0</td><td>0</td><td>0</td><td>1</td><td>0</td><td>0</td><td>1</td><td>0</td><td>0</td><td>0</td><td>0</td><td>0</td><td>0</td><td>0</td><td>0</td><td>0</td><td>0</td><td>0</td><td>0</td><td>0</td><td>0</td><td>0</td><td>0</td><td>0</td><td>0</td><td>0</td><td>0</td><td>1</td><td>0</td><td>0</td><td>0</td><td>0</td><td>0</td><td>0</td><td>0</td><td>0</td><td>0</td><td>1</td><td>0</td><td>0</td><td>0</td><td>0</td><td>0</td><td>0</td><td>0</td></tr><tr><th>12</th><td>[&quot;crushing&quot;, &quot;kingsideAttack&quot;, &quot;middlegame&quot;, &quot;short&quot;]</td><td>0</td><td>0</td><td>0</td><td>0</td><td>0</td><td>0</td><td>0</td><td>0</td><td>0</td><td>0</td><td>0</td><td>0</td><td>1</td><td>0</td><td>0</td><td>0</td><td>0</td><td>0</td><td>0</td><td>0</td><td>0</td><td>0</td><td>0</td><td>0</td><td>0</td><td>0</td><td>1</td><td>0</td><td>0</td><td>0</td><td>0</td><td>0</td><td>0</td><td>0</td><td>0</td><td>0</td><td>1</td><td>0</td><td>0</td><td>0</td><td>0</td><td>0</td><td>0</td><td>0</td><td>0</td><td>0</td><td>1</td><td>0</td><td>0</td><td>0</td><td>0</td><td>0</td><td>0</td><td>0</td></tr><tr><th>&vellip;</th><td>&vellip;</td><td>&vellip;</td><td>&vellip;</td><td>&vellip;</td><td>&vellip;</td><td>&vellip;</td><td>&vellip;</td><td>&vellip;</td><td>&vellip;</td><td>&vellip;</td><td>&vellip;</td><td>&vellip;</td><td>&vellip;</td><td>&vellip;</td><td>&vellip;</td><td>&vellip;</td><td>&vellip;</td><td>&vellip;</td><td>&vellip;</td><td>&vellip;</td><td>&vellip;</td><td>&vellip;</td><td>&vellip;</td><td>&vellip;</td><td>&vellip;</td><td>&vellip;</td><td>&vellip;</td><td>&vellip;</td><td>&vellip;</td><td>&vellip;</td><td>&vellip;</td><td>&vellip;</td><td>&vellip;</td><td>&vellip;</td><td>&vellip;</td><td>&vellip;</td><td>&vellip;</td><td>&vellip;</td><td>&vellip;</td><td>&vellip;</td><td>&vellip;</td><td>&vellip;</td><td>&vellip;</td><td>&vellip;</td><td>&vellip;</td><td>&vellip;</td><td>&vellip;</td><td>&vellip;</td><td>&vellip;</td><td>&vellip;</td><td>&vellip;</td><td>&vellip;</td><td>&vellip;</td><td>&vellip;</td><td>&vellip;</td></tr></tbody></table></div>"
      ],
      "text/latex": [
       "\\begin{tabular}{r|ccccccccccccccccccccccccccccccccccccccccccccccccccccccc}\n",
       "\t& ThemesSplit & advancedPawn & advantage & anastasiaMate & arabianMate & attackingF2F7 & attraction & backRankMate & bishopEndgame & bodenMate & capturingDefender & castling & clearance & crushing & defensiveMove & deflection & discoveredAttack & doubleBishopMate & doubleCheck & dovetailMate & enPassant & exposedKing & fork & hangingPiece & hookMate & interference & intermezzo & kingsideAttack & long & master & masterVsMaster & mate & mateIn1 & mateIn2 & mateIn3 & mateIn4 & mateIn5 & middlegame & oneMove & opening & pin & promotion & queenRookEndgame & queensideAttack & quietMove & rookEndgame & sacrifice & short & skewer & smotheredMate & superGM & trappedPiece & underPromotion & veryLong & xRayAttack\\\\\n",
       "\t\\hline\n",
       "\t& Array… & Bool & Bool & Bool & Bool & Bool & Bool & Bool & Bool & Bool & Bool & Bool & Bool & Bool & Bool & Bool & Bool & Bool & Bool & Bool & Bool & Bool & Bool & Bool & Bool & Bool & Bool & Bool & Bool & Bool & Bool & Bool & Bool & Bool & Bool & Bool & Bool & Bool & Bool & Bool & Bool & Bool & Bool & Bool & Bool & Bool & Bool & Bool & Bool & Bool & Bool & Bool & Bool & Bool & Bool\\\\\n",
       "\t\\hline\n",
       "\t1 & [\"advantage\", \"middlegame\", \"short\"] & 0 & 1 & 0 & 0 & 0 & 0 & 0 & 0 & 0 & 0 & 0 & 0 & 0 & 0 & 0 & 0 & 0 & 0 & 0 & 0 & 0 & 0 & 0 & 0 & 0 & 0 & 0 & 0 & 0 & 0 & 0 & 0 & 0 & 0 & 0 & 0 & 1 & 0 & 0 & 0 & 0 & 0 & 0 & 0 & 0 & 0 & 1 & 0 & 0 & 0 & 0 & 0 & 0 & 0 \\\\\n",
       "\t2 & [\"advantage\", \"master\", \"middlegame\", \"short\"] & 0 & 1 & 0 & 0 & 0 & 0 & 0 & 0 & 0 & 0 & 0 & 0 & 0 & 0 & 0 & 0 & 0 & 0 & 0 & 0 & 0 & 0 & 0 & 0 & 0 & 0 & 0 & 0 & 1 & 0 & 0 & 0 & 0 & 0 & 0 & 0 & 1 & 0 & 0 & 0 & 0 & 0 & 0 & 0 & 0 & 0 & 1 & 0 & 0 & 0 & 0 & 0 & 0 & 0 \\\\\n",
       "\t3 & [\"mate\", \"mateIn2\", \"middlegame\", \"short\"] & 0 & 0 & 0 & 0 & 0 & 0 & 0 & 0 & 0 & 0 & 0 & 0 & 0 & 0 & 0 & 0 & 0 & 0 & 0 & 0 & 0 & 0 & 0 & 0 & 0 & 0 & 0 & 0 & 0 & 0 & 1 & 0 & 1 & 0 & 0 & 0 & 1 & 0 & 0 & 0 & 0 & 0 & 0 & 0 & 0 & 0 & 1 & 0 & 0 & 0 & 0 & 0 & 0 & 0 \\\\\n",
       "\t4 & [\"advantage\", \"middlegame\", \"short\"] & 0 & 1 & 0 & 0 & 0 & 0 & 0 & 0 & 0 & 0 & 0 & 0 & 0 & 0 & 0 & 0 & 0 & 0 & 0 & 0 & 0 & 0 & 0 & 0 & 0 & 0 & 0 & 0 & 0 & 0 & 0 & 0 & 0 & 0 & 0 & 0 & 1 & 0 & 0 & 0 & 0 & 0 & 0 & 0 & 0 & 0 & 1 & 0 & 0 & 0 & 0 & 0 & 0 & 0 \\\\\n",
       "\t5 & [\"bodenMate\", \"hangingPiece\", \"mate\", \"mateIn1\", \"middlegame\", \"oneMove\"] & 0 & 0 & 0 & 0 & 0 & 0 & 0 & 0 & 1 & 0 & 0 & 0 & 0 & 0 & 0 & 0 & 0 & 0 & 0 & 0 & 0 & 0 & 1 & 0 & 0 & 0 & 0 & 0 & 0 & 0 & 1 & 1 & 0 & 0 & 0 & 0 & 1 & 1 & 0 & 0 & 0 & 0 & 0 & 0 & 0 & 0 & 0 & 0 & 0 & 0 & 0 & 0 & 0 & 0 \\\\\n",
       "\t6 & [\"mate\", \"mateIn1\", \"oneMove\"] & 0 & 0 & 0 & 0 & 0 & 0 & 0 & 0 & 0 & 0 & 0 & 0 & 0 & 0 & 0 & 0 & 0 & 0 & 0 & 0 & 0 & 0 & 0 & 0 & 0 & 0 & 0 & 0 & 0 & 0 & 1 & 1 & 0 & 0 & 0 & 0 & 0 & 1 & 0 & 0 & 0 & 0 & 0 & 0 & 0 & 0 & 0 & 0 & 0 & 0 & 0 & 0 & 0 & 0 \\\\\n",
       "\t7 & [\"advantage\", \"fork\", \"master\", \"masterVsMaster\", \"middlegame\", \"short\"] & 0 & 1 & 0 & 0 & 0 & 0 & 0 & 0 & 0 & 0 & 0 & 0 & 0 & 0 & 0 & 0 & 0 & 0 & 0 & 0 & 0 & 1 & 0 & 0 & 0 & 0 & 0 & 0 & 1 & 1 & 0 & 0 & 0 & 0 & 0 & 0 & 1 & 0 & 0 & 0 & 0 & 0 & 0 & 0 & 0 & 0 & 1 & 0 & 0 & 0 & 0 & 0 & 0 & 0 \\\\\n",
       "\t8 & [\"crushing\", \"master\", \"masterVsMaster\", \"middlegame\", \"sacrifice\", \"short\"] & 0 & 0 & 0 & 0 & 0 & 0 & 0 & 0 & 0 & 0 & 0 & 0 & 1 & 0 & 0 & 0 & 0 & 0 & 0 & 0 & 0 & 0 & 0 & 0 & 0 & 0 & 0 & 0 & 1 & 1 & 0 & 0 & 0 & 0 & 0 & 0 & 1 & 0 & 0 & 0 & 0 & 0 & 0 & 0 & 0 & 1 & 1 & 0 & 0 & 0 & 0 & 0 & 0 & 0 \\\\\n",
       "\t9 & [\"advantage\", \"opening\", \"short\", \"trappedPiece\"] & 0 & 1 & 0 & 0 & 0 & 0 & 0 & 0 & 0 & 0 & 0 & 0 & 0 & 0 & 0 & 0 & 0 & 0 & 0 & 0 & 0 & 0 & 0 & 0 & 0 & 0 & 0 & 0 & 0 & 0 & 0 & 0 & 0 & 0 & 0 & 0 & 0 & 0 & 1 & 0 & 0 & 0 & 0 & 0 & 0 & 0 & 1 & 0 & 0 & 0 & 1 & 0 & 0 & 0 \\\\\n",
       "\t10 & [\"advantage\", \"fork\", \"middlegame\", \"short\"] & 0 & 1 & 0 & 0 & 0 & 0 & 0 & 0 & 0 & 0 & 0 & 0 & 0 & 0 & 0 & 0 & 0 & 0 & 0 & 0 & 0 & 1 & 0 & 0 & 0 & 0 & 0 & 0 & 0 & 0 & 0 & 0 & 0 & 0 & 0 & 0 & 1 & 0 & 0 & 0 & 0 & 0 & 0 & 0 & 0 & 0 & 1 & 0 & 0 & 0 & 0 & 0 & 0 & 0 \\\\\n",
       "\t11 & [\"crushing\", \"discoveredAttack\", \"middlegame\", \"short\"] & 0 & 0 & 0 & 0 & 0 & 0 & 0 & 0 & 0 & 0 & 0 & 0 & 1 & 0 & 0 & 1 & 0 & 0 & 0 & 0 & 0 & 0 & 0 & 0 & 0 & 0 & 0 & 0 & 0 & 0 & 0 & 0 & 0 & 0 & 0 & 0 & 1 & 0 & 0 & 0 & 0 & 0 & 0 & 0 & 0 & 0 & 1 & 0 & 0 & 0 & 0 & 0 & 0 & 0 \\\\\n",
       "\t12 & [\"crushing\", \"kingsideAttack\", \"middlegame\", \"short\"] & 0 & 0 & 0 & 0 & 0 & 0 & 0 & 0 & 0 & 0 & 0 & 0 & 1 & 0 & 0 & 0 & 0 & 0 & 0 & 0 & 0 & 0 & 0 & 0 & 0 & 0 & 1 & 0 & 0 & 0 & 0 & 0 & 0 & 0 & 0 & 0 & 1 & 0 & 0 & 0 & 0 & 0 & 0 & 0 & 0 & 0 & 1 & 0 & 0 & 0 & 0 & 0 & 0 & 0 \\\\\n",
       "\t$\\dots$ & $\\dots$ & $\\dots$ & $\\dots$ & $\\dots$ & $\\dots$ & $\\dots$ & $\\dots$ & $\\dots$ & $\\dots$ & $\\dots$ & $\\dots$ & $\\dots$ & $\\dots$ & $\\dots$ & $\\dots$ & $\\dots$ & $\\dots$ & $\\dots$ & $\\dots$ & $\\dots$ & $\\dots$ & $\\dots$ & $\\dots$ & $\\dots$ & $\\dots$ & $\\dots$ & $\\dots$ & $\\dots$ & $\\dots$ & $\\dots$ & $\\dots$ & $\\dots$ & $\\dots$ & $\\dots$ & $\\dots$ & $\\dots$ & $\\dots$ & $\\dots$ & $\\dots$ & $\\dots$ & $\\dots$ & $\\dots$ & $\\dots$ & $\\dots$ & $\\dots$ & $\\dots$ & $\\dots$ & $\\dots$ & $\\dots$ & $\\dots$ & $\\dots$ & $\\dots$ & $\\dots$ & $\\dots$ & $\\dots$ \\\\\n",
       "\\end{tabular}\n"
      ],
      "text/plain": [
       "\u001b[1m565133×55 DataFrame\u001b[0m\n",
       "\u001b[1m    Row \u001b[0m│\u001b[1m ThemesSplit                       \u001b[0m\u001b[1m advancedPawn \u001b[0m\u001b[1m advantage \u001b[0m\u001b[1m anastasiaMate \u001b[0m\u001b[1m arabianMate \u001b[0m\u001b[1m attackingF2F7 \u001b[0m\u001b[1m attraction \u001b[0m\u001b[1m backRankMate \u001b[0m\u001b[1m bishopEndgame \u001b[0m\u001b[1m bodenMate \u001b[0m\u001b[1m capturingDefender \u001b[0m\u001b[1m castling \u001b[0m\u001b[1m clearance \u001b[0m\u001b[1m crushing \u001b[0m\u001b[1m defensiveMove \u001b[0m\u001b[1m deflection \u001b[0m\u001b[1m discoveredAttack \u001b[0m\u001b[1m doubleBishopMate \u001b[0m\u001b[1m doubleCheck \u001b[0m\u001b[1m dovetailMate \u001b[0m\u001b[1m enPassant \u001b[0m\u001b[1m exposedKing \u001b[0m\u001b[1m fork  \u001b[0m\u001b[1m hangingPiece \u001b[0m\u001b[1m hookMate \u001b[0m\u001b[1m interference \u001b[0m\u001b[1m intermezzo \u001b[0m\u001b[1m kingsideAttack \u001b[0m\u001b[1m long  \u001b[0m\u001b[1m master \u001b[0m\u001b[1m masterVsMaster \u001b[0m\u001b[1m mate  \u001b[0m\u001b[1m mateIn1 \u001b[0m\u001b[1m mateIn2 \u001b[0m\u001b[1m mateIn3 \u001b[0m\u001b[1m mateIn4 \u001b[0m\u001b[1m mateIn5 \u001b[0m\u001b[1m middlegame \u001b[0m\u001b[1m oneMove \u001b[0m\u001b[1m opening \u001b[0m\u001b[1m pin   \u001b[0m\u001b[1m promotion \u001b[0m\u001b[1m queenRookEndgame \u001b[0m\u001b[1m queensideAttack \u001b[0m\u001b[1m quietMove \u001b[0m\u001b[1m rookEndgame \u001b[0m\u001b[1m sacrifice \u001b[0m\u001b[1m short \u001b[0m\u001b[1m skewer \u001b[0m\u001b[1m smotheredMate \u001b[0m\u001b[1m superGM \u001b[0m\u001b[1m trappedPiece \u001b[0m\u001b[1m underPromotion \u001b[0m\u001b[1m veryLong \u001b[0m\u001b[1m xRayAttack \u001b[0m\n",
       "\u001b[1m        \u001b[0m│\u001b[90m Array…                            \u001b[0m\u001b[90m Bool         \u001b[0m\u001b[90m Bool      \u001b[0m\u001b[90m Bool          \u001b[0m\u001b[90m Bool        \u001b[0m\u001b[90m Bool          \u001b[0m\u001b[90m Bool       \u001b[0m\u001b[90m Bool         \u001b[0m\u001b[90m Bool          \u001b[0m\u001b[90m Bool      \u001b[0m\u001b[90m Bool              \u001b[0m\u001b[90m Bool     \u001b[0m\u001b[90m Bool      \u001b[0m\u001b[90m Bool     \u001b[0m\u001b[90m Bool          \u001b[0m\u001b[90m Bool       \u001b[0m\u001b[90m Bool             \u001b[0m\u001b[90m Bool             \u001b[0m\u001b[90m Bool        \u001b[0m\u001b[90m Bool         \u001b[0m\u001b[90m Bool      \u001b[0m\u001b[90m Bool        \u001b[0m\u001b[90m Bool  \u001b[0m\u001b[90m Bool         \u001b[0m\u001b[90m Bool     \u001b[0m\u001b[90m Bool         \u001b[0m\u001b[90m Bool       \u001b[0m\u001b[90m Bool           \u001b[0m\u001b[90m Bool  \u001b[0m\u001b[90m Bool   \u001b[0m\u001b[90m Bool           \u001b[0m\u001b[90m Bool  \u001b[0m\u001b[90m Bool    \u001b[0m\u001b[90m Bool    \u001b[0m\u001b[90m Bool    \u001b[0m\u001b[90m Bool    \u001b[0m\u001b[90m Bool    \u001b[0m\u001b[90m Bool       \u001b[0m\u001b[90m Bool    \u001b[0m\u001b[90m Bool    \u001b[0m\u001b[90m Bool  \u001b[0m\u001b[90m Bool      \u001b[0m\u001b[90m Bool             \u001b[0m\u001b[90m Bool            \u001b[0m\u001b[90m Bool      \u001b[0m\u001b[90m Bool        \u001b[0m\u001b[90m Bool      \u001b[0m\u001b[90m Bool  \u001b[0m\u001b[90m Bool   \u001b[0m\u001b[90m Bool          \u001b[0m\u001b[90m Bool    \u001b[0m\u001b[90m Bool         \u001b[0m\u001b[90m Bool           \u001b[0m\u001b[90m Bool     \u001b[0m\u001b[90m Bool       \u001b[0m\n",
       "────────┼────────────────────────────────────────────────────────────────────────────────────────────────────────────────────────────────────────────────────────────────────────────────────────────────────────────────────────────────────────────────────────────────────────────────────────────────────────────────────────────────────────────────────────────────────────────────────────────────────────────────────────────────────────────────────────────────────────────────────────────────────────────────────────────────────────────────────────────────────────────────────────────────────────────────────────────────────────────────────────────────────────────────────────────────────────────\n",
       "      1 │ SubString{String}[\"advantage\", \"…         false       true          false        false          false       false         false          false      false              false     false      false     false          false       false             false             false        false         false      false        false  false         false     false         false       false           false  false   false           false  false    false    false    false    false    false        true    false    false  false      false             false            false      false        false      false   true   false          false    false         false           false     false       false\n",
       "      2 │ SubString{String}[\"advantage\", \"…         false       true          false        false          false       false         false          false      false              false     false      false     false          false       false             false             false        false         false      false        false  false         false     false         false       false           false  false    true           false  false    false    false    false    false    false        true    false    false  false      false             false            false      false        false      false   true   false          false    false         false           false     false       false\n",
       "   ⋮    │                 ⋮                       ⋮            ⋮            ⋮             ⋮             ⋮            ⋮            ⋮              ⋮            ⋮              ⋮             ⋮          ⋮         ⋮            ⋮            ⋮              ⋮                 ⋮               ⋮            ⋮            ⋮           ⋮         ⋮         ⋮           ⋮           ⋮            ⋮             ⋮           ⋮      ⋮           ⋮           ⋮       ⋮        ⋮        ⋮        ⋮        ⋮         ⋮          ⋮        ⋮       ⋮        ⋮             ⋮                 ⋮             ⋮           ⋮           ⋮        ⋮      ⋮           ⋮           ⋮          ⋮              ⋮            ⋮          ⋮\n",
       " 565133 │ SubString{String}[\"advantage\", \"…         false       true          false        false          false       false         false          false      false              false     false      false     false          false       false             false             false        false         false      false        false  false         false     false         false       false           false   true   false           false  false    false    false    false    false    false       false    false     true  false      false             false            false      false        false      false  false   false          false    false         false           false     false       false\n",
       "\u001b[36m                                                                                                                                                                                                                                                                                                                                                                                                                                                                                                                                                                                                                                                                                                  565130 rows omitted\u001b[0m"
      ]
     },
     "execution_count": 60,
     "metadata": {},
     "output_type": "execute_result"
    }
   ],
   "source": [
    "df2 = @chain df begin\n",
    "    select(:Themes, :Themes => ByRow(split) => :ThemesSplit)\n",
    "    select(:ThemesSplit, [:ThemesSplit => ByRow(x -> t in x) => t for t in all_themes])\n",
    "end"
   ]
  },
  {
   "cell_type": "markdown",
   "metadata": {},
   "source": [
    "Now let us do aggregation across rows. Let us count number of themes per puzzle.\n",
    "\n",
    "In the code we do it using two ways."
   ]
  },
  {
   "cell_type": "code",
   "execution_count": 61,
   "metadata": {},
   "outputs": [
    {
     "data": {
      "text/html": [
       "<div class=\"data-frame\"><p>565,133 rows × 2 columns</p><table class=\"data-frame\"><thead><tr><th></th><th>NbThemes1</th><th>NbThemes2</th></tr><tr><th></th><th title=\"Int64\">Int64</th><th title=\"Int64\">Int64</th></tr></thead><tbody><tr><th>1</th><td>3</td><td>3</td></tr><tr><th>2</th><td>4</td><td>4</td></tr><tr><th>3</th><td>4</td><td>4</td></tr><tr><th>4</th><td>3</td><td>3</td></tr><tr><th>5</th><td>6</td><td>6</td></tr><tr><th>6</th><td>3</td><td>3</td></tr><tr><th>7</th><td>6</td><td>6</td></tr><tr><th>8</th><td>6</td><td>6</td></tr><tr><th>9</th><td>4</td><td>4</td></tr><tr><th>10</th><td>4</td><td>4</td></tr><tr><th>11</th><td>4</td><td>4</td></tr><tr><th>12</th><td>4</td><td>4</td></tr><tr><th>&vellip;</th><td>&vellip;</td><td>&vellip;</td></tr></tbody></table></div>"
      ],
      "text/latex": [
       "\\begin{tabular}{r|cc}\n",
       "\t& NbThemes1 & NbThemes2\\\\\n",
       "\t\\hline\n",
       "\t& Int64 & Int64\\\\\n",
       "\t\\hline\n",
       "\t1 & 3 & 3 \\\\\n",
       "\t2 & 4 & 4 \\\\\n",
       "\t3 & 4 & 4 \\\\\n",
       "\t4 & 3 & 3 \\\\\n",
       "\t5 & 6 & 6 \\\\\n",
       "\t6 & 3 & 3 \\\\\n",
       "\t7 & 6 & 6 \\\\\n",
       "\t8 & 6 & 6 \\\\\n",
       "\t9 & 4 & 4 \\\\\n",
       "\t10 & 4 & 4 \\\\\n",
       "\t11 & 4 & 4 \\\\\n",
       "\t12 & 4 & 4 \\\\\n",
       "\t$\\dots$ & $\\dots$ & $\\dots$ \\\\\n",
       "\\end{tabular}\n"
      ],
      "text/plain": [
       "\u001b[1m565133×2 DataFrame\u001b[0m\n",
       "\u001b[1m    Row \u001b[0m│\u001b[1m NbThemes1 \u001b[0m\u001b[1m NbThemes2 \u001b[0m\n",
       "\u001b[1m        \u001b[0m│\u001b[90m Int64     \u001b[0m\u001b[90m Int64     \u001b[0m\n",
       "────────┼──────────────────────\n",
       "      1 │         3          3\n",
       "      2 │         4          4\n",
       "   ⋮    │     ⋮          ⋮\n",
       " 565133 │         3          3\n",
       "\u001b[36m            565130 rows omitted\u001b[0m"
      ]
     },
     "execution_count": 61,
     "metadata": {},
     "output_type": "execute_result"
    }
   ],
   "source": [
    "select(df2,\n",
    "       :ThemesSplit => ByRow(length) => :NbThemes1,\n",
    "       AsTable(Not(:ThemesSplit)) => ByRow(sum) => :NbThemes2)"
   ]
  },
  {
   "cell_type": "markdown",
   "metadata": {},
   "source": [
    "You can pass multiple columns to a function in two ways:\n",
    "* as a collection - in which case they become positional arguments\n",
    "* using `AsTable` in which case they are passed as a single `NamedTuple`"
   ]
  },
  {
   "cell_type": "markdown",
   "metadata": {},
   "source": [
    "The `AsTable` pattern normally produces a `NamedTuple`, which can be expensive to compile, but things are optimized for standard functions and `collect` composition:"
   ]
  },
  {
   "cell_type": "code",
   "execution_count": 62,
   "metadata": {},
   "outputs": [],
   "source": [
    "wide_df = DataFrame(ones(1000, 100_000), :auto);"
   ]
  },
  {
   "cell_type": "code",
   "execution_count": 63,
   "metadata": {},
   "outputs": [
    {
     "name": "stdout",
     "output_type": "stream",
     "text": [
      "  0.275594 seconds (573.88 k allocations: 33.225 MiB, 65.96% compilation time)\n"
     ]
    }
   ],
   "source": [
    "@time combine(wide_df, AsTable(:) => ByRow(sum) => :rowsum);"
   ]
  },
  {
   "cell_type": "code",
   "execution_count": 64,
   "metadata": {},
   "outputs": [
    {
     "name": "stdout",
     "output_type": "stream",
     "text": [
      "  0.105923 seconds (199.69 k allocations: 13.376 MiB)\n"
     ]
    }
   ],
   "source": [
    "@time combine(wide_df, AsTable(:) => ByRow(sum) => :rowsum);"
   ]
  },
  {
   "cell_type": "markdown",
   "metadata": {},
   "source": [
    "Below is an example of using `collect` to speed up execution of custom aggregation:"
   ]
  },
  {
   "cell_type": "code",
   "execution_count": 65,
   "metadata": {},
   "outputs": [
    {
     "data": {
      "text/plain": [
       "some_function (generic function with 1 method)"
      ]
     },
     "execution_count": 65,
     "metadata": {},
     "output_type": "execute_result"
    }
   ],
   "source": [
    "some_function(v) = maximum(v) - minimum(v)"
   ]
  },
  {
   "cell_type": "code",
   "execution_count": 66,
   "metadata": {},
   "outputs": [
    {
     "name": "stdout",
     "output_type": "stream",
     "text": [
      "  4.599567 seconds (1.48 M allocations: 852.116 MiB, 9.36% gc time, 10.81% compilation time)\n"
     ]
    }
   ],
   "source": [
    "@time combine(wide_df, AsTable(:) => ByRow(some_function∘collect) => :rowsum);"
   ]
  },
  {
   "cell_type": "code",
   "execution_count": 67,
   "metadata": {},
   "outputs": [
    {
     "name": "stdout",
     "output_type": "stream",
     "text": [
      "  3.645983 seconds (301.19 k allocations: 780.168 MiB)\n"
     ]
    }
   ],
   "source": [
    "@time combine(wide_df, AsTable(:) => ByRow(some_function∘collect) => :rowsum);"
   ]
  },
  {
   "cell_type": "markdown",
   "metadata": {},
   "source": [
    "You can use an experimental `DataFrames.isreadonly` function to pass information to DataFrames.jl that the function only reads source data, which allows further optimizations:"
   ]
  },
  {
   "cell_type": "code",
   "execution_count": 68,
   "metadata": {},
   "outputs": [],
   "source": [
    "DataFrames.isreadonly(::typeof(some_function)) = true"
   ]
  },
  {
   "cell_type": "code",
   "execution_count": 69,
   "metadata": {},
   "outputs": [
    {
     "name": "stdout",
     "output_type": "stream",
     "text": [
      "  3.622353 seconds (311.19 k allocations: 17.777 MiB, 0.67% compilation time)\n"
     ]
    }
   ],
   "source": [
    "@time combine(wide_df, AsTable(:) => ByRow(some_function∘collect) => :rowsum);"
   ]
  },
  {
   "cell_type": "code",
   "execution_count": 70,
   "metadata": {},
   "outputs": [
    {
     "name": "stdout",
     "output_type": "stream",
     "text": [
      "  3.858759 seconds (299.19 k allocations: 17.183 MiB)\n"
     ]
    }
   ],
   "source": [
    "@time combine(wide_df, AsTable(:) => ByRow(some_function∘collect) => :rowsum);"
   ]
  },
  {
   "cell_type": "markdown",
   "metadata": {},
   "source": [
    "If you are interested in details how this works check out the docstring of related unexported functions:"
   ]
  },
  {
   "cell_type": "code",
   "execution_count": 71,
   "metadata": {},
   "outputs": [
    {
     "data": {
      "text/latex": [
       "\\begin{verbatim}\n",
       "table_transformation(df_sel::AbstractDataFrame, fun)\n",
       "\\end{verbatim}\n",
       "This is the function called when \\texttt{AsTable(...) => fun} is requested. The \\texttt{df\\_sel} argument is a data frame storing columns selected by the \\texttt{AsTable(...)} selector.\n",
       "\n",
       "By default it calls \\texttt{default\\_table\\_transformation}. However, it is allowed to add special methods for specific types of \\texttt{fun}, as long as the result matches what would be produced by \\texttt{default\\_table\\_transformation}, except that it is allowed to perform \\texttt{eltype} conversion of the resulting vectors or value type promotions that are consistent with \\texttt{promote\\_type}.\n",
       "\n",
       "It is guaranteed that \\texttt{df\\_sel} has at least one column.\n",
       "\n",
       "The main use of special \\texttt{table\\_transformation} methods is to provide more efficient than the default implementations of requested \\texttt{fun} transformation.\n",
       "\n",
       "This function might become a part of the public API of DataFrames.jl in the future, currently it should be considered experimental.\n",
       "\n",
       "Fast paths are implemented within DataFrames.jl for the following functions \\texttt{fun}:\n",
       "\n",
       "\\begin{itemize}\n",
       "\\item \\texttt{sum}, \\texttt{ByRow(sum),}ByRow(sum∘skipmissing)`\n",
       "\n",
       "\n",
       "\\item \\texttt{length}, \\texttt{ByRow(length)}, \\texttt{ByRow(length∘skipmissing)}\n",
       "\n",
       "\n",
       "\\item \\texttt{mean}, \\texttt{ByRow(mean),}ByRow(mean∘skipmissing)`\n",
       "\n",
       "\n",
       "\\item \\texttt{ByRow(var),}ByRow(var∘skipmissing)`\n",
       "\n",
       "\n",
       "\\item \\texttt{ByRow(std),}ByRow(std∘skipmissing)`\n",
       "\n",
       "\n",
       "\\item \\texttt{ByRow(median),}ByRow(median∘skipmissing)`\n",
       "\n",
       "\n",
       "\\item \\texttt{minimum}, \\texttt{ByRow(minimum)}, \\texttt{ByRow(minimum∘skipmissing)}\n",
       "\n",
       "\n",
       "\\item \\texttt{maximum}, \\texttt{ByRow(maximum)}, \\texttt{ByRow(maximum∘skipmissing)}\n",
       "\n",
       "\n",
       "\\item \\texttt{fun∘collect} and \\texttt{ByRow(fun∘collect)} where \\texttt{fun} is any function\n",
       "\n",
       "\\end{itemize}\n",
       "Note that in order to improve the performance \\texttt{ByRow(sum)}, \\texttt{ByRow(sum∘skipmissing)}, \\texttt{ByRow(mean)}, and \\texttt{ByRow(mean∘skipmissing)} perform all operations in the target element type. In some very rare cases (like mixing very large \\texttt{Int64} values and \\texttt{Float64} values) it can lead to a result different from the one that would be obtained by calling the function outside of DataFrames.jl. The way to avoid this precision loss is to use an anonymous function, e.g. instead of \\texttt{ByRow(sum)} use \\texttt{ByRow(x -> sum(x))}. However, in general for such scenarios even standard aggregation functions should not be considered to provide reliable output, and users are recommended to switch to higher precision calculations. An example of a case when standard \\texttt{sum} is affected by the situation discussed is:\n",
       "\n",
       "\\begin{verbatim}\n",
       "julia> sum(Any[typemax(Int), typemax(Int), 1.0])\n",
       "-1.0\n",
       "\n",
       "julia> sum(Any[1.0, typemax(Int), typemax(Int)])\n",
       "1.8446744073709552e19\n",
       "\\end{verbatim}\n"
      ],
      "text/markdown": [
       "```\n",
       "table_transformation(df_sel::AbstractDataFrame, fun)\n",
       "```\n",
       "\n",
       "This is the function called when `AsTable(...) => fun` is requested. The `df_sel` argument is a data frame storing columns selected by the `AsTable(...)` selector.\n",
       "\n",
       "By default it calls `default_table_transformation`. However, it is allowed to add special methods for specific types of `fun`, as long as the result matches what would be produced by `default_table_transformation`, except that it is allowed to perform `eltype` conversion of the resulting vectors or value type promotions that are consistent with `promote_type`.\n",
       "\n",
       "It is guaranteed that `df_sel` has at least one column.\n",
       "\n",
       "The main use of special `table_transformation` methods is to provide more efficient than the default implementations of requested `fun` transformation.\n",
       "\n",
       "This function might become a part of the public API of DataFrames.jl in the future, currently it should be considered experimental.\n",
       "\n",
       "Fast paths are implemented within DataFrames.jl for the following functions `fun`:\n",
       "\n",
       "  * `sum`, `ByRow(sum),`ByRow(sum∘skipmissing)`\n",
       "  * `length`, `ByRow(length)`, `ByRow(length∘skipmissing)`\n",
       "  * `mean`, `ByRow(mean),`ByRow(mean∘skipmissing)`\n",
       "  * `ByRow(var),`ByRow(var∘skipmissing)`\n",
       "  * `ByRow(std),`ByRow(std∘skipmissing)`\n",
       "  * `ByRow(median),`ByRow(median∘skipmissing)`\n",
       "  * `minimum`, `ByRow(minimum)`, `ByRow(minimum∘skipmissing)`\n",
       "  * `maximum`, `ByRow(maximum)`, `ByRow(maximum∘skipmissing)`\n",
       "  * `fun∘collect` and `ByRow(fun∘collect)` where `fun` is any function\n",
       "\n",
       "Note that in order to improve the performance `ByRow(sum)`, `ByRow(sum∘skipmissing)`, `ByRow(mean)`, and `ByRow(mean∘skipmissing)` perform all operations in the target element type. In some very rare cases (like mixing very large `Int64` values and `Float64` values) it can lead to a result different from the one that would be obtained by calling the function outside of DataFrames.jl. The way to avoid this precision loss is to use an anonymous function, e.g. instead of `ByRow(sum)` use `ByRow(x -> sum(x))`. However, in general for such scenarios even standard aggregation functions should not be considered to provide reliable output, and users are recommended to switch to higher precision calculations. An example of a case when standard `sum` is affected by the situation discussed is:\n",
       "\n",
       "```\n",
       "julia> sum(Any[typemax(Int), typemax(Int), 1.0])\n",
       "-1.0\n",
       "\n",
       "julia> sum(Any[1.0, typemax(Int), typemax(Int)])\n",
       "1.8446744073709552e19\n",
       "```\n"
      ],
      "text/plain": [
       "\u001b[36m  table_transformation(df_sel::AbstractDataFrame, fun)\u001b[39m\n",
       "\n",
       "  This is the function called when \u001b[36mAsTable(...) => fun\u001b[39m is requested. The \u001b[36mdf_sel\u001b[39m argument is a data frame storing columns selected by the \u001b[36mAsTable(...)\u001b[39m selector.\n",
       "\n",
       "  By default it calls \u001b[36mdefault_table_transformation\u001b[39m. However, it is allowed to add special methods for specific types of \u001b[36mfun\u001b[39m, as long as the result matches what would be produced by \u001b[36mdefault_table_transformation\u001b[39m, except that it is allowed to perform \u001b[36meltype\u001b[39m conversion of the resulting vectors or value type promotions that are consistent with \u001b[36mpromote_type\u001b[39m.\n",
       "\n",
       "  It is guaranteed that \u001b[36mdf_sel\u001b[39m has at least one column.\n",
       "\n",
       "  The main use of special \u001b[36mtable_transformation\u001b[39m methods is to provide more efficient than the default implementations of requested \u001b[36mfun\u001b[39m transformation.\n",
       "\n",
       "  This function might become a part of the public API of DataFrames.jl in the future, currently it should be considered experimental.\n",
       "\n",
       "  Fast paths are implemented within DataFrames.jl for the following functions \u001b[36mfun\u001b[39m:\n",
       "\n",
       "    •  \u001b[36msum\u001b[39m, \u001b[36mByRow(sum),\u001b[39mByRow(sum∘skipmissing)`\n",
       "\n",
       "    •  \u001b[36mlength\u001b[39m, \u001b[36mByRow(length)\u001b[39m, \u001b[36mByRow(length∘skipmissing)\u001b[39m\n",
       "\n",
       "    •  \u001b[36mmean\u001b[39m, \u001b[36mByRow(mean),\u001b[39mByRow(mean∘skipmissing)`\n",
       "\n",
       "    •  \u001b[36mByRow(var),\u001b[39mByRow(var∘skipmissing)`\n",
       "\n",
       "    •  \u001b[36mByRow(std),\u001b[39mByRow(std∘skipmissing)`\n",
       "\n",
       "    •  \u001b[36mByRow(median),\u001b[39mByRow(median∘skipmissing)`\n",
       "\n",
       "    •  \u001b[36mminimum\u001b[39m, \u001b[36mByRow(minimum)\u001b[39m, \u001b[36mByRow(minimum∘skipmissing)\u001b[39m\n",
       "\n",
       "    •  \u001b[36mmaximum\u001b[39m, \u001b[36mByRow(maximum)\u001b[39m, \u001b[36mByRow(maximum∘skipmissing)\u001b[39m\n",
       "\n",
       "    •  \u001b[36mfun∘collect\u001b[39m and \u001b[36mByRow(fun∘collect)\u001b[39m where \u001b[36mfun\u001b[39m is any function\n",
       "\n",
       "  Note that in order to improve the performance \u001b[36mByRow(sum)\u001b[39m, \u001b[36mByRow(sum∘skipmissing)\u001b[39m, \u001b[36mByRow(mean)\u001b[39m, and \u001b[36mByRow(mean∘skipmissing)\u001b[39m perform all operations in the target element type. In some very rare cases (like mixing very large \u001b[36mInt64\u001b[39m values and \u001b[36mFloat64\u001b[39m values) it can lead to a result different from the one that would be obtained by calling the function outside of DataFrames.jl. The way to avoid this precision loss is to use an anonymous function, e.g. instead of \u001b[36mByRow(sum)\u001b[39m use \u001b[36mByRow(x -> sum(x))\u001b[39m. However, in general for such scenarios even standard aggregation functions should not be considered to provide reliable output, and users are recommended to switch to higher precision calculations. An example of a case when standard \u001b[36msum\u001b[39m is affected by the situation discussed is:\n",
       "\n",
       "\u001b[36m  julia> sum(Any[typemax(Int), typemax(Int), 1.0])\u001b[39m\n",
       "\u001b[36m  -1.0\u001b[39m\n",
       "\u001b[36m  \u001b[39m\n",
       "\u001b[36m  julia> sum(Any[1.0, typemax(Int), typemax(Int)])\u001b[39m\n",
       "\u001b[36m  1.8446744073709552e19\u001b[39m"
      ]
     },
     "execution_count": 71,
     "metadata": {},
     "output_type": "execute_result"
    }
   ],
   "source": [
    "?DataFrames.table_transformation"
   ]
  },
  {
   "cell_type": "code",
   "execution_count": 72,
   "metadata": {},
   "outputs": [
    {
     "data": {
      "text/latex": [
       "\\begin{verbatim}\n",
       "isreadonly(fun)\n",
       "\\end{verbatim}\n",
       "Trait returning a \\texttt{Bool} indicator if function \\texttt{fun} is only reading the passed argument. Such a function guarantees not to modify nor return in any form the passed argument. By default \\texttt{false} is returned.\n",
       "\n",
       "This function might become a part of the public API of DataFrames.jl in the future, currently it should be considered experimental. Adding a method to \\texttt{isreadonly} for a specific function \\texttt{fun} will improve performance of \\texttt{AsTable(...) => ByRow(fun∘collect)} operation.\n",
       "\n"
      ],
      "text/markdown": [
       "```\n",
       "isreadonly(fun)\n",
       "```\n",
       "\n",
       "Trait returning a `Bool` indicator if function `fun` is only reading the passed argument. Such a function guarantees not to modify nor return in any form the passed argument. By default `false` is returned.\n",
       "\n",
       "This function might become a part of the public API of DataFrames.jl in the future, currently it should be considered experimental. Adding a method to `isreadonly` for a specific function `fun` will improve performance of `AsTable(...) => ByRow(fun∘collect)` operation.\n"
      ],
      "text/plain": [
       "\u001b[36m  isreadonly(fun)\u001b[39m\n",
       "\n",
       "  Trait returning a \u001b[36mBool\u001b[39m indicator if function \u001b[36mfun\u001b[39m is only reading the passed argument. Such a function guarantees not to modify nor return in any form the passed argument. By default \u001b[36mfalse\u001b[39m is returned.\n",
       "\n",
       "  This function might become a part of the public API of DataFrames.jl in the future, currently it should be considered experimental. Adding a method to \u001b[36misreadonly\u001b[39m for a specific function \u001b[36mfun\u001b[39m will improve performance of \u001b[36mAsTable(...) => ByRow(fun∘collect)\u001b[39m operation."
      ]
     },
     "execution_count": 72,
     "metadata": {},
     "output_type": "execute_result"
    }
   ],
   "source": [
    "?DataFrames.isreadonly"
   ]
  },
  {
   "cell_type": "markdown",
   "metadata": {},
   "source": [
    "You now know how to use `AsTable` on a source side.\n",
    "\n",
    "Here is an example of passing arguments as multiple positional arguments:"
   ]
  },
  {
   "cell_type": "code",
   "execution_count": 73,
   "metadata": {},
   "outputs": [
    {
     "data": {
      "text/html": [
       "<div class=\"data-frame\"><p>5 rows × 2 columns</p><table class=\"data-frame\"><thead><tr><th></th><th>Popularity_5</th><th>Rating_NbPlays_cor</th></tr><tr><th></th><th title=\"CategoricalValue{String, UInt32}\">Cat…</th><th title=\"Float64\">Float64</th></tr></thead><tbody><tr><th>1</th><td>Q1: [-100.0, 78.0)</td><td>-0.00963607</td></tr><tr><th>2</th><td>Q2: [78.0, 86.0)</td><td>-0.0157894</td></tr><tr><th>3</th><td>Q3: [86.0, 92.0)</td><td>0.00742961</td></tr><tr><th>4</th><td>Q4: [92.0, 95.0)</td><td>0.0720897</td></tr><tr><th>5</th><td>Q5: [95.0, 171.0]</td><td>0.120786</td></tr></tbody></table></div>"
      ],
      "text/latex": [
       "\\begin{tabular}{r|cc}\n",
       "\t& Popularity\\_5 & Rating\\_NbPlays\\_cor\\\\\n",
       "\t\\hline\n",
       "\t& Cat… & Float64\\\\\n",
       "\t\\hline\n",
       "\t1 & Q1: [-100.0, 78.0) & -0.00963607 \\\\\n",
       "\t2 & Q2: [78.0, 86.0) & -0.0157894 \\\\\n",
       "\t3 & Q3: [86.0, 92.0) & 0.00742961 \\\\\n",
       "\t4 & Q4: [92.0, 95.0) & 0.0720897 \\\\\n",
       "\t5 & Q5: [95.0, 171.0] & 0.120786 \\\\\n",
       "\\end{tabular}\n"
      ],
      "text/plain": [
       "\u001b[1m5×2 DataFrame\u001b[0m\n",
       "\u001b[1m Row \u001b[0m│\u001b[1m Popularity_5       \u001b[0m\u001b[1m Rating_NbPlays_cor \u001b[0m\n",
       "\u001b[1m     \u001b[0m│\u001b[90m Categorical…       \u001b[0m\u001b[90m Float64            \u001b[0m\n",
       "─────┼────────────────────────────────────────\n",
       "   1 │ Q1: [-100.0, 78.0)         -0.00963607\n",
       "   2 │ Q2: [78.0, 86.0)           -0.0157894\n",
       "   3 │ Q3: [86.0, 92.0)            0.00742961\n",
       "   4 │ Q4: [92.0, 95.0)            0.0720897\n",
       "   5 │ Q5: [95.0, 171.0]           0.120786"
      ]
     },
     "execution_count": 73,
     "metadata": {},
     "output_type": "execute_result"
    }
   ],
   "source": [
    "@chain df begin\n",
    "    transform(:Popularity => (x -> cut(x, 5)) => :Popularity_5)\n",
    "    groupby(:Popularity_5)\n",
    "    combine([:Rating, :NbPlays] => cor)\n",
    "end"
   ]
  },
  {
   "cell_type": "markdown",
   "metadata": {},
   "source": [
    "This is the same but uses a syntax that passes `NamedTuple` to a function. Note that you have access to column names."
   ]
  },
  {
   "cell_type": "code",
   "execution_count": 74,
   "metadata": {},
   "outputs": [
    {
     "data": {
      "text/html": [
       "<div class=\"data-frame\"><p>5 rows × 2 columns</p><table class=\"data-frame\"><thead><tr><th></th><th>Popularity_5</th><th>Rating_NbPlays_function</th></tr><tr><th></th><th title=\"CategoricalValue{String, UInt32}\">Cat…</th><th title=\"Float64\">Float64</th></tr></thead><tbody><tr><th>1</th><td>Q1: [-100.0, 78.0)</td><td>-0.00963607</td></tr><tr><th>2</th><td>Q2: [78.0, 86.0)</td><td>-0.0157894</td></tr><tr><th>3</th><td>Q3: [86.0, 92.0)</td><td>0.00742961</td></tr><tr><th>4</th><td>Q4: [92.0, 95.0)</td><td>0.0720897</td></tr><tr><th>5</th><td>Q5: [95.0, 171.0]</td><td>0.120786</td></tr></tbody></table></div>"
      ],
      "text/latex": [
       "\\begin{tabular}{r|cc}\n",
       "\t& Popularity\\_5 & Rating\\_NbPlays\\_function\\\\\n",
       "\t\\hline\n",
       "\t& Cat… & Float64\\\\\n",
       "\t\\hline\n",
       "\t1 & Q1: [-100.0, 78.0) & -0.00963607 \\\\\n",
       "\t2 & Q2: [78.0, 86.0) & -0.0157894 \\\\\n",
       "\t3 & Q3: [86.0, 92.0) & 0.00742961 \\\\\n",
       "\t4 & Q4: [92.0, 95.0) & 0.0720897 \\\\\n",
       "\t5 & Q5: [95.0, 171.0] & 0.120786 \\\\\n",
       "\\end{tabular}\n"
      ],
      "text/plain": [
       "\u001b[1m5×2 DataFrame\u001b[0m\n",
       "\u001b[1m Row \u001b[0m│\u001b[1m Popularity_5       \u001b[0m\u001b[1m Rating_NbPlays_function \u001b[0m\n",
       "\u001b[1m     \u001b[0m│\u001b[90m Categorical…       \u001b[0m\u001b[90m Float64                 \u001b[0m\n",
       "─────┼─────────────────────────────────────────────\n",
       "   1 │ Q1: [-100.0, 78.0)              -0.00963607\n",
       "   2 │ Q2: [78.0, 86.0)                -0.0157894\n",
       "   3 │ Q3: [86.0, 92.0)                 0.00742961\n",
       "   4 │ Q4: [92.0, 95.0)                 0.0720897\n",
       "   5 │ Q5: [95.0, 171.0]                0.120786"
      ]
     },
     "execution_count": 74,
     "metadata": {},
     "output_type": "execute_result"
    }
   ],
   "source": [
    "@chain df begin\n",
    "    transform(:Popularity => (x -> cut(x, 5)) => :Popularity_5)\n",
    "    groupby(:Popularity_5)\n",
    "    combine(AsTable([:Rating, :NbPlays]) => x -> cor(x.Rating, x.NbPlays))\n",
    "end"
   ]
  },
  {
   "cell_type": "markdown",
   "metadata": {},
   "source": [
    "Before we move forward let us check another way to do one-hot-encoding (it is slower, but show some more functionalities that you are likely to find useful)."
   ]
  },
  {
   "cell_type": "code",
   "execution_count": 75,
   "metadata": {},
   "outputs": [
    {
     "data": {
      "text/html": [
       "<div class=\"data-frame\"><p>565,133 rows × 54 columns</p><table class=\"data-frame\"><thead><tr><th></th><th>advancedPawn</th><th>advantage</th><th>anastasiaMate</th><th>arabianMate</th><th>attackingF2F7</th><th>attraction</th><th>backRankMate</th><th>bishopEndgame</th><th>bodenMate</th><th>capturingDefender</th><th>castling</th><th>clearance</th><th>crushing</th><th>defensiveMove</th><th>deflection</th><th>discoveredAttack</th><th>doubleBishopMate</th><th>doubleCheck</th><th>dovetailMate</th><th>enPassant</th><th>exposedKing</th><th>fork</th><th>hangingPiece</th><th>hookMate</th><th>interference</th><th>intermezzo</th><th>kingsideAttack</th><th>long</th><th>master</th><th>masterVsMaster</th><th>mate</th><th>mateIn1</th><th>mateIn2</th><th>mateIn3</th><th>mateIn4</th><th>mateIn5</th><th>middlegame</th><th>oneMove</th><th>opening</th><th>pin</th><th>promotion</th><th>queenRookEndgame</th><th>queensideAttack</th><th>quietMove</th><th>rookEndgame</th><th>sacrifice</th><th>short</th><th>skewer</th><th>smotheredMate</th><th>superGM</th><th>trappedPiece</th><th>underPromotion</th><th>veryLong</th><th>xRayAttack</th></tr><tr><th></th><th title=\"Bool\">Bool</th><th title=\"Bool\">Bool</th><th title=\"Bool\">Bool</th><th title=\"Bool\">Bool</th><th title=\"Bool\">Bool</th><th title=\"Bool\">Bool</th><th title=\"Bool\">Bool</th><th title=\"Bool\">Bool</th><th title=\"Bool\">Bool</th><th title=\"Bool\">Bool</th><th title=\"Bool\">Bool</th><th title=\"Bool\">Bool</th><th title=\"Bool\">Bool</th><th title=\"Bool\">Bool</th><th title=\"Bool\">Bool</th><th title=\"Bool\">Bool</th><th title=\"Bool\">Bool</th><th title=\"Bool\">Bool</th><th title=\"Bool\">Bool</th><th title=\"Bool\">Bool</th><th title=\"Bool\">Bool</th><th title=\"Bool\">Bool</th><th title=\"Bool\">Bool</th><th title=\"Bool\">Bool</th><th title=\"Bool\">Bool</th><th title=\"Bool\">Bool</th><th title=\"Bool\">Bool</th><th title=\"Bool\">Bool</th><th title=\"Bool\">Bool</th><th title=\"Bool\">Bool</th><th title=\"Bool\">Bool</th><th title=\"Bool\">Bool</th><th title=\"Bool\">Bool</th><th title=\"Bool\">Bool</th><th title=\"Bool\">Bool</th><th title=\"Bool\">Bool</th><th title=\"Bool\">Bool</th><th title=\"Bool\">Bool</th><th title=\"Bool\">Bool</th><th title=\"Bool\">Bool</th><th title=\"Bool\">Bool</th><th title=\"Bool\">Bool</th><th title=\"Bool\">Bool</th><th title=\"Bool\">Bool</th><th title=\"Bool\">Bool</th><th title=\"Bool\">Bool</th><th title=\"Bool\">Bool</th><th title=\"Bool\">Bool</th><th title=\"Bool\">Bool</th><th title=\"Bool\">Bool</th><th title=\"Bool\">Bool</th><th title=\"Bool\">Bool</th><th title=\"Bool\">Bool</th><th title=\"Bool\">Bool</th></tr></thead><tbody><tr><th>1</th><td>0</td><td>1</td><td>0</td><td>0</td><td>0</td><td>0</td><td>0</td><td>0</td><td>0</td><td>0</td><td>0</td><td>0</td><td>0</td><td>0</td><td>0</td><td>0</td><td>0</td><td>0</td><td>0</td><td>0</td><td>0</td><td>0</td><td>0</td><td>0</td><td>0</td><td>0</td><td>0</td><td>0</td><td>0</td><td>0</td><td>0</td><td>0</td><td>0</td><td>0</td><td>0</td><td>0</td><td>1</td><td>0</td><td>0</td><td>0</td><td>0</td><td>0</td><td>0</td><td>0</td><td>0</td><td>0</td><td>1</td><td>0</td><td>0</td><td>0</td><td>0</td><td>0</td><td>0</td><td>0</td></tr><tr><th>2</th><td>0</td><td>1</td><td>0</td><td>0</td><td>0</td><td>0</td><td>0</td><td>0</td><td>0</td><td>0</td><td>0</td><td>0</td><td>0</td><td>0</td><td>0</td><td>0</td><td>0</td><td>0</td><td>0</td><td>0</td><td>0</td><td>0</td><td>0</td><td>0</td><td>0</td><td>0</td><td>0</td><td>0</td><td>1</td><td>0</td><td>0</td><td>0</td><td>0</td><td>0</td><td>0</td><td>0</td><td>1</td><td>0</td><td>0</td><td>0</td><td>0</td><td>0</td><td>0</td><td>0</td><td>0</td><td>0</td><td>1</td><td>0</td><td>0</td><td>0</td><td>0</td><td>0</td><td>0</td><td>0</td></tr><tr><th>3</th><td>0</td><td>0</td><td>0</td><td>0</td><td>0</td><td>0</td><td>0</td><td>0</td><td>0</td><td>0</td><td>0</td><td>0</td><td>0</td><td>0</td><td>0</td><td>0</td><td>0</td><td>0</td><td>0</td><td>0</td><td>0</td><td>0</td><td>0</td><td>0</td><td>0</td><td>0</td><td>0</td><td>0</td><td>0</td><td>0</td><td>1</td><td>0</td><td>1</td><td>0</td><td>0</td><td>0</td><td>1</td><td>0</td><td>0</td><td>0</td><td>0</td><td>0</td><td>0</td><td>0</td><td>0</td><td>0</td><td>1</td><td>0</td><td>0</td><td>0</td><td>0</td><td>0</td><td>0</td><td>0</td></tr><tr><th>4</th><td>0</td><td>1</td><td>0</td><td>0</td><td>0</td><td>0</td><td>0</td><td>0</td><td>0</td><td>0</td><td>0</td><td>0</td><td>0</td><td>0</td><td>0</td><td>0</td><td>0</td><td>0</td><td>0</td><td>0</td><td>0</td><td>0</td><td>0</td><td>0</td><td>0</td><td>0</td><td>0</td><td>0</td><td>0</td><td>0</td><td>0</td><td>0</td><td>0</td><td>0</td><td>0</td><td>0</td><td>1</td><td>0</td><td>0</td><td>0</td><td>0</td><td>0</td><td>0</td><td>0</td><td>0</td><td>0</td><td>1</td><td>0</td><td>0</td><td>0</td><td>0</td><td>0</td><td>0</td><td>0</td></tr><tr><th>5</th><td>0</td><td>0</td><td>0</td><td>0</td><td>0</td><td>0</td><td>0</td><td>0</td><td>1</td><td>0</td><td>0</td><td>0</td><td>0</td><td>0</td><td>0</td><td>0</td><td>0</td><td>0</td><td>0</td><td>0</td><td>0</td><td>0</td><td>1</td><td>0</td><td>0</td><td>0</td><td>0</td><td>0</td><td>0</td><td>0</td><td>1</td><td>1</td><td>0</td><td>0</td><td>0</td><td>0</td><td>1</td><td>1</td><td>0</td><td>0</td><td>0</td><td>0</td><td>0</td><td>0</td><td>0</td><td>0</td><td>0</td><td>0</td><td>0</td><td>0</td><td>0</td><td>0</td><td>0</td><td>0</td></tr><tr><th>6</th><td>0</td><td>0</td><td>0</td><td>0</td><td>0</td><td>0</td><td>0</td><td>0</td><td>0</td><td>0</td><td>0</td><td>0</td><td>0</td><td>0</td><td>0</td><td>0</td><td>0</td><td>0</td><td>0</td><td>0</td><td>0</td><td>0</td><td>0</td><td>0</td><td>0</td><td>0</td><td>0</td><td>0</td><td>0</td><td>0</td><td>1</td><td>1</td><td>0</td><td>0</td><td>0</td><td>0</td><td>0</td><td>1</td><td>0</td><td>0</td><td>0</td><td>0</td><td>0</td><td>0</td><td>0</td><td>0</td><td>0</td><td>0</td><td>0</td><td>0</td><td>0</td><td>0</td><td>0</td><td>0</td></tr><tr><th>7</th><td>0</td><td>1</td><td>0</td><td>0</td><td>0</td><td>0</td><td>0</td><td>0</td><td>0</td><td>0</td><td>0</td><td>0</td><td>0</td><td>0</td><td>0</td><td>0</td><td>0</td><td>0</td><td>0</td><td>0</td><td>0</td><td>1</td><td>0</td><td>0</td><td>0</td><td>0</td><td>0</td><td>0</td><td>1</td><td>1</td><td>0</td><td>0</td><td>0</td><td>0</td><td>0</td><td>0</td><td>1</td><td>0</td><td>0</td><td>0</td><td>0</td><td>0</td><td>0</td><td>0</td><td>0</td><td>0</td><td>1</td><td>0</td><td>0</td><td>0</td><td>0</td><td>0</td><td>0</td><td>0</td></tr><tr><th>8</th><td>0</td><td>0</td><td>0</td><td>0</td><td>0</td><td>0</td><td>0</td><td>0</td><td>0</td><td>0</td><td>0</td><td>0</td><td>1</td><td>0</td><td>0</td><td>0</td><td>0</td><td>0</td><td>0</td><td>0</td><td>0</td><td>0</td><td>0</td><td>0</td><td>0</td><td>0</td><td>0</td><td>0</td><td>1</td><td>1</td><td>0</td><td>0</td><td>0</td><td>0</td><td>0</td><td>0</td><td>1</td><td>0</td><td>0</td><td>0</td><td>0</td><td>0</td><td>0</td><td>0</td><td>0</td><td>1</td><td>1</td><td>0</td><td>0</td><td>0</td><td>0</td><td>0</td><td>0</td><td>0</td></tr><tr><th>9</th><td>0</td><td>1</td><td>0</td><td>0</td><td>0</td><td>0</td><td>0</td><td>0</td><td>0</td><td>0</td><td>0</td><td>0</td><td>0</td><td>0</td><td>0</td><td>0</td><td>0</td><td>0</td><td>0</td><td>0</td><td>0</td><td>0</td><td>0</td><td>0</td><td>0</td><td>0</td><td>0</td><td>0</td><td>0</td><td>0</td><td>0</td><td>0</td><td>0</td><td>0</td><td>0</td><td>0</td><td>0</td><td>0</td><td>1</td><td>0</td><td>0</td><td>0</td><td>0</td><td>0</td><td>0</td><td>0</td><td>1</td><td>0</td><td>0</td><td>0</td><td>1</td><td>0</td><td>0</td><td>0</td></tr><tr><th>10</th><td>0</td><td>1</td><td>0</td><td>0</td><td>0</td><td>0</td><td>0</td><td>0</td><td>0</td><td>0</td><td>0</td><td>0</td><td>0</td><td>0</td><td>0</td><td>0</td><td>0</td><td>0</td><td>0</td><td>0</td><td>0</td><td>1</td><td>0</td><td>0</td><td>0</td><td>0</td><td>0</td><td>0</td><td>0</td><td>0</td><td>0</td><td>0</td><td>0</td><td>0</td><td>0</td><td>0</td><td>1</td><td>0</td><td>0</td><td>0</td><td>0</td><td>0</td><td>0</td><td>0</td><td>0</td><td>0</td><td>1</td><td>0</td><td>0</td><td>0</td><td>0</td><td>0</td><td>0</td><td>0</td></tr><tr><th>11</th><td>0</td><td>0</td><td>0</td><td>0</td><td>0</td><td>0</td><td>0</td><td>0</td><td>0</td><td>0</td><td>0</td><td>0</td><td>1</td><td>0</td><td>0</td><td>1</td><td>0</td><td>0</td><td>0</td><td>0</td><td>0</td><td>0</td><td>0</td><td>0</td><td>0</td><td>0</td><td>0</td><td>0</td><td>0</td><td>0</td><td>0</td><td>0</td><td>0</td><td>0</td><td>0</td><td>0</td><td>1</td><td>0</td><td>0</td><td>0</td><td>0</td><td>0</td><td>0</td><td>0</td><td>0</td><td>0</td><td>1</td><td>0</td><td>0</td><td>0</td><td>0</td><td>0</td><td>0</td><td>0</td></tr><tr><th>12</th><td>0</td><td>0</td><td>0</td><td>0</td><td>0</td><td>0</td><td>0</td><td>0</td><td>0</td><td>0</td><td>0</td><td>0</td><td>1</td><td>0</td><td>0</td><td>0</td><td>0</td><td>0</td><td>0</td><td>0</td><td>0</td><td>0</td><td>0</td><td>0</td><td>0</td><td>0</td><td>1</td><td>0</td><td>0</td><td>0</td><td>0</td><td>0</td><td>0</td><td>0</td><td>0</td><td>0</td><td>1</td><td>0</td><td>0</td><td>0</td><td>0</td><td>0</td><td>0</td><td>0</td><td>0</td><td>0</td><td>1</td><td>0</td><td>0</td><td>0</td><td>0</td><td>0</td><td>0</td><td>0</td></tr><tr><th>&vellip;</th><td>&vellip;</td><td>&vellip;</td><td>&vellip;</td><td>&vellip;</td><td>&vellip;</td><td>&vellip;</td><td>&vellip;</td><td>&vellip;</td><td>&vellip;</td><td>&vellip;</td><td>&vellip;</td><td>&vellip;</td><td>&vellip;</td><td>&vellip;</td><td>&vellip;</td><td>&vellip;</td><td>&vellip;</td><td>&vellip;</td><td>&vellip;</td><td>&vellip;</td><td>&vellip;</td><td>&vellip;</td><td>&vellip;</td><td>&vellip;</td><td>&vellip;</td><td>&vellip;</td><td>&vellip;</td><td>&vellip;</td><td>&vellip;</td><td>&vellip;</td><td>&vellip;</td><td>&vellip;</td><td>&vellip;</td><td>&vellip;</td><td>&vellip;</td><td>&vellip;</td><td>&vellip;</td><td>&vellip;</td><td>&vellip;</td><td>&vellip;</td><td>&vellip;</td><td>&vellip;</td><td>&vellip;</td><td>&vellip;</td><td>&vellip;</td><td>&vellip;</td><td>&vellip;</td><td>&vellip;</td><td>&vellip;</td><td>&vellip;</td><td>&vellip;</td><td>&vellip;</td><td>&vellip;</td><td>&vellip;</td></tr></tbody></table></div>"
      ],
      "text/latex": [
       "\\begin{tabular}{r|cccccccccccccccccccccccccccccccccccccccccccccccccccccc}\n",
       "\t& advancedPawn & advantage & anastasiaMate & arabianMate & attackingF2F7 & attraction & backRankMate & bishopEndgame & bodenMate & capturingDefender & castling & clearance & crushing & defensiveMove & deflection & discoveredAttack & doubleBishopMate & doubleCheck & dovetailMate & enPassant & exposedKing & fork & hangingPiece & hookMate & interference & intermezzo & kingsideAttack & long & master & masterVsMaster & mate & mateIn1 & mateIn2 & mateIn3 & mateIn4 & mateIn5 & middlegame & oneMove & opening & pin & promotion & queenRookEndgame & queensideAttack & quietMove & rookEndgame & sacrifice & short & skewer & smotheredMate & superGM & trappedPiece & underPromotion & veryLong & xRayAttack\\\\\n",
       "\t\\hline\n",
       "\t& Bool & Bool & Bool & Bool & Bool & Bool & Bool & Bool & Bool & Bool & Bool & Bool & Bool & Bool & Bool & Bool & Bool & Bool & Bool & Bool & Bool & Bool & Bool & Bool & Bool & Bool & Bool & Bool & Bool & Bool & Bool & Bool & Bool & Bool & Bool & Bool & Bool & Bool & Bool & Bool & Bool & Bool & Bool & Bool & Bool & Bool & Bool & Bool & Bool & Bool & Bool & Bool & Bool & Bool\\\\\n",
       "\t\\hline\n",
       "\t1 & 0 & 1 & 0 & 0 & 0 & 0 & 0 & 0 & 0 & 0 & 0 & 0 & 0 & 0 & 0 & 0 & 0 & 0 & 0 & 0 & 0 & 0 & 0 & 0 & 0 & 0 & 0 & 0 & 0 & 0 & 0 & 0 & 0 & 0 & 0 & 0 & 1 & 0 & 0 & 0 & 0 & 0 & 0 & 0 & 0 & 0 & 1 & 0 & 0 & 0 & 0 & 0 & 0 & 0 \\\\\n",
       "\t2 & 0 & 1 & 0 & 0 & 0 & 0 & 0 & 0 & 0 & 0 & 0 & 0 & 0 & 0 & 0 & 0 & 0 & 0 & 0 & 0 & 0 & 0 & 0 & 0 & 0 & 0 & 0 & 0 & 1 & 0 & 0 & 0 & 0 & 0 & 0 & 0 & 1 & 0 & 0 & 0 & 0 & 0 & 0 & 0 & 0 & 0 & 1 & 0 & 0 & 0 & 0 & 0 & 0 & 0 \\\\\n",
       "\t3 & 0 & 0 & 0 & 0 & 0 & 0 & 0 & 0 & 0 & 0 & 0 & 0 & 0 & 0 & 0 & 0 & 0 & 0 & 0 & 0 & 0 & 0 & 0 & 0 & 0 & 0 & 0 & 0 & 0 & 0 & 1 & 0 & 1 & 0 & 0 & 0 & 1 & 0 & 0 & 0 & 0 & 0 & 0 & 0 & 0 & 0 & 1 & 0 & 0 & 0 & 0 & 0 & 0 & 0 \\\\\n",
       "\t4 & 0 & 1 & 0 & 0 & 0 & 0 & 0 & 0 & 0 & 0 & 0 & 0 & 0 & 0 & 0 & 0 & 0 & 0 & 0 & 0 & 0 & 0 & 0 & 0 & 0 & 0 & 0 & 0 & 0 & 0 & 0 & 0 & 0 & 0 & 0 & 0 & 1 & 0 & 0 & 0 & 0 & 0 & 0 & 0 & 0 & 0 & 1 & 0 & 0 & 0 & 0 & 0 & 0 & 0 \\\\\n",
       "\t5 & 0 & 0 & 0 & 0 & 0 & 0 & 0 & 0 & 1 & 0 & 0 & 0 & 0 & 0 & 0 & 0 & 0 & 0 & 0 & 0 & 0 & 0 & 1 & 0 & 0 & 0 & 0 & 0 & 0 & 0 & 1 & 1 & 0 & 0 & 0 & 0 & 1 & 1 & 0 & 0 & 0 & 0 & 0 & 0 & 0 & 0 & 0 & 0 & 0 & 0 & 0 & 0 & 0 & 0 \\\\\n",
       "\t6 & 0 & 0 & 0 & 0 & 0 & 0 & 0 & 0 & 0 & 0 & 0 & 0 & 0 & 0 & 0 & 0 & 0 & 0 & 0 & 0 & 0 & 0 & 0 & 0 & 0 & 0 & 0 & 0 & 0 & 0 & 1 & 1 & 0 & 0 & 0 & 0 & 0 & 1 & 0 & 0 & 0 & 0 & 0 & 0 & 0 & 0 & 0 & 0 & 0 & 0 & 0 & 0 & 0 & 0 \\\\\n",
       "\t7 & 0 & 1 & 0 & 0 & 0 & 0 & 0 & 0 & 0 & 0 & 0 & 0 & 0 & 0 & 0 & 0 & 0 & 0 & 0 & 0 & 0 & 1 & 0 & 0 & 0 & 0 & 0 & 0 & 1 & 1 & 0 & 0 & 0 & 0 & 0 & 0 & 1 & 0 & 0 & 0 & 0 & 0 & 0 & 0 & 0 & 0 & 1 & 0 & 0 & 0 & 0 & 0 & 0 & 0 \\\\\n",
       "\t8 & 0 & 0 & 0 & 0 & 0 & 0 & 0 & 0 & 0 & 0 & 0 & 0 & 1 & 0 & 0 & 0 & 0 & 0 & 0 & 0 & 0 & 0 & 0 & 0 & 0 & 0 & 0 & 0 & 1 & 1 & 0 & 0 & 0 & 0 & 0 & 0 & 1 & 0 & 0 & 0 & 0 & 0 & 0 & 0 & 0 & 1 & 1 & 0 & 0 & 0 & 0 & 0 & 0 & 0 \\\\\n",
       "\t9 & 0 & 1 & 0 & 0 & 0 & 0 & 0 & 0 & 0 & 0 & 0 & 0 & 0 & 0 & 0 & 0 & 0 & 0 & 0 & 0 & 0 & 0 & 0 & 0 & 0 & 0 & 0 & 0 & 0 & 0 & 0 & 0 & 0 & 0 & 0 & 0 & 0 & 0 & 1 & 0 & 0 & 0 & 0 & 0 & 0 & 0 & 1 & 0 & 0 & 0 & 1 & 0 & 0 & 0 \\\\\n",
       "\t10 & 0 & 1 & 0 & 0 & 0 & 0 & 0 & 0 & 0 & 0 & 0 & 0 & 0 & 0 & 0 & 0 & 0 & 0 & 0 & 0 & 0 & 1 & 0 & 0 & 0 & 0 & 0 & 0 & 0 & 0 & 0 & 0 & 0 & 0 & 0 & 0 & 1 & 0 & 0 & 0 & 0 & 0 & 0 & 0 & 0 & 0 & 1 & 0 & 0 & 0 & 0 & 0 & 0 & 0 \\\\\n",
       "\t11 & 0 & 0 & 0 & 0 & 0 & 0 & 0 & 0 & 0 & 0 & 0 & 0 & 1 & 0 & 0 & 1 & 0 & 0 & 0 & 0 & 0 & 0 & 0 & 0 & 0 & 0 & 0 & 0 & 0 & 0 & 0 & 0 & 0 & 0 & 0 & 0 & 1 & 0 & 0 & 0 & 0 & 0 & 0 & 0 & 0 & 0 & 1 & 0 & 0 & 0 & 0 & 0 & 0 & 0 \\\\\n",
       "\t12 & 0 & 0 & 0 & 0 & 0 & 0 & 0 & 0 & 0 & 0 & 0 & 0 & 1 & 0 & 0 & 0 & 0 & 0 & 0 & 0 & 0 & 0 & 0 & 0 & 0 & 0 & 1 & 0 & 0 & 0 & 0 & 0 & 0 & 0 & 0 & 0 & 1 & 0 & 0 & 0 & 0 & 0 & 0 & 0 & 0 & 0 & 1 & 0 & 0 & 0 & 0 & 0 & 0 & 0 \\\\\n",
       "\t$\\dots$ & $\\dots$ & $\\dots$ & $\\dots$ & $\\dots$ & $\\dots$ & $\\dots$ & $\\dots$ & $\\dots$ & $\\dots$ & $\\dots$ & $\\dots$ & $\\dots$ & $\\dots$ & $\\dots$ & $\\dots$ & $\\dots$ & $\\dots$ & $\\dots$ & $\\dots$ & $\\dots$ & $\\dots$ & $\\dots$ & $\\dots$ & $\\dots$ & $\\dots$ & $\\dots$ & $\\dots$ & $\\dots$ & $\\dots$ & $\\dots$ & $\\dots$ & $\\dots$ & $\\dots$ & $\\dots$ & $\\dots$ & $\\dots$ & $\\dots$ & $\\dots$ & $\\dots$ & $\\dots$ & $\\dots$ & $\\dots$ & $\\dots$ & $\\dots$ & $\\dots$ & $\\dots$ & $\\dots$ & $\\dots$ & $\\dots$ & $\\dots$ & $\\dots$ & $\\dots$ & $\\dots$ & $\\dots$ \\\\\n",
       "\\end{tabular}\n"
      ],
      "text/plain": [
       "\u001b[1m565133×54 DataFrame\u001b[0m\n",
       "\u001b[1m    Row \u001b[0m│\u001b[1m advancedPawn \u001b[0m\u001b[1m advantage \u001b[0m\u001b[1m anastasiaMate \u001b[0m\u001b[1m arabianMate \u001b[0m\u001b[1m attackingF2F7 \u001b[0m\u001b[1m attraction \u001b[0m\u001b[1m backRankMate \u001b[0m\u001b[1m bishopEndgame \u001b[0m\u001b[1m bodenMate \u001b[0m\u001b[1m capturingDefender \u001b[0m\u001b[1m castling \u001b[0m\u001b[1m clearance \u001b[0m\u001b[1m crushing \u001b[0m\u001b[1m defensiveMove \u001b[0m\u001b[1m deflection \u001b[0m\u001b[1m discoveredAttack \u001b[0m\u001b[1m doubleBishopMate \u001b[0m\u001b[1m doubleCheck \u001b[0m\u001b[1m dovetailMate \u001b[0m\u001b[1m enPassant \u001b[0m\u001b[1m exposedKing \u001b[0m\u001b[1m fork  \u001b[0m\u001b[1m hangingPiece \u001b[0m\u001b[1m hookMate \u001b[0m\u001b[1m interference \u001b[0m\u001b[1m intermezzo \u001b[0m\u001b[1m kingsideAttack \u001b[0m\u001b[1m long  \u001b[0m\u001b[1m master \u001b[0m\u001b[1m masterVsMaster \u001b[0m\u001b[1m mate  \u001b[0m\u001b[1m mateIn1 \u001b[0m\u001b[1m mateIn2 \u001b[0m\u001b[1m mateIn3 \u001b[0m\u001b[1m mateIn4 \u001b[0m\u001b[1m mateIn5 \u001b[0m\u001b[1m middlegame \u001b[0m\u001b[1m oneMove \u001b[0m\u001b[1m opening \u001b[0m\u001b[1m pin   \u001b[0m\u001b[1m promotion \u001b[0m\u001b[1m queenRookEndgame \u001b[0m\u001b[1m queensideAttack \u001b[0m\u001b[1m quietMove \u001b[0m\u001b[1m rookEndgame \u001b[0m\u001b[1m sacrifice \u001b[0m\u001b[1m short \u001b[0m\u001b[1m skewer \u001b[0m\u001b[1m smotheredMate \u001b[0m\u001b[1m superGM \u001b[0m\u001b[1m trappedPiece \u001b[0m\u001b[1m underPromotion \u001b[0m\u001b[1m veryLong \u001b[0m\u001b[1m xRayAttack \u001b[0m\n",
       "\u001b[1m        \u001b[0m│\u001b[90m Bool         \u001b[0m\u001b[90m Bool      \u001b[0m\u001b[90m Bool          \u001b[0m\u001b[90m Bool        \u001b[0m\u001b[90m Bool          \u001b[0m\u001b[90m Bool       \u001b[0m\u001b[90m Bool         \u001b[0m\u001b[90m Bool          \u001b[0m\u001b[90m Bool      \u001b[0m\u001b[90m Bool              \u001b[0m\u001b[90m Bool     \u001b[0m\u001b[90m Bool      \u001b[0m\u001b[90m Bool     \u001b[0m\u001b[90m Bool          \u001b[0m\u001b[90m Bool       \u001b[0m\u001b[90m Bool             \u001b[0m\u001b[90m Bool             \u001b[0m\u001b[90m Bool        \u001b[0m\u001b[90m Bool         \u001b[0m\u001b[90m Bool      \u001b[0m\u001b[90m Bool        \u001b[0m\u001b[90m Bool  \u001b[0m\u001b[90m Bool         \u001b[0m\u001b[90m Bool     \u001b[0m\u001b[90m Bool         \u001b[0m\u001b[90m Bool       \u001b[0m\u001b[90m Bool           \u001b[0m\u001b[90m Bool  \u001b[0m\u001b[90m Bool   \u001b[0m\u001b[90m Bool           \u001b[0m\u001b[90m Bool  \u001b[0m\u001b[90m Bool    \u001b[0m\u001b[90m Bool    \u001b[0m\u001b[90m Bool    \u001b[0m\u001b[90m Bool    \u001b[0m\u001b[90m Bool    \u001b[0m\u001b[90m Bool       \u001b[0m\u001b[90m Bool    \u001b[0m\u001b[90m Bool    \u001b[0m\u001b[90m Bool  \u001b[0m\u001b[90m Bool      \u001b[0m\u001b[90m Bool             \u001b[0m\u001b[90m Bool            \u001b[0m\u001b[90m Bool      \u001b[0m\u001b[90m Bool        \u001b[0m\u001b[90m Bool      \u001b[0m\u001b[90m Bool  \u001b[0m\u001b[90m Bool   \u001b[0m\u001b[90m Bool          \u001b[0m\u001b[90m Bool    \u001b[0m\u001b[90m Bool         \u001b[0m\u001b[90m Bool           \u001b[0m\u001b[90m Bool     \u001b[0m\u001b[90m Bool       \u001b[0m\n",
       "────────┼─────────────────────────────────────────────────────────────────────────────────────────────────────────────────────────────────────────────────────────────────────────────────────────────────────────────────────────────────────────────────────────────────────────────────────────────────────────────────────────────────────────────────────────────────────────────────────────────────────────────────────────────────────────────────────────────────────────────────────────────────────────────────────────────────────────────────────────────────────────────────────────────────────────────────────────────────────────────────────────────────────────\n",
       "      1 │        false       true          false        false          false       false         false          false      false              false     false      false     false          false       false             false             false        false         false      false        false  false         false     false         false       false           false  false   false           false  false    false    false    false    false    false        true    false    false  false      false             false            false      false        false      false   true   false          false    false         false           false     false       false\n",
       "      2 │        false       true          false        false          false       false         false          false      false              false     false      false     false          false       false             false             false        false         false      false        false  false         false     false         false       false           false  false    true           false  false    false    false    false    false    false        true    false    false  false      false             false            false      false        false      false   true   false          false    false         false           false     false       false\n",
       "   ⋮    │      ⋮            ⋮            ⋮             ⋮             ⋮            ⋮            ⋮              ⋮            ⋮              ⋮             ⋮          ⋮         ⋮            ⋮            ⋮              ⋮                 ⋮               ⋮            ⋮            ⋮           ⋮         ⋮         ⋮           ⋮           ⋮            ⋮             ⋮           ⋮      ⋮           ⋮           ⋮       ⋮        ⋮        ⋮        ⋮        ⋮         ⋮          ⋮        ⋮       ⋮        ⋮             ⋮                 ⋮             ⋮           ⋮           ⋮        ⋮      ⋮           ⋮           ⋮          ⋮              ⋮            ⋮          ⋮\n",
       " 565133 │        false       true          false        false          false       false         false          false      false              false     false      false     false          false       false             false             false        false         false      false        false  false         false     false         false       false           false   true   false           false  false    false    false    false    false    false       false    false     true  false      false             false            false      false        false      false  false   false          false    false         false           false     false       false\n",
       "\u001b[36m                                                                                                                                                                                                                                                                                                                                                                                                                                                                                                                                                                                                                                                               565130 rows omitted\u001b[0m"
      ]
     },
     "execution_count": 75,
     "metadata": {},
     "output_type": "execute_result"
    }
   ],
   "source": [
    "@chain df begin\n",
    "    [split(x) .=> true for x in _.Themes]\n",
    "    DataFrame.(_)\n",
    "    reduce(vcat, _, cols=:union)\n",
    "    coalesce.(false)\n",
    "    select(_, sort(names(_)))\n",
    "end"
   ]
  },
  {
   "cell_type": "markdown",
   "metadata": {},
   "source": [
    "and yet other (fastest) option to do the same using `unstack`:"
   ]
  },
  {
   "cell_type": "code",
   "execution_count": 76,
   "metadata": {},
   "outputs": [
    {
     "data": {
      "text/html": [
       "<div class=\"data-frame\"><p>565,133 rows × 55 columns</p><table class=\"data-frame\"><thead><tr><th></th><th>id</th><th>advantage</th><th>middlegame</th><th>short</th><th>master</th><th>mate</th><th>mateIn2</th><th>bodenMate</th><th>hangingPiece</th><th>mateIn1</th><th>oneMove</th><th>fork</th><th>masterVsMaster</th><th>crushing</th><th>sacrifice</th><th>opening</th><th>trappedPiece</th><th>discoveredAttack</th><th>kingsideAttack</th><th>defensiveMove</th><th>veryLong</th><th>long</th><th>mateIn3</th><th>deflection</th><th>pin</th><th>backRankMate</th><th>exposedKing</th><th>intermezzo</th><th>attackingF2F7</th><th>attraction</th><th>clearance</th><th>capturingDefender</th><th>interference</th><th>advancedPawn</th><th>smotheredMate</th><th>quietMove</th><th>queensideAttack</th><th>doubleCheck</th><th>promotion</th><th>castling</th><th>skewer</th><th>mateIn4</th><th>xRayAttack</th><th>enPassant</th><th>hookMate</th><th>doubleBishopMate</th><th>mateIn5</th><th>anastasiaMate</th><th>superGM</th><th>arabianMate</th><th>dovetailMate</th><th>underPromotion</th><th>rookEndgame</th><th>queenRookEndgame</th><th>bishopEndgame</th></tr><tr><th></th><th title=\"Int64\">Int64</th><th title=\"Bool\">Bool</th><th title=\"Bool\">Bool</th><th title=\"Bool\">Bool</th><th title=\"Bool\">Bool</th><th title=\"Bool\">Bool</th><th title=\"Bool\">Bool</th><th title=\"Bool\">Bool</th><th title=\"Bool\">Bool</th><th title=\"Bool\">Bool</th><th title=\"Bool\">Bool</th><th title=\"Bool\">Bool</th><th title=\"Bool\">Bool</th><th title=\"Bool\">Bool</th><th title=\"Bool\">Bool</th><th title=\"Bool\">Bool</th><th title=\"Bool\">Bool</th><th title=\"Bool\">Bool</th><th title=\"Bool\">Bool</th><th title=\"Bool\">Bool</th><th title=\"Bool\">Bool</th><th title=\"Bool\">Bool</th><th title=\"Bool\">Bool</th><th title=\"Bool\">Bool</th><th title=\"Bool\">Bool</th><th title=\"Bool\">Bool</th><th title=\"Bool\">Bool</th><th title=\"Bool\">Bool</th><th title=\"Bool\">Bool</th><th title=\"Bool\">Bool</th><th title=\"Bool\">Bool</th><th title=\"Bool\">Bool</th><th title=\"Bool\">Bool</th><th title=\"Bool\">Bool</th><th title=\"Bool\">Bool</th><th title=\"Bool\">Bool</th><th title=\"Bool\">Bool</th><th title=\"Bool\">Bool</th><th title=\"Bool\">Bool</th><th title=\"Bool\">Bool</th><th title=\"Bool\">Bool</th><th title=\"Bool\">Bool</th><th title=\"Bool\">Bool</th><th title=\"Bool\">Bool</th><th title=\"Bool\">Bool</th><th title=\"Bool\">Bool</th><th title=\"Bool\">Bool</th><th title=\"Bool\">Bool</th><th title=\"Bool\">Bool</th><th title=\"Bool\">Bool</th><th title=\"Bool\">Bool</th><th title=\"Bool\">Bool</th><th title=\"Bool\">Bool</th><th title=\"Bool\">Bool</th><th title=\"Bool\">Bool</th></tr></thead><tbody><tr><th>1</th><td>1</td><td>1</td><td>1</td><td>1</td><td>0</td><td>0</td><td>0</td><td>0</td><td>0</td><td>0</td><td>0</td><td>0</td><td>0</td><td>0</td><td>0</td><td>0</td><td>0</td><td>0</td><td>0</td><td>0</td><td>0</td><td>0</td><td>0</td><td>0</td><td>0</td><td>0</td><td>0</td><td>0</td><td>0</td><td>0</td><td>0</td><td>0</td><td>0</td><td>0</td><td>0</td><td>0</td><td>0</td><td>0</td><td>0</td><td>0</td><td>0</td><td>0</td><td>0</td><td>0</td><td>0</td><td>0</td><td>0</td><td>0</td><td>0</td><td>0</td><td>0</td><td>0</td><td>0</td><td>0</td><td>0</td></tr><tr><th>2</th><td>2</td><td>1</td><td>1</td><td>1</td><td>1</td><td>0</td><td>0</td><td>0</td><td>0</td><td>0</td><td>0</td><td>0</td><td>0</td><td>0</td><td>0</td><td>0</td><td>0</td><td>0</td><td>0</td><td>0</td><td>0</td><td>0</td><td>0</td><td>0</td><td>0</td><td>0</td><td>0</td><td>0</td><td>0</td><td>0</td><td>0</td><td>0</td><td>0</td><td>0</td><td>0</td><td>0</td><td>0</td><td>0</td><td>0</td><td>0</td><td>0</td><td>0</td><td>0</td><td>0</td><td>0</td><td>0</td><td>0</td><td>0</td><td>0</td><td>0</td><td>0</td><td>0</td><td>0</td><td>0</td><td>0</td></tr><tr><th>3</th><td>3</td><td>0</td><td>1</td><td>1</td><td>0</td><td>1</td><td>1</td><td>0</td><td>0</td><td>0</td><td>0</td><td>0</td><td>0</td><td>0</td><td>0</td><td>0</td><td>0</td><td>0</td><td>0</td><td>0</td><td>0</td><td>0</td><td>0</td><td>0</td><td>0</td><td>0</td><td>0</td><td>0</td><td>0</td><td>0</td><td>0</td><td>0</td><td>0</td><td>0</td><td>0</td><td>0</td><td>0</td><td>0</td><td>0</td><td>0</td><td>0</td><td>0</td><td>0</td><td>0</td><td>0</td><td>0</td><td>0</td><td>0</td><td>0</td><td>0</td><td>0</td><td>0</td><td>0</td><td>0</td><td>0</td></tr><tr><th>4</th><td>4</td><td>1</td><td>1</td><td>1</td><td>0</td><td>0</td><td>0</td><td>0</td><td>0</td><td>0</td><td>0</td><td>0</td><td>0</td><td>0</td><td>0</td><td>0</td><td>0</td><td>0</td><td>0</td><td>0</td><td>0</td><td>0</td><td>0</td><td>0</td><td>0</td><td>0</td><td>0</td><td>0</td><td>0</td><td>0</td><td>0</td><td>0</td><td>0</td><td>0</td><td>0</td><td>0</td><td>0</td><td>0</td><td>0</td><td>0</td><td>0</td><td>0</td><td>0</td><td>0</td><td>0</td><td>0</td><td>0</td><td>0</td><td>0</td><td>0</td><td>0</td><td>0</td><td>0</td><td>0</td><td>0</td></tr><tr><th>5</th><td>5</td><td>0</td><td>1</td><td>0</td><td>0</td><td>1</td><td>0</td><td>1</td><td>1</td><td>1</td><td>1</td><td>0</td><td>0</td><td>0</td><td>0</td><td>0</td><td>0</td><td>0</td><td>0</td><td>0</td><td>0</td><td>0</td><td>0</td><td>0</td><td>0</td><td>0</td><td>0</td><td>0</td><td>0</td><td>0</td><td>0</td><td>0</td><td>0</td><td>0</td><td>0</td><td>0</td><td>0</td><td>0</td><td>0</td><td>0</td><td>0</td><td>0</td><td>0</td><td>0</td><td>0</td><td>0</td><td>0</td><td>0</td><td>0</td><td>0</td><td>0</td><td>0</td><td>0</td><td>0</td><td>0</td></tr><tr><th>6</th><td>6</td><td>0</td><td>0</td><td>0</td><td>0</td><td>1</td><td>0</td><td>0</td><td>0</td><td>1</td><td>1</td><td>0</td><td>0</td><td>0</td><td>0</td><td>0</td><td>0</td><td>0</td><td>0</td><td>0</td><td>0</td><td>0</td><td>0</td><td>0</td><td>0</td><td>0</td><td>0</td><td>0</td><td>0</td><td>0</td><td>0</td><td>0</td><td>0</td><td>0</td><td>0</td><td>0</td><td>0</td><td>0</td><td>0</td><td>0</td><td>0</td><td>0</td><td>0</td><td>0</td><td>0</td><td>0</td><td>0</td><td>0</td><td>0</td><td>0</td><td>0</td><td>0</td><td>0</td><td>0</td><td>0</td></tr><tr><th>7</th><td>7</td><td>1</td><td>1</td><td>1</td><td>1</td><td>0</td><td>0</td><td>0</td><td>0</td><td>0</td><td>0</td><td>1</td><td>1</td><td>0</td><td>0</td><td>0</td><td>0</td><td>0</td><td>0</td><td>0</td><td>0</td><td>0</td><td>0</td><td>0</td><td>0</td><td>0</td><td>0</td><td>0</td><td>0</td><td>0</td><td>0</td><td>0</td><td>0</td><td>0</td><td>0</td><td>0</td><td>0</td><td>0</td><td>0</td><td>0</td><td>0</td><td>0</td><td>0</td><td>0</td><td>0</td><td>0</td><td>0</td><td>0</td><td>0</td><td>0</td><td>0</td><td>0</td><td>0</td><td>0</td><td>0</td></tr><tr><th>8</th><td>8</td><td>0</td><td>1</td><td>1</td><td>1</td><td>0</td><td>0</td><td>0</td><td>0</td><td>0</td><td>0</td><td>0</td><td>1</td><td>1</td><td>1</td><td>0</td><td>0</td><td>0</td><td>0</td><td>0</td><td>0</td><td>0</td><td>0</td><td>0</td><td>0</td><td>0</td><td>0</td><td>0</td><td>0</td><td>0</td><td>0</td><td>0</td><td>0</td><td>0</td><td>0</td><td>0</td><td>0</td><td>0</td><td>0</td><td>0</td><td>0</td><td>0</td><td>0</td><td>0</td><td>0</td><td>0</td><td>0</td><td>0</td><td>0</td><td>0</td><td>0</td><td>0</td><td>0</td><td>0</td><td>0</td></tr><tr><th>9</th><td>9</td><td>1</td><td>0</td><td>1</td><td>0</td><td>0</td><td>0</td><td>0</td><td>0</td><td>0</td><td>0</td><td>0</td><td>0</td><td>0</td><td>0</td><td>1</td><td>1</td><td>0</td><td>0</td><td>0</td><td>0</td><td>0</td><td>0</td><td>0</td><td>0</td><td>0</td><td>0</td><td>0</td><td>0</td><td>0</td><td>0</td><td>0</td><td>0</td><td>0</td><td>0</td><td>0</td><td>0</td><td>0</td><td>0</td><td>0</td><td>0</td><td>0</td><td>0</td><td>0</td><td>0</td><td>0</td><td>0</td><td>0</td><td>0</td><td>0</td><td>0</td><td>0</td><td>0</td><td>0</td><td>0</td></tr><tr><th>10</th><td>10</td><td>1</td><td>1</td><td>1</td><td>0</td><td>0</td><td>0</td><td>0</td><td>0</td><td>0</td><td>0</td><td>1</td><td>0</td><td>0</td><td>0</td><td>0</td><td>0</td><td>0</td><td>0</td><td>0</td><td>0</td><td>0</td><td>0</td><td>0</td><td>0</td><td>0</td><td>0</td><td>0</td><td>0</td><td>0</td><td>0</td><td>0</td><td>0</td><td>0</td><td>0</td><td>0</td><td>0</td><td>0</td><td>0</td><td>0</td><td>0</td><td>0</td><td>0</td><td>0</td><td>0</td><td>0</td><td>0</td><td>0</td><td>0</td><td>0</td><td>0</td><td>0</td><td>0</td><td>0</td><td>0</td></tr><tr><th>11</th><td>11</td><td>0</td><td>1</td><td>1</td><td>0</td><td>0</td><td>0</td><td>0</td><td>0</td><td>0</td><td>0</td><td>0</td><td>0</td><td>1</td><td>0</td><td>0</td><td>0</td><td>1</td><td>0</td><td>0</td><td>0</td><td>0</td><td>0</td><td>0</td><td>0</td><td>0</td><td>0</td><td>0</td><td>0</td><td>0</td><td>0</td><td>0</td><td>0</td><td>0</td><td>0</td><td>0</td><td>0</td><td>0</td><td>0</td><td>0</td><td>0</td><td>0</td><td>0</td><td>0</td><td>0</td><td>0</td><td>0</td><td>0</td><td>0</td><td>0</td><td>0</td><td>0</td><td>0</td><td>0</td><td>0</td></tr><tr><th>12</th><td>12</td><td>0</td><td>1</td><td>1</td><td>0</td><td>0</td><td>0</td><td>0</td><td>0</td><td>0</td><td>0</td><td>0</td><td>0</td><td>1</td><td>0</td><td>0</td><td>0</td><td>0</td><td>1</td><td>0</td><td>0</td><td>0</td><td>0</td><td>0</td><td>0</td><td>0</td><td>0</td><td>0</td><td>0</td><td>0</td><td>0</td><td>0</td><td>0</td><td>0</td><td>0</td><td>0</td><td>0</td><td>0</td><td>0</td><td>0</td><td>0</td><td>0</td><td>0</td><td>0</td><td>0</td><td>0</td><td>0</td><td>0</td><td>0</td><td>0</td><td>0</td><td>0</td><td>0</td><td>0</td><td>0</td></tr><tr><th>&vellip;</th><td>&vellip;</td><td>&vellip;</td><td>&vellip;</td><td>&vellip;</td><td>&vellip;</td><td>&vellip;</td><td>&vellip;</td><td>&vellip;</td><td>&vellip;</td><td>&vellip;</td><td>&vellip;</td><td>&vellip;</td><td>&vellip;</td><td>&vellip;</td><td>&vellip;</td><td>&vellip;</td><td>&vellip;</td><td>&vellip;</td><td>&vellip;</td><td>&vellip;</td><td>&vellip;</td><td>&vellip;</td><td>&vellip;</td><td>&vellip;</td><td>&vellip;</td><td>&vellip;</td><td>&vellip;</td><td>&vellip;</td><td>&vellip;</td><td>&vellip;</td><td>&vellip;</td><td>&vellip;</td><td>&vellip;</td><td>&vellip;</td><td>&vellip;</td><td>&vellip;</td><td>&vellip;</td><td>&vellip;</td><td>&vellip;</td><td>&vellip;</td><td>&vellip;</td><td>&vellip;</td><td>&vellip;</td><td>&vellip;</td><td>&vellip;</td><td>&vellip;</td><td>&vellip;</td><td>&vellip;</td><td>&vellip;</td><td>&vellip;</td><td>&vellip;</td><td>&vellip;</td><td>&vellip;</td><td>&vellip;</td><td>&vellip;</td></tr></tbody></table></div>"
      ],
      "text/latex": [
       "\\begin{tabular}{r|ccccccccccccccccccccccccccccccccccccccccccccccccccccccc}\n",
       "\t& id & advantage & middlegame & short & master & mate & mateIn2 & bodenMate & hangingPiece & mateIn1 & oneMove & fork & masterVsMaster & crushing & sacrifice & opening & trappedPiece & discoveredAttack & kingsideAttack & defensiveMove & veryLong & long & mateIn3 & deflection & pin & backRankMate & exposedKing & intermezzo & attackingF2F7 & attraction & clearance & capturingDefender & interference & advancedPawn & smotheredMate & quietMove & queensideAttack & doubleCheck & promotion & castling & skewer & mateIn4 & xRayAttack & enPassant & hookMate & doubleBishopMate & mateIn5 & anastasiaMate & superGM & arabianMate & dovetailMate & underPromotion & rookEndgame & queenRookEndgame & bishopEndgame\\\\\n",
       "\t\\hline\n",
       "\t& Int64 & Bool & Bool & Bool & Bool & Bool & Bool & Bool & Bool & Bool & Bool & Bool & Bool & Bool & Bool & Bool & Bool & Bool & Bool & Bool & Bool & Bool & Bool & Bool & Bool & Bool & Bool & Bool & Bool & Bool & Bool & Bool & Bool & Bool & Bool & Bool & Bool & Bool & Bool & Bool & Bool & Bool & Bool & Bool & Bool & Bool & Bool & Bool & Bool & Bool & Bool & Bool & Bool & Bool & Bool\\\\\n",
       "\t\\hline\n",
       "\t1 & 1 & 1 & 1 & 1 & 0 & 0 & 0 & 0 & 0 & 0 & 0 & 0 & 0 & 0 & 0 & 0 & 0 & 0 & 0 & 0 & 0 & 0 & 0 & 0 & 0 & 0 & 0 & 0 & 0 & 0 & 0 & 0 & 0 & 0 & 0 & 0 & 0 & 0 & 0 & 0 & 0 & 0 & 0 & 0 & 0 & 0 & 0 & 0 & 0 & 0 & 0 & 0 & 0 & 0 & 0 \\\\\n",
       "\t2 & 2 & 1 & 1 & 1 & 1 & 0 & 0 & 0 & 0 & 0 & 0 & 0 & 0 & 0 & 0 & 0 & 0 & 0 & 0 & 0 & 0 & 0 & 0 & 0 & 0 & 0 & 0 & 0 & 0 & 0 & 0 & 0 & 0 & 0 & 0 & 0 & 0 & 0 & 0 & 0 & 0 & 0 & 0 & 0 & 0 & 0 & 0 & 0 & 0 & 0 & 0 & 0 & 0 & 0 & 0 \\\\\n",
       "\t3 & 3 & 0 & 1 & 1 & 0 & 1 & 1 & 0 & 0 & 0 & 0 & 0 & 0 & 0 & 0 & 0 & 0 & 0 & 0 & 0 & 0 & 0 & 0 & 0 & 0 & 0 & 0 & 0 & 0 & 0 & 0 & 0 & 0 & 0 & 0 & 0 & 0 & 0 & 0 & 0 & 0 & 0 & 0 & 0 & 0 & 0 & 0 & 0 & 0 & 0 & 0 & 0 & 0 & 0 & 0 \\\\\n",
       "\t4 & 4 & 1 & 1 & 1 & 0 & 0 & 0 & 0 & 0 & 0 & 0 & 0 & 0 & 0 & 0 & 0 & 0 & 0 & 0 & 0 & 0 & 0 & 0 & 0 & 0 & 0 & 0 & 0 & 0 & 0 & 0 & 0 & 0 & 0 & 0 & 0 & 0 & 0 & 0 & 0 & 0 & 0 & 0 & 0 & 0 & 0 & 0 & 0 & 0 & 0 & 0 & 0 & 0 & 0 & 0 \\\\\n",
       "\t5 & 5 & 0 & 1 & 0 & 0 & 1 & 0 & 1 & 1 & 1 & 1 & 0 & 0 & 0 & 0 & 0 & 0 & 0 & 0 & 0 & 0 & 0 & 0 & 0 & 0 & 0 & 0 & 0 & 0 & 0 & 0 & 0 & 0 & 0 & 0 & 0 & 0 & 0 & 0 & 0 & 0 & 0 & 0 & 0 & 0 & 0 & 0 & 0 & 0 & 0 & 0 & 0 & 0 & 0 & 0 \\\\\n",
       "\t6 & 6 & 0 & 0 & 0 & 0 & 1 & 0 & 0 & 0 & 1 & 1 & 0 & 0 & 0 & 0 & 0 & 0 & 0 & 0 & 0 & 0 & 0 & 0 & 0 & 0 & 0 & 0 & 0 & 0 & 0 & 0 & 0 & 0 & 0 & 0 & 0 & 0 & 0 & 0 & 0 & 0 & 0 & 0 & 0 & 0 & 0 & 0 & 0 & 0 & 0 & 0 & 0 & 0 & 0 & 0 \\\\\n",
       "\t7 & 7 & 1 & 1 & 1 & 1 & 0 & 0 & 0 & 0 & 0 & 0 & 1 & 1 & 0 & 0 & 0 & 0 & 0 & 0 & 0 & 0 & 0 & 0 & 0 & 0 & 0 & 0 & 0 & 0 & 0 & 0 & 0 & 0 & 0 & 0 & 0 & 0 & 0 & 0 & 0 & 0 & 0 & 0 & 0 & 0 & 0 & 0 & 0 & 0 & 0 & 0 & 0 & 0 & 0 & 0 \\\\\n",
       "\t8 & 8 & 0 & 1 & 1 & 1 & 0 & 0 & 0 & 0 & 0 & 0 & 0 & 1 & 1 & 1 & 0 & 0 & 0 & 0 & 0 & 0 & 0 & 0 & 0 & 0 & 0 & 0 & 0 & 0 & 0 & 0 & 0 & 0 & 0 & 0 & 0 & 0 & 0 & 0 & 0 & 0 & 0 & 0 & 0 & 0 & 0 & 0 & 0 & 0 & 0 & 0 & 0 & 0 & 0 & 0 \\\\\n",
       "\t9 & 9 & 1 & 0 & 1 & 0 & 0 & 0 & 0 & 0 & 0 & 0 & 0 & 0 & 0 & 0 & 1 & 1 & 0 & 0 & 0 & 0 & 0 & 0 & 0 & 0 & 0 & 0 & 0 & 0 & 0 & 0 & 0 & 0 & 0 & 0 & 0 & 0 & 0 & 0 & 0 & 0 & 0 & 0 & 0 & 0 & 0 & 0 & 0 & 0 & 0 & 0 & 0 & 0 & 0 & 0 \\\\\n",
       "\t10 & 10 & 1 & 1 & 1 & 0 & 0 & 0 & 0 & 0 & 0 & 0 & 1 & 0 & 0 & 0 & 0 & 0 & 0 & 0 & 0 & 0 & 0 & 0 & 0 & 0 & 0 & 0 & 0 & 0 & 0 & 0 & 0 & 0 & 0 & 0 & 0 & 0 & 0 & 0 & 0 & 0 & 0 & 0 & 0 & 0 & 0 & 0 & 0 & 0 & 0 & 0 & 0 & 0 & 0 & 0 \\\\\n",
       "\t11 & 11 & 0 & 1 & 1 & 0 & 0 & 0 & 0 & 0 & 0 & 0 & 0 & 0 & 1 & 0 & 0 & 0 & 1 & 0 & 0 & 0 & 0 & 0 & 0 & 0 & 0 & 0 & 0 & 0 & 0 & 0 & 0 & 0 & 0 & 0 & 0 & 0 & 0 & 0 & 0 & 0 & 0 & 0 & 0 & 0 & 0 & 0 & 0 & 0 & 0 & 0 & 0 & 0 & 0 & 0 \\\\\n",
       "\t12 & 12 & 0 & 1 & 1 & 0 & 0 & 0 & 0 & 0 & 0 & 0 & 0 & 0 & 1 & 0 & 0 & 0 & 0 & 1 & 0 & 0 & 0 & 0 & 0 & 0 & 0 & 0 & 0 & 0 & 0 & 0 & 0 & 0 & 0 & 0 & 0 & 0 & 0 & 0 & 0 & 0 & 0 & 0 & 0 & 0 & 0 & 0 & 0 & 0 & 0 & 0 & 0 & 0 & 0 & 0 \\\\\n",
       "\t$\\dots$ & $\\dots$ & $\\dots$ & $\\dots$ & $\\dots$ & $\\dots$ & $\\dots$ & $\\dots$ & $\\dots$ & $\\dots$ & $\\dots$ & $\\dots$ & $\\dots$ & $\\dots$ & $\\dots$ & $\\dots$ & $\\dots$ & $\\dots$ & $\\dots$ & $\\dots$ & $\\dots$ & $\\dots$ & $\\dots$ & $\\dots$ & $\\dots$ & $\\dots$ & $\\dots$ & $\\dots$ & $\\dots$ & $\\dots$ & $\\dots$ & $\\dots$ & $\\dots$ & $\\dots$ & $\\dots$ & $\\dots$ & $\\dots$ & $\\dots$ & $\\dots$ & $\\dots$ & $\\dots$ & $\\dots$ & $\\dots$ & $\\dots$ & $\\dots$ & $\\dots$ & $\\dots$ & $\\dots$ & $\\dots$ & $\\dots$ & $\\dots$ & $\\dots$ & $\\dots$ & $\\dots$ & $\\dots$ & $\\dots$ \\\\\n",
       "\\end{tabular}\n"
      ],
      "text/plain": [
       "\u001b[1m565133×55 DataFrame\u001b[0m\n",
       "\u001b[1m    Row \u001b[0m│\u001b[1m id     \u001b[0m\u001b[1m advantage \u001b[0m\u001b[1m middlegame \u001b[0m\u001b[1m short \u001b[0m\u001b[1m master \u001b[0m\u001b[1m mate  \u001b[0m\u001b[1m mateIn2 \u001b[0m\u001b[1m bodenMate \u001b[0m\u001b[1m hangingPiece \u001b[0m\u001b[1m mateIn1 \u001b[0m\u001b[1m oneMove \u001b[0m\u001b[1m fork  \u001b[0m\u001b[1m masterVsMaster \u001b[0m\u001b[1m crushing \u001b[0m\u001b[1m sacrifice \u001b[0m\u001b[1m opening \u001b[0m\u001b[1m trappedPiece \u001b[0m\u001b[1m discoveredAttack \u001b[0m\u001b[1m kingsideAttack \u001b[0m\u001b[1m defensiveMove \u001b[0m\u001b[1m veryLong \u001b[0m\u001b[1m long  \u001b[0m\u001b[1m mateIn3 \u001b[0m\u001b[1m deflection \u001b[0m\u001b[1m pin   \u001b[0m\u001b[1m backRankMate \u001b[0m\u001b[1m exposedKing \u001b[0m\u001b[1m intermezzo \u001b[0m\u001b[1m attackingF2F7 \u001b[0m\u001b[1m attraction \u001b[0m\u001b[1m clearance \u001b[0m\u001b[1m capturingDefender \u001b[0m\u001b[1m interference \u001b[0m\u001b[1m advancedPawn \u001b[0m\u001b[1m smotheredMate \u001b[0m\u001b[1m quietMove \u001b[0m\u001b[1m queensideAttack \u001b[0m\u001b[1m doubleCheck \u001b[0m\u001b[1m promotion \u001b[0m\u001b[1m castling \u001b[0m\u001b[1m skewer \u001b[0m\u001b[1m mateIn4 \u001b[0m\u001b[1m xRayAttack \u001b[0m\u001b[1m enPassant \u001b[0m\u001b[1m hookMate \u001b[0m\u001b[1m doubleBishopMate \u001b[0m\u001b[1m mateIn5 \u001b[0m\u001b[1m anastasiaMate \u001b[0m\u001b[1m superGM \u001b[0m\u001b[1m arabianMate \u001b[0m\u001b[1m dovetailMate \u001b[0m\u001b[1m underPromotion \u001b[0m\u001b[1m rookEndgame \u001b[0m\u001b[1m queenRookEndgame \u001b[0m\u001b[1m bishopEndgame \u001b[0m\n",
       "\u001b[1m        \u001b[0m│\u001b[90m Int64  \u001b[0m\u001b[90m Bool      \u001b[0m\u001b[90m Bool       \u001b[0m\u001b[90m Bool  \u001b[0m\u001b[90m Bool   \u001b[0m\u001b[90m Bool  \u001b[0m\u001b[90m Bool    \u001b[0m\u001b[90m Bool      \u001b[0m\u001b[90m Bool         \u001b[0m\u001b[90m Bool    \u001b[0m\u001b[90m Bool    \u001b[0m\u001b[90m Bool  \u001b[0m\u001b[90m Bool           \u001b[0m\u001b[90m Bool     \u001b[0m\u001b[90m Bool      \u001b[0m\u001b[90m Bool    \u001b[0m\u001b[90m Bool         \u001b[0m\u001b[90m Bool             \u001b[0m\u001b[90m Bool           \u001b[0m\u001b[90m Bool          \u001b[0m\u001b[90m Bool     \u001b[0m\u001b[90m Bool  \u001b[0m\u001b[90m Bool    \u001b[0m\u001b[90m Bool       \u001b[0m\u001b[90m Bool  \u001b[0m\u001b[90m Bool         \u001b[0m\u001b[90m Bool        \u001b[0m\u001b[90m Bool       \u001b[0m\u001b[90m Bool          \u001b[0m\u001b[90m Bool       \u001b[0m\u001b[90m Bool      \u001b[0m\u001b[90m Bool              \u001b[0m\u001b[90m Bool         \u001b[0m\u001b[90m Bool         \u001b[0m\u001b[90m Bool          \u001b[0m\u001b[90m Bool      \u001b[0m\u001b[90m Bool            \u001b[0m\u001b[90m Bool        \u001b[0m\u001b[90m Bool      \u001b[0m\u001b[90m Bool     \u001b[0m\u001b[90m Bool   \u001b[0m\u001b[90m Bool    \u001b[0m\u001b[90m Bool       \u001b[0m\u001b[90m Bool      \u001b[0m\u001b[90m Bool     \u001b[0m\u001b[90m Bool             \u001b[0m\u001b[90m Bool    \u001b[0m\u001b[90m Bool          \u001b[0m\u001b[90m Bool    \u001b[0m\u001b[90m Bool        \u001b[0m\u001b[90m Bool         \u001b[0m\u001b[90m Bool           \u001b[0m\u001b[90m Bool        \u001b[0m\u001b[90m Bool             \u001b[0m\u001b[90m Bool          \u001b[0m\n",
       "────────┼─────────────────────────────────────────────────────────────────────────────────────────────────────────────────────────────────────────────────────────────────────────────────────────────────────────────────────────────────────────────────────────────────────────────────────────────────────────────────────────────────────────────────────────────────────────────────────────────────────────────────────────────────────────────────────────────────────────────────────────────────────────────────────────────────────────────────────────────────────────────────────────────────────────────────────────────────────────────────────────────────────────────────\n",
       "      1 │      1       true        true   true   false  false    false      false         false    false    false  false           false     false      false    false         false             false           false          false     false  false    false       false  false         false        false       false          false       false      false              false         false         false          false      false            false        false      false     false   false    false       false      false     false             false    false          false    false        false         false           false        false             false          false\n",
       "      2 │      2       true        true   true    true  false    false      false         false    false    false  false           false     false      false    false         false             false           false          false     false  false    false       false  false         false        false       false          false       false      false              false         false         false          false      false            false        false      false     false   false    false       false      false     false             false    false          false    false        false         false           false        false             false          false\n",
       "   ⋮    │   ⋮         ⋮          ⋮         ⋮      ⋮       ⋮       ⋮         ⋮           ⋮           ⋮        ⋮       ⋮          ⋮            ⋮          ⋮         ⋮          ⋮               ⋮                ⋮               ⋮           ⋮        ⋮       ⋮         ⋮         ⋮         ⋮             ⋮           ⋮             ⋮            ⋮           ⋮              ⋮               ⋮             ⋮              ⋮            ⋮             ⋮              ⋮           ⋮         ⋮        ⋮        ⋮         ⋮           ⋮         ⋮             ⋮             ⋮           ⋮           ⋮          ⋮            ⋮              ⋮              ⋮              ⋮                ⋮\n",
       " 565133 │ 565133       true       false  false   false  false    false      false         false    false    false  false           false     false      false     true         false             false           false          false     false   true    false       false  false         false        false       false          false       false      false              false         false         false          false      false            false        false      false     false   false    false       false      false     false             false    false          false    false        false         false           false        false             false          false\n",
       "\u001b[36m                                                                                                                                                                                                                                                                                                                                                                                                                                                                                                                                                                                                                                                                       565130 rows omitted\u001b[0m"
      ]
     },
     "execution_count": 76,
     "metadata": {},
     "output_type": "execute_result"
    }
   ],
   "source": [
    "@chain df begin\n",
    "    DataFrame(themes=split.(_.Themes), id=eachindex(_.Themes), fixed=true)\n",
    "    flatten(:themes)\n",
    "    unstack(:id, :themes, :fixed, fill=false)\n",
    "end"
   ]
  },
  {
   "cell_type": "markdown",
   "metadata": {},
   "source": [
    "<div class=\"alert alert-block alert-info\">\n",
    "    <code>unstack</code> in DataFrames.jl is efficient and often useful. In the upcoming 1.4 release it gains even more power since it allows you to pass custom aggregations of unstacked data (so it allows you to create pivot tables).\n",
    "</div>"
   ]
  },
  {
   "cell_type": "markdown",
   "metadata": {},
   "source": [
    "To practice more advanced transformations let us check if mate puzzles have high popularity.\n",
    "First create a one-hot encoded data frame using the techniques we already learned along with some additional columns."
   ]
  },
  {
   "cell_type": "code",
   "execution_count": 77,
   "metadata": {},
   "outputs": [
    {
     "data": {
      "text/html": [
       "<div class=\"data-frame\"><p>565,133 rows × 56 columns</p><table class=\"data-frame\"><thead><tr><th></th><th>Popularity</th><th>Rating_5</th><th>advancedPawn</th><th>advantage</th><th>anastasiaMate</th><th>arabianMate</th><th>attackingF2F7</th><th>attraction</th><th>backRankMate</th><th>bishopEndgame</th><th>bodenMate</th><th>capturingDefender</th><th>castling</th><th>clearance</th><th>crushing</th><th>defensiveMove</th><th>deflection</th><th>discoveredAttack</th><th>doubleBishopMate</th><th>doubleCheck</th><th>dovetailMate</th><th>enPassant</th><th>exposedKing</th><th>fork</th><th>hangingPiece</th><th>hookMate</th><th>interference</th><th>intermezzo</th><th>kingsideAttack</th><th>long</th><th>master</th><th>masterVsMaster</th><th>mate</th><th>mateIn1</th><th>mateIn2</th><th>mateIn3</th><th>mateIn4</th><th>mateIn5</th><th>middlegame</th><th>oneMove</th><th>opening</th><th>pin</th><th>promotion</th><th>queenRookEndgame</th><th>queensideAttack</th><th>quietMove</th><th>rookEndgame</th><th>sacrifice</th><th>short</th><th>skewer</th><th>smotheredMate</th><th>superGM</th><th>trappedPiece</th><th>underPromotion</th><th>veryLong</th><th>xRayAttack</th></tr><tr><th></th><th title=\"Int64\">Int64</th><th title=\"CategoricalValue{String, UInt32}\">Cat…</th><th title=\"Bool\">Bool</th><th title=\"Bool\">Bool</th><th title=\"Bool\">Bool</th><th title=\"Bool\">Bool</th><th title=\"Bool\">Bool</th><th title=\"Bool\">Bool</th><th title=\"Bool\">Bool</th><th title=\"Bool\">Bool</th><th title=\"Bool\">Bool</th><th title=\"Bool\">Bool</th><th title=\"Bool\">Bool</th><th title=\"Bool\">Bool</th><th title=\"Bool\">Bool</th><th title=\"Bool\">Bool</th><th title=\"Bool\">Bool</th><th title=\"Bool\">Bool</th><th title=\"Bool\">Bool</th><th title=\"Bool\">Bool</th><th title=\"Bool\">Bool</th><th title=\"Bool\">Bool</th><th title=\"Bool\">Bool</th><th title=\"Bool\">Bool</th><th title=\"Bool\">Bool</th><th title=\"Bool\">Bool</th><th title=\"Bool\">Bool</th><th title=\"Bool\">Bool</th><th title=\"Bool\">Bool</th><th title=\"Bool\">Bool</th><th title=\"Bool\">Bool</th><th title=\"Bool\">Bool</th><th title=\"Bool\">Bool</th><th title=\"Bool\">Bool</th><th title=\"Bool\">Bool</th><th title=\"Bool\">Bool</th><th title=\"Bool\">Bool</th><th title=\"Bool\">Bool</th><th title=\"Bool\">Bool</th><th title=\"Bool\">Bool</th><th title=\"Bool\">Bool</th><th title=\"Bool\">Bool</th><th title=\"Bool\">Bool</th><th title=\"Bool\">Bool</th><th title=\"Bool\">Bool</th><th title=\"Bool\">Bool</th><th title=\"Bool\">Bool</th><th title=\"Bool\">Bool</th><th title=\"Bool\">Bool</th><th title=\"Bool\">Bool</th><th title=\"Bool\">Bool</th><th title=\"Bool\">Bool</th><th title=\"Bool\">Bool</th><th title=\"Bool\">Bool</th><th title=\"Bool\">Bool</th><th title=\"Bool\">Bool</th></tr></thead><tbody><tr><th>1</th><td>85</td><td>Q1: [550.0, 1174.0)</td><td>0</td><td>1</td><td>0</td><td>0</td><td>0</td><td>0</td><td>0</td><td>0</td><td>0</td><td>0</td><td>0</td><td>0</td><td>0</td><td>0</td><td>0</td><td>0</td><td>0</td><td>0</td><td>0</td><td>0</td><td>0</td><td>0</td><td>0</td><td>0</td><td>0</td><td>0</td><td>0</td><td>0</td><td>0</td><td>0</td><td>0</td><td>0</td><td>0</td><td>0</td><td>0</td><td>0</td><td>1</td><td>0</td><td>0</td><td>0</td><td>0</td><td>0</td><td>0</td><td>0</td><td>0</td><td>0</td><td>1</td><td>0</td><td>0</td><td>0</td><td>0</td><td>0</td><td>0</td><td>0</td></tr><tr><th>2</th><td>86</td><td>Q3: [1435.0, 1669.0)</td><td>0</td><td>1</td><td>0</td><td>0</td><td>0</td><td>0</td><td>0</td><td>0</td><td>0</td><td>0</td><td>0</td><td>0</td><td>0</td><td>0</td><td>0</td><td>0</td><td>0</td><td>0</td><td>0</td><td>0</td><td>0</td><td>0</td><td>0</td><td>0</td><td>0</td><td>0</td><td>0</td><td>0</td><td>1</td><td>0</td><td>0</td><td>0</td><td>0</td><td>0</td><td>0</td><td>0</td><td>1</td><td>0</td><td>0</td><td>0</td><td>0</td><td>0</td><td>0</td><td>0</td><td>0</td><td>0</td><td>1</td><td>0</td><td>0</td><td>0</td><td>0</td><td>0</td><td>0</td><td>0</td></tr><tr><th>3</th><td>88</td><td>Q3: [1435.0, 1669.0)</td><td>0</td><td>0</td><td>0</td><td>0</td><td>0</td><td>0</td><td>0</td><td>0</td><td>0</td><td>0</td><td>0</td><td>0</td><td>0</td><td>0</td><td>0</td><td>0</td><td>0</td><td>0</td><td>0</td><td>0</td><td>0</td><td>0</td><td>0</td><td>0</td><td>0</td><td>0</td><td>0</td><td>0</td><td>0</td><td>0</td><td>1</td><td>0</td><td>1</td><td>0</td><td>0</td><td>0</td><td>1</td><td>0</td><td>0</td><td>0</td><td>0</td><td>0</td><td>0</td><td>0</td><td>0</td><td>0</td><td>1</td><td>0</td><td>0</td><td>0</td><td>0</td><td>0</td><td>0</td><td>0</td></tr><tr><th>4</th><td>90</td><td>Q4: [1669.0, 1975.0)</td><td>0</td><td>1</td><td>0</td><td>0</td><td>0</td><td>0</td><td>0</td><td>0</td><td>0</td><td>0</td><td>0</td><td>0</td><td>0</td><td>0</td><td>0</td><td>0</td><td>0</td><td>0</td><td>0</td><td>0</td><td>0</td><td>0</td><td>0</td><td>0</td><td>0</td><td>0</td><td>0</td><td>0</td><td>0</td><td>0</td><td>0</td><td>0</td><td>0</td><td>0</td><td>0</td><td>0</td><td>1</td><td>0</td><td>0</td><td>0</td><td>0</td><td>0</td><td>0</td><td>0</td><td>0</td><td>0</td><td>1</td><td>0</td><td>0</td><td>0</td><td>0</td><td>0</td><td>0</td><td>0</td></tr><tr><th>5</th><td>39</td><td>Q1: [550.0, 1174.0)</td><td>0</td><td>0</td><td>0</td><td>0</td><td>0</td><td>0</td><td>0</td><td>0</td><td>1</td><td>0</td><td>0</td><td>0</td><td>0</td><td>0</td><td>0</td><td>0</td><td>0</td><td>0</td><td>0</td><td>0</td><td>0</td><td>0</td><td>1</td><td>0</td><td>0</td><td>0</td><td>0</td><td>0</td><td>0</td><td>0</td><td>1</td><td>1</td><td>0</td><td>0</td><td>0</td><td>0</td><td>1</td><td>1</td><td>0</td><td>0</td><td>0</td><td>0</td><td>0</td><td>0</td><td>0</td><td>0</td><td>0</td><td>0</td><td>0</td><td>0</td><td>0</td><td>0</td><td>0</td><td>0</td></tr><tr><th>6</th><td>50</td><td>Q3: [1435.0, 1669.0)</td><td>0</td><td>0</td><td>0</td><td>0</td><td>0</td><td>0</td><td>0</td><td>0</td><td>0</td><td>0</td><td>0</td><td>0</td><td>0</td><td>0</td><td>0</td><td>0</td><td>0</td><td>0</td><td>0</td><td>0</td><td>0</td><td>0</td><td>0</td><td>0</td><td>0</td><td>0</td><td>0</td><td>0</td><td>0</td><td>0</td><td>1</td><td>1</td><td>0</td><td>0</td><td>0</td><td>0</td><td>0</td><td>1</td><td>0</td><td>0</td><td>0</td><td>0</td><td>0</td><td>0</td><td>0</td><td>0</td><td>0</td><td>0</td><td>0</td><td>0</td><td>0</td><td>0</td><td>0</td><td>0</td></tr><tr><th>7</th><td>96</td><td>Q1: [550.0, 1174.0)</td><td>0</td><td>1</td><td>0</td><td>0</td><td>0</td><td>0</td><td>0</td><td>0</td><td>0</td><td>0</td><td>0</td><td>0</td><td>0</td><td>0</td><td>0</td><td>0</td><td>0</td><td>0</td><td>0</td><td>0</td><td>0</td><td>1</td><td>0</td><td>0</td><td>0</td><td>0</td><td>0</td><td>0</td><td>1</td><td>1</td><td>0</td><td>0</td><td>0</td><td>0</td><td>0</td><td>0</td><td>1</td><td>0</td><td>0</td><td>0</td><td>0</td><td>0</td><td>0</td><td>0</td><td>0</td><td>0</td><td>1</td><td>0</td><td>0</td><td>0</td><td>0</td><td>0</td><td>0</td><td>0</td></tr><tr><th>8</th><td>93</td><td>Q4: [1669.0, 1975.0)</td><td>0</td><td>0</td><td>0</td><td>0</td><td>0</td><td>0</td><td>0</td><td>0</td><td>0</td><td>0</td><td>0</td><td>0</td><td>1</td><td>0</td><td>0</td><td>0</td><td>0</td><td>0</td><td>0</td><td>0</td><td>0</td><td>0</td><td>0</td><td>0</td><td>0</td><td>0</td><td>0</td><td>0</td><td>1</td><td>1</td><td>0</td><td>0</td><td>0</td><td>0</td><td>0</td><td>0</td><td>1</td><td>0</td><td>0</td><td>0</td><td>0</td><td>0</td><td>0</td><td>0</td><td>0</td><td>1</td><td>1</td><td>0</td><td>0</td><td>0</td><td>0</td><td>0</td><td>0</td><td>0</td></tr><tr><th>9</th><td>96</td><td>Q3: [1435.0, 1669.0)</td><td>0</td><td>1</td><td>0</td><td>0</td><td>0</td><td>0</td><td>0</td><td>0</td><td>0</td><td>0</td><td>0</td><td>0</td><td>0</td><td>0</td><td>0</td><td>0</td><td>0</td><td>0</td><td>0</td><td>0</td><td>0</td><td>0</td><td>0</td><td>0</td><td>0</td><td>0</td><td>0</td><td>0</td><td>0</td><td>0</td><td>0</td><td>0</td><td>0</td><td>0</td><td>0</td><td>0</td><td>0</td><td>0</td><td>1</td><td>0</td><td>0</td><td>0</td><td>0</td><td>0</td><td>0</td><td>0</td><td>1</td><td>0</td><td>0</td><td>0</td><td>1</td><td>0</td><td>0</td><td>0</td></tr><tr><th>10</th><td>47</td><td>Q2: [1174.0, 1435.0)</td><td>0</td><td>1</td><td>0</td><td>0</td><td>0</td><td>0</td><td>0</td><td>0</td><td>0</td><td>0</td><td>0</td><td>0</td><td>0</td><td>0</td><td>0</td><td>0</td><td>0</td><td>0</td><td>0</td><td>0</td><td>0</td><td>1</td><td>0</td><td>0</td><td>0</td><td>0</td><td>0</td><td>0</td><td>0</td><td>0</td><td>0</td><td>0</td><td>0</td><td>0</td><td>0</td><td>0</td><td>1</td><td>0</td><td>0</td><td>0</td><td>0</td><td>0</td><td>0</td><td>0</td><td>0</td><td>0</td><td>1</td><td>0</td><td>0</td><td>0</td><td>0</td><td>0</td><td>0</td><td>0</td></tr><tr><th>11</th><td>93</td><td>Q3: [1435.0, 1669.0)</td><td>0</td><td>0</td><td>0</td><td>0</td><td>0</td><td>0</td><td>0</td><td>0</td><td>0</td><td>0</td><td>0</td><td>0</td><td>1</td><td>0</td><td>0</td><td>1</td><td>0</td><td>0</td><td>0</td><td>0</td><td>0</td><td>0</td><td>0</td><td>0</td><td>0</td><td>0</td><td>0</td><td>0</td><td>0</td><td>0</td><td>0</td><td>0</td><td>0</td><td>0</td><td>0</td><td>0</td><td>1</td><td>0</td><td>0</td><td>0</td><td>0</td><td>0</td><td>0</td><td>0</td><td>0</td><td>0</td><td>1</td><td>0</td><td>0</td><td>0</td><td>0</td><td>0</td><td>0</td><td>0</td></tr><tr><th>12</th><td>96</td><td>Q4: [1669.0, 1975.0)</td><td>0</td><td>0</td><td>0</td><td>0</td><td>0</td><td>0</td><td>0</td><td>0</td><td>0</td><td>0</td><td>0</td><td>0</td><td>1</td><td>0</td><td>0</td><td>0</td><td>0</td><td>0</td><td>0</td><td>0</td><td>0</td><td>0</td><td>0</td><td>0</td><td>0</td><td>0</td><td>1</td><td>0</td><td>0</td><td>0</td><td>0</td><td>0</td><td>0</td><td>0</td><td>0</td><td>0</td><td>1</td><td>0</td><td>0</td><td>0</td><td>0</td><td>0</td><td>0</td><td>0</td><td>0</td><td>0</td><td>1</td><td>0</td><td>0</td><td>0</td><td>0</td><td>0</td><td>0</td><td>0</td></tr><tr><th>&vellip;</th><td>&vellip;</td><td>&vellip;</td><td>&vellip;</td><td>&vellip;</td><td>&vellip;</td><td>&vellip;</td><td>&vellip;</td><td>&vellip;</td><td>&vellip;</td><td>&vellip;</td><td>&vellip;</td><td>&vellip;</td><td>&vellip;</td><td>&vellip;</td><td>&vellip;</td><td>&vellip;</td><td>&vellip;</td><td>&vellip;</td><td>&vellip;</td><td>&vellip;</td><td>&vellip;</td><td>&vellip;</td><td>&vellip;</td><td>&vellip;</td><td>&vellip;</td><td>&vellip;</td><td>&vellip;</td><td>&vellip;</td><td>&vellip;</td><td>&vellip;</td><td>&vellip;</td><td>&vellip;</td><td>&vellip;</td><td>&vellip;</td><td>&vellip;</td><td>&vellip;</td><td>&vellip;</td><td>&vellip;</td><td>&vellip;</td><td>&vellip;</td><td>&vellip;</td><td>&vellip;</td><td>&vellip;</td><td>&vellip;</td><td>&vellip;</td><td>&vellip;</td><td>&vellip;</td><td>&vellip;</td><td>&vellip;</td><td>&vellip;</td><td>&vellip;</td><td>&vellip;</td><td>&vellip;</td><td>&vellip;</td><td>&vellip;</td><td>&vellip;</td></tr></tbody></table></div>"
      ],
      "text/latex": [
       "\\begin{tabular}{r|cccccccccccccccccccccccccccccccccccccccccccccccccccccccc}\n",
       "\t& Popularity & Rating\\_5 & advancedPawn & advantage & anastasiaMate & arabianMate & attackingF2F7 & attraction & backRankMate & bishopEndgame & bodenMate & capturingDefender & castling & clearance & crushing & defensiveMove & deflection & discoveredAttack & doubleBishopMate & doubleCheck & dovetailMate & enPassant & exposedKing & fork & hangingPiece & hookMate & interference & intermezzo & kingsideAttack & long & master & masterVsMaster & mate & mateIn1 & mateIn2 & mateIn3 & mateIn4 & mateIn5 & middlegame & oneMove & opening & pin & promotion & queenRookEndgame & queensideAttack & quietMove & rookEndgame & sacrifice & short & skewer & smotheredMate & superGM & trappedPiece & underPromotion & veryLong & xRayAttack\\\\\n",
       "\t\\hline\n",
       "\t& Int64 & Cat… & Bool & Bool & Bool & Bool & Bool & Bool & Bool & Bool & Bool & Bool & Bool & Bool & Bool & Bool & Bool & Bool & Bool & Bool & Bool & Bool & Bool & Bool & Bool & Bool & Bool & Bool & Bool & Bool & Bool & Bool & Bool & Bool & Bool & Bool & Bool & Bool & Bool & Bool & Bool & Bool & Bool & Bool & Bool & Bool & Bool & Bool & Bool & Bool & Bool & Bool & Bool & Bool & Bool & Bool\\\\\n",
       "\t\\hline\n",
       "\t1 & 85 & Q1: [550.0, 1174.0) & 0 & 1 & 0 & 0 & 0 & 0 & 0 & 0 & 0 & 0 & 0 & 0 & 0 & 0 & 0 & 0 & 0 & 0 & 0 & 0 & 0 & 0 & 0 & 0 & 0 & 0 & 0 & 0 & 0 & 0 & 0 & 0 & 0 & 0 & 0 & 0 & 1 & 0 & 0 & 0 & 0 & 0 & 0 & 0 & 0 & 0 & 1 & 0 & 0 & 0 & 0 & 0 & 0 & 0 \\\\\n",
       "\t2 & 86 & Q3: [1435.0, 1669.0) & 0 & 1 & 0 & 0 & 0 & 0 & 0 & 0 & 0 & 0 & 0 & 0 & 0 & 0 & 0 & 0 & 0 & 0 & 0 & 0 & 0 & 0 & 0 & 0 & 0 & 0 & 0 & 0 & 1 & 0 & 0 & 0 & 0 & 0 & 0 & 0 & 1 & 0 & 0 & 0 & 0 & 0 & 0 & 0 & 0 & 0 & 1 & 0 & 0 & 0 & 0 & 0 & 0 & 0 \\\\\n",
       "\t3 & 88 & Q3: [1435.0, 1669.0) & 0 & 0 & 0 & 0 & 0 & 0 & 0 & 0 & 0 & 0 & 0 & 0 & 0 & 0 & 0 & 0 & 0 & 0 & 0 & 0 & 0 & 0 & 0 & 0 & 0 & 0 & 0 & 0 & 0 & 0 & 1 & 0 & 1 & 0 & 0 & 0 & 1 & 0 & 0 & 0 & 0 & 0 & 0 & 0 & 0 & 0 & 1 & 0 & 0 & 0 & 0 & 0 & 0 & 0 \\\\\n",
       "\t4 & 90 & Q4: [1669.0, 1975.0) & 0 & 1 & 0 & 0 & 0 & 0 & 0 & 0 & 0 & 0 & 0 & 0 & 0 & 0 & 0 & 0 & 0 & 0 & 0 & 0 & 0 & 0 & 0 & 0 & 0 & 0 & 0 & 0 & 0 & 0 & 0 & 0 & 0 & 0 & 0 & 0 & 1 & 0 & 0 & 0 & 0 & 0 & 0 & 0 & 0 & 0 & 1 & 0 & 0 & 0 & 0 & 0 & 0 & 0 \\\\\n",
       "\t5 & 39 & Q1: [550.0, 1174.0) & 0 & 0 & 0 & 0 & 0 & 0 & 0 & 0 & 1 & 0 & 0 & 0 & 0 & 0 & 0 & 0 & 0 & 0 & 0 & 0 & 0 & 0 & 1 & 0 & 0 & 0 & 0 & 0 & 0 & 0 & 1 & 1 & 0 & 0 & 0 & 0 & 1 & 1 & 0 & 0 & 0 & 0 & 0 & 0 & 0 & 0 & 0 & 0 & 0 & 0 & 0 & 0 & 0 & 0 \\\\\n",
       "\t6 & 50 & Q3: [1435.0, 1669.0) & 0 & 0 & 0 & 0 & 0 & 0 & 0 & 0 & 0 & 0 & 0 & 0 & 0 & 0 & 0 & 0 & 0 & 0 & 0 & 0 & 0 & 0 & 0 & 0 & 0 & 0 & 0 & 0 & 0 & 0 & 1 & 1 & 0 & 0 & 0 & 0 & 0 & 1 & 0 & 0 & 0 & 0 & 0 & 0 & 0 & 0 & 0 & 0 & 0 & 0 & 0 & 0 & 0 & 0 \\\\\n",
       "\t7 & 96 & Q1: [550.0, 1174.0) & 0 & 1 & 0 & 0 & 0 & 0 & 0 & 0 & 0 & 0 & 0 & 0 & 0 & 0 & 0 & 0 & 0 & 0 & 0 & 0 & 0 & 1 & 0 & 0 & 0 & 0 & 0 & 0 & 1 & 1 & 0 & 0 & 0 & 0 & 0 & 0 & 1 & 0 & 0 & 0 & 0 & 0 & 0 & 0 & 0 & 0 & 1 & 0 & 0 & 0 & 0 & 0 & 0 & 0 \\\\\n",
       "\t8 & 93 & Q4: [1669.0, 1975.0) & 0 & 0 & 0 & 0 & 0 & 0 & 0 & 0 & 0 & 0 & 0 & 0 & 1 & 0 & 0 & 0 & 0 & 0 & 0 & 0 & 0 & 0 & 0 & 0 & 0 & 0 & 0 & 0 & 1 & 1 & 0 & 0 & 0 & 0 & 0 & 0 & 1 & 0 & 0 & 0 & 0 & 0 & 0 & 0 & 0 & 1 & 1 & 0 & 0 & 0 & 0 & 0 & 0 & 0 \\\\\n",
       "\t9 & 96 & Q3: [1435.0, 1669.0) & 0 & 1 & 0 & 0 & 0 & 0 & 0 & 0 & 0 & 0 & 0 & 0 & 0 & 0 & 0 & 0 & 0 & 0 & 0 & 0 & 0 & 0 & 0 & 0 & 0 & 0 & 0 & 0 & 0 & 0 & 0 & 0 & 0 & 0 & 0 & 0 & 0 & 0 & 1 & 0 & 0 & 0 & 0 & 0 & 0 & 0 & 1 & 0 & 0 & 0 & 1 & 0 & 0 & 0 \\\\\n",
       "\t10 & 47 & Q2: [1174.0, 1435.0) & 0 & 1 & 0 & 0 & 0 & 0 & 0 & 0 & 0 & 0 & 0 & 0 & 0 & 0 & 0 & 0 & 0 & 0 & 0 & 0 & 0 & 1 & 0 & 0 & 0 & 0 & 0 & 0 & 0 & 0 & 0 & 0 & 0 & 0 & 0 & 0 & 1 & 0 & 0 & 0 & 0 & 0 & 0 & 0 & 0 & 0 & 1 & 0 & 0 & 0 & 0 & 0 & 0 & 0 \\\\\n",
       "\t11 & 93 & Q3: [1435.0, 1669.0) & 0 & 0 & 0 & 0 & 0 & 0 & 0 & 0 & 0 & 0 & 0 & 0 & 1 & 0 & 0 & 1 & 0 & 0 & 0 & 0 & 0 & 0 & 0 & 0 & 0 & 0 & 0 & 0 & 0 & 0 & 0 & 0 & 0 & 0 & 0 & 0 & 1 & 0 & 0 & 0 & 0 & 0 & 0 & 0 & 0 & 0 & 1 & 0 & 0 & 0 & 0 & 0 & 0 & 0 \\\\\n",
       "\t12 & 96 & Q4: [1669.0, 1975.0) & 0 & 0 & 0 & 0 & 0 & 0 & 0 & 0 & 0 & 0 & 0 & 0 & 1 & 0 & 0 & 0 & 0 & 0 & 0 & 0 & 0 & 0 & 0 & 0 & 0 & 0 & 1 & 0 & 0 & 0 & 0 & 0 & 0 & 0 & 0 & 0 & 1 & 0 & 0 & 0 & 0 & 0 & 0 & 0 & 0 & 0 & 1 & 0 & 0 & 0 & 0 & 0 & 0 & 0 \\\\\n",
       "\t$\\dots$ & $\\dots$ & $\\dots$ & $\\dots$ & $\\dots$ & $\\dots$ & $\\dots$ & $\\dots$ & $\\dots$ & $\\dots$ & $\\dots$ & $\\dots$ & $\\dots$ & $\\dots$ & $\\dots$ & $\\dots$ & $\\dots$ & $\\dots$ & $\\dots$ & $\\dots$ & $\\dots$ & $\\dots$ & $\\dots$ & $\\dots$ & $\\dots$ & $\\dots$ & $\\dots$ & $\\dots$ & $\\dots$ & $\\dots$ & $\\dots$ & $\\dots$ & $\\dots$ & $\\dots$ & $\\dots$ & $\\dots$ & $\\dots$ & $\\dots$ & $\\dots$ & $\\dots$ & $\\dots$ & $\\dots$ & $\\dots$ & $\\dots$ & $\\dots$ & $\\dots$ & $\\dots$ & $\\dots$ & $\\dots$ & $\\dots$ & $\\dots$ & $\\dots$ & $\\dots$ & $\\dots$ & $\\dots$ & $\\dots$ & $\\dots$ \\\\\n",
       "\\end{tabular}\n"
      ],
      "text/plain": [
       "\u001b[1m565133×56 DataFrame\u001b[0m\n",
       "\u001b[1m    Row \u001b[0m│\u001b[1m Popularity \u001b[0m\u001b[1m Rating_5             \u001b[0m\u001b[1m advancedPawn \u001b[0m\u001b[1m advantage \u001b[0m\u001b[1m anastasiaMate \u001b[0m\u001b[1m arabianMate \u001b[0m\u001b[1m attackingF2F7 \u001b[0m\u001b[1m attraction \u001b[0m\u001b[1m backRankMate \u001b[0m\u001b[1m bishopEndgame \u001b[0m\u001b[1m bodenMate \u001b[0m\u001b[1m capturingDefender \u001b[0m\u001b[1m castling \u001b[0m\u001b[1m clearance \u001b[0m\u001b[1m crushing \u001b[0m\u001b[1m defensiveMove \u001b[0m\u001b[1m deflection \u001b[0m\u001b[1m discoveredAttack \u001b[0m\u001b[1m doubleBishopMate \u001b[0m\u001b[1m doubleCheck \u001b[0m\u001b[1m dovetailMate \u001b[0m\u001b[1m enPassant \u001b[0m\u001b[1m exposedKing \u001b[0m\u001b[1m fork  \u001b[0m\u001b[1m hangingPiece \u001b[0m\u001b[1m hookMate \u001b[0m\u001b[1m interference \u001b[0m\u001b[1m intermezzo \u001b[0m\u001b[1m kingsideAttack \u001b[0m\u001b[1m long  \u001b[0m\u001b[1m master \u001b[0m\u001b[1m masterVsMaster \u001b[0m\u001b[1m mate  \u001b[0m\u001b[1m mateIn1 \u001b[0m\u001b[1m mateIn2 \u001b[0m\u001b[1m mateIn3 \u001b[0m\u001b[1m mateIn4 \u001b[0m\u001b[1m mateIn5 \u001b[0m\u001b[1m middlegame \u001b[0m\u001b[1m oneMove \u001b[0m\u001b[1m opening \u001b[0m\u001b[1m pin   \u001b[0m\u001b[1m promotion \u001b[0m\u001b[1m queenRookEndgame \u001b[0m\u001b[1m queensideAttack \u001b[0m\u001b[1m quietMove \u001b[0m\u001b[1m rookEndgame \u001b[0m\u001b[1m sacrifice \u001b[0m\u001b[1m short \u001b[0m\u001b[1m skewer \u001b[0m\u001b[1m smotheredMate \u001b[0m\u001b[1m superGM \u001b[0m\u001b[1m trappedPiece \u001b[0m\u001b[1m underPromotion \u001b[0m\u001b[1m veryLong \u001b[0m\u001b[1m xRayAttack \u001b[0m\n",
       "\u001b[1m        \u001b[0m│\u001b[90m Int64      \u001b[0m\u001b[90m Cat…                 \u001b[0m\u001b[90m Bool         \u001b[0m\u001b[90m Bool      \u001b[0m\u001b[90m Bool          \u001b[0m\u001b[90m Bool        \u001b[0m\u001b[90m Bool          \u001b[0m\u001b[90m Bool       \u001b[0m\u001b[90m Bool         \u001b[0m\u001b[90m Bool          \u001b[0m\u001b[90m Bool      \u001b[0m\u001b[90m Bool              \u001b[0m\u001b[90m Bool     \u001b[0m\u001b[90m Bool      \u001b[0m\u001b[90m Bool     \u001b[0m\u001b[90m Bool          \u001b[0m\u001b[90m Bool       \u001b[0m\u001b[90m Bool             \u001b[0m\u001b[90m Bool             \u001b[0m\u001b[90m Bool        \u001b[0m\u001b[90m Bool         \u001b[0m\u001b[90m Bool      \u001b[0m\u001b[90m Bool        \u001b[0m\u001b[90m Bool  \u001b[0m\u001b[90m Bool         \u001b[0m\u001b[90m Bool     \u001b[0m\u001b[90m Bool         \u001b[0m\u001b[90m Bool       \u001b[0m\u001b[90m Bool           \u001b[0m\u001b[90m Bool  \u001b[0m\u001b[90m Bool   \u001b[0m\u001b[90m Bool           \u001b[0m\u001b[90m Bool  \u001b[0m\u001b[90m Bool    \u001b[0m\u001b[90m Bool    \u001b[0m\u001b[90m Bool    \u001b[0m\u001b[90m Bool    \u001b[0m\u001b[90m Bool    \u001b[0m\u001b[90m Bool       \u001b[0m\u001b[90m Bool    \u001b[0m\u001b[90m Bool    \u001b[0m\u001b[90m Bool  \u001b[0m\u001b[90m Bool      \u001b[0m\u001b[90m Bool             \u001b[0m\u001b[90m Bool            \u001b[0m\u001b[90m Bool      \u001b[0m\u001b[90m Bool        \u001b[0m\u001b[90m Bool      \u001b[0m\u001b[90m Bool  \u001b[0m\u001b[90m Bool   \u001b[0m\u001b[90m Bool          \u001b[0m\u001b[90m Bool    \u001b[0m\u001b[90m Bool         \u001b[0m\u001b[90m Bool           \u001b[0m\u001b[90m Bool     \u001b[0m\u001b[90m Bool       \u001b[0m\n",
       "────────┼───────────────────────────────────────────────────────────────────────────────────────────────────────────────────────────────────────────────────────────────────────────────────────────────────────────────────────────────────────────────────────────────────────────────────────────────────────────────────────────────────────────────────────────────────────────────────────────────────────────────────────────────────────────────────────────────────────────────────────────────────────────────────────────────────────────────────────────────────────────────────────────────────────────────────────────────────────────────────────────────────────────────────────────────────────────\n",
       "      1 │         85  Q1: [550.0, 1174.0)          false       true          false        false          false       false         false          false      false              false     false      false     false          false       false             false             false        false         false      false        false  false         false     false         false       false           false  false   false           false  false    false    false    false    false    false        true    false    false  false      false             false            false      false        false      false   true   false          false    false         false           false     false       false\n",
       "      2 │         86  Q3: [1435.0, 1669.0)         false       true          false        false          false       false         false          false      false              false     false      false     false          false       false             false             false        false         false      false        false  false         false     false         false       false           false  false    true           false  false    false    false    false    false    false        true    false    false  false      false             false            false      false        false      false   true   false          false    false         false           false     false       false\n",
       "   ⋮    │     ⋮                ⋮                 ⋮            ⋮            ⋮             ⋮             ⋮            ⋮            ⋮              ⋮            ⋮              ⋮             ⋮          ⋮         ⋮            ⋮            ⋮              ⋮                 ⋮               ⋮            ⋮            ⋮           ⋮         ⋮         ⋮           ⋮           ⋮            ⋮             ⋮           ⋮      ⋮           ⋮           ⋮       ⋮        ⋮        ⋮        ⋮        ⋮         ⋮          ⋮        ⋮       ⋮        ⋮             ⋮                 ⋮             ⋮           ⋮           ⋮        ⋮      ⋮           ⋮           ⋮          ⋮              ⋮            ⋮          ⋮\n",
       " 565133 │         79  Q5: [1975.0, 2914.0]         false       true          false        false          false       false         false          false      false              false     false      false     false          false       false             false             false        false         false      false        false  false         false     false         false       false           false   true   false           false  false    false    false    false    false    false       false    false     true  false      false             false            false      false        false      false  false   false          false    false         false           false     false       false\n",
       "\u001b[36m                                                                                                                                                                                                                                                                                                                                                                                                                                                                                                                                                                                                                                                                                                 565130 rows omitted\u001b[0m"
      ]
     },
     "execution_count": 77,
     "metadata": {},
     "output_type": "execute_result"
    }
   ],
   "source": [
    "df3 = @chain df begin\n",
    "    transform(:Themes => ByRow(split) => :ThemesSplit)\n",
    "    select(:Popularity,\n",
    "           :Rating => (x -> cut(x, 5)) => :Rating_5,\n",
    "           [:ThemesSplit => ByRow(x -> t in x) => t for t in all_themes])\n",
    "end"
   ]
  },
  {
   "cell_type": "markdown",
   "metadata": {},
   "source": [
    "To perform the check we want to build a linear model, where popularity is target variable and features represent information if a puzzle is about mating."
   ]
  },
  {
   "cell_type": "code",
   "execution_count": 78,
   "metadata": {},
   "outputs": [
    {
     "data": {
      "text/plain": [
       "FormulaTerm\n",
       "Response:\n",
       "  Popularity(unknown)\n",
       "Predictors:\n",
       "  mateIn1(unknown)\n",
       "  mateIn2(unknown)\n",
       "  mateIn3(unknown)\n",
       "  mateIn4(unknown)\n",
       "  mateIn5(unknown)"
      ]
     },
     "execution_count": 78,
     "metadata": {},
     "output_type": "execute_result"
    }
   ],
   "source": [
    "model_formula = Term(:Popularity)~sum(Term.(Symbol.(names(df3, r\"mateIn\"))))"
   ]
  },
  {
   "cell_type": "code",
   "execution_count": 79,
   "metadata": {},
   "outputs": [
    {
     "data": {
      "text/plain": [
       "StatsModels.TableRegressionModel{LinearModel{GLM.LmResp{Vector{Float64}}, GLM.DensePredChol{Float64, LinearAlgebra.CholeskyPivoted{Float64, Matrix{Float64}}}}, Matrix{Float64}}\n",
       "\n",
       "Popularity ~ 1 + mateIn1 + mateIn2 + mateIn3 + mateIn4 + mateIn5\n",
       "\n",
       "Coefficients:\n",
       "──────────────────────────────────────────────────────────────────────────\n",
       "                Coef.  Std. Error        t  Pr(>|t|)  Lower 95%  Upper 95%\n",
       "──────────────────────────────────────────────────────────────────────────\n",
       "(Intercept)  81.5405    0.0377315  2161.07    <1e-99   81.4666    81.6145\n",
       "mateIn1       2.58243   0.148096     17.44    <1e-67    2.29217    2.87269\n",
       "mateIn2       5.37389   0.14534      36.97    <1e-99    5.08903    5.65875\n",
       "mateIn3       5.6448    0.29236      19.31    <1e-82    5.07178    6.21781\n",
       "mateIn4       7.12728   0.767043      9.29    <1e-19    5.6239     8.63066\n",
       "mateIn5       7.15179   1.49038       4.80    <1e-05    4.23069   10.0729\n",
       "──────────────────────────────────────────────────────────────────────────"
      ]
     },
     "execution_count": 79,
     "metadata": {},
     "output_type": "execute_result"
    }
   ],
   "source": [
    "model = lm(model_formula, df3)"
   ]
  },
  {
   "cell_type": "markdown",
   "metadata": {},
   "source": [
    "Here is a way to convert the model output into a `DataFrame`:"
   ]
  },
  {
   "cell_type": "code",
   "execution_count": 80,
   "metadata": {},
   "outputs": [
    {
     "data": {
      "text/html": [
       "<div class=\"data-frame\"><p>6 rows × 7 columns</p><table class=\"data-frame\"><thead><tr><th></th><th>Name</th><th>Coef.</th><th>Std. Error</th><th>t</th><th>Pr(&gt;|t|)</th><th>Lower 95%</th><th>Upper 95%</th></tr><tr><th></th><th title=\"String\">String</th><th title=\"Float64\">Float64</th><th title=\"Float64\">Float64</th><th title=\"Float64\">Float64</th><th title=\"Float64\">Float64</th><th title=\"Float64\">Float64</th><th title=\"Float64\">Float64</th></tr></thead><tbody><tr><th>1</th><td>(Intercept)</td><td>81.5405</td><td>0.0377315</td><td>2161.07</td><td>0.0</td><td>81.4666</td><td>81.6145</td></tr><tr><th>2</th><td>mateIn1</td><td>2.58243</td><td>0.148096</td><td>17.4376</td><td>4.45974e-68</td><td>2.29217</td><td>2.87269</td></tr><tr><th>3</th><td>mateIn2</td><td>5.37389</td><td>0.14534</td><td>36.9745</td><td>6.72658e-299</td><td>5.08903</td><td>5.65875</td></tr><tr><th>4</th><td>mateIn3</td><td>5.6448</td><td>0.29236</td><td>19.3077</td><td>4.92539e-83</td><td>5.07178</td><td>6.21781</td></tr><tr><th>5</th><td>mateIn4</td><td>7.12728</td><td>0.767043</td><td>9.29188</td><td>1.52094e-20</td><td>5.6239</td><td>8.63066</td></tr><tr><th>6</th><td>mateIn5</td><td>7.15179</td><td>1.49038</td><td>4.79864</td><td>1.5979e-6</td><td>4.23069</td><td>10.0729</td></tr></tbody></table></div>"
      ],
      "text/latex": [
       "\\begin{tabular}{r|ccccccc}\n",
       "\t& Name & Coef. & Std. Error & t & Pr(>|t|) & Lower 95\\% & Upper 95\\%\\\\\n",
       "\t\\hline\n",
       "\t& String & Float64 & Float64 & Float64 & Float64 & Float64 & Float64\\\\\n",
       "\t\\hline\n",
       "\t1 & (Intercept) & 81.5405 & 0.0377315 & 2161.07 & 0.0 & 81.4666 & 81.6145 \\\\\n",
       "\t2 & mateIn1 & 2.58243 & 0.148096 & 17.4376 & 4.45974e-68 & 2.29217 & 2.87269 \\\\\n",
       "\t3 & mateIn2 & 5.37389 & 0.14534 & 36.9745 & 6.72658e-299 & 5.08903 & 5.65875 \\\\\n",
       "\t4 & mateIn3 & 5.6448 & 0.29236 & 19.3077 & 4.92539e-83 & 5.07178 & 6.21781 \\\\\n",
       "\t5 & mateIn4 & 7.12728 & 0.767043 & 9.29188 & 1.52094e-20 & 5.6239 & 8.63066 \\\\\n",
       "\t6 & mateIn5 & 7.15179 & 1.49038 & 4.79864 & 1.5979e-6 & 4.23069 & 10.0729 \\\\\n",
       "\\end{tabular}\n"
      ],
      "text/plain": [
       "\u001b[1m6×7 DataFrame\u001b[0m\n",
       "\u001b[1m Row \u001b[0m│\u001b[1m Name        \u001b[0m\u001b[1m Coef.    \u001b[0m\u001b[1m Std. Error \u001b[0m\u001b[1m t          \u001b[0m\u001b[1m Pr(>|t|)     \u001b[0m\u001b[1m Lower 95% \u001b[0m\u001b[1m Upper 95% \u001b[0m\n",
       "\u001b[1m     \u001b[0m│\u001b[90m String      \u001b[0m\u001b[90m Float64  \u001b[0m\u001b[90m Float64    \u001b[0m\u001b[90m Float64    \u001b[0m\u001b[90m Float64      \u001b[0m\u001b[90m Float64   \u001b[0m\u001b[90m Float64   \u001b[0m\n",
       "─────┼───────────────────────────────────────────────────────────────────────────────────\n",
       "   1 │ (Intercept)  81.5405    0.0377315  2161.07     0.0            81.4666    81.6145\n",
       "   2 │ mateIn1       2.58243   0.148096     17.4376   4.45974e-68     2.29217    2.87269\n",
       "  ⋮  │      ⋮          ⋮          ⋮           ⋮            ⋮            ⋮          ⋮\n",
       "   6 │ mateIn5       7.15179   1.49038       4.79864  1.5979e-6       4.23069   10.0729\n",
       "\u001b[36m                                                                           3 rows omitted\u001b[0m"
      ]
     },
     "execution_count": 80,
     "metadata": {},
     "output_type": "execute_result"
    }
   ],
   "source": [
    "DataFrame(coeftable(model))"
   ]
  },
  {
   "cell_type": "markdown",
   "metadata": {},
   "source": [
    "Let us learn another syntax supported by `combine`, `select[!]` and `transform!`. You can pass a function as a first argument to them, to facilitate using of the `do`-`end` block syntax:"
   ]
  },
  {
   "cell_type": "code",
   "execution_count": 81,
   "metadata": {},
   "outputs": [
    {
     "data": {
      "text/html": [
       "<div class=\"data-frame\"><p>6 rows × 7 columns</p><table class=\"data-frame\"><thead><tr><th></th><th>Name</th><th>Coef.</th><th>Std. Error</th><th>t</th><th>Pr(&gt;|t|)</th><th>Lower 95%</th><th>Upper 95%</th></tr><tr><th></th><th title=\"String\">String</th><th title=\"Float64\">Float64</th><th title=\"Float64\">Float64</th><th title=\"Float64\">Float64</th><th title=\"Float64\">Float64</th><th title=\"Float64\">Float64</th><th title=\"Float64\">Float64</th></tr></thead><tbody><tr><th>1</th><td>(Intercept)</td><td>81.5405</td><td>0.0377315</td><td>2161.07</td><td>0.0</td><td>81.4666</td><td>81.6145</td></tr><tr><th>2</th><td>mateIn1</td><td>2.58243</td><td>0.148096</td><td>17.4376</td><td>4.45974e-68</td><td>2.29217</td><td>2.87269</td></tr><tr><th>3</th><td>mateIn2</td><td>5.37389</td><td>0.14534</td><td>36.9745</td><td>6.72658e-299</td><td>5.08903</td><td>5.65875</td></tr><tr><th>4</th><td>mateIn3</td><td>5.6448</td><td>0.29236</td><td>19.3077</td><td>4.92539e-83</td><td>5.07178</td><td>6.21781</td></tr><tr><th>5</th><td>mateIn4</td><td>7.12728</td><td>0.767043</td><td>9.29188</td><td>1.52094e-20</td><td>5.6239</td><td>8.63066</td></tr><tr><th>6</th><td>mateIn5</td><td>7.15179</td><td>1.49038</td><td>4.79864</td><td>1.5979e-6</td><td>4.23069</td><td>10.0729</td></tr></tbody></table></div>"
      ],
      "text/latex": [
       "\\begin{tabular}{r|ccccccc}\n",
       "\t& Name & Coef. & Std. Error & t & Pr(>|t|) & Lower 95\\% & Upper 95\\%\\\\\n",
       "\t\\hline\n",
       "\t& String & Float64 & Float64 & Float64 & Float64 & Float64 & Float64\\\\\n",
       "\t\\hline\n",
       "\t1 & (Intercept) & 81.5405 & 0.0377315 & 2161.07 & 0.0 & 81.4666 & 81.6145 \\\\\n",
       "\t2 & mateIn1 & 2.58243 & 0.148096 & 17.4376 & 4.45974e-68 & 2.29217 & 2.87269 \\\\\n",
       "\t3 & mateIn2 & 5.37389 & 0.14534 & 36.9745 & 6.72658e-299 & 5.08903 & 5.65875 \\\\\n",
       "\t4 & mateIn3 & 5.6448 & 0.29236 & 19.3077 & 4.92539e-83 & 5.07178 & 6.21781 \\\\\n",
       "\t5 & mateIn4 & 7.12728 & 0.767043 & 9.29188 & 1.52094e-20 & 5.6239 & 8.63066 \\\\\n",
       "\t6 & mateIn5 & 7.15179 & 1.49038 & 4.79864 & 1.5979e-6 & 4.23069 & 10.0729 \\\\\n",
       "\\end{tabular}\n"
      ],
      "text/plain": [
       "\u001b[1m6×7 DataFrame\u001b[0m\n",
       "\u001b[1m Row \u001b[0m│\u001b[1m Name        \u001b[0m\u001b[1m Coef.    \u001b[0m\u001b[1m Std. Error \u001b[0m\u001b[1m t          \u001b[0m\u001b[1m Pr(>|t|)     \u001b[0m\u001b[1m Lower 95% \u001b[0m\u001b[1m Upper 95% \u001b[0m\n",
       "\u001b[1m     \u001b[0m│\u001b[90m String      \u001b[0m\u001b[90m Float64  \u001b[0m\u001b[90m Float64    \u001b[0m\u001b[90m Float64    \u001b[0m\u001b[90m Float64      \u001b[0m\u001b[90m Float64   \u001b[0m\u001b[90m Float64   \u001b[0m\n",
       "─────┼───────────────────────────────────────────────────────────────────────────────────\n",
       "   1 │ (Intercept)  81.5405    0.0377315  2161.07     0.0            81.4666    81.6145\n",
       "   2 │ mateIn1       2.58243   0.148096     17.4376   4.45974e-68     2.29217    2.87269\n",
       "  ⋮  │      ⋮          ⋮          ⋮           ⋮            ⋮            ⋮          ⋮\n",
       "   6 │ mateIn5       7.15179   1.49038       4.79864  1.5979e-6       4.23069   10.0729\n",
       "\u001b[36m                                                                           3 rows omitted\u001b[0m"
      ]
     },
     "execution_count": 81,
     "metadata": {},
     "output_type": "execute_result"
    }
   ],
   "source": [
    "combine(df3) do sdf\n",
    "    model_formula = Term(:Popularity)~sum(Term.(Symbol.(names(df3, r\"mateIn\"))))\n",
    "    model = lm(model_formula, df3)\n",
    "    return DataFrame(coeftable(model))\n",
    "end"
   ]
  },
  {
   "cell_type": "markdown",
   "metadata": {},
   "source": [
    "This is especially useful with grouped data frames:"
   ]
  },
  {
   "cell_type": "code",
   "execution_count": 82,
   "metadata": {},
   "outputs": [
    {
     "data": {
      "text/html": [
       "<div class=\"data-frame\"><p>30 rows × 8 columns</p><table class=\"data-frame\"><thead><tr><th></th><th>Rating_5</th><th>Name</th><th>Coef.</th><th>Std. Error</th><th>t</th><th>Pr(&gt;|t|)</th><th>Lower 95%</th><th>Upper 95%</th></tr><tr><th></th><th title=\"CategoricalValue{String, UInt32}\">Cat…</th><th title=\"String\">String</th><th title=\"Float64\">Float64</th><th title=\"Float64\">Float64</th><th title=\"Float64\">Float64</th><th title=\"Float64\">Float64</th><th title=\"Float64\">Float64</th><th title=\"Float64\">Float64</th></tr></thead><tbody><tr><th>1</th><td>Q1: [550.0, 1174.0)</td><td>(Intercept)</td><td>79.7779</td><td>0.109919</td><td>725.789</td><td>0.0</td><td>79.5624</td><td>79.9933</td></tr><tr><th>2</th><td>Q1: [550.0, 1174.0)</td><td>mateIn1</td><td>6.5843</td><td>0.240873</td><td>27.3351</td><td>5.57156e-164</td><td>6.11219</td><td>7.05641</td></tr><tr><th>3</th><td>Q1: [550.0, 1174.0)</td><td>mateIn2</td><td>7.18476</td><td>0.28568</td><td>25.1497</td><td>3.45107e-139</td><td>6.62484</td><td>7.74469</td></tr><tr><th>4</th><td>Q1: [550.0, 1174.0)</td><td>mateIn3</td><td>8.90866</td><td>0.766526</td><td>11.6221</td><td>3.31412e-31</td><td>7.40628</td><td>10.411</td></tr><tr><th>5</th><td>Q1: [550.0, 1174.0)</td><td>mateIn4</td><td>3.22212</td><td>5.88983</td><td>0.547065</td><td>0.584335</td><td>-8.32185</td><td>14.7661</td></tr><tr><th>6</th><td>Q1: [550.0, 1174.0)</td><td>mateIn5</td><td>9.22212</td><td>21.6371</td><td>0.426218</td><td>0.66995</td><td>-33.1863</td><td>51.6305</td></tr><tr><th>7</th><td>Q2: [1174.0, 1435.0)</td><td>(Intercept)</td><td>79.3099</td><td>0.0959953</td><td>826.185</td><td>0.0</td><td>79.1217</td><td>79.498</td></tr><tr><th>8</th><td>Q2: [1174.0, 1435.0)</td><td>mateIn1</td><td>3.61308</td><td>0.317024</td><td>11.3969</td><td>4.50038e-30</td><td>2.99172</td><td>4.23445</td></tr><tr><th>9</th><td>Q2: [1174.0, 1435.0)</td><td>mateIn2</td><td>7.25252</td><td>0.301853</td><td>24.0267</td><td>3.06564e-127</td><td>6.66089</td><td>7.84414</td></tr><tr><th>10</th><td>Q2: [1174.0, 1435.0)</td><td>mateIn3</td><td>5.86913</td><td>0.649035</td><td>9.04287</td><td>1.54949e-19</td><td>4.59704</td><td>7.14123</td></tr><tr><th>11</th><td>Q2: [1174.0, 1435.0)</td><td>mateIn4</td><td>8.08179</td><td>2.6477</td><td>3.05238</td><td>0.00227085</td><td>2.89234</td><td>13.2712</td></tr><tr><th>12</th><td>Q2: [1174.0, 1435.0)</td><td>mateIn5</td><td>11.4401</td><td>8.3678</td><td>1.36716</td><td>0.171578</td><td>-4.96064</td><td>27.8409</td></tr><tr><th>&vellip;</th><td>&vellip;</td><td>&vellip;</td><td>&vellip;</td><td>&vellip;</td><td>&vellip;</td><td>&vellip;</td><td>&vellip;</td><td>&vellip;</td></tr></tbody></table></div>"
      ],
      "text/latex": [
       "\\begin{tabular}{r|cccccccc}\n",
       "\t& Rating\\_5 & Name & Coef. & Std. Error & t & Pr(>|t|) & Lower 95\\% & Upper 95\\%\\\\\n",
       "\t\\hline\n",
       "\t& Cat… & String & Float64 & Float64 & Float64 & Float64 & Float64 & Float64\\\\\n",
       "\t\\hline\n",
       "\t1 & Q1: [550.0, 1174.0) & (Intercept) & 79.7779 & 0.109919 & 725.789 & 0.0 & 79.5624 & 79.9933 \\\\\n",
       "\t2 & Q1: [550.0, 1174.0) & mateIn1 & 6.5843 & 0.240873 & 27.3351 & 5.57156e-164 & 6.11219 & 7.05641 \\\\\n",
       "\t3 & Q1: [550.0, 1174.0) & mateIn2 & 7.18476 & 0.28568 & 25.1497 & 3.45107e-139 & 6.62484 & 7.74469 \\\\\n",
       "\t4 & Q1: [550.0, 1174.0) & mateIn3 & 8.90866 & 0.766526 & 11.6221 & 3.31412e-31 & 7.40628 & 10.411 \\\\\n",
       "\t5 & Q1: [550.0, 1174.0) & mateIn4 & 3.22212 & 5.88983 & 0.547065 & 0.584335 & -8.32185 & 14.7661 \\\\\n",
       "\t6 & Q1: [550.0, 1174.0) & mateIn5 & 9.22212 & 21.6371 & 0.426218 & 0.66995 & -33.1863 & 51.6305 \\\\\n",
       "\t7 & Q2: [1174.0, 1435.0) & (Intercept) & 79.3099 & 0.0959953 & 826.185 & 0.0 & 79.1217 & 79.498 \\\\\n",
       "\t8 & Q2: [1174.0, 1435.0) & mateIn1 & 3.61308 & 0.317024 & 11.3969 & 4.50038e-30 & 2.99172 & 4.23445 \\\\\n",
       "\t9 & Q2: [1174.0, 1435.0) & mateIn2 & 7.25252 & 0.301853 & 24.0267 & 3.06564e-127 & 6.66089 & 7.84414 \\\\\n",
       "\t10 & Q2: [1174.0, 1435.0) & mateIn3 & 5.86913 & 0.649035 & 9.04287 & 1.54949e-19 & 4.59704 & 7.14123 \\\\\n",
       "\t11 & Q2: [1174.0, 1435.0) & mateIn4 & 8.08179 & 2.6477 & 3.05238 & 0.00227085 & 2.89234 & 13.2712 \\\\\n",
       "\t12 & Q2: [1174.0, 1435.0) & mateIn5 & 11.4401 & 8.3678 & 1.36716 & 0.171578 & -4.96064 & 27.8409 \\\\\n",
       "\t$\\dots$ & $\\dots$ & $\\dots$ & $\\dots$ & $\\dots$ & $\\dots$ & $\\dots$ & $\\dots$ & $\\dots$ \\\\\n",
       "\\end{tabular}\n"
      ],
      "text/plain": [
       "\u001b[1m30×8 DataFrame\u001b[0m\n",
       "\u001b[1m Row \u001b[0m│\u001b[1m Rating_5             \u001b[0m\u001b[1m Name        \u001b[0m\u001b[1m Coef.     \u001b[0m\u001b[1m Std. Error \u001b[0m\u001b[1m t          \u001b[0m\u001b[1m Pr(>|t|)     \u001b[0m\u001b[1m Lower 95% \u001b[0m\u001b[1m Upper 95% \u001b[0m\n",
       "\u001b[1m     \u001b[0m│\u001b[90m Cat…                 \u001b[0m\u001b[90m String      \u001b[0m\u001b[90m Float64   \u001b[0m\u001b[90m Float64    \u001b[0m\u001b[90m Float64    \u001b[0m\u001b[90m Float64      \u001b[0m\u001b[90m Float64   \u001b[0m\u001b[90m Float64   \u001b[0m\n",
       "─────┼──────────────────────────────────────────────────────────────────────────────────────────────────────────\n",
       "   1 │ Q1: [550.0, 1174.0)   (Intercept)  79.7779      0.109919  725.789     0.0            79.5624    79.9933\n",
       "   2 │ Q1: [550.0, 1174.0)   mateIn1       6.5843      0.240873   27.3351    5.57156e-164    6.11219    7.05641\n",
       "  ⋮  │          ⋮                 ⋮           ⋮          ⋮           ⋮            ⋮            ⋮          ⋮\n",
       "  30 │ Q5: [1975.0, 2914.0]  mateIn5       4.80933     1.18963     4.04272   5.28686e-5      2.47768    7.14097\n",
       "\u001b[36m                                                                                                 27 rows omitted\u001b[0m"
      ]
     },
     "execution_count": 82,
     "metadata": {},
     "output_type": "execute_result"
    }
   ],
   "source": [
    "combine(groupby(df3, :Rating_5)) do sdf\n",
    "    model_formula = Term(:Popularity)~sum(Term.(Symbol.(names(sdf, r\"mateIn\"))))\n",
    "    model = lm(model_formula, sdf)\n",
    "    return DataFrame(coeftable(model))\n",
    "end"
   ]
  },
  {
   "cell_type": "markdown",
   "metadata": {},
   "source": [
    "The output is quite long, so we unstack it to make it easier to analyze:"
   ]
  },
  {
   "cell_type": "code",
   "execution_count": 83,
   "metadata": {},
   "outputs": [
    {
     "data": {
      "text/html": [
       "<div class=\"data-frame\"><p>5 rows × 7 columns</p><table class=\"data-frame\"><thead><tr><th></th><th>Rating_5</th><th>(Intercept)</th><th>mateIn1</th><th>mateIn2</th><th>mateIn3</th><th>mateIn4</th><th>mateIn5</th></tr><tr><th></th><th title=\"CategoricalValue{String, UInt32}\">Cat…</th><th title=\"Union{Missing, Float64}\">Float64?</th><th title=\"Union{Missing, Float64}\">Float64?</th><th title=\"Union{Missing, Float64}\">Float64?</th><th title=\"Union{Missing, Float64}\">Float64?</th><th title=\"Union{Missing, Float64}\">Float64?</th><th title=\"Union{Missing, Float64}\">Float64?</th></tr></thead><tbody><tr><th>1</th><td>Q1: [550.0, 1174.0)</td><td>79.7779</td><td>6.5843</td><td>7.18476</td><td>8.90866</td><td>3.22212</td><td>9.22212</td></tr><tr><th>2</th><td>Q2: [1174.0, 1435.0)</td><td>79.3099</td><td>3.61308</td><td>7.25252</td><td>5.86913</td><td>8.08179</td><td>11.4401</td></tr><tr><th>3</th><td>Q3: [1435.0, 1669.0)</td><td>82.1048</td><td>-6.57694</td><td>4.95212</td><td>4.76377</td><td>5.41956</td><td>6.17103</td></tr><tr><th>4</th><td>Q4: [1669.0, 1975.0)</td><td>82.1788</td><td>-4.30993</td><td>5.08509</td><td>6.34639</td><td>6.84058</td><td>8.2631</td></tr><tr><th>5</th><td>Q5: [1975.0, 2914.0]</td><td>83.4916</td><td>-0.841558</td><td>3.95341</td><td>3.53664</td><td>6.25903</td><td>4.80933</td></tr></tbody></table></div>"
      ],
      "text/latex": [
       "\\begin{tabular}{r|ccccccc}\n",
       "\t& Rating\\_5 & (Intercept) & mateIn1 & mateIn2 & mateIn3 & mateIn4 & mateIn5\\\\\n",
       "\t\\hline\n",
       "\t& Cat… & Float64? & Float64? & Float64? & Float64? & Float64? & Float64?\\\\\n",
       "\t\\hline\n",
       "\t1 & Q1: [550.0, 1174.0) & 79.7779 & 6.5843 & 7.18476 & 8.90866 & 3.22212 & 9.22212 \\\\\n",
       "\t2 & Q2: [1174.0, 1435.0) & 79.3099 & 3.61308 & 7.25252 & 5.86913 & 8.08179 & 11.4401 \\\\\n",
       "\t3 & Q3: [1435.0, 1669.0) & 82.1048 & -6.57694 & 4.95212 & 4.76377 & 5.41956 & 6.17103 \\\\\n",
       "\t4 & Q4: [1669.0, 1975.0) & 82.1788 & -4.30993 & 5.08509 & 6.34639 & 6.84058 & 8.2631 \\\\\n",
       "\t5 & Q5: [1975.0, 2914.0] & 83.4916 & -0.841558 & 3.95341 & 3.53664 & 6.25903 & 4.80933 \\\\\n",
       "\\end{tabular}\n"
      ],
      "text/plain": [
       "\u001b[1m5×7 DataFrame\u001b[0m\n",
       "\u001b[1m Row \u001b[0m│\u001b[1m Rating_5             \u001b[0m\u001b[1m (Intercept) \u001b[0m\u001b[1m mateIn1   \u001b[0m\u001b[1m mateIn2  \u001b[0m\u001b[1m mateIn3  \u001b[0m\u001b[1m mateIn4  \u001b[0m\u001b[1m mateIn5  \u001b[0m\n",
       "\u001b[1m     \u001b[0m│\u001b[90m Cat…                 \u001b[0m\u001b[90m Float64?    \u001b[0m\u001b[90m Float64?  \u001b[0m\u001b[90m Float64? \u001b[0m\u001b[90m Float64? \u001b[0m\u001b[90m Float64? \u001b[0m\u001b[90m Float64? \u001b[0m\n",
       "─────┼──────────────────────────────────────────────────────────────────────────────────────\n",
       "   1 │ Q1: [550.0, 1174.0)       79.7779   6.5843     7.18476   8.90866   3.22212   9.22212\n",
       "   2 │ Q2: [1174.0, 1435.0)      79.3099   3.61308    7.25252   5.86913   8.08179  11.4401\n",
       "   3 │ Q3: [1435.0, 1669.0)      82.1048  -6.57694    4.95212   4.76377   5.41956   6.17103\n",
       "   4 │ Q4: [1669.0, 1975.0)      82.1788  -4.30993    5.08509   6.34639   6.84058   8.2631\n",
       "   5 │ Q5: [1975.0, 2914.0]      83.4916  -0.841558   3.95341   3.53664   6.25903   4.80933"
      ]
     },
     "execution_count": 83,
     "metadata": {},
     "output_type": "execute_result"
    }
   ],
   "source": [
    "@chain df3 begin\n",
    "    groupby(:Rating_5)\n",
    "    combine(_) do sdf\n",
    "        model_formula = Term(:Popularity)~sum(Term.(Symbol.(names(sdf, r\"mateIn\"))))\n",
    "        model = lm(model_formula, sdf)\n",
    "        return DataFrame(coeftable(model))\n",
    "    end\n",
    "    unstack(\"Rating_5\", \"Name\", \"Coef.\")\n",
    "end"
   ]
  },
  {
   "cell_type": "markdown",
   "metadata": {},
   "source": [
    "Let us check how many puzzles are mating ones. We do it in two ways, and at the same time learn the `@aside` option of `@chain`:"
   ]
  },
  {
   "cell_type": "code",
   "execution_count": 84,
   "metadata": {},
   "outputs": [
    {
     "name": "stdout",
     "output_type": "stream",
     "text": [
      "mean((var\"##393\").NoTag) = 0.13918493522763667\n"
     ]
    },
    {
     "data": {
      "text/html": [
       "<div class=\"data-frame\"><p>2 rows × 2 columns</p><table class=\"data-frame\"><thead><tr><th></th><th>NoTag</th><th>nrow</th></tr><tr><th></th><th title=\"Int64\">Int64</th><th title=\"Int64\">Int64</th></tr></thead><tbody><tr><th>1</th><td>0</td><td>486475</td></tr><tr><th>2</th><td>1</td><td>78658</td></tr></tbody></table></div>"
      ],
      "text/latex": [
       "\\begin{tabular}{r|cc}\n",
       "\t& NoTag & nrow\\\\\n",
       "\t\\hline\n",
       "\t& Int64 & Int64\\\\\n",
       "\t\\hline\n",
       "\t1 & 0 & 486475 \\\\\n",
       "\t2 & 1 & 78658 \\\\\n",
       "\\end{tabular}\n"
      ],
      "text/plain": [
       "\u001b[1m2×2 DataFrame\u001b[0m\n",
       "\u001b[1m Row \u001b[0m│\u001b[1m NoTag \u001b[0m\u001b[1m nrow   \u001b[0m\n",
       "\u001b[1m     \u001b[0m│\u001b[90m Int64 \u001b[0m\u001b[90m Int64  \u001b[0m\n",
       "─────┼───────────────\n",
       "   1 │     0  486475\n",
       "   2 │     1   78658"
      ]
     },
     "execution_count": 84,
     "metadata": {},
     "output_type": "execute_result"
    }
   ],
   "source": [
    "@chain df3 begin\n",
    "    select(Cols(startswith(\"mateIn\")) => (+) => :NoTag)\n",
    "    @aside @show mean(_.NoTag)\n",
    "    groupby(:NoTag)\n",
    "    combine(nrow)\n",
    "end"
   ]
  },
  {
   "cell_type": "markdown",
   "metadata": {},
   "source": [
    "Below I show you how to collect multiple columns into one (a.k.a. column nesting)"
   ]
  },
  {
   "cell_type": "code",
   "execution_count": 85,
   "metadata": {},
   "outputs": [
    {
     "data": {
      "text/html": [
       "<div class=\"data-frame\"><p>565,133 rows × 1 columns</p><table class=\"data-frame\"><thead><tr><th></th><th>mateIn1_mateIn2_etc_identity</th></tr><tr><th></th><th title=\"NamedTuple{(:mateIn1, :mateIn2, :mateIn3, :mateIn4, :mateIn5), NTuple{5, Bool}}\">NamedTup…</th></tr></thead><tbody><tr><th>1</th><td>(mateIn1 = 0, mateIn2 = 0, mateIn3 = 0, mateIn4 = 0, mateIn5 = 0)</td></tr><tr><th>2</th><td>(mateIn1 = 0, mateIn2 = 0, mateIn3 = 0, mateIn4 = 0, mateIn5 = 0)</td></tr><tr><th>3</th><td>(mateIn1 = 0, mateIn2 = 1, mateIn3 = 0, mateIn4 = 0, mateIn5 = 0)</td></tr><tr><th>4</th><td>(mateIn1 = 0, mateIn2 = 0, mateIn3 = 0, mateIn4 = 0, mateIn5 = 0)</td></tr><tr><th>5</th><td>(mateIn1 = 1, mateIn2 = 0, mateIn3 = 0, mateIn4 = 0, mateIn5 = 0)</td></tr><tr><th>6</th><td>(mateIn1 = 1, mateIn2 = 0, mateIn3 = 0, mateIn4 = 0, mateIn5 = 0)</td></tr><tr><th>7</th><td>(mateIn1 = 0, mateIn2 = 0, mateIn3 = 0, mateIn4 = 0, mateIn5 = 0)</td></tr><tr><th>8</th><td>(mateIn1 = 0, mateIn2 = 0, mateIn3 = 0, mateIn4 = 0, mateIn5 = 0)</td></tr><tr><th>9</th><td>(mateIn1 = 0, mateIn2 = 0, mateIn3 = 0, mateIn4 = 0, mateIn5 = 0)</td></tr><tr><th>10</th><td>(mateIn1 = 0, mateIn2 = 0, mateIn3 = 0, mateIn4 = 0, mateIn5 = 0)</td></tr><tr><th>11</th><td>(mateIn1 = 0, mateIn2 = 0, mateIn3 = 0, mateIn4 = 0, mateIn5 = 0)</td></tr><tr><th>12</th><td>(mateIn1 = 0, mateIn2 = 0, mateIn3 = 0, mateIn4 = 0, mateIn5 = 0)</td></tr><tr><th>&vellip;</th><td>&vellip;</td></tr></tbody></table></div>"
      ],
      "text/latex": [
       "\\begin{tabular}{r|c}\n",
       "\t& mateIn1\\_mateIn2\\_etc\\_identity\\\\\n",
       "\t\\hline\n",
       "\t& NamedTup…\\\\\n",
       "\t\\hline\n",
       "\t1 & (mateIn1 = 0, mateIn2 = 0, mateIn3 = 0, mateIn4 = 0, mateIn5 = 0) \\\\\n",
       "\t2 & (mateIn1 = 0, mateIn2 = 0, mateIn3 = 0, mateIn4 = 0, mateIn5 = 0) \\\\\n",
       "\t3 & (mateIn1 = 0, mateIn2 = 1, mateIn3 = 0, mateIn4 = 0, mateIn5 = 0) \\\\\n",
       "\t4 & (mateIn1 = 0, mateIn2 = 0, mateIn3 = 0, mateIn4 = 0, mateIn5 = 0) \\\\\n",
       "\t5 & (mateIn1 = 1, mateIn2 = 0, mateIn3 = 0, mateIn4 = 0, mateIn5 = 0) \\\\\n",
       "\t6 & (mateIn1 = 1, mateIn2 = 0, mateIn3 = 0, mateIn4 = 0, mateIn5 = 0) \\\\\n",
       "\t7 & (mateIn1 = 0, mateIn2 = 0, mateIn3 = 0, mateIn4 = 0, mateIn5 = 0) \\\\\n",
       "\t8 & (mateIn1 = 0, mateIn2 = 0, mateIn3 = 0, mateIn4 = 0, mateIn5 = 0) \\\\\n",
       "\t9 & (mateIn1 = 0, mateIn2 = 0, mateIn3 = 0, mateIn4 = 0, mateIn5 = 0) \\\\\n",
       "\t10 & (mateIn1 = 0, mateIn2 = 0, mateIn3 = 0, mateIn4 = 0, mateIn5 = 0) \\\\\n",
       "\t11 & (mateIn1 = 0, mateIn2 = 0, mateIn3 = 0, mateIn4 = 0, mateIn5 = 0) \\\\\n",
       "\t12 & (mateIn1 = 0, mateIn2 = 0, mateIn3 = 0, mateIn4 = 0, mateIn5 = 0) \\\\\n",
       "\t$\\dots$ & $\\dots$ \\\\\n",
       "\\end{tabular}\n"
      ],
      "text/plain": [
       "\u001b[1m565133×1 DataFrame\u001b[0m\n",
       "\u001b[1m    Row \u001b[0m│\u001b[1m mateIn1_mateIn2_etc_identity      \u001b[0m\n",
       "\u001b[1m        \u001b[0m│\u001b[90m NamedTuple…                       \u001b[0m\n",
       "────────┼───────────────────────────────────\n",
       "      1 │ (mateIn1 = false, mateIn2 = fals…\n",
       "      2 │ (mateIn1 = false, mateIn2 = fals…\n",
       "   ⋮    │                 ⋮\n",
       " 565133 │ (mateIn1 = false, mateIn2 = fals…\n",
       "\u001b[36m                         565130 rows omitted\u001b[0m"
      ]
     },
     "execution_count": 85,
     "metadata": {},
     "output_type": "execute_result"
    }
   ],
   "source": [
    "select(df3, AsTable(Cols(startswith(\"mateIn\"))) => ByRow(identity))"
   ]
  },
  {
   "cell_type": "markdown",
   "metadata": {},
   "source": [
    "If we add `AsTable` as ouptput, we will unnest it, and get back the input."
   ]
  },
  {
   "cell_type": "code",
   "execution_count": 86,
   "metadata": {},
   "outputs": [
    {
     "data": {
      "text/html": [
       "<div class=\"data-frame\"><p>565,133 rows × 5 columns</p><table class=\"data-frame\"><thead><tr><th></th><th>mateIn1</th><th>mateIn2</th><th>mateIn3</th><th>mateIn4</th><th>mateIn5</th></tr><tr><th></th><th title=\"Bool\">Bool</th><th title=\"Bool\">Bool</th><th title=\"Bool\">Bool</th><th title=\"Bool\">Bool</th><th title=\"Bool\">Bool</th></tr></thead><tbody><tr><th>1</th><td>0</td><td>0</td><td>0</td><td>0</td><td>0</td></tr><tr><th>2</th><td>0</td><td>0</td><td>0</td><td>0</td><td>0</td></tr><tr><th>3</th><td>0</td><td>1</td><td>0</td><td>0</td><td>0</td></tr><tr><th>4</th><td>0</td><td>0</td><td>0</td><td>0</td><td>0</td></tr><tr><th>5</th><td>1</td><td>0</td><td>0</td><td>0</td><td>0</td></tr><tr><th>6</th><td>1</td><td>0</td><td>0</td><td>0</td><td>0</td></tr><tr><th>7</th><td>0</td><td>0</td><td>0</td><td>0</td><td>0</td></tr><tr><th>8</th><td>0</td><td>0</td><td>0</td><td>0</td><td>0</td></tr><tr><th>9</th><td>0</td><td>0</td><td>0</td><td>0</td><td>0</td></tr><tr><th>10</th><td>0</td><td>0</td><td>0</td><td>0</td><td>0</td></tr><tr><th>11</th><td>0</td><td>0</td><td>0</td><td>0</td><td>0</td></tr><tr><th>12</th><td>0</td><td>0</td><td>0</td><td>0</td><td>0</td></tr><tr><th>&vellip;</th><td>&vellip;</td><td>&vellip;</td><td>&vellip;</td><td>&vellip;</td><td>&vellip;</td></tr></tbody></table></div>"
      ],
      "text/latex": [
       "\\begin{tabular}{r|ccccc}\n",
       "\t& mateIn1 & mateIn2 & mateIn3 & mateIn4 & mateIn5\\\\\n",
       "\t\\hline\n",
       "\t& Bool & Bool & Bool & Bool & Bool\\\\\n",
       "\t\\hline\n",
       "\t1 & 0 & 0 & 0 & 0 & 0 \\\\\n",
       "\t2 & 0 & 0 & 0 & 0 & 0 \\\\\n",
       "\t3 & 0 & 1 & 0 & 0 & 0 \\\\\n",
       "\t4 & 0 & 0 & 0 & 0 & 0 \\\\\n",
       "\t5 & 1 & 0 & 0 & 0 & 0 \\\\\n",
       "\t6 & 1 & 0 & 0 & 0 & 0 \\\\\n",
       "\t7 & 0 & 0 & 0 & 0 & 0 \\\\\n",
       "\t8 & 0 & 0 & 0 & 0 & 0 \\\\\n",
       "\t9 & 0 & 0 & 0 & 0 & 0 \\\\\n",
       "\t10 & 0 & 0 & 0 & 0 & 0 \\\\\n",
       "\t11 & 0 & 0 & 0 & 0 & 0 \\\\\n",
       "\t12 & 0 & 0 & 0 & 0 & 0 \\\\\n",
       "\t$\\dots$ & $\\dots$ & $\\dots$ & $\\dots$ & $\\dots$ & $\\dots$ \\\\\n",
       "\\end{tabular}\n"
      ],
      "text/plain": [
       "\u001b[1m565133×5 DataFrame\u001b[0m\n",
       "\u001b[1m    Row \u001b[0m│\u001b[1m mateIn1 \u001b[0m\u001b[1m mateIn2 \u001b[0m\u001b[1m mateIn3 \u001b[0m\u001b[1m mateIn4 \u001b[0m\u001b[1m mateIn5 \u001b[0m\n",
       "\u001b[1m        \u001b[0m│\u001b[90m Bool    \u001b[0m\u001b[90m Bool    \u001b[0m\u001b[90m Bool    \u001b[0m\u001b[90m Bool    \u001b[0m\u001b[90m Bool    \u001b[0m\n",
       "────────┼─────────────────────────────────────────────\n",
       "      1 │   false    false    false    false    false\n",
       "      2 │   false    false    false    false    false\n",
       "   ⋮    │    ⋮        ⋮        ⋮        ⋮        ⋮\n",
       " 565133 │   false    false    false    false    false\n",
       "\u001b[36m                                   565130 rows omitted\u001b[0m"
      ]
     },
     "execution_count": 86,
     "metadata": {},
     "output_type": "execute_result"
    }
   ],
   "source": [
    "select(df3, AsTable(Cols(startswith(\"mateIn\"))) => ByRow(identity) => AsTable)"
   ]
  },
  {
   "cell_type": "markdown",
   "metadata": {},
   "source": [
    "This is an example how you can find column name from a set of multiple columns for which data meets some condition.\n",
    "In our case we want to create a column `:mate` that tells us what kind of puzzle with respect to mating we have."
   ]
  },
  {
   "cell_type": "code",
   "execution_count": 87,
   "metadata": {},
   "outputs": [
    {
     "data": {
      "text/html": [
       "<div class=\"data-frame\"><p>565,133 rows × 1 columns</p><table class=\"data-frame\"><thead><tr><th></th><th>mate</th></tr><tr><th></th><th title=\"Union{Nothing, Symbol}\">Union…</th></tr></thead><tbody><tr><th>1</th><td></td></tr><tr><th>2</th><td></td></tr><tr><th>3</th><td>mateIn2</td></tr><tr><th>4</th><td></td></tr><tr><th>5</th><td>mateIn1</td></tr><tr><th>6</th><td>mateIn1</td></tr><tr><th>7</th><td></td></tr><tr><th>8</th><td></td></tr><tr><th>9</th><td></td></tr><tr><th>10</th><td></td></tr><tr><th>11</th><td></td></tr><tr><th>12</th><td></td></tr><tr><th>&vellip;</th><td>&vellip;</td></tr></tbody></table></div>"
      ],
      "text/latex": [
       "\\begin{tabular}{r|c}\n",
       "\t& mate\\\\\n",
       "\t\\hline\n",
       "\t& Union…\\\\\n",
       "\t\\hline\n",
       "\t1 &  \\\\\n",
       "\t2 &  \\\\\n",
       "\t3 & mateIn2 \\\\\n",
       "\t4 &  \\\\\n",
       "\t5 & mateIn1 \\\\\n",
       "\t6 & mateIn1 \\\\\n",
       "\t7 &  \\\\\n",
       "\t8 &  \\\\\n",
       "\t9 &  \\\\\n",
       "\t10 &  \\\\\n",
       "\t11 &  \\\\\n",
       "\t12 &  \\\\\n",
       "\t$\\dots$ & $\\dots$ \\\\\n",
       "\\end{tabular}\n"
      ],
      "text/plain": [
       "\u001b[1m565133×1 DataFrame\u001b[0m\n",
       "\u001b[1m    Row \u001b[0m│\u001b[1m mate    \u001b[0m\n",
       "\u001b[1m        \u001b[0m│\u001b[90m Union…  \u001b[0m\n",
       "────────┼─────────\n",
       "      1 │\u001b[90m         \u001b[0m\n",
       "      2 │\u001b[90m         \u001b[0m\n",
       "   ⋮    │    ⋮\n",
       " 565133 │\u001b[90m         \u001b[0m\n",
       "\u001b[36m565130 rows omitted\u001b[0m"
      ]
     },
     "execution_count": 87,
     "metadata": {},
     "output_type": "execute_result"
    }
   ],
   "source": [
    "select(df3, AsTable(Cols(startswith(\"mateIn\"))) => ByRow(findfirst) => :mate)"
   ]
  },
  {
   "cell_type": "markdown",
   "metadata": {},
   "source": [
    "Let us check the distribution of puzzle types:"
   ]
  },
  {
   "cell_type": "code",
   "execution_count": 88,
   "metadata": {},
   "outputs": [
    {
     "data": {
      "text/html": [
       "<div class=\"data-frame\"><p>6 rows × 2 columns</p><table class=\"data-frame\"><thead><tr><th></th><th>mate</th><th>nrow</th></tr><tr><th></th><th title=\"Union{Nothing, Symbol}\">Union…</th><th title=\"Int64\">Int64</th></tr></thead><tbody><tr><th>1</th><td></td><td>486475</td></tr><tr><th>2</th><td>mateIn2</td><td>35156</td></tr><tr><th>3</th><td>mateIn1</td><td>33770</td></tr><tr><th>4</th><td>mateIn3</td><td>8240</td></tr><tr><th>5</th><td>mateIn4</td><td>1180</td></tr><tr><th>6</th><td>mateIn5</td><td>312</td></tr></tbody></table></div>"
      ],
      "text/latex": [
       "\\begin{tabular}{r|cc}\n",
       "\t& mate & nrow\\\\\n",
       "\t\\hline\n",
       "\t& Union… & Int64\\\\\n",
       "\t\\hline\n",
       "\t1 &  & 486475 \\\\\n",
       "\t2 & mateIn2 & 35156 \\\\\n",
       "\t3 & mateIn1 & 33770 \\\\\n",
       "\t4 & mateIn3 & 8240 \\\\\n",
       "\t5 & mateIn4 & 1180 \\\\\n",
       "\t6 & mateIn5 & 312 \\\\\n",
       "\\end{tabular}\n"
      ],
      "text/plain": [
       "\u001b[1m6×2 DataFrame\u001b[0m\n",
       "\u001b[1m Row \u001b[0m│\u001b[1m mate    \u001b[0m\u001b[1m nrow   \u001b[0m\n",
       "\u001b[1m     \u001b[0m│\u001b[90m Union…  \u001b[0m\u001b[90m Int64  \u001b[0m\n",
       "─────┼─────────────────\n",
       "   1 │\u001b[90m         \u001b[0m 486475\n",
       "   2 │ mateIn2   35156\n",
       "  ⋮  │    ⋮       ⋮\n",
       "   6 │ mateIn5     312\n",
       "\u001b[36m         3 rows omitted\u001b[0m"
      ]
     },
     "execution_count": 88,
     "metadata": {},
     "output_type": "execute_result"
    }
   ],
   "source": [
    "@chain df3 begin\n",
    "    select(AsTable(Cols(startswith(\"mateIn\"))) => ByRow(findfirst) => :mate)\n",
    "    groupby(:mate)\n",
    "    combine(nrow)\n",
    "end"
   ]
  },
  {
   "cell_type": "markdown",
   "metadata": {},
   "source": [
    "It would be nice to have it sorted by mate type. For this we need to convert the `:mate` column to string."
   ]
  },
  {
   "cell_type": "code",
   "execution_count": 89,
   "metadata": {},
   "outputs": [
    {
     "data": {
      "text/html": [
       "<div class=\"data-frame\"><p>6 rows × 2 columns</p><table class=\"data-frame\"><thead><tr><th></th><th>mate</th><th>nrow</th></tr><tr><th></th><th title=\"String\">String</th><th title=\"Int64\">Int64</th></tr></thead><tbody><tr><th>1</th><td>mateIn1</td><td>33770</td></tr><tr><th>2</th><td>mateIn2</td><td>35156</td></tr><tr><th>3</th><td>mateIn3</td><td>8240</td></tr><tr><th>4</th><td>mateIn4</td><td>1180</td></tr><tr><th>5</th><td>mateIn5</td><td>312</td></tr><tr><th>6</th><td>nothing</td><td>486475</td></tr></tbody></table></div>"
      ],
      "text/latex": [
       "\\begin{tabular}{r|cc}\n",
       "\t& mate & nrow\\\\\n",
       "\t\\hline\n",
       "\t& String & Int64\\\\\n",
       "\t\\hline\n",
       "\t1 & mateIn1 & 33770 \\\\\n",
       "\t2 & mateIn2 & 35156 \\\\\n",
       "\t3 & mateIn3 & 8240 \\\\\n",
       "\t4 & mateIn4 & 1180 \\\\\n",
       "\t5 & mateIn5 & 312 \\\\\n",
       "\t6 & nothing & 486475 \\\\\n",
       "\\end{tabular}\n"
      ],
      "text/plain": [
       "\u001b[1m6×2 DataFrame\u001b[0m\n",
       "\u001b[1m Row \u001b[0m│\u001b[1m mate    \u001b[0m\u001b[1m nrow   \u001b[0m\n",
       "\u001b[1m     \u001b[0m│\u001b[90m String  \u001b[0m\u001b[90m Int64  \u001b[0m\n",
       "─────┼─────────────────\n",
       "   1 │ mateIn1   33770\n",
       "   2 │ mateIn2   35156\n",
       "  ⋮  │    ⋮       ⋮\n",
       "   6 │ nothing  486475\n",
       "\u001b[36m         3 rows omitted\u001b[0m"
      ]
     },
     "execution_count": 89,
     "metadata": {},
     "output_type": "execute_result"
    }
   ],
   "source": [
    "@chain df3 begin\n",
    "    select(AsTable(Cols(startswith(\"mateIn\"))) => ByRow(string∘findfirst) => :mate)\n",
    "    groupby(:mate, sort=true)\n",
    "    combine(nrow)\n",
    "end"
   ]
  },
  {
   "cell_type": "markdown",
   "metadata": {},
   "source": [
    "## Subsetting rows"
   ]
  },
  {
   "cell_type": "markdown",
   "metadata": {},
   "source": [
    "Operation specification syntax can be also use to pass conditions for row subsetting to `subset` and `subset!` functions. Here we do not pass output column names (as we subset rows and not create any columns)"
   ]
  },
  {
   "cell_type": "code",
   "execution_count": 90,
   "metadata": {},
   "outputs": [
    {
     "data": {
      "text/html": [
       "<div class=\"data-frame\"><p>565,133 rows × 6 columns</p><table class=\"data-frame\"><thead><tr><th></th><th>Moves</th><th>Rating</th><th>Popularity</th><th>NbPlays</th><th>Themes</th><th>OpeningFamily</th></tr><tr><th></th><th title=\"String\">String</th><th title=\"Int64\">Int64</th><th title=\"Int64\">Int64</th><th title=\"Int64\">Int64</th><th title=\"String\">String</th><th title=\"String\">String</th></tr></thead><tbody><tr><th>1</th><td>b6c5 e2g4 h3g4 d1g4</td><td>1088</td><td>85</td><td>505</td><td>advantage middlegame short</td><td>Kings_Pawn_Game</td></tr><tr><th>2</th><td>g5e7 a5c3 b2c3 c6e7</td><td>1457</td><td>86</td><td>482</td><td>advantage master middlegame short</td><td>Benoni_Defense</td></tr><tr><th>3</th><td>e8f7 e2e6 f7f8 e6f7</td><td>1595</td><td>88</td><td>448</td><td>mate mateIn2 middlegame short</td><td>Horwitz_Defense</td></tr><tr><th>4</th><td>d8f6 d1h5 h7h6 h5c5</td><td>1762</td><td>90</td><td>1572</td><td>advantage middlegame short</td><td>Scotch_Game</td></tr><tr><th>5</th><td>c7a8 a5c3</td><td>1013</td><td>39</td><td>136</td><td>bodenMate hangingPiece mate mateIn1 middlegame oneMove</td><td>Sicilian_Defense</td></tr><tr><th>6</th><td>h2g3 g6h5</td><td>1490</td><td>50</td><td>12</td><td>mate mateIn1 oneMove</td><td>Ruy_Lopez</td></tr><tr><th>7</th><td>f2f3 d6c5 g1h1 c5c4</td><td>943</td><td>96</td><td>1091</td><td>advantage fork master masterVsMaster middlegame short</td><td>Pirc_Defense</td></tr><tr><th>8</th><td>d3a6 b6c5 a6c8 c5c4</td><td>1927</td><td>93</td><td>639</td><td>crushing master masterVsMaster middlegame sacrifice short</td><td>Slav_Defense</td></tr><tr><th>9</th><td>b1c3 f5g4 h5g4 d7g4</td><td>1628</td><td>96</td><td>12910</td><td>advantage opening short trappedPiece</td><td>Queens_Pawn_Game</td></tr><tr><th>10</th><td>c6e5 d4e5 d6e7 e5f6</td><td>1303</td><td>47</td><td>19</td><td>advantage fork middlegame short</td><td>Queens_Pawn_Game</td></tr><tr><th>11</th><td>f8e7 f3e5 c7e5 e2g4</td><td>1492</td><td>93</td><td>588</td><td>crushing discoveredAttack middlegame short</td><td>Caro-Kann_Defense</td></tr><tr><th>12</th><td>g1h1 f6f4 d1f3 f4f3</td><td>1787</td><td>96</td><td>1869</td><td>crushing kingsideAttack middlegame short</td><td>Sicilian_Defense</td></tr><tr><th>&vellip;</th><td>&vellip;</td><td>&vellip;</td><td>&vellip;</td><td>&vellip;</td><td>&vellip;</td><td>&vellip;</td></tr></tbody></table></div>"
      ],
      "text/latex": [
       "\\begin{tabular}{r|cccccc}\n",
       "\t& Moves & Rating & Popularity & NbPlays & Themes & OpeningFamily\\\\\n",
       "\t\\hline\n",
       "\t& String & Int64 & Int64 & Int64 & String & String\\\\\n",
       "\t\\hline\n",
       "\t1 & b6c5 e2g4 h3g4 d1g4 & 1088 & 85 & 505 & advantage middlegame short & Kings\\_Pawn\\_Game \\\\\n",
       "\t2 & g5e7 a5c3 b2c3 c6e7 & 1457 & 86 & 482 & advantage master middlegame short & Benoni\\_Defense \\\\\n",
       "\t3 & e8f7 e2e6 f7f8 e6f7 & 1595 & 88 & 448 & mate mateIn2 middlegame short & Horwitz\\_Defense \\\\\n",
       "\t4 & d8f6 d1h5 h7h6 h5c5 & 1762 & 90 & 1572 & advantage middlegame short & Scotch\\_Game \\\\\n",
       "\t5 & c7a8 a5c3 & 1013 & 39 & 136 & bodenMate hangingPiece mate mateIn1 middlegame oneMove & Sicilian\\_Defense \\\\\n",
       "\t6 & h2g3 g6h5 & 1490 & 50 & 12 & mate mateIn1 oneMove & Ruy\\_Lopez \\\\\n",
       "\t7 & f2f3 d6c5 g1h1 c5c4 & 943 & 96 & 1091 & advantage fork master masterVsMaster middlegame short & Pirc\\_Defense \\\\\n",
       "\t8 & d3a6 b6c5 a6c8 c5c4 & 1927 & 93 & 639 & crushing master masterVsMaster middlegame sacrifice short & Slav\\_Defense \\\\\n",
       "\t9 & b1c3 f5g4 h5g4 d7g4 & 1628 & 96 & 12910 & advantage opening short trappedPiece & Queens\\_Pawn\\_Game \\\\\n",
       "\t10 & c6e5 d4e5 d6e7 e5f6 & 1303 & 47 & 19 & advantage fork middlegame short & Queens\\_Pawn\\_Game \\\\\n",
       "\t11 & f8e7 f3e5 c7e5 e2g4 & 1492 & 93 & 588 & crushing discoveredAttack middlegame short & Caro-Kann\\_Defense \\\\\n",
       "\t12 & g1h1 f6f4 d1f3 f4f3 & 1787 & 96 & 1869 & crushing kingsideAttack middlegame short & Sicilian\\_Defense \\\\\n",
       "\t$\\dots$ & $\\dots$ & $\\dots$ & $\\dots$ & $\\dots$ & $\\dots$ & $\\dots$ \\\\\n",
       "\\end{tabular}\n"
      ],
      "text/plain": [
       "\u001b[1m565133×6 DataFrame\u001b[0m\n",
       "\u001b[1m    Row \u001b[0m│\u001b[1m Moves                         \u001b[0m\u001b[1m Rating \u001b[0m\u001b[1m Popularity \u001b[0m\u001b[1m NbPlays \u001b[0m\u001b[1m Themes                            \u001b[0m\u001b[1m OpeningFamily          \u001b[0m\n",
       "\u001b[1m        \u001b[0m│\u001b[90m String                        \u001b[0m\u001b[90m Int64  \u001b[0m\u001b[90m Int64      \u001b[0m\u001b[90m Int64   \u001b[0m\u001b[90m String                            \u001b[0m\u001b[90m String                 \u001b[0m\n",
       "────────┼───────────────────────────────────────────────────────────────────────────────────────────────────────────────────────\n",
       "      1 │ b6c5 e2g4 h3g4 d1g4              1088          85      505  advantage middlegame short         Kings_Pawn_Game\n",
       "      2 │ g5e7 a5c3 b2c3 c6e7              1457          86      482  advantage master middlegame short  Benoni_Defense\n",
       "   ⋮    │               ⋮                  ⋮         ⋮          ⋮                     ⋮                            ⋮\n",
       " 565133 │ c6d4 f1e1 e8d8 b1c3 d4f3 g2f3    2496          79       50  advantage long opening             Kings_Gambit_Accepted\n",
       "\u001b[36m                                                                                                             565130 rows omitted\u001b[0m"
      ]
     },
     "execution_count": 90,
     "metadata": {},
     "output_type": "execute_result"
    }
   ],
   "source": [
    "df"
   ]
  },
  {
   "cell_type": "markdown",
   "metadata": {},
   "source": [
    "Let us find only puzzles featuring Caro-Kann Defense."
   ]
  },
  {
   "cell_type": "code",
   "execution_count": 91,
   "metadata": {},
   "outputs": [
    {
     "data": {
      "text/html": [
       "<div class=\"data-frame\"><p>27,175 rows × 6 columns</p><table class=\"data-frame\"><thead><tr><th></th><th>Moves</th><th>Rating</th><th>Popularity</th><th>NbPlays</th><th>Themes</th><th>OpeningFamily</th></tr><tr><th></th><th title=\"String\">String</th><th title=\"Int64\">Int64</th><th title=\"Int64\">Int64</th><th title=\"Int64\">Int64</th><th title=\"String\">String</th><th title=\"String\">String</th></tr></thead><tbody><tr><th>1</th><td>f8e7 f3e5 c7e5 e2g4</td><td>1492</td><td>93</td><td>588</td><td>crushing discoveredAttack middlegame short</td><td>Caro-Kann_Defense</td></tr><tr><th>2</th><td>e4f2 g1f2 g6d3 d1d3</td><td>987</td><td>61</td><td>74</td><td>advantage hangingPiece middlegame short</td><td>Caro-Kann_Defense</td></tr><tr><th>3</th><td>a8b8 b5d6 e8d8 d2a5</td><td>1588</td><td>78</td><td>25</td><td>crushing master middlegame short</td><td>Caro-Kann_Defense</td></tr><tr><th>4</th><td>e5d7 f6d7 c5d7 c7d7</td><td>973</td><td>95</td><td>1203</td><td>crushing middlegame short</td><td>Caro-Kann_Defense</td></tr><tr><th>5</th><td>h4g6 d6h2 g1h1 h7g6</td><td>2028</td><td>94</td><td>7325</td><td>crushing intermezzo opening short</td><td>Caro-Kann_Defense</td></tr><tr><th>6</th><td>a8d8 d2b1 a3a4 d1a4</td><td>1586</td><td>93</td><td>5999</td><td>advantage master middlegame short trappedPiece</td><td>Caro-Kann_Defense</td></tr><tr><th>7</th><td>e1e6 e8d7 d2f4 c7f4</td><td>1304</td><td>74</td><td>136</td><td>crushing hangingPiece middlegame short</td><td>Caro-Kann_Defense</td></tr><tr><th>8</th><td>c3d5 f6d5 g5d8 d5e3</td><td>1420</td><td>100</td><td>16</td><td>crushing hangingPiece short</td><td>Caro-Kann_Defense</td></tr><tr><th>9</th><td>d8d1 e6e7 f8g8 e1d1</td><td>1920</td><td>79</td><td>124</td><td>advancedPawn crushing intermezzo opening short</td><td>Caro-Kann_Defense</td></tr><tr><th>10</th><td>c3d5 f6d5 f3d5 g7d4</td><td>2325</td><td>91</td><td>192</td><td>crushing discoveredAttack middlegame short</td><td>Caro-Kann_Defense</td></tr><tr><th>11</th><td>c1b2 f8b8 b2c1 c5e3 d1d2 e3c3</td><td>2074</td><td>61</td><td>40</td><td>crushing fork long middlegame</td><td>Caro-Kann_Defense</td></tr><tr><th>12</th><td>e3d3 e1e8 g8h7 e8c8</td><td>927</td><td>92</td><td>236</td><td>advantage fork middlegame short</td><td>Caro-Kann_Defense</td></tr><tr><th>&vellip;</th><td>&vellip;</td><td>&vellip;</td><td>&vellip;</td><td>&vellip;</td><td>&vellip;</td><td>&vellip;</td></tr></tbody></table></div>"
      ],
      "text/latex": [
       "\\begin{tabular}{r|cccccc}\n",
       "\t& Moves & Rating & Popularity & NbPlays & Themes & OpeningFamily\\\\\n",
       "\t\\hline\n",
       "\t& String & Int64 & Int64 & Int64 & String & String\\\\\n",
       "\t\\hline\n",
       "\t1 & f8e7 f3e5 c7e5 e2g4 & 1492 & 93 & 588 & crushing discoveredAttack middlegame short & Caro-Kann\\_Defense \\\\\n",
       "\t2 & e4f2 g1f2 g6d3 d1d3 & 987 & 61 & 74 & advantage hangingPiece middlegame short & Caro-Kann\\_Defense \\\\\n",
       "\t3 & a8b8 b5d6 e8d8 d2a5 & 1588 & 78 & 25 & crushing master middlegame short & Caro-Kann\\_Defense \\\\\n",
       "\t4 & e5d7 f6d7 c5d7 c7d7 & 973 & 95 & 1203 & crushing middlegame short & Caro-Kann\\_Defense \\\\\n",
       "\t5 & h4g6 d6h2 g1h1 h7g6 & 2028 & 94 & 7325 & crushing intermezzo opening short & Caro-Kann\\_Defense \\\\\n",
       "\t6 & a8d8 d2b1 a3a4 d1a4 & 1586 & 93 & 5999 & advantage master middlegame short trappedPiece & Caro-Kann\\_Defense \\\\\n",
       "\t7 & e1e6 e8d7 d2f4 c7f4 & 1304 & 74 & 136 & crushing hangingPiece middlegame short & Caro-Kann\\_Defense \\\\\n",
       "\t8 & c3d5 f6d5 g5d8 d5e3 & 1420 & 100 & 16 & crushing hangingPiece short & Caro-Kann\\_Defense \\\\\n",
       "\t9 & d8d1 e6e7 f8g8 e1d1 & 1920 & 79 & 124 & advancedPawn crushing intermezzo opening short & Caro-Kann\\_Defense \\\\\n",
       "\t10 & c3d5 f6d5 f3d5 g7d4 & 2325 & 91 & 192 & crushing discoveredAttack middlegame short & Caro-Kann\\_Defense \\\\\n",
       "\t11 & c1b2 f8b8 b2c1 c5e3 d1d2 e3c3 & 2074 & 61 & 40 & crushing fork long middlegame & Caro-Kann\\_Defense \\\\\n",
       "\t12 & e3d3 e1e8 g8h7 e8c8 & 927 & 92 & 236 & advantage fork middlegame short & Caro-Kann\\_Defense \\\\\n",
       "\t$\\dots$ & $\\dots$ & $\\dots$ & $\\dots$ & $\\dots$ & $\\dots$ & $\\dots$ \\\\\n",
       "\\end{tabular}\n"
      ],
      "text/plain": [
       "\u001b[1m27175×6 DataFrame\u001b[0m\n",
       "\u001b[1m   Row \u001b[0m│\u001b[1m Moves               \u001b[0m\u001b[1m Rating \u001b[0m\u001b[1m Popularity \u001b[0m\u001b[1m NbPlays \u001b[0m\u001b[1m Themes                            \u001b[0m\u001b[1m OpeningFamily     \u001b[0m\n",
       "\u001b[1m       \u001b[0m│\u001b[90m String              \u001b[0m\u001b[90m Int64  \u001b[0m\u001b[90m Int64      \u001b[0m\u001b[90m Int64   \u001b[0m\u001b[90m String                            \u001b[0m\u001b[90m String            \u001b[0m\n",
       "───────┼────────────────────────────────────────────────────────────────────────────────────────────────────────\n",
       "     1 │ f8e7 f3e5 c7e5 e2g4    1492          93      588  crushing discoveredAttack middle…  Caro-Kann_Defense\n",
       "     2 │ e4f2 g1f2 g6d3 d1d3     987          61       74  advantage hangingPiece middlegam…  Caro-Kann_Defense\n",
       "   ⋮   │          ⋮             ⋮         ⋮          ⋮                     ⋮                          ⋮\n",
       " 27175 │ a5a2 b5c7 e8d7 c7a8     812         100       52  crushing fork middlegame short     Caro-Kann_Defense\n",
       "\u001b[36m                                                                                              27172 rows omitted\u001b[0m"
      ]
     },
     "execution_count": 91,
     "metadata": {},
     "output_type": "execute_result"
    }
   ],
   "source": [
    "subset(df, :OpeningFamily => ByRow(==(\"Caro-Kann_Defense\")))"
   ]
  },
  {
   "cell_type": "markdown",
   "metadata": {},
   "source": [
    "DataFramesMeta.jl is nicer here:"
   ]
  },
  {
   "cell_type": "code",
   "execution_count": 92,
   "metadata": {},
   "outputs": [
    {
     "data": {
      "text/html": [
       "<div class=\"data-frame\"><p>27,175 rows × 6 columns</p><table class=\"data-frame\"><thead><tr><th></th><th>Moves</th><th>Rating</th><th>Popularity</th><th>NbPlays</th><th>Themes</th><th>OpeningFamily</th></tr><tr><th></th><th title=\"String\">String</th><th title=\"Int64\">Int64</th><th title=\"Int64\">Int64</th><th title=\"Int64\">Int64</th><th title=\"String\">String</th><th title=\"String\">String</th></tr></thead><tbody><tr><th>1</th><td>f8e7 f3e5 c7e5 e2g4</td><td>1492</td><td>93</td><td>588</td><td>crushing discoveredAttack middlegame short</td><td>Caro-Kann_Defense</td></tr><tr><th>2</th><td>e4f2 g1f2 g6d3 d1d3</td><td>987</td><td>61</td><td>74</td><td>advantage hangingPiece middlegame short</td><td>Caro-Kann_Defense</td></tr><tr><th>3</th><td>a8b8 b5d6 e8d8 d2a5</td><td>1588</td><td>78</td><td>25</td><td>crushing master middlegame short</td><td>Caro-Kann_Defense</td></tr><tr><th>4</th><td>e5d7 f6d7 c5d7 c7d7</td><td>973</td><td>95</td><td>1203</td><td>crushing middlegame short</td><td>Caro-Kann_Defense</td></tr><tr><th>5</th><td>h4g6 d6h2 g1h1 h7g6</td><td>2028</td><td>94</td><td>7325</td><td>crushing intermezzo opening short</td><td>Caro-Kann_Defense</td></tr><tr><th>6</th><td>a8d8 d2b1 a3a4 d1a4</td><td>1586</td><td>93</td><td>5999</td><td>advantage master middlegame short trappedPiece</td><td>Caro-Kann_Defense</td></tr><tr><th>7</th><td>e1e6 e8d7 d2f4 c7f4</td><td>1304</td><td>74</td><td>136</td><td>crushing hangingPiece middlegame short</td><td>Caro-Kann_Defense</td></tr><tr><th>8</th><td>c3d5 f6d5 g5d8 d5e3</td><td>1420</td><td>100</td><td>16</td><td>crushing hangingPiece short</td><td>Caro-Kann_Defense</td></tr><tr><th>9</th><td>d8d1 e6e7 f8g8 e1d1</td><td>1920</td><td>79</td><td>124</td><td>advancedPawn crushing intermezzo opening short</td><td>Caro-Kann_Defense</td></tr><tr><th>10</th><td>c3d5 f6d5 f3d5 g7d4</td><td>2325</td><td>91</td><td>192</td><td>crushing discoveredAttack middlegame short</td><td>Caro-Kann_Defense</td></tr><tr><th>11</th><td>c1b2 f8b8 b2c1 c5e3 d1d2 e3c3</td><td>2074</td><td>61</td><td>40</td><td>crushing fork long middlegame</td><td>Caro-Kann_Defense</td></tr><tr><th>12</th><td>e3d3 e1e8 g8h7 e8c8</td><td>927</td><td>92</td><td>236</td><td>advantage fork middlegame short</td><td>Caro-Kann_Defense</td></tr><tr><th>&vellip;</th><td>&vellip;</td><td>&vellip;</td><td>&vellip;</td><td>&vellip;</td><td>&vellip;</td><td>&vellip;</td></tr></tbody></table></div>"
      ],
      "text/latex": [
       "\\begin{tabular}{r|cccccc}\n",
       "\t& Moves & Rating & Popularity & NbPlays & Themes & OpeningFamily\\\\\n",
       "\t\\hline\n",
       "\t& String & Int64 & Int64 & Int64 & String & String\\\\\n",
       "\t\\hline\n",
       "\t1 & f8e7 f3e5 c7e5 e2g4 & 1492 & 93 & 588 & crushing discoveredAttack middlegame short & Caro-Kann\\_Defense \\\\\n",
       "\t2 & e4f2 g1f2 g6d3 d1d3 & 987 & 61 & 74 & advantage hangingPiece middlegame short & Caro-Kann\\_Defense \\\\\n",
       "\t3 & a8b8 b5d6 e8d8 d2a5 & 1588 & 78 & 25 & crushing master middlegame short & Caro-Kann\\_Defense \\\\\n",
       "\t4 & e5d7 f6d7 c5d7 c7d7 & 973 & 95 & 1203 & crushing middlegame short & Caro-Kann\\_Defense \\\\\n",
       "\t5 & h4g6 d6h2 g1h1 h7g6 & 2028 & 94 & 7325 & crushing intermezzo opening short & Caro-Kann\\_Defense \\\\\n",
       "\t6 & a8d8 d2b1 a3a4 d1a4 & 1586 & 93 & 5999 & advantage master middlegame short trappedPiece & Caro-Kann\\_Defense \\\\\n",
       "\t7 & e1e6 e8d7 d2f4 c7f4 & 1304 & 74 & 136 & crushing hangingPiece middlegame short & Caro-Kann\\_Defense \\\\\n",
       "\t8 & c3d5 f6d5 g5d8 d5e3 & 1420 & 100 & 16 & crushing hangingPiece short & Caro-Kann\\_Defense \\\\\n",
       "\t9 & d8d1 e6e7 f8g8 e1d1 & 1920 & 79 & 124 & advancedPawn crushing intermezzo opening short & Caro-Kann\\_Defense \\\\\n",
       "\t10 & c3d5 f6d5 f3d5 g7d4 & 2325 & 91 & 192 & crushing discoveredAttack middlegame short & Caro-Kann\\_Defense \\\\\n",
       "\t11 & c1b2 f8b8 b2c1 c5e3 d1d2 e3c3 & 2074 & 61 & 40 & crushing fork long middlegame & Caro-Kann\\_Defense \\\\\n",
       "\t12 & e3d3 e1e8 g8h7 e8c8 & 927 & 92 & 236 & advantage fork middlegame short & Caro-Kann\\_Defense \\\\\n",
       "\t$\\dots$ & $\\dots$ & $\\dots$ & $\\dots$ & $\\dots$ & $\\dots$ & $\\dots$ \\\\\n",
       "\\end{tabular}\n"
      ],
      "text/plain": [
       "\u001b[1m27175×6 DataFrame\u001b[0m\n",
       "\u001b[1m   Row \u001b[0m│\u001b[1m Moves               \u001b[0m\u001b[1m Rating \u001b[0m\u001b[1m Popularity \u001b[0m\u001b[1m NbPlays \u001b[0m\u001b[1m Themes                            \u001b[0m\u001b[1m OpeningFamily     \u001b[0m\n",
       "\u001b[1m       \u001b[0m│\u001b[90m String              \u001b[0m\u001b[90m Int64  \u001b[0m\u001b[90m Int64      \u001b[0m\u001b[90m Int64   \u001b[0m\u001b[90m String                            \u001b[0m\u001b[90m String            \u001b[0m\n",
       "───────┼────────────────────────────────────────────────────────────────────────────────────────────────────────\n",
       "     1 │ f8e7 f3e5 c7e5 e2g4    1492          93      588  crushing discoveredAttack middle…  Caro-Kann_Defense\n",
       "     2 │ e4f2 g1f2 g6d3 d1d3     987          61       74  advantage hangingPiece middlegam…  Caro-Kann_Defense\n",
       "   ⋮   │          ⋮             ⋮         ⋮          ⋮                     ⋮                          ⋮\n",
       " 27175 │ a5a2 b5c7 e8d7 c7a8     812         100       52  crushing fork middlegame short     Caro-Kann_Defense\n",
       "\u001b[36m                                                                                              27172 rows omitted\u001b[0m"
      ]
     },
     "execution_count": 92,
     "metadata": {},
     "output_type": "execute_result"
    }
   ],
   "source": [
    "@rsubset(df, :OpeningFamily == \"Caro-Kann_Defense\")"
   ]
  },
  {
   "cell_type": "markdown",
   "metadata": {},
   "source": [
    "Now we want two conditions: puzzles that feature Caro-Kann Defense and whose popularity is above mean of whole population."
   ]
  },
  {
   "cell_type": "code",
   "execution_count": 93,
   "metadata": {},
   "outputs": [
    {
     "data": {
      "text/html": [
       "<div class=\"data-frame\"><p>20,010 rows × 6 columns</p><table class=\"data-frame\"><thead><tr><th></th><th>Moves</th><th>Rating</th><th>Popularity</th><th>NbPlays</th><th>Themes</th><th>OpeningFamily</th></tr><tr><th></th><th title=\"String\">String</th><th title=\"Int64\">Int64</th><th title=\"Int64\">Int64</th><th title=\"Int64\">Int64</th><th title=\"String\">String</th><th title=\"String\">String</th></tr></thead><tbody><tr><th>1</th><td>f8e7 f3e5 c7e5 e2g4</td><td>1492</td><td>93</td><td>588</td><td>crushing discoveredAttack middlegame short</td><td>Caro-Kann_Defense</td></tr><tr><th>2</th><td>e5d7 f6d7 c5d7 c7d7</td><td>973</td><td>95</td><td>1203</td><td>crushing middlegame short</td><td>Caro-Kann_Defense</td></tr><tr><th>3</th><td>h4g6 d6h2 g1h1 h7g6</td><td>2028</td><td>94</td><td>7325</td><td>crushing intermezzo opening short</td><td>Caro-Kann_Defense</td></tr><tr><th>4</th><td>a8d8 d2b1 a3a4 d1a4</td><td>1586</td><td>93</td><td>5999</td><td>advantage master middlegame short trappedPiece</td><td>Caro-Kann_Defense</td></tr><tr><th>5</th><td>c3d5 f6d5 g5d8 d5e3</td><td>1420</td><td>100</td><td>16</td><td>crushing hangingPiece short</td><td>Caro-Kann_Defense</td></tr><tr><th>6</th><td>c3d5 f6d5 f3d5 g7d4</td><td>2325</td><td>91</td><td>192</td><td>crushing discoveredAttack middlegame short</td><td>Caro-Kann_Defense</td></tr><tr><th>7</th><td>e3d3 e1e8 g8h7 e8c8</td><td>927</td><td>92</td><td>236</td><td>advantage fork middlegame short</td><td>Caro-Kann_Defense</td></tr><tr><th>8</th><td>h4h5 d6h2 g1h1 f5g3 h1h2 g3e2</td><td>1661</td><td>92</td><td>6640</td><td>crushing discoveredAttack fork long middlegame</td><td>Caro-Kann_Defense</td></tr><tr><th>9</th><td>h8e8 e1e8 d8e8 b5c7 e8c6 c7a8</td><td>1259</td><td>91</td><td>207</td><td>crushing fork long middlegame</td><td>Caro-Kann_Defense</td></tr><tr><th>10</th><td>g7g6 d1a1 a2a1 h1a1</td><td>1223</td><td>95</td><td>2357</td><td>advantage middlegame short trappedPiece</td><td>Caro-Kann_Defense</td></tr><tr><th>11</th><td>e7g6 d3g6 f7g6 e2b5 c8d7 b5c5</td><td>1899</td><td>96</td><td>4336</td><td>clearance crushing fork long opening</td><td>Caro-Kann_Defense</td></tr><tr><th>12</th><td>a2a3 b4c3 b2c3 a5a6 d4c5 a6e2</td><td>2222</td><td>88</td><td>86</td><td>advantage fork long</td><td>Caro-Kann_Defense</td></tr><tr><th>&vellip;</th><td>&vellip;</td><td>&vellip;</td><td>&vellip;</td><td>&vellip;</td><td>&vellip;</td><td>&vellip;</td></tr></tbody></table></div>"
      ],
      "text/latex": [
       "\\begin{tabular}{r|cccccc}\n",
       "\t& Moves & Rating & Popularity & NbPlays & Themes & OpeningFamily\\\\\n",
       "\t\\hline\n",
       "\t& String & Int64 & Int64 & Int64 & String & String\\\\\n",
       "\t\\hline\n",
       "\t1 & f8e7 f3e5 c7e5 e2g4 & 1492 & 93 & 588 & crushing discoveredAttack middlegame short & Caro-Kann\\_Defense \\\\\n",
       "\t2 & e5d7 f6d7 c5d7 c7d7 & 973 & 95 & 1203 & crushing middlegame short & Caro-Kann\\_Defense \\\\\n",
       "\t3 & h4g6 d6h2 g1h1 h7g6 & 2028 & 94 & 7325 & crushing intermezzo opening short & Caro-Kann\\_Defense \\\\\n",
       "\t4 & a8d8 d2b1 a3a4 d1a4 & 1586 & 93 & 5999 & advantage master middlegame short trappedPiece & Caro-Kann\\_Defense \\\\\n",
       "\t5 & c3d5 f6d5 g5d8 d5e3 & 1420 & 100 & 16 & crushing hangingPiece short & Caro-Kann\\_Defense \\\\\n",
       "\t6 & c3d5 f6d5 f3d5 g7d4 & 2325 & 91 & 192 & crushing discoveredAttack middlegame short & Caro-Kann\\_Defense \\\\\n",
       "\t7 & e3d3 e1e8 g8h7 e8c8 & 927 & 92 & 236 & advantage fork middlegame short & Caro-Kann\\_Defense \\\\\n",
       "\t8 & h4h5 d6h2 g1h1 f5g3 h1h2 g3e2 & 1661 & 92 & 6640 & crushing discoveredAttack fork long middlegame & Caro-Kann\\_Defense \\\\\n",
       "\t9 & h8e8 e1e8 d8e8 b5c7 e8c6 c7a8 & 1259 & 91 & 207 & crushing fork long middlegame & Caro-Kann\\_Defense \\\\\n",
       "\t10 & g7g6 d1a1 a2a1 h1a1 & 1223 & 95 & 2357 & advantage middlegame short trappedPiece & Caro-Kann\\_Defense \\\\\n",
       "\t11 & e7g6 d3g6 f7g6 e2b5 c8d7 b5c5 & 1899 & 96 & 4336 & clearance crushing fork long opening & Caro-Kann\\_Defense \\\\\n",
       "\t12 & a2a3 b4c3 b2c3 a5a6 d4c5 a6e2 & 2222 & 88 & 86 & advantage fork long & Caro-Kann\\_Defense \\\\\n",
       "\t$\\dots$ & $\\dots$ & $\\dots$ & $\\dots$ & $\\dots$ & $\\dots$ & $\\dots$ \\\\\n",
       "\\end{tabular}\n"
      ],
      "text/plain": [
       "\u001b[1m20010×6 DataFrame\u001b[0m\n",
       "\u001b[1m   Row \u001b[0m│\u001b[1m Moves               \u001b[0m\u001b[1m Rating \u001b[0m\u001b[1m Popularity \u001b[0m\u001b[1m NbPlays \u001b[0m\u001b[1m Themes                            \u001b[0m\u001b[1m OpeningFamily     \u001b[0m\n",
       "\u001b[1m       \u001b[0m│\u001b[90m String              \u001b[0m\u001b[90m Int64  \u001b[0m\u001b[90m Int64      \u001b[0m\u001b[90m Int64   \u001b[0m\u001b[90m String                            \u001b[0m\u001b[90m String            \u001b[0m\n",
       "───────┼────────────────────────────────────────────────────────────────────────────────────────────────────────\n",
       "     1 │ f8e7 f3e5 c7e5 e2g4    1492          93      588  crushing discoveredAttack middle…  Caro-Kann_Defense\n",
       "     2 │ e5d7 f6d7 c5d7 c7d7     973          95     1203  crushing middlegame short          Caro-Kann_Defense\n",
       "   ⋮   │          ⋮             ⋮         ⋮          ⋮                     ⋮                          ⋮\n",
       " 20010 │ a5a2 b5c7 e8d7 c7a8     812         100       52  crushing fork middlegame short     Caro-Kann_Defense\n",
       "\u001b[36m                                                                                              20007 rows omitted\u001b[0m"
      ]
     },
     "execution_count": 93,
     "metadata": {},
     "output_type": "execute_result"
    }
   ],
   "source": [
    "subset(df, :OpeningFamily => ByRow(==(\"Caro-Kann_Defense\")), :Popularity => x -> x .> mean(x))"
   ]
  },
  {
   "cell_type": "code",
   "execution_count": 94,
   "metadata": {},
   "outputs": [
    {
     "data": {
      "text/html": [
       "<div class=\"data-frame\"><p>20,010 rows × 6 columns</p><table class=\"data-frame\"><thead><tr><th></th><th>Moves</th><th>Rating</th><th>Popularity</th><th>NbPlays</th><th>Themes</th><th>OpeningFamily</th></tr><tr><th></th><th title=\"String\">String</th><th title=\"Int64\">Int64</th><th title=\"Int64\">Int64</th><th title=\"Int64\">Int64</th><th title=\"String\">String</th><th title=\"String\">String</th></tr></thead><tbody><tr><th>1</th><td>f8e7 f3e5 c7e5 e2g4</td><td>1492</td><td>93</td><td>588</td><td>crushing discoveredAttack middlegame short</td><td>Caro-Kann_Defense</td></tr><tr><th>2</th><td>e5d7 f6d7 c5d7 c7d7</td><td>973</td><td>95</td><td>1203</td><td>crushing middlegame short</td><td>Caro-Kann_Defense</td></tr><tr><th>3</th><td>h4g6 d6h2 g1h1 h7g6</td><td>2028</td><td>94</td><td>7325</td><td>crushing intermezzo opening short</td><td>Caro-Kann_Defense</td></tr><tr><th>4</th><td>a8d8 d2b1 a3a4 d1a4</td><td>1586</td><td>93</td><td>5999</td><td>advantage master middlegame short trappedPiece</td><td>Caro-Kann_Defense</td></tr><tr><th>5</th><td>c3d5 f6d5 g5d8 d5e3</td><td>1420</td><td>100</td><td>16</td><td>crushing hangingPiece short</td><td>Caro-Kann_Defense</td></tr><tr><th>6</th><td>c3d5 f6d5 f3d5 g7d4</td><td>2325</td><td>91</td><td>192</td><td>crushing discoveredAttack middlegame short</td><td>Caro-Kann_Defense</td></tr><tr><th>7</th><td>e3d3 e1e8 g8h7 e8c8</td><td>927</td><td>92</td><td>236</td><td>advantage fork middlegame short</td><td>Caro-Kann_Defense</td></tr><tr><th>8</th><td>h4h5 d6h2 g1h1 f5g3 h1h2 g3e2</td><td>1661</td><td>92</td><td>6640</td><td>crushing discoveredAttack fork long middlegame</td><td>Caro-Kann_Defense</td></tr><tr><th>9</th><td>h8e8 e1e8 d8e8 b5c7 e8c6 c7a8</td><td>1259</td><td>91</td><td>207</td><td>crushing fork long middlegame</td><td>Caro-Kann_Defense</td></tr><tr><th>10</th><td>g7g6 d1a1 a2a1 h1a1</td><td>1223</td><td>95</td><td>2357</td><td>advantage middlegame short trappedPiece</td><td>Caro-Kann_Defense</td></tr><tr><th>11</th><td>e7g6 d3g6 f7g6 e2b5 c8d7 b5c5</td><td>1899</td><td>96</td><td>4336</td><td>clearance crushing fork long opening</td><td>Caro-Kann_Defense</td></tr><tr><th>12</th><td>a2a3 b4c3 b2c3 a5a6 d4c5 a6e2</td><td>2222</td><td>88</td><td>86</td><td>advantage fork long</td><td>Caro-Kann_Defense</td></tr><tr><th>&vellip;</th><td>&vellip;</td><td>&vellip;</td><td>&vellip;</td><td>&vellip;</td><td>&vellip;</td><td>&vellip;</td></tr></tbody></table></div>"
      ],
      "text/latex": [
       "\\begin{tabular}{r|cccccc}\n",
       "\t& Moves & Rating & Popularity & NbPlays & Themes & OpeningFamily\\\\\n",
       "\t\\hline\n",
       "\t& String & Int64 & Int64 & Int64 & String & String\\\\\n",
       "\t\\hline\n",
       "\t1 & f8e7 f3e5 c7e5 e2g4 & 1492 & 93 & 588 & crushing discoveredAttack middlegame short & Caro-Kann\\_Defense \\\\\n",
       "\t2 & e5d7 f6d7 c5d7 c7d7 & 973 & 95 & 1203 & crushing middlegame short & Caro-Kann\\_Defense \\\\\n",
       "\t3 & h4g6 d6h2 g1h1 h7g6 & 2028 & 94 & 7325 & crushing intermezzo opening short & Caro-Kann\\_Defense \\\\\n",
       "\t4 & a8d8 d2b1 a3a4 d1a4 & 1586 & 93 & 5999 & advantage master middlegame short trappedPiece & Caro-Kann\\_Defense \\\\\n",
       "\t5 & c3d5 f6d5 g5d8 d5e3 & 1420 & 100 & 16 & crushing hangingPiece short & Caro-Kann\\_Defense \\\\\n",
       "\t6 & c3d5 f6d5 f3d5 g7d4 & 2325 & 91 & 192 & crushing discoveredAttack middlegame short & Caro-Kann\\_Defense \\\\\n",
       "\t7 & e3d3 e1e8 g8h7 e8c8 & 927 & 92 & 236 & advantage fork middlegame short & Caro-Kann\\_Defense \\\\\n",
       "\t8 & h4h5 d6h2 g1h1 f5g3 h1h2 g3e2 & 1661 & 92 & 6640 & crushing discoveredAttack fork long middlegame & Caro-Kann\\_Defense \\\\\n",
       "\t9 & h8e8 e1e8 d8e8 b5c7 e8c6 c7a8 & 1259 & 91 & 207 & crushing fork long middlegame & Caro-Kann\\_Defense \\\\\n",
       "\t10 & g7g6 d1a1 a2a1 h1a1 & 1223 & 95 & 2357 & advantage middlegame short trappedPiece & Caro-Kann\\_Defense \\\\\n",
       "\t11 & e7g6 d3g6 f7g6 e2b5 c8d7 b5c5 & 1899 & 96 & 4336 & clearance crushing fork long opening & Caro-Kann\\_Defense \\\\\n",
       "\t12 & a2a3 b4c3 b2c3 a5a6 d4c5 a6e2 & 2222 & 88 & 86 & advantage fork long & Caro-Kann\\_Defense \\\\\n",
       "\t$\\dots$ & $\\dots$ & $\\dots$ & $\\dots$ & $\\dots$ & $\\dots$ & $\\dots$ \\\\\n",
       "\\end{tabular}\n"
      ],
      "text/plain": [
       "\u001b[1m20010×6 DataFrame\u001b[0m\n",
       "\u001b[1m   Row \u001b[0m│\u001b[1m Moves               \u001b[0m\u001b[1m Rating \u001b[0m\u001b[1m Popularity \u001b[0m\u001b[1m NbPlays \u001b[0m\u001b[1m Themes                            \u001b[0m\u001b[1m OpeningFamily     \u001b[0m\n",
       "\u001b[1m       \u001b[0m│\u001b[90m String              \u001b[0m\u001b[90m Int64  \u001b[0m\u001b[90m Int64      \u001b[0m\u001b[90m Int64   \u001b[0m\u001b[90m String                            \u001b[0m\u001b[90m String            \u001b[0m\n",
       "───────┼────────────────────────────────────────────────────────────────────────────────────────────────────────\n",
       "     1 │ f8e7 f3e5 c7e5 e2g4    1492          93      588  crushing discoveredAttack middle…  Caro-Kann_Defense\n",
       "     2 │ e5d7 f6d7 c5d7 c7d7     973          95     1203  crushing middlegame short          Caro-Kann_Defense\n",
       "   ⋮   │          ⋮             ⋮         ⋮          ⋮                     ⋮                          ⋮\n",
       " 20010 │ a5a2 b5c7 e8d7 c7a8     812         100       52  crushing fork middlegame short     Caro-Kann_Defense\n",
       "\u001b[36m                                                                                              20007 rows omitted\u001b[0m"
      ]
     },
     "execution_count": 94,
     "metadata": {},
     "output_type": "execute_result"
    }
   ],
   "source": [
    "@subset(df, :OpeningFamily .== \"Caro-Kann_Defense\", :Popularity .> mean(:Popularity))"
   ]
  },
  {
   "cell_type": "markdown",
   "metadata": {},
   "source": [
    "Surprisingly from original ~27,000 rows we go down to ~20,000 rows. It seems that puzzles from Caro-Kann are surprisingly popular. Let us investigate it."
   ]
  },
  {
   "cell_type": "code",
   "execution_count": 95,
   "metadata": {},
   "outputs": [
    {
     "data": {
      "text/html": [
       "<div class=\"data-frame\"><p>147 rows × 3 columns</p><table class=\"data-frame\"><thead><tr><th></th><th>OpeningFamily</th><th>nrow</th><th>MeanHighPopularity</th></tr><tr><th></th><th title=\"String\">String</th><th title=\"Int64\">Int64</th><th title=\"Float64\">Float64</th></tr></thead><tbody><tr><th>1</th><td>Fried_Fox_Defense</td><td>11</td><td>1.0</td></tr><tr><th>2</th><td>Dory_Defense</td><td>6</td><td>1.0</td></tr><tr><th>3</th><td>Blackmar-Diemer_Lemberger_Countergambit</td><td>3</td><td>1.0</td></tr><tr><th>4</th><td>Amar_Gambit</td><td>1</td><td>1.0</td></tr><tr><th>5</th><td>Colle_System</td><td>2</td><td>1.0</td></tr><tr><th>6</th><td>Zukertort_Defense</td><td>2</td><td>1.0</td></tr><tr><th>7</th><td>Vulture_Defense</td><td>9</td><td>0.888889</td></tr><tr><th>8</th><td>Marienbad_System</td><td>8</td><td>0.875</td></tr><tr><th>9</th><td>Blumenfeld_Countergambit_Accepted</td><td>8</td><td>0.875</td></tr><tr><th>10</th><td>Hippopotamus_Defense</td><td>33</td><td>0.818182</td></tr><tr><th>11</th><td>Lemming_Defense</td><td>27</td><td>0.814815</td></tr><tr><th>12</th><td>Robatsch_Defense</td><td>47</td><td>0.808511</td></tr><tr><th>&vellip;</th><td>&vellip;</td><td>&vellip;</td><td>&vellip;</td></tr></tbody></table></div>"
      ],
      "text/latex": [
       "\\begin{tabular}{r|ccc}\n",
       "\t& OpeningFamily & nrow & MeanHighPopularity\\\\\n",
       "\t\\hline\n",
       "\t& String & Int64 & Float64\\\\\n",
       "\t\\hline\n",
       "\t1 & Fried\\_Fox\\_Defense & 11 & 1.0 \\\\\n",
       "\t2 & Dory\\_Defense & 6 & 1.0 \\\\\n",
       "\t3 & Blackmar-Diemer\\_Lemberger\\_Countergambit & 3 & 1.0 \\\\\n",
       "\t4 & Amar\\_Gambit & 1 & 1.0 \\\\\n",
       "\t5 & Colle\\_System & 2 & 1.0 \\\\\n",
       "\t6 & Zukertort\\_Defense & 2 & 1.0 \\\\\n",
       "\t7 & Vulture\\_Defense & 9 & 0.888889 \\\\\n",
       "\t8 & Marienbad\\_System & 8 & 0.875 \\\\\n",
       "\t9 & Blumenfeld\\_Countergambit\\_Accepted & 8 & 0.875 \\\\\n",
       "\t10 & Hippopotamus\\_Defense & 33 & 0.818182 \\\\\n",
       "\t11 & Lemming\\_Defense & 27 & 0.814815 \\\\\n",
       "\t12 & Robatsch\\_Defense & 47 & 0.808511 \\\\\n",
       "\t$\\dots$ & $\\dots$ & $\\dots$ & $\\dots$ \\\\\n",
       "\\end{tabular}\n"
      ],
      "text/plain": [
       "\u001b[1m147×3 DataFrame\u001b[0m\n",
       "\u001b[1m Row \u001b[0m│\u001b[1m OpeningFamily                     \u001b[0m\u001b[1m nrow  \u001b[0m\u001b[1m MeanHighPopularity \u001b[0m\n",
       "\u001b[1m     \u001b[0m│\u001b[90m String                            \u001b[0m\u001b[90m Int64 \u001b[0m\u001b[90m Float64            \u001b[0m\n",
       "─────┼──────────────────────────────────────────────────────────────\n",
       "   1 │ Fried_Fox_Defense                     11            1.0\n",
       "   2 │ Dory_Defense                           6            1.0\n",
       "  ⋮  │                 ⋮                    ⋮            ⋮\n",
       " 147 │ Formation                              1            0.0\n",
       "\u001b[36m                                                    144 rows omitted\u001b[0m"
      ]
     },
     "execution_count": 95,
     "metadata": {},
     "output_type": "execute_result"
    }
   ],
   "source": [
    "df4 = @chain df begin\n",
    "    @select(:OpeningFamily, :HighPopularity = :Popularity .> mean(:Popularity))\n",
    "    groupby(:OpeningFamily)\n",
    "    @combine($nrow, :MeanHighPopularity = mean(:HighPopularity))\n",
    "    sort(:MeanHighPopularity, rev=true)\n",
    "end"
   ]
  },
  {
   "cell_type": "markdown",
   "metadata": {},
   "source": [
    "Unfortunately this output is not very informative. Unsurprisingly, openings that are played very rarely got highest scores (most likely by pure chance). We can visualize this problem as follows:"
   ]
  },
  {
   "cell_type": "code",
   "execution_count": 96,
   "metadata": {},
   "outputs": [
    {
     "data": {
      "image/svg+xml": [
       "<?xml version=\"1.0\" encoding=\"utf-8\"?>\n",
       "<svg xmlns=\"http://www.w3.org/2000/svg\" xmlns:xlink=\"http://www.w3.org/1999/xlink\" width=\"600\" height=\"400\" viewBox=\"0 0 2400 1600\">\n",
       "<defs>\n",
       "  <clipPath id=\"clip260\">\n",
       "    <rect x=\"0\" y=\"0\" width=\"2400\" height=\"1600\"/>\n",
       "  </clipPath>\n",
       "</defs>\n",
       "<path clip-path=\"url(#clip260)\" d=\"\n",
       "M0 1600 L2400 1600 L2400 0 L0 0  Z\n",
       "  \" fill=\"#ffffff\" fill-rule=\"evenodd\" fill-opacity=\"1\"/>\n",
       "<defs>\n",
       "  <clipPath id=\"clip261\">\n",
       "    <rect x=\"480\" y=\"0\" width=\"1681\" height=\"1600\"/>\n",
       "  </clipPath>\n",
       "</defs>\n",
       "<path clip-path=\"url(#clip260)\" d=\"\n",
       "M249.542 1410.9 L2352.76 1410.9 L2352.76 47.2441 L249.542 47.2441  Z\n",
       "  \" fill=\"#ffffff\" fill-rule=\"evenodd\" fill-opacity=\"1\"/>\n",
       "<defs>\n",
       "  <clipPath id=\"clip262\">\n",
       "    <rect x=\"249\" y=\"47\" width=\"2104\" height=\"1365\"/>\n",
       "  </clipPath>\n",
       "</defs>\n",
       "<polyline clip-path=\"url(#clip262)\" style=\"stroke:#000000; stroke-linecap:butt; stroke-linejoin:round; stroke-width:2; stroke-opacity:0.1; fill:none\" points=\"\n",
       "  309.067,1410.9 309.067,47.2441 \n",
       "  \"/>\n",
       "<polyline clip-path=\"url(#clip262)\" style=\"stroke:#000000; stroke-linecap:butt; stroke-linejoin:round; stroke-width:2; stroke-opacity:0.1; fill:none\" points=\"\n",
       "  1501.23,1410.9 1501.23,47.2441 \n",
       "  \"/>\n",
       "<polyline clip-path=\"url(#clip260)\" style=\"stroke:#000000; stroke-linecap:butt; stroke-linejoin:round; stroke-width:4; stroke-opacity:1; fill:none\" points=\"\n",
       "  249.542,1410.9 2352.76,1410.9 \n",
       "  \"/>\n",
       "<polyline clip-path=\"url(#clip260)\" style=\"stroke:#000000; stroke-linecap:butt; stroke-linejoin:round; stroke-width:4; stroke-opacity:1; fill:none\" points=\"\n",
       "  309.067,1410.9 309.067,1392 \n",
       "  \"/>\n",
       "<polyline clip-path=\"url(#clip260)\" style=\"stroke:#000000; stroke-linecap:butt; stroke-linejoin:round; stroke-width:4; stroke-opacity:1; fill:none\" points=\"\n",
       "  1501.23,1410.9 1501.23,1392 \n",
       "  \"/>\n",
       "<path clip-path=\"url(#clip260)\" d=\"M274.05 1485.02 L281.689 1485.02 L281.689 1458.66 L273.378 1460.32 L273.378 1456.06 L281.642 1454.4 L286.318 1454.4 L286.318 1485.02 L293.957 1485.02 L293.957 1488.96 L274.05 1488.96 L274.05 1485.02 Z\" fill=\"#000000\" fill-rule=\"evenodd\" fill-opacity=\"1\" /><path clip-path=\"url(#clip260)\" d=\"M313.401 1457.48 Q309.79 1457.48 307.962 1461.04 Q306.156 1464.58 306.156 1471.71 Q306.156 1478.82 307.962 1482.38 Q309.79 1485.92 313.401 1485.92 Q317.036 1485.92 318.841 1482.38 Q320.67 1478.82 320.67 1471.71 Q320.67 1464.58 318.841 1461.04 Q317.036 1457.48 313.401 1457.48 M313.401 1453.77 Q319.212 1453.77 322.267 1458.38 Q325.346 1462.96 325.346 1471.71 Q325.346 1480.44 322.267 1485.04 Q319.212 1489.63 313.401 1489.63 Q307.591 1489.63 304.513 1485.04 Q301.457 1480.44 301.457 1471.71 Q301.457 1462.96 304.513 1458.38 Q307.591 1453.77 313.401 1453.77 Z\" fill=\"#000000\" fill-rule=\"evenodd\" fill-opacity=\"1\" /><path clip-path=\"url(#clip260)\" d=\"M335.051 1435.97 Q332.117 1435.97 330.631 1438.86 Q329.164 1441.74 329.164 1447.53 Q329.164 1453.31 330.631 1456.2 Q332.117 1459.08 335.051 1459.08 Q338.003 1459.08 339.47 1456.2 Q340.956 1453.31 340.956 1447.53 Q340.956 1441.74 339.47 1438.86 Q338.003 1435.97 335.051 1435.97 M335.051 1432.96 Q339.771 1432.96 342.254 1436.7 Q344.755 1440.43 344.755 1447.53 Q344.755 1454.62 342.254 1458.37 Q339.771 1462.09 335.051 1462.09 Q330.33 1462.09 327.828 1458.37 Q325.346 1454.62 325.346 1447.53 Q325.346 1440.43 327.828 1436.7 Q330.33 1432.96 335.051 1432.96 Z\" fill=\"#000000\" fill-rule=\"evenodd\" fill-opacity=\"1\" /><path clip-path=\"url(#clip260)\" d=\"M1466.67 1485.02 L1474.31 1485.02 L1474.31 1458.66 L1466 1460.32 L1466 1456.06 L1474.26 1454.4 L1478.94 1454.4 L1478.94 1485.02 L1486.58 1485.02 L1486.58 1488.96 L1466.67 1488.96 L1466.67 1485.02 Z\" fill=\"#000000\" fill-rule=\"evenodd\" fill-opacity=\"1\" /><path clip-path=\"url(#clip260)\" d=\"M1506.02 1457.48 Q1502.41 1457.48 1500.58 1461.04 Q1498.78 1464.58 1498.78 1471.71 Q1498.78 1478.82 1500.58 1482.38 Q1502.41 1485.92 1506.02 1485.92 Q1509.66 1485.92 1511.46 1482.38 Q1513.29 1478.82 1513.29 1471.71 Q1513.29 1464.58 1511.46 1461.04 Q1509.66 1457.48 1506.02 1457.48 M1506.02 1453.77 Q1511.83 1453.77 1514.89 1458.38 Q1517.97 1462.96 1517.97 1471.71 Q1517.97 1480.44 1514.89 1485.04 Q1511.83 1489.63 1506.02 1489.63 Q1500.21 1489.63 1497.13 1485.04 Q1494.08 1480.44 1494.08 1471.71 Q1494.08 1462.96 1497.13 1458.38 Q1500.21 1453.77 1506.02 1453.77 Z\" fill=\"#000000\" fill-rule=\"evenodd\" fill-opacity=\"1\" /><path clip-path=\"url(#clip260)\" d=\"M1530.66 1446.41 Q1533.39 1446.99 1534.91 1448.83 Q1536.46 1450.68 1536.46 1453.38 Q1536.46 1457.54 1533.6 1459.82 Q1530.74 1462.09 1525.47 1462.09 Q1523.7 1462.09 1521.82 1461.73 Q1519.96 1461.4 1517.97 1460.7 L1517.97 1457.03 Q1519.55 1457.95 1521.43 1458.42 Q1523.31 1458.89 1525.36 1458.89 Q1528.93 1458.89 1530.79 1457.48 Q1532.68 1456.07 1532.68 1453.38 Q1532.68 1450.9 1530.93 1449.51 Q1529.2 1448.1 1526.09 1448.1 L1522.82 1448.1 L1522.82 1444.98 L1526.24 1444.98 Q1529.05 1444.98 1530.53 1443.87 Q1532.02 1442.74 1532.02 1440.63 Q1532.02 1438.47 1530.48 1437.32 Q1528.95 1436.16 1526.09 1436.16 Q1524.53 1436.16 1522.75 1436.49 Q1520.96 1436.83 1518.81 1437.55 L1518.81 1434.16 Q1520.98 1433.56 1522.86 1433.26 Q1524.76 1432.96 1526.43 1432.96 Q1530.76 1432.96 1533.28 1434.93 Q1535.8 1436.89 1535.8 1440.24 Q1535.8 1442.57 1534.46 1444.19 Q1533.13 1445.79 1530.66 1446.41 Z\" fill=\"#000000\" fill-rule=\"evenodd\" fill-opacity=\"1\" /><path clip-path=\"url(#clip260)\" d=\"M1034.57 1552.67 L1034.57 1574.19 L1028.71 1574.19 L1028.71 1552.86 Q1028.71 1547.8 1026.74 1545.29 Q1024.77 1542.77 1020.82 1542.77 Q1016.08 1542.77 1013.34 1545.79 Q1010.6 1548.82 1010.6 1554.04 L1010.6 1574.19 L1004.71 1574.19 L1004.71 1538.54 L1010.6 1538.54 L1010.6 1544.08 Q1012.7 1540.86 1015.54 1539.27 Q1018.4 1537.68 1022.12 1537.68 Q1028.27 1537.68 1031.42 1541.5 Q1034.57 1545.29 1034.57 1552.67 Z\" fill=\"#000000\" fill-rule=\"evenodd\" fill-opacity=\"1\" /><path clip-path=\"url(#clip260)\" d=\"M1045.65 1560.12 L1045.65 1538.54 L1051.5 1538.54 L1051.5 1559.89 Q1051.5 1564.96 1053.48 1567.5 Q1055.45 1570.02 1059.4 1570.02 Q1064.14 1570.02 1066.88 1566.99 Q1069.64 1563.97 1069.64 1558.75 L1069.64 1538.54 L1075.5 1538.54 L1075.5 1574.19 L1069.64 1574.19 L1069.64 1568.71 Q1067.51 1571.96 1064.68 1573.55 Q1061.88 1575.11 1058.15 1575.11 Q1052.01 1575.11 1048.83 1571.29 Q1045.65 1567.47 1045.65 1560.12 M1060.38 1537.68 L1060.38 1537.68 Z\" fill=\"#000000\" fill-rule=\"evenodd\" fill-opacity=\"1\" /><path clip-path=\"url(#clip260)\" d=\"M1115.32 1545.38 Q1117.51 1541.43 1120.57 1539.56 Q1123.63 1537.68 1127.76 1537.68 Q1133.33 1537.68 1136.36 1541.59 Q1139.38 1545.48 1139.38 1552.67 L1139.38 1574.19 L1133.49 1574.19 L1133.49 1552.86 Q1133.49 1547.74 1131.68 1545.25 Q1129.86 1542.77 1126.14 1542.77 Q1121.59 1542.77 1118.95 1545.79 Q1116.3 1548.82 1116.3 1554.04 L1116.3 1574.19 L1110.42 1574.19 L1110.42 1552.86 Q1110.42 1547.7 1108.6 1545.25 Q1106.79 1542.77 1103 1542.77 Q1098.51 1542.77 1095.87 1545.83 Q1093.23 1548.85 1093.23 1554.04 L1093.23 1574.19 L1087.34 1574.19 L1087.34 1538.54 L1093.23 1538.54 L1093.23 1544.08 Q1095.23 1540.8 1098.04 1539.24 Q1100.84 1537.68 1104.69 1537.68 Q1108.57 1537.68 1111.28 1539.65 Q1114.01 1541.62 1115.32 1545.38 Z\" fill=\"#000000\" fill-rule=\"evenodd\" fill-opacity=\"1\" /><path clip-path=\"url(#clip260)\" d=\"M1176.65 1556.39 Q1176.65 1549.93 1173.98 1546.27 Q1171.34 1542.58 1166.69 1542.58 Q1162.04 1542.58 1159.37 1546.27 Q1156.73 1549.93 1156.73 1556.39 Q1156.73 1562.85 1159.37 1566.55 Q1162.04 1570.21 1166.69 1570.21 Q1171.34 1570.21 1173.98 1566.55 Q1176.65 1562.85 1176.65 1556.39 M1156.73 1543.95 Q1158.57 1540.77 1161.37 1539.24 Q1164.21 1537.68 1168.12 1537.68 Q1174.61 1537.68 1178.66 1542.83 Q1182.73 1547.99 1182.73 1556.39 Q1182.73 1564.8 1178.66 1569.95 Q1174.61 1575.11 1168.12 1575.11 Q1164.21 1575.11 1161.37 1573.58 Q1158.57 1572.02 1156.73 1568.84 L1156.73 1574.19 L1150.84 1574.19 L1150.84 1524.66 L1156.73 1524.66 L1156.73 1543.95 Z\" fill=\"#000000\" fill-rule=\"evenodd\" fill-opacity=\"1\" /><path clip-path=\"url(#clip260)\" d=\"M1222.93 1554.9 L1222.93 1557.76 L1196 1557.76 Q1196.39 1563.81 1199.63 1566.99 Q1202.91 1570.14 1208.73 1570.14 Q1212.11 1570.14 1215.26 1569.32 Q1218.44 1568.49 1221.56 1566.83 L1221.56 1572.37 Q1218.41 1573.71 1215.1 1574.41 Q1211.79 1575.11 1208.38 1575.11 Q1199.85 1575.11 1194.86 1570.14 Q1189.89 1565.18 1189.89 1556.71 Q1189.89 1547.96 1194.6 1542.83 Q1199.35 1537.68 1207.37 1537.68 Q1214.56 1537.68 1218.73 1542.33 Q1222.93 1546.94 1222.93 1554.9 M1217.07 1553.18 Q1217.01 1548.37 1214.37 1545.51 Q1211.76 1542.64 1207.43 1542.64 Q1202.53 1542.64 1199.57 1545.41 Q1196.64 1548.18 1196.19 1553.21 L1217.07 1553.18 Z\" fill=\"#000000\" fill-rule=\"evenodd\" fill-opacity=\"1\" /><path clip-path=\"url(#clip260)\" d=\"M1253.2 1544.01 Q1252.21 1543.44 1251.03 1543.18 Q1249.89 1542.9 1248.49 1542.9 Q1243.52 1542.9 1240.85 1546.14 Q1238.21 1549.36 1238.21 1555.41 L1238.21 1574.19 L1232.32 1574.19 L1232.32 1538.54 L1238.21 1538.54 L1238.21 1544.08 Q1240.05 1540.83 1243.01 1539.27 Q1245.97 1537.68 1250.21 1537.68 Q1250.81 1537.68 1251.54 1537.77 Q1252.28 1537.84 1253.17 1538 L1253.2 1544.01 Z\" fill=\"#000000\" fill-rule=\"evenodd\" fill-opacity=\"1\" /><path clip-path=\"url(#clip260)\" d=\"M1293.88 1542.64 Q1289.17 1542.64 1286.43 1546.34 Q1283.69 1550 1283.69 1556.39 Q1283.69 1562.79 1286.4 1566.48 Q1289.13 1570.14 1293.88 1570.14 Q1298.55 1570.14 1301.29 1566.45 Q1304.03 1562.76 1304.03 1556.39 Q1304.03 1550.06 1301.29 1546.37 Q1298.55 1542.64 1293.88 1542.64 M1293.88 1537.68 Q1301.51 1537.68 1305.88 1542.64 Q1310.24 1547.61 1310.24 1556.39 Q1310.24 1565.15 1305.88 1570.14 Q1301.51 1575.11 1293.88 1575.11 Q1286.21 1575.11 1281.84 1570.14 Q1277.52 1565.15 1277.52 1556.39 Q1277.52 1547.61 1281.84 1542.64 Q1286.21 1537.68 1293.88 1537.68 Z\" fill=\"#000000\" fill-rule=\"evenodd\" fill-opacity=\"1\" /><path clip-path=\"url(#clip260)\" d=\"M1337.99 1524.66 L1337.99 1529.53 L1332.39 1529.53 Q1329.24 1529.53 1328 1530.8 Q1326.79 1532.08 1326.79 1535.39 L1326.79 1538.54 L1336.43 1538.54 L1336.43 1543.09 L1326.79 1543.09 L1326.79 1574.19 L1320.9 1574.19 L1320.9 1543.09 L1315.3 1543.09 L1315.3 1538.54 L1320.9 1538.54 L1320.9 1536.05 Q1320.9 1530.1 1323.67 1527.4 Q1326.44 1524.66 1332.45 1524.66 L1337.99 1524.66 Z\" fill=\"#000000\" fill-rule=\"evenodd\" fill-opacity=\"1\" /><path clip-path=\"url(#clip260)\" d=\"M1369.28 1568.84 L1369.28 1587.74 L1363.39 1587.74 L1363.39 1538.54 L1369.28 1538.54 L1369.28 1543.95 Q1371.12 1540.77 1373.92 1539.24 Q1376.76 1537.68 1380.67 1537.68 Q1387.17 1537.68 1391.21 1542.83 Q1395.28 1547.99 1395.28 1556.39 Q1395.28 1564.8 1391.21 1569.95 Q1387.17 1575.11 1380.67 1575.11 Q1376.76 1575.11 1373.92 1573.58 Q1371.12 1572.02 1369.28 1568.84 M1389.2 1556.39 Q1389.2 1549.93 1386.53 1546.27 Q1383.89 1542.58 1379.24 1542.58 Q1374.59 1542.58 1371.92 1546.27 Q1369.28 1549.93 1369.28 1556.39 Q1369.28 1562.85 1371.92 1566.55 Q1374.59 1570.21 1379.24 1570.21 Q1383.89 1570.21 1386.53 1566.55 Q1389.2 1562.85 1389.2 1556.39 Z\" fill=\"#000000\" fill-rule=\"evenodd\" fill-opacity=\"1\" /><path clip-path=\"url(#clip260)\" d=\"M1404.38 1560.12 L1404.38 1538.54 L1410.24 1538.54 L1410.24 1559.89 Q1410.24 1564.96 1412.21 1567.5 Q1414.19 1570.02 1418.13 1570.02 Q1422.88 1570.02 1425.61 1566.99 Q1428.38 1563.97 1428.38 1558.75 L1428.38 1538.54 L1434.24 1538.54 L1434.24 1574.19 L1428.38 1574.19 L1428.38 1568.71 Q1426.25 1571.96 1423.42 1573.55 Q1420.62 1575.11 1416.89 1575.11 Q1410.75 1575.11 1407.57 1571.29 Q1404.38 1567.47 1404.38 1560.12 M1419.12 1537.68 L1419.12 1537.68 Z\" fill=\"#000000\" fill-rule=\"evenodd\" fill-opacity=\"1\" /><path clip-path=\"url(#clip260)\" d=\"M1443.76 1538.54 L1471.57 1538.54 L1471.57 1543.88 L1449.55 1569.51 L1471.57 1569.51 L1471.57 1574.19 L1442.96 1574.19 L1442.96 1568.84 L1464.99 1543.22 L1443.76 1543.22 L1443.76 1538.54 Z\" fill=\"#000000\" fill-rule=\"evenodd\" fill-opacity=\"1\" /><path clip-path=\"url(#clip260)\" d=\"M1477.97 1538.54 L1505.79 1538.54 L1505.79 1543.88 L1483.77 1569.51 L1505.79 1569.51 L1505.79 1574.19 L1477.18 1574.19 L1477.18 1568.84 L1499.2 1543.22 L1477.97 1543.22 L1477.97 1538.54 Z\" fill=\"#000000\" fill-rule=\"evenodd\" fill-opacity=\"1\" /><path clip-path=\"url(#clip260)\" d=\"M1514.73 1524.66 L1520.59 1524.66 L1520.59 1574.19 L1514.73 1574.19 L1514.73 1524.66 Z\" fill=\"#000000\" fill-rule=\"evenodd\" fill-opacity=\"1\" /><path clip-path=\"url(#clip260)\" d=\"M1563.34 1554.9 L1563.34 1557.76 L1536.41 1557.76 Q1536.79 1563.81 1540.04 1566.99 Q1543.32 1570.14 1549.14 1570.14 Q1552.51 1570.14 1555.67 1569.32 Q1558.85 1568.49 1561.97 1566.83 L1561.97 1572.37 Q1558.82 1573.71 1555.51 1574.41 Q1552.2 1575.11 1548.79 1575.11 Q1540.26 1575.11 1535.26 1570.14 Q1530.3 1565.18 1530.3 1556.71 Q1530.3 1547.96 1535.01 1542.83 Q1539.75 1537.68 1547.77 1537.68 Q1554.97 1537.68 1559.14 1542.33 Q1563.34 1546.94 1563.34 1554.9 M1557.48 1553.18 Q1557.42 1548.37 1554.77 1545.51 Q1552.16 1542.64 1547.84 1542.64 Q1542.93 1542.64 1539.97 1545.41 Q1537.05 1548.18 1536.6 1553.21 L1557.48 1553.18 Z\" fill=\"#000000\" fill-rule=\"evenodd\" fill-opacity=\"1\" /><path clip-path=\"url(#clip260)\" d=\"M1595.67 1539.59 L1595.67 1545.13 Q1593.19 1543.85 1590.52 1543.22 Q1587.84 1542.58 1584.98 1542.58 Q1580.62 1542.58 1578.42 1543.92 Q1576.26 1545.25 1576.26 1547.93 Q1576.26 1549.96 1577.82 1551.14 Q1579.38 1552.29 1584.09 1553.34 L1586.09 1553.78 Q1592.33 1555.12 1594.94 1557.57 Q1597.58 1559.99 1597.58 1564.35 Q1597.58 1569.32 1593.64 1572.21 Q1589.72 1575.11 1582.85 1575.11 Q1579.98 1575.11 1576.86 1574.54 Q1573.78 1573.99 1570.34 1572.88 L1570.34 1566.83 Q1573.59 1568.52 1576.74 1569.38 Q1579.89 1570.21 1582.97 1570.21 Q1587.11 1570.21 1589.34 1568.81 Q1591.57 1567.37 1591.57 1564.8 Q1591.57 1562.41 1589.95 1561.14 Q1588.35 1559.86 1582.91 1558.68 L1580.87 1558.21 Q1575.43 1557.06 1573.01 1554.71 Q1570.59 1552.32 1570.59 1548.18 Q1570.59 1543.15 1574.16 1540.42 Q1577.72 1537.68 1584.28 1537.68 Q1587.53 1537.68 1590.39 1538.16 Q1593.26 1538.63 1595.67 1539.59 Z\" fill=\"#000000\" fill-rule=\"evenodd\" fill-opacity=\"1\" /><polyline clip-path=\"url(#clip262)\" style=\"stroke:#000000; stroke-linecap:butt; stroke-linejoin:round; stroke-width:2; stroke-opacity:0.1; fill:none\" points=\"\n",
       "  249.542,1372.3 2352.76,1372.3 \n",
       "  \"/>\n",
       "<polyline clip-path=\"url(#clip262)\" style=\"stroke:#000000; stroke-linecap:butt; stroke-linejoin:round; stroke-width:2; stroke-opacity:0.1; fill:none\" points=\"\n",
       "  249.542,1050.69 2352.76,1050.69 \n",
       "  \"/>\n",
       "<polyline clip-path=\"url(#clip262)\" style=\"stroke:#000000; stroke-linecap:butt; stroke-linejoin:round; stroke-width:2; stroke-opacity:0.1; fill:none\" points=\"\n",
       "  249.542,729.07 2352.76,729.07 \n",
       "  \"/>\n",
       "<polyline clip-path=\"url(#clip262)\" style=\"stroke:#000000; stroke-linecap:butt; stroke-linejoin:round; stroke-width:2; stroke-opacity:0.1; fill:none\" points=\"\n",
       "  249.542,407.454 2352.76,407.454 \n",
       "  \"/>\n",
       "<polyline clip-path=\"url(#clip262)\" style=\"stroke:#000000; stroke-linecap:butt; stroke-linejoin:round; stroke-width:2; stroke-opacity:0.1; fill:none\" points=\"\n",
       "  249.542,85.838 2352.76,85.838 \n",
       "  \"/>\n",
       "<polyline clip-path=\"url(#clip260)\" style=\"stroke:#000000; stroke-linecap:butt; stroke-linejoin:round; stroke-width:4; stroke-opacity:1; fill:none\" points=\"\n",
       "  249.542,1410.9 249.542,47.2441 \n",
       "  \"/>\n",
       "<polyline clip-path=\"url(#clip260)\" style=\"stroke:#000000; stroke-linecap:butt; stroke-linejoin:round; stroke-width:4; stroke-opacity:1; fill:none\" points=\"\n",
       "  249.542,1372.3 268.44,1372.3 \n",
       "  \"/>\n",
       "<polyline clip-path=\"url(#clip260)\" style=\"stroke:#000000; stroke-linecap:butt; stroke-linejoin:round; stroke-width:4; stroke-opacity:1; fill:none\" points=\"\n",
       "  249.542,1050.69 268.44,1050.69 \n",
       "  \"/>\n",
       "<polyline clip-path=\"url(#clip260)\" style=\"stroke:#000000; stroke-linecap:butt; stroke-linejoin:round; stroke-width:4; stroke-opacity:1; fill:none\" points=\"\n",
       "  249.542,729.07 268.44,729.07 \n",
       "  \"/>\n",
       "<polyline clip-path=\"url(#clip260)\" style=\"stroke:#000000; stroke-linecap:butt; stroke-linejoin:round; stroke-width:4; stroke-opacity:1; fill:none\" points=\"\n",
       "  249.542,407.454 268.44,407.454 \n",
       "  \"/>\n",
       "<polyline clip-path=\"url(#clip260)\" style=\"stroke:#000000; stroke-linecap:butt; stroke-linejoin:round; stroke-width:4; stroke-opacity:1; fill:none\" points=\"\n",
       "  249.542,85.838 268.44,85.838 \n",
       "  \"/>\n",
       "<path clip-path=\"url(#clip260)\" d=\"M126.205 1358.1 Q122.593 1358.1 120.765 1361.67 Q118.959 1365.21 118.959 1372.34 Q118.959 1379.44 120.765 1383.01 Q122.593 1386.55 126.205 1386.55 Q129.839 1386.55 131.644 1383.01 Q133.473 1379.44 133.473 1372.34 Q133.473 1365.21 131.644 1361.67 Q129.839 1358.1 126.205 1358.1 M126.205 1354.4 Q132.015 1354.4 135.07 1359 Q138.149 1363.59 138.149 1372.34 Q138.149 1381.06 135.07 1385.67 Q132.015 1390.25 126.205 1390.25 Q120.394 1390.25 117.316 1385.67 Q114.26 1381.06 114.26 1372.34 Q114.26 1363.59 117.316 1359 Q120.394 1354.4 126.205 1354.4 Z\" fill=\"#000000\" fill-rule=\"evenodd\" fill-opacity=\"1\" /><path clip-path=\"url(#clip260)\" d=\"M146.366 1383.7 L151.251 1383.7 L151.251 1389.58 L146.366 1389.58 L146.366 1383.7 Z\" fill=\"#000000\" fill-rule=\"evenodd\" fill-opacity=\"1\" /><path clip-path=\"url(#clip260)\" d=\"M171.436 1358.1 Q167.825 1358.1 165.996 1361.67 Q164.19 1365.21 164.19 1372.34 Q164.19 1379.44 165.996 1383.01 Q167.825 1386.55 171.436 1386.55 Q175.07 1386.55 176.876 1383.01 Q178.704 1379.44 178.704 1372.34 Q178.704 1365.21 176.876 1361.67 Q175.07 1358.1 171.436 1358.1 M171.436 1354.4 Q177.246 1354.4 180.301 1359 Q183.38 1363.59 183.38 1372.34 Q183.38 1381.06 180.301 1385.67 Q177.246 1390.25 171.436 1390.25 Q165.626 1390.25 162.547 1385.67 Q159.491 1381.06 159.491 1372.34 Q159.491 1363.59 162.547 1359 Q165.626 1354.4 171.436 1354.4 Z\" fill=\"#000000\" fill-rule=\"evenodd\" fill-opacity=\"1\" /><path clip-path=\"url(#clip260)\" d=\"M201.598 1358.1 Q197.987 1358.1 196.158 1361.67 Q194.352 1365.21 194.352 1372.34 Q194.352 1379.44 196.158 1383.01 Q197.987 1386.55 201.598 1386.55 Q205.232 1386.55 207.037 1383.01 Q208.866 1379.44 208.866 1372.34 Q208.866 1365.21 207.037 1361.67 Q205.232 1358.1 201.598 1358.1 M201.598 1354.4 Q207.408 1354.4 210.463 1359 Q213.542 1363.59 213.542 1372.34 Q213.542 1381.06 210.463 1385.67 Q207.408 1390.25 201.598 1390.25 Q195.787 1390.25 192.709 1385.67 Q189.653 1381.06 189.653 1372.34 Q189.653 1363.59 192.709 1359 Q195.787 1354.4 201.598 1354.4 Z\" fill=\"#000000\" fill-rule=\"evenodd\" fill-opacity=\"1\" /><path clip-path=\"url(#clip260)\" d=\"M127.2 1036.49 Q123.589 1036.49 121.76 1040.05 Q119.955 1043.59 119.955 1050.72 Q119.955 1057.83 121.76 1061.39 Q123.589 1064.93 127.2 1064.93 Q130.834 1064.93 132.64 1061.39 Q134.468 1057.83 134.468 1050.72 Q134.468 1043.59 132.64 1040.05 Q130.834 1036.49 127.2 1036.49 M127.2 1032.78 Q133.01 1032.78 136.066 1037.39 Q139.144 1041.97 139.144 1050.72 Q139.144 1059.45 136.066 1064.05 Q133.01 1068.64 127.2 1068.64 Q121.39 1068.64 118.311 1064.05 Q115.256 1059.45 115.256 1050.72 Q115.256 1041.97 118.311 1037.39 Q121.39 1032.78 127.2 1032.78 Z\" fill=\"#000000\" fill-rule=\"evenodd\" fill-opacity=\"1\" /><path clip-path=\"url(#clip260)\" d=\"M147.362 1062.09 L152.246 1062.09 L152.246 1067.97 L147.362 1067.97 L147.362 1062.09 Z\" fill=\"#000000\" fill-rule=\"evenodd\" fill-opacity=\"1\" /><path clip-path=\"url(#clip260)\" d=\"M166.459 1064.03 L182.778 1064.03 L182.778 1067.97 L160.834 1067.97 L160.834 1064.03 Q163.496 1061.28 168.079 1056.65 Q172.686 1051.99 173.866 1050.65 Q176.112 1048.13 176.991 1046.39 Q177.894 1044.63 177.894 1042.94 Q177.894 1040.19 175.95 1038.45 Q174.028 1036.72 170.927 1036.72 Q168.727 1036.72 166.274 1037.48 Q163.843 1038.24 161.065 1039.8 L161.065 1035.07 Q163.89 1033.94 166.343 1033.36 Q168.797 1032.78 170.834 1032.78 Q176.204 1032.78 179.399 1035.47 Q182.593 1038.15 182.593 1042.64 Q182.593 1044.77 181.783 1046.69 Q180.996 1048.59 178.889 1051.18 Q178.311 1051.86 175.209 1055.07 Q172.107 1058.27 166.459 1064.03 Z\" fill=\"#000000\" fill-rule=\"evenodd\" fill-opacity=\"1\" /><path clip-path=\"url(#clip260)\" d=\"M192.639 1033.41 L210.996 1033.41 L210.996 1037.34 L196.922 1037.34 L196.922 1045.81 Q197.94 1045.47 198.959 1045.3 Q199.977 1045.12 200.996 1045.12 Q206.783 1045.12 210.162 1048.29 Q213.542 1051.46 213.542 1056.88 Q213.542 1062.46 210.07 1065.56 Q206.598 1068.64 200.278 1068.64 Q198.102 1068.64 195.834 1068.27 Q193.588 1067.9 191.181 1067.16 L191.181 1062.46 Q193.264 1063.59 195.487 1064.15 Q197.709 1064.7 200.186 1064.7 Q204.19 1064.7 206.528 1062.6 Q208.866 1060.49 208.866 1056.88 Q208.866 1053.27 206.528 1051.16 Q204.19 1049.05 200.186 1049.05 Q198.311 1049.05 196.436 1049.47 Q194.584 1049.89 192.639 1050.77 L192.639 1033.41 Z\" fill=\"#000000\" fill-rule=\"evenodd\" fill-opacity=\"1\" /><path clip-path=\"url(#clip260)\" d=\"M126.205 714.869 Q122.593 714.869 120.765 718.434 Q118.959 721.975 118.959 729.105 Q118.959 736.212 120.765 739.776 Q122.593 743.318 126.205 743.318 Q129.839 743.318 131.644 739.776 Q133.473 736.212 133.473 729.105 Q133.473 721.975 131.644 718.434 Q129.839 714.869 126.205 714.869 M126.205 711.165 Q132.015 711.165 135.07 715.772 Q138.149 720.355 138.149 729.105 Q138.149 737.832 135.07 742.438 Q132.015 747.022 126.205 747.022 Q120.394 747.022 117.316 742.438 Q114.26 737.832 114.26 729.105 Q114.26 720.355 117.316 715.772 Q120.394 711.165 126.205 711.165 Z\" fill=\"#000000\" fill-rule=\"evenodd\" fill-opacity=\"1\" /><path clip-path=\"url(#clip260)\" d=\"M146.366 740.471 L151.251 740.471 L151.251 746.35 L146.366 746.35 L146.366 740.471 Z\" fill=\"#000000\" fill-rule=\"evenodd\" fill-opacity=\"1\" /><path clip-path=\"url(#clip260)\" d=\"M161.482 711.79 L179.839 711.79 L179.839 715.726 L165.765 715.726 L165.765 724.198 Q166.783 723.85 167.802 723.688 Q168.82 723.503 169.839 723.503 Q175.626 723.503 179.005 726.675 Q182.385 729.846 182.385 735.262 Q182.385 740.841 178.913 743.943 Q175.44 747.022 169.121 747.022 Q166.945 747.022 164.677 746.651 Q162.431 746.281 160.024 745.54 L160.024 740.841 Q162.107 741.975 164.329 742.531 Q166.552 743.086 169.028 743.086 Q173.033 743.086 175.371 740.98 Q177.709 738.874 177.709 735.262 Q177.709 731.651 175.371 729.545 Q173.033 727.438 169.028 727.438 Q167.153 727.438 165.278 727.855 Q163.427 728.272 161.482 729.151 L161.482 711.79 Z\" fill=\"#000000\" fill-rule=\"evenodd\" fill-opacity=\"1\" /><path clip-path=\"url(#clip260)\" d=\"M201.598 714.869 Q197.987 714.869 196.158 718.434 Q194.352 721.975 194.352 729.105 Q194.352 736.212 196.158 739.776 Q197.987 743.318 201.598 743.318 Q205.232 743.318 207.037 739.776 Q208.866 736.212 208.866 729.105 Q208.866 721.975 207.037 718.434 Q205.232 714.869 201.598 714.869 M201.598 711.165 Q207.408 711.165 210.463 715.772 Q213.542 720.355 213.542 729.105 Q213.542 737.832 210.463 742.438 Q207.408 747.022 201.598 747.022 Q195.787 747.022 192.709 742.438 Q189.653 737.832 189.653 729.105 Q189.653 720.355 192.709 715.772 Q195.787 711.165 201.598 711.165 Z\" fill=\"#000000\" fill-rule=\"evenodd\" fill-opacity=\"1\" /><path clip-path=\"url(#clip260)\" d=\"M127.2 393.253 Q123.589 393.253 121.76 396.818 Q119.955 400.359 119.955 407.489 Q119.955 414.595 121.76 418.16 Q123.589 421.702 127.2 421.702 Q130.834 421.702 132.64 418.16 Q134.468 414.595 134.468 407.489 Q134.468 400.359 132.64 396.818 Q130.834 393.253 127.2 393.253 M127.2 389.549 Q133.01 389.549 136.066 394.156 Q139.144 398.739 139.144 407.489 Q139.144 416.216 136.066 420.822 Q133.01 425.405 127.2 425.405 Q121.39 425.405 118.311 420.822 Q115.256 416.216 115.256 407.489 Q115.256 398.739 118.311 394.156 Q121.39 389.549 127.2 389.549 Z\" fill=\"#000000\" fill-rule=\"evenodd\" fill-opacity=\"1\" /><path clip-path=\"url(#clip260)\" d=\"M147.362 418.855 L152.246 418.855 L152.246 424.734 L147.362 424.734 L147.362 418.855 Z\" fill=\"#000000\" fill-rule=\"evenodd\" fill-opacity=\"1\" /><path clip-path=\"url(#clip260)\" d=\"M161.251 390.174 L183.473 390.174 L183.473 392.165 L170.927 424.734 L166.042 424.734 L177.848 394.109 L161.251 394.109 L161.251 390.174 Z\" fill=\"#000000\" fill-rule=\"evenodd\" fill-opacity=\"1\" /><path clip-path=\"url(#clip260)\" d=\"M192.639 390.174 L210.996 390.174 L210.996 394.109 L196.922 394.109 L196.922 402.582 Q197.94 402.234 198.959 402.072 Q199.977 401.887 200.996 401.887 Q206.783 401.887 210.162 405.058 Q213.542 408.23 213.542 413.646 Q213.542 419.225 210.07 422.327 Q206.598 425.405 200.278 425.405 Q198.102 425.405 195.834 425.035 Q193.588 424.665 191.181 423.924 L191.181 419.225 Q193.264 420.359 195.487 420.915 Q197.709 421.47 200.186 421.47 Q204.19 421.47 206.528 419.364 Q208.866 417.257 208.866 413.646 Q208.866 410.035 206.528 407.929 Q204.19 405.822 200.186 405.822 Q198.311 405.822 196.436 406.239 Q194.584 406.656 192.639 407.535 L192.639 390.174 Z\" fill=\"#000000\" fill-rule=\"evenodd\" fill-opacity=\"1\" /><path clip-path=\"url(#clip260)\" d=\"M117.015 99.1829 L124.654 99.1829 L124.654 72.8173 L116.343 74.4839 L116.343 70.2247 L124.607 68.558 L129.283 68.558 L129.283 99.1829 L136.922 99.1829 L136.922 103.118 L117.015 103.118 L117.015 99.1829 Z\" fill=\"#000000\" fill-rule=\"evenodd\" fill-opacity=\"1\" /><path clip-path=\"url(#clip260)\" d=\"M146.366 97.2384 L151.251 97.2384 L151.251 103.118 L146.366 103.118 L146.366 97.2384 Z\" fill=\"#000000\" fill-rule=\"evenodd\" fill-opacity=\"1\" /><path clip-path=\"url(#clip260)\" d=\"M171.436 71.6367 Q167.825 71.6367 165.996 75.2015 Q164.19 78.7432 164.19 85.8728 Q164.19 92.9792 165.996 96.544 Q167.825 100.086 171.436 100.086 Q175.07 100.086 176.876 96.544 Q178.704 92.9792 178.704 85.8728 Q178.704 78.7432 176.876 75.2015 Q175.07 71.6367 171.436 71.6367 M171.436 67.933 Q177.246 67.933 180.301 72.5395 Q183.38 77.1228 183.38 85.8728 Q183.38 94.5996 180.301 99.206 Q177.246 103.789 171.436 103.789 Q165.626 103.789 162.547 99.206 Q159.491 94.5996 159.491 85.8728 Q159.491 77.1228 162.547 72.5395 Q165.626 67.933 171.436 67.933 Z\" fill=\"#000000\" fill-rule=\"evenodd\" fill-opacity=\"1\" /><path clip-path=\"url(#clip260)\" d=\"M201.598 71.6367 Q197.987 71.6367 196.158 75.2015 Q194.352 78.7432 194.352 85.8728 Q194.352 92.9792 196.158 96.544 Q197.987 100.086 201.598 100.086 Q205.232 100.086 207.037 96.544 Q208.866 92.9792 208.866 85.8728 Q208.866 78.7432 207.037 75.2015 Q205.232 71.6367 201.598 71.6367 M201.598 67.933 Q207.408 67.933 210.463 72.5395 Q213.542 77.1228 213.542 85.8728 Q213.542 94.5996 210.463 99.206 Q207.408 103.789 201.598 103.789 Q195.787 103.789 192.709 99.206 Q189.653 94.5996 189.653 85.8728 Q189.653 77.1228 192.709 72.5395 Q195.787 67.933 201.598 67.933 Z\" fill=\"#000000\" fill-rule=\"evenodd\" fill-opacity=\"1\" /><path clip-path=\"url(#clip260)\" d=\"M58.657 1364.89 L77.5631 1364.89 L77.5631 1370.78 L28.3562 1370.78 L28.3562 1364.89 L33.7671 1364.89 Q30.5842 1363.05 29.0564 1360.25 Q27.4968 1357.41 27.4968 1353.5 Q27.4968 1347.01 32.6531 1342.96 Q37.8093 1338.89 46.212 1338.89 Q54.6147 1338.89 59.771 1342.96 Q64.9272 1347.01 64.9272 1353.5 Q64.9272 1357.41 63.3994 1360.25 Q61.8398 1363.05 58.657 1364.89 M46.212 1344.97 Q39.7508 1344.97 36.0905 1347.64 Q32.3984 1350.28 32.3984 1354.93 Q32.3984 1359.58 36.0905 1362.25 Q39.7508 1364.89 46.212 1364.89 Q52.6732 1364.89 56.3653 1362.25 Q60.0256 1359.58 60.0256 1354.93 Q60.0256 1350.28 56.3653 1347.64 Q52.6732 1344.97 46.212 1344.97 Z\" fill=\"#000000\" fill-rule=\"evenodd\" fill-opacity=\"1\" /><path clip-path=\"url(#clip260)\" d=\"M33.8307 1308.52 Q33.2578 1309.51 33.0032 1310.69 Q32.7167 1311.83 32.7167 1313.24 Q32.7167 1318.2 35.9632 1320.87 Q39.1779 1323.52 45.2253 1323.52 L64.0042 1323.52 L64.0042 1329.4 L28.3562 1329.4 L28.3562 1323.52 L33.8944 1323.52 Q30.6479 1321.67 29.0883 1318.71 Q27.4968 1315.75 27.4968 1311.52 Q27.4968 1310.91 27.5923 1310.18 Q27.656 1309.45 27.8151 1308.56 L33.8307 1308.52 Z\" fill=\"#000000\" fill-rule=\"evenodd\" fill-opacity=\"1\" /><path clip-path=\"url(#clip260)\" d=\"M32.4621 1290 Q32.4621 1294.71 36.1542 1297.45 Q39.8145 1300.19 46.212 1300.19 Q52.6095 1300.19 56.3017 1297.48 Q59.9619 1294.74 59.9619 1290 Q59.9619 1285.32 56.2698 1282.58 Q52.5777 1279.85 46.212 1279.85 Q39.8781 1279.85 36.186 1282.58 Q32.4621 1285.32 32.4621 1290 M27.4968 1290 Q27.4968 1282.36 32.4621 1278 Q37.4273 1273.64 46.212 1273.64 Q54.9649 1273.64 59.9619 1278 Q64.9272 1282.36 64.9272 1290 Q64.9272 1297.67 59.9619 1302.03 Q54.9649 1306.36 46.212 1306.36 Q37.4273 1306.36 32.4621 1302.03 Q27.4968 1297.67 27.4968 1290 Z\" fill=\"#000000\" fill-rule=\"evenodd\" fill-opacity=\"1\" /><path clip-path=\"url(#clip260)\" d=\"M46.212 1238.34 Q39.7508 1238.34 36.0905 1241.02 Q32.3984 1243.66 32.3984 1248.31 Q32.3984 1252.95 36.0905 1255.63 Q39.7508 1258.27 46.212 1258.27 Q52.6732 1258.27 56.3653 1255.63 Q60.0256 1252.95 60.0256 1248.31 Q60.0256 1243.66 56.3653 1241.02 Q52.6732 1238.34 46.212 1238.34 M33.7671 1258.27 Q30.5842 1256.42 29.0564 1253.62 Q27.4968 1250.79 27.4968 1246.87 Q27.4968 1240.38 32.6531 1236.34 Q37.8093 1232.26 46.212 1232.26 Q54.6147 1232.26 59.771 1236.34 Q64.9272 1240.38 64.9272 1246.87 Q64.9272 1250.79 63.3994 1253.62 Q61.8398 1256.42 58.657 1258.27 L64.0042 1258.27 L64.0042 1264.16 L14.479 1264.16 L14.479 1258.27 L33.7671 1258.27 Z\" fill=\"#000000\" fill-rule=\"evenodd\" fill-opacity=\"1\" /><path clip-path=\"url(#clip260)\" d=\"M46.0847 1206.36 Q46.0847 1213.45 47.7079 1216.19 Q49.3312 1218.93 53.2461 1218.93 Q56.3653 1218.93 58.2114 1216.89 Q60.0256 1214.82 60.0256 1211.29 Q60.0256 1206.42 56.5881 1203.49 Q53.1188 1200.53 47.3897 1200.53 L46.0847 1200.53 L46.0847 1206.36 M43.6657 1194.67 L64.0042 1194.67 L64.0042 1200.53 L58.5933 1200.53 Q61.8398 1202.54 63.3994 1205.53 Q64.9272 1208.52 64.9272 1212.85 Q64.9272 1218.32 61.8716 1221.57 Q58.7843 1224.78 53.6281 1224.78 Q47.6125 1224.78 44.5569 1220.77 Q41.5014 1216.73 41.5014 1208.74 L41.5014 1200.53 L40.9285 1200.53 Q36.8862 1200.53 34.6901 1203.2 Q32.4621 1205.85 32.4621 1210.65 Q32.4621 1213.71 33.1941 1216.6 Q33.9262 1219.5 35.3903 1222.17 L29.9795 1222.17 Q28.7381 1218.96 28.1334 1215.94 Q27.4968 1212.91 27.4968 1210.05 Q27.4968 1202.31 31.5072 1198.49 Q35.5176 1194.67 43.6657 1194.67 Z\" fill=\"#000000\" fill-rule=\"evenodd\" fill-opacity=\"1\" /><path clip-path=\"url(#clip260)\" d=\"M46.212 1157.02 Q39.7508 1157.02 36.0905 1159.69 Q32.3984 1162.34 32.3984 1166.98 Q32.3984 1171.63 36.0905 1174.3 Q39.7508 1176.95 46.212 1176.95 Q52.6732 1176.95 56.3653 1174.3 Q60.0256 1171.63 60.0256 1166.98 Q60.0256 1162.34 56.3653 1159.69 Q52.6732 1157.02 46.212 1157.02 M33.7671 1176.95 Q30.5842 1175.1 29.0564 1172.3 Q27.4968 1169.47 27.4968 1165.55 Q27.4968 1159.06 32.6531 1155.02 Q37.8093 1150.94 46.212 1150.94 Q54.6147 1150.94 59.771 1155.02 Q64.9272 1159.06 64.9272 1165.55 Q64.9272 1169.47 63.3994 1172.3 Q61.8398 1175.1 58.657 1176.95 L64.0042 1176.95 L64.0042 1182.83 L14.479 1182.83 L14.479 1176.95 L33.7671 1176.95 Z\" fill=\"#000000\" fill-rule=\"evenodd\" fill-opacity=\"1\" /><path clip-path=\"url(#clip260)\" d=\"M28.3562 1141.23 L28.3562 1135.38 L64.0042 1135.38 L64.0042 1141.23 L28.3562 1141.23 M14.479 1141.23 L14.479 1135.38 L21.895 1135.38 L21.895 1141.23 L14.479 1141.23 Z\" fill=\"#000000\" fill-rule=\"evenodd\" fill-opacity=\"1\" /><path clip-path=\"url(#clip260)\" d=\"M14.479 1123.12 L14.479 1117.27 L64.0042 1117.27 L64.0042 1123.12 L14.479 1123.12 Z\" fill=\"#000000\" fill-rule=\"evenodd\" fill-opacity=\"1\" /><path clip-path=\"url(#clip260)\" d=\"M28.3562 1105.01 L28.3562 1099.16 L64.0042 1099.16 L64.0042 1105.01 L28.3562 1105.01 M14.479 1105.01 L14.479 1099.16 L21.895 1099.16 L21.895 1105.01 L14.479 1105.01 Z\" fill=\"#000000\" fill-rule=\"evenodd\" fill-opacity=\"1\" /><path clip-path=\"url(#clip260)\" d=\"M18.2347 1081.11 L28.3562 1081.11 L28.3562 1069.05 L32.9077 1069.05 L32.9077 1081.11 L52.2594 1081.11 Q56.6199 1081.11 57.8613 1079.93 Q59.1026 1078.72 59.1026 1075.06 L59.1026 1069.05 L64.0042 1069.05 L64.0042 1075.06 Q64.0042 1081.84 61.4897 1084.42 Q58.9434 1087 52.2594 1087 L32.9077 1087 L32.9077 1091.29 L28.3562 1091.29 L28.3562 1087 L18.2347 1087 L18.2347 1081.11 Z\" fill=\"#000000\" fill-rule=\"evenodd\" fill-opacity=\"1\" /><path clip-path=\"url(#clip260)\" d=\"M67.3143 1046.51 Q73.68 1048.99 75.6216 1051.35 Q77.5631 1053.71 77.5631 1057.65 L77.5631 1062.33 L72.6615 1062.33 L72.6615 1058.89 Q72.6615 1056.47 71.5157 1055.14 Q70.3699 1053.8 66.1048 1052.18 L63.4312 1051.13 L28.3562 1065.55 L28.3562 1059.34 L56.238 1048.2 L28.3562 1037.06 L28.3562 1030.85 L67.3143 1046.51 Z\" fill=\"#000000\" fill-rule=\"evenodd\" fill-opacity=\"1\" /><path clip-path=\"url(#clip260)\" d=\"M32.4621 988.234 Q32.4621 992.945 36.1542 995.682 Q39.8145 998.419 46.212 998.419 Q52.6095 998.419 56.3017 995.714 Q59.9619 992.977 59.9619 988.234 Q59.9619 983.555 56.2698 980.818 Q52.5777 978.081 46.212 978.081 Q39.8781 978.081 36.186 980.818 Q32.4621 983.555 32.4621 988.234 M27.4968 988.234 Q27.4968 980.595 32.4621 976.235 Q37.4273 971.874 46.212 971.874 Q54.9649 971.874 59.9619 976.235 Q64.9272 980.595 64.9272 988.234 Q64.9272 995.905 59.9619 1000.27 Q54.9649 1004.59 46.212 1004.59 Q37.4273 1004.59 32.4621 1000.27 Q27.4968 995.905 27.4968 988.234 Z\" fill=\"#000000\" fill-rule=\"evenodd\" fill-opacity=\"1\" /><path clip-path=\"url(#clip260)\" d=\"M14.479 944.12 L19.3487 944.12 L19.3487 949.722 Q19.3487 952.873 20.6219 954.114 Q21.895 955.323 25.2052 955.323 L28.3562 955.323 L28.3562 945.679 L32.9077 945.679 L32.9077 955.323 L64.0042 955.323 L64.0042 961.212 L32.9077 961.212 L32.9077 966.814 L28.3562 966.814 L28.3562 961.212 L25.8736 961.212 Q19.9216 961.212 17.2162 958.443 Q14.479 955.674 14.479 949.658 L14.479 944.12 Z\" fill=\"#000000\" fill-rule=\"evenodd\" fill-opacity=\"1\" /><path clip-path=\"url(#clip260)\" d=\"M46.0847 902.297 Q46.0847 909.395 47.7079 912.132 Q49.3312 914.869 53.2461 914.869 Q56.3653 914.869 58.2114 912.832 Q60.0256 910.764 60.0256 907.231 Q60.0256 902.361 56.5881 899.433 Q53.1188 896.473 47.3897 896.473 L46.0847 896.473 L46.0847 902.297 M43.6657 890.616 L64.0042 890.616 L64.0042 896.473 L58.5933 896.473 Q61.8398 898.478 63.3994 901.47 Q64.9272 904.462 64.9272 908.79 Q64.9272 914.265 61.8716 917.511 Q58.7843 920.726 53.6281 920.726 Q47.6125 920.726 44.5569 916.715 Q41.5014 912.673 41.5014 904.684 L41.5014 896.473 L40.9285 896.473 Q36.8862 896.473 34.6901 899.146 Q32.4621 901.788 32.4621 906.594 Q32.4621 909.65 33.1941 912.546 Q33.9262 915.442 35.3903 918.116 L29.9795 918.116 Q28.7381 914.901 28.1334 911.878 Q27.4968 908.854 27.4968 905.989 Q27.4968 898.255 31.5072 894.436 Q35.5176 890.616 43.6657 890.616 Z\" fill=\"#000000\" fill-rule=\"evenodd\" fill-opacity=\"1\" /><path clip-path=\"url(#clip260)\" d=\"M46.212 852.963 Q39.7508 852.963 36.0905 855.637 Q32.3984 858.278 32.3984 862.925 Q32.3984 867.572 36.0905 870.246 Q39.7508 872.888 46.212 872.888 Q52.6732 872.888 56.3653 870.246 Q60.0256 867.572 60.0256 862.925 Q60.0256 858.278 56.3653 855.637 Q52.6732 852.963 46.212 852.963 M33.7671 872.888 Q30.5842 871.042 29.0564 868.241 Q27.4968 865.408 27.4968 861.493 Q27.4968 855 32.6531 850.958 Q37.8093 846.884 46.212 846.884 Q54.6147 846.884 59.771 850.958 Q64.9272 855 64.9272 861.493 Q64.9272 865.408 63.3994 868.241 Q61.8398 871.042 58.657 872.888 L64.0042 872.888 L64.0042 878.776 L14.479 878.776 L14.479 872.888 L33.7671 872.888 Z\" fill=\"#000000\" fill-rule=\"evenodd\" fill-opacity=\"1\" /><path clip-path=\"url(#clip260)\" d=\"M32.4621 823.362 Q32.4621 828.073 36.1542 830.81 Q39.8145 833.548 46.212 833.548 Q52.6095 833.548 56.3017 830.842 Q59.9619 828.105 59.9619 823.362 Q59.9619 818.684 56.2698 815.946 Q52.5777 813.209 46.212 813.209 Q39.8781 813.209 36.186 815.946 Q32.4621 818.684 32.4621 823.362 M27.4968 823.362 Q27.4968 815.724 32.4621 811.363 Q37.4273 807.003 46.212 807.003 Q54.9649 807.003 59.9619 811.363 Q64.9272 815.724 64.9272 823.362 Q64.9272 831.033 59.9619 835.394 Q54.9649 839.722 46.212 839.722 Q37.4273 839.722 32.4621 835.394 Q27.4968 831.033 27.4968 823.362 Z\" fill=\"#000000\" fill-rule=\"evenodd\" fill-opacity=\"1\" /><path clip-path=\"url(#clip260)\" d=\"M28.3562 801.496 L28.3562 795.29 L58.275 784.15 L28.3562 773.01 L28.3562 766.803 L64.0042 780.171 L64.0042 788.128 L28.3562 801.496 Z\" fill=\"#000000\" fill-rule=\"evenodd\" fill-opacity=\"1\" /><path clip-path=\"url(#clip260)\" d=\"M44.7161 728.227 L47.5806 728.227 L47.5806 755.154 Q53.6281 754.772 56.8109 751.525 Q59.9619 748.247 59.9619 742.422 Q59.9619 739.049 59.1344 735.898 Q58.3069 732.715 56.6518 729.596 L62.1899 729.596 Q63.5267 732.747 64.227 736.057 Q64.9272 739.367 64.9272 742.773 Q64.9272 751.303 59.9619 756.3 Q54.9967 761.265 46.5303 761.265 Q37.7774 761.265 32.6531 756.554 Q27.4968 751.812 27.4968 743.791 Q27.4968 736.598 32.1438 732.428 Q36.7589 728.227 44.7161 728.227 M42.9973 734.083 Q38.1912 734.147 35.3266 736.789 Q32.4621 739.399 32.4621 743.727 Q32.4621 748.629 35.2312 751.589 Q38.0002 754.517 43.0292 754.963 L42.9973 734.083 Z\" fill=\"#000000\" fill-rule=\"evenodd\" fill-opacity=\"1\" /><path clip-path=\"url(#clip260)\" d=\"M46.0847 681.694 Q46.0847 688.791 47.7079 691.529 Q49.3312 694.266 53.2461 694.266 Q56.3653 694.266 58.2114 692.229 Q60.0256 690.16 60.0256 686.627 Q60.0256 681.757 56.5881 678.829 Q53.1188 675.869 47.3897 675.869 L46.0847 675.869 L46.0847 681.694 M43.6657 670.013 L64.0042 670.013 L64.0042 675.869 L58.5933 675.869 Q61.8398 677.874 63.3994 680.866 Q64.9272 683.858 64.9272 688.187 Q64.9272 693.661 61.8716 696.908 Q58.7843 700.122 53.6281 700.122 Q47.6125 700.122 44.5569 696.112 Q41.5014 692.07 41.5014 684.081 L41.5014 675.869 L40.9285 675.869 Q36.8862 675.869 34.6901 678.543 Q32.4621 681.184 32.4621 685.99 Q32.4621 689.046 33.1941 691.942 Q33.9262 694.839 35.3903 697.512 L29.9795 697.512 Q28.7381 694.298 28.1334 691.274 Q27.4968 688.25 27.4968 685.386 Q27.4968 677.651 31.5072 673.832 Q35.5176 670.013 43.6657 670.013 Z\" fill=\"#000000\" fill-rule=\"evenodd\" fill-opacity=\"1\" /><path clip-path=\"url(#clip260)\" d=\"M28.3562 662.151 L28.3562 655.944 L58.275 644.804 L28.3562 633.664 L28.3562 627.458 L64.0042 640.826 L64.0042 648.783 L28.3562 662.151 Z\" fill=\"#000000\" fill-rule=\"evenodd\" fill-opacity=\"1\" /><path clip-path=\"url(#clip260)\" d=\"M44.7161 588.882 L47.5806 588.882 L47.5806 615.809 Q53.6281 615.427 56.8109 612.18 Q59.9619 608.902 59.9619 603.077 Q59.9619 599.703 59.1344 596.552 Q58.3069 593.369 56.6518 590.25 L62.1899 590.25 Q63.5267 593.401 64.227 596.711 Q64.9272 600.022 64.9272 603.427 Q64.9272 611.957 59.9619 616.954 Q54.9967 621.92 46.5303 621.92 Q37.7774 621.92 32.6531 617.209 Q27.4968 612.467 27.4968 604.446 Q27.4968 597.252 32.1438 593.083 Q36.7589 588.882 44.7161 588.882 M42.9973 594.738 Q38.1912 594.802 35.3266 597.443 Q32.4621 600.053 32.4621 604.382 Q32.4621 609.284 35.2312 612.244 Q38.0002 615.172 43.0292 615.618 L42.9973 594.738 Z\" fill=\"#000000\" fill-rule=\"evenodd\" fill-opacity=\"1\" /><path clip-path=\"url(#clip260)\" d=\"M33.8307 558.613 Q33.2578 559.599 33.0032 560.777 Q32.7167 561.923 32.7167 563.323 Q32.7167 568.289 35.9632 570.962 Q39.1779 573.604 45.2253 573.604 L64.0042 573.604 L64.0042 579.492 L28.3562 579.492 L28.3562 573.604 L33.8944 573.604 Q30.6479 571.758 29.0883 568.798 Q27.4968 565.838 27.4968 561.605 Q27.4968 561 27.5923 560.268 Q27.656 559.536 27.8151 558.644 L33.8307 558.613 Z\" fill=\"#000000\" fill-rule=\"evenodd\" fill-opacity=\"1\" /><path clip-path=\"url(#clip260)\" d=\"M46.0847 536.269 Q46.0847 543.367 47.7079 546.104 Q49.3312 548.841 53.2461 548.841 Q56.3653 548.841 58.2114 546.804 Q60.0256 544.735 60.0256 541.202 Q60.0256 536.333 56.5881 533.404 Q53.1188 530.444 47.3897 530.444 L46.0847 530.444 L46.0847 536.269 M43.6657 524.588 L64.0042 524.588 L64.0042 530.444 L58.5933 530.444 Q61.8398 532.45 63.3994 535.441 Q64.9272 538.433 64.9272 542.762 Q64.9272 548.237 61.8716 551.483 Q58.7843 554.698 53.6281 554.698 Q47.6125 554.698 44.5569 550.687 Q41.5014 546.645 41.5014 538.656 L41.5014 530.444 L40.9285 530.444 Q36.8862 530.444 34.6901 533.118 Q32.4621 535.76 32.4621 540.566 Q32.4621 543.621 33.1941 546.518 Q33.9262 549.414 35.3903 552.088 L29.9795 552.088 Q28.7381 548.873 28.1334 545.849 Q27.4968 542.826 27.4968 539.961 Q27.4968 532.227 31.5072 528.407 Q35.5176 524.588 43.6657 524.588 Z\" fill=\"#000000\" fill-rule=\"evenodd\" fill-opacity=\"1\" /><path clip-path=\"url(#clip260)\" d=\"M45.7664 489.067 Q39.4007 489.067 35.8996 491.709 Q32.3984 494.319 32.3984 499.061 Q32.3984 503.772 35.8996 506.414 Q39.4007 509.024 45.7664 509.024 Q52.1003 509.024 55.6014 506.414 Q59.1026 503.772 59.1026 499.061 Q59.1026 494.319 55.6014 491.709 Q52.1003 489.067 45.7664 489.067 M59.58 483.211 Q68.683 483.211 73.1071 487.253 Q77.5631 491.295 77.5631 499.634 Q77.5631 502.722 77.0857 505.459 Q76.6401 508.196 75.6852 510.774 L69.9879 510.774 Q71.3884 508.196 72.0568 505.682 Q72.7252 503.167 72.7252 500.557 Q72.7252 494.796 69.7015 491.932 Q66.7096 489.067 60.6303 489.067 L57.7339 489.067 Q60.885 490.882 62.4446 493.714 Q64.0042 496.547 64.0042 500.494 Q64.0042 507.05 59.0071 511.061 Q54.01 515.071 45.7664 515.071 Q37.491 515.071 32.4939 511.061 Q27.4968 507.05 27.4968 500.494 Q27.4968 496.547 29.0564 493.714 Q30.616 490.882 33.7671 489.067 L28.3562 489.067 L28.3562 483.211 L59.58 483.211 Z\" fill=\"#000000\" fill-rule=\"evenodd\" fill-opacity=\"1\" /><path clip-path=\"url(#clip260)\" d=\"M44.7161 440.656 L47.5806 440.656 L47.5806 467.583 Q53.6281 467.201 56.8109 463.955 Q59.9619 460.676 59.9619 454.852 Q59.9619 451.478 59.1344 448.327 Q58.3069 445.144 56.6518 442.025 L62.1899 442.025 Q63.5267 445.176 64.227 448.486 Q64.9272 451.796 64.9272 455.202 Q64.9272 463.732 59.9619 468.729 Q54.9967 473.694 46.5303 473.694 Q37.7774 473.694 32.6531 468.984 Q27.4968 464.241 27.4968 456.22 Q27.4968 449.027 32.1438 444.857 Q36.7589 440.656 44.7161 440.656 M42.9973 446.513 Q38.1912 446.576 35.3266 449.218 Q32.4621 451.828 32.4621 456.157 Q32.4621 461.058 35.2312 464.018 Q38.0002 466.946 43.0292 467.392 L42.9973 446.513 Z\" fill=\"#000000\" fill-rule=\"evenodd\" fill-opacity=\"1\" /><path clip-path=\"url(#clip260)\" d=\"M58.657 404.658 L77.5631 404.658 L77.5631 410.546 L28.3562 410.546 L28.3562 404.658 L33.7671 404.658 Q30.5842 402.812 29.0564 400.011 Q27.4968 397.178 27.4968 393.263 Q27.4968 386.77 32.6531 382.728 Q37.8093 378.654 46.212 378.654 Q54.6147 378.654 59.771 382.728 Q64.9272 386.77 64.9272 393.263 Q64.9272 397.178 63.3994 400.011 Q61.8398 402.812 58.657 404.658 M46.212 384.733 Q39.7508 384.733 36.0905 387.407 Q32.3984 390.049 32.3984 394.696 Q32.3984 399.343 36.0905 402.016 Q39.7508 404.658 46.212 404.658 Q52.6732 404.658 56.3653 402.016 Q60.0256 399.343 60.0256 394.696 Q60.0256 390.049 56.3653 387.407 Q52.6732 384.733 46.212 384.733 Z\" fill=\"#000000\" fill-rule=\"evenodd\" fill-opacity=\"1\" /><path clip-path=\"url(#clip260)\" d=\"M32.4621 355.133 Q32.4621 359.843 36.1542 362.581 Q39.8145 365.318 46.212 365.318 Q52.6095 365.318 56.3017 362.613 Q59.9619 359.875 59.9619 355.133 Q59.9619 350.454 56.2698 347.717 Q52.5777 344.98 46.212 344.98 Q39.8781 344.98 36.186 347.717 Q32.4621 350.454 32.4621 355.133 M27.4968 355.133 Q27.4968 347.494 32.4621 343.133 Q37.4273 338.773 46.212 338.773 Q54.9649 338.773 59.9619 343.133 Q64.9272 347.494 64.9272 355.133 Q64.9272 362.804 59.9619 367.164 Q54.9649 371.493 46.212 371.493 Q37.4273 371.493 32.4621 367.164 Q27.4968 362.804 27.4968 355.133 Z\" fill=\"#000000\" fill-rule=\"evenodd\" fill-opacity=\"1\" /><path clip-path=\"url(#clip260)\" d=\"M58.657 323.4 L77.5631 323.4 L77.5631 329.288 L28.3562 329.288 L28.3562 323.4 L33.7671 323.4 Q30.5842 321.554 29.0564 318.753 Q27.4968 315.92 27.4968 312.005 Q27.4968 305.512 32.6531 301.47 Q37.8093 297.396 46.212 297.396 Q54.6147 297.396 59.771 301.47 Q64.9272 305.512 64.9272 312.005 Q64.9272 315.92 63.3994 318.753 Q61.8398 321.554 58.657 323.4 M46.212 303.475 Q39.7508 303.475 36.0905 306.149 Q32.3984 308.791 32.3984 313.437 Q32.3984 318.084 36.0905 320.758 Q39.7508 323.4 46.212 323.4 Q52.6732 323.4 56.3653 320.758 Q60.0256 318.084 60.0256 313.437 Q60.0256 308.791 56.3653 306.149 Q52.6732 303.475 46.212 303.475 Z\" fill=\"#000000\" fill-rule=\"evenodd\" fill-opacity=\"1\" /><path clip-path=\"url(#clip260)\" d=\"M49.9359 288.293 L28.3562 288.293 L28.3562 282.436 L49.7131 282.436 Q54.7739 282.436 57.3202 280.463 Q59.8346 278.49 59.8346 274.543 Q59.8346 269.801 56.8109 267.063 Q53.7872 264.294 48.5673 264.294 L28.3562 264.294 L28.3562 258.438 L64.0042 258.438 L64.0042 264.294 L58.5296 264.294 Q61.7762 266.427 63.3676 269.259 Q64.9272 272.06 64.9272 275.784 Q64.9272 281.927 61.1078 285.11 Q57.2883 288.293 49.9359 288.293 M27.4968 273.556 L27.4968 273.556 Z\" fill=\"#000000\" fill-rule=\"evenodd\" fill-opacity=\"1\" /><path clip-path=\"url(#clip260)\" d=\"M14.479 246.375 L14.479 240.518 L64.0042 240.518 L64.0042 246.375 L14.479 246.375 Z\" fill=\"#000000\" fill-rule=\"evenodd\" fill-opacity=\"1\" /><path clip-path=\"url(#clip260)\" d=\"M46.0847 212.064 Q46.0847 219.161 47.7079 221.899 Q49.3312 224.636 53.2461 224.636 Q56.3653 224.636 58.2114 222.599 Q60.0256 220.53 60.0256 216.997 Q60.0256 212.127 56.5881 209.199 Q53.1188 206.239 47.3897 206.239 L46.0847 206.239 L46.0847 212.064 M43.6657 200.383 L64.0042 200.383 L64.0042 206.239 L58.5933 206.239 Q61.8398 208.244 63.3994 211.236 Q64.9272 214.228 64.9272 218.557 Q64.9272 224.031 61.8716 227.278 Q58.7843 230.492 53.6281 230.492 Q47.6125 230.492 44.5569 226.482 Q41.5014 222.44 41.5014 214.451 L41.5014 206.239 L40.9285 206.239 Q36.8862 206.239 34.6901 208.913 Q32.4621 211.554 32.4621 216.36 Q32.4621 219.416 33.1941 222.312 Q33.9262 225.209 35.3903 227.882 L29.9795 227.882 Q28.7381 224.668 28.1334 221.644 Q27.4968 218.62 27.4968 215.756 Q27.4968 208.021 31.5072 204.202 Q35.5176 200.383 43.6657 200.383 Z\" fill=\"#000000\" fill-rule=\"evenodd\" fill-opacity=\"1\" /><path clip-path=\"url(#clip260)\" d=\"M33.8307 167.663 Q33.2578 168.649 33.0032 169.827 Q32.7167 170.973 32.7167 172.373 Q32.7167 177.339 35.9632 180.012 Q39.1779 182.654 45.2253 182.654 L64.0042 182.654 L64.0042 188.542 L28.3562 188.542 L28.3562 182.654 L33.8944 182.654 Q30.6479 180.808 29.0883 177.848 Q27.4968 174.888 27.4968 170.655 Q27.4968 170.05 27.5923 169.318 Q27.656 168.586 27.8151 167.695 L33.8307 167.663 Z\" fill=\"#000000\" fill-rule=\"evenodd\" fill-opacity=\"1\" /><path clip-path=\"url(#clip260)\" d=\"M28.3562 161.52 L28.3562 155.663 L64.0042 155.663 L64.0042 161.52 L28.3562 161.52 M14.479 161.52 L14.479 155.663 L21.895 155.663 L21.895 161.52 L14.479 161.52 Z\" fill=\"#000000\" fill-rule=\"evenodd\" fill-opacity=\"1\" /><path clip-path=\"url(#clip260)\" d=\"M18.2347 137.617 L28.3562 137.617 L28.3562 125.554 L32.9077 125.554 L32.9077 137.617 L52.2594 137.617 Q56.6199 137.617 57.8613 136.439 Q59.1026 135.23 59.1026 131.569 L59.1026 125.554 L64.0042 125.554 L64.0042 131.569 Q64.0042 138.349 61.4897 140.927 Q58.9434 143.505 52.2594 143.505 L32.9077 143.505 L32.9077 147.802 L28.3562 147.802 L28.3562 143.505 L18.2347 143.505 L18.2347 137.617 Z\" fill=\"#000000\" fill-rule=\"evenodd\" fill-opacity=\"1\" /><path clip-path=\"url(#clip260)\" d=\"M67.3143 103.019 Q73.68 105.502 75.6216 107.857 Q77.5631 110.212 77.5631 114.159 L77.5631 118.838 L72.6615 118.838 L72.6615 115.4 Q72.6615 112.981 71.5157 111.645 Q70.3699 110.308 66.1048 108.685 L63.4312 107.634 L28.3562 122.052 L28.3562 115.846 L56.238 104.706 L28.3562 93.566 L28.3562 87.3594 L67.3143 103.019 Z\" fill=\"#000000\" fill-rule=\"evenodd\" fill-opacity=\"1\" /><circle clip-path=\"url(#clip262)\" cx=\"722.903\" cy=\"85.838\" r=\"14.4\" fill=\"#009af9\" fill-rule=\"evenodd\" fill-opacity=\"1\" stroke=\"#000000\" stroke-opacity=\"1\" stroke-width=\"3.2\"/>\n",
       "<circle clip-path=\"url(#clip262)\" cx=\"618.294\" cy=\"85.838\" r=\"14.4\" fill=\"#009af9\" fill-rule=\"evenodd\" fill-opacity=\"1\" stroke=\"#000000\" stroke-opacity=\"1\" stroke-width=\"3.2\"/>\n",
       "<circle clip-path=\"url(#clip262)\" cx=\"498.669\" cy=\"85.838\" r=\"14.4\" fill=\"#009af9\" fill-rule=\"evenodd\" fill-opacity=\"1\" stroke=\"#000000\" stroke-opacity=\"1\" stroke-width=\"3.2\"/>\n",
       "<circle clip-path=\"url(#clip262)\" cx=\"309.067\" cy=\"85.838\" r=\"14.4\" fill=\"#009af9\" fill-rule=\"evenodd\" fill-opacity=\"1\" stroke=\"#000000\" stroke-opacity=\"1\" stroke-width=\"3.2\"/>\n",
       "<circle clip-path=\"url(#clip262)\" cx=\"428.692\" cy=\"85.838\" r=\"14.4\" fill=\"#009af9\" fill-rule=\"evenodd\" fill-opacity=\"1\" stroke=\"#000000\" stroke-opacity=\"1\" stroke-width=\"3.2\"/>\n",
       "<circle clip-path=\"url(#clip262)\" cx=\"428.692\" cy=\"85.838\" r=\"14.4\" fill=\"#009af9\" fill-rule=\"evenodd\" fill-opacity=\"1\" stroke=\"#000000\" stroke-opacity=\"1\" stroke-width=\"3.2\"/>\n",
       "<circle clip-path=\"url(#clip262)\" cx=\"688.271\" cy=\"228.779\" r=\"14.4\" fill=\"#009af9\" fill-rule=\"evenodd\" fill-opacity=\"1\" stroke=\"#000000\" stroke-opacity=\"1\" stroke-width=\"3.2\"/>\n",
       "<circle clip-path=\"url(#clip262)\" cx=\"667.943\" cy=\"246.646\" r=\"14.4\" fill=\"#009af9\" fill-rule=\"evenodd\" fill-opacity=\"1\" stroke=\"#000000\" stroke-opacity=\"1\" stroke-width=\"3.2\"/>\n",
       "<circle clip-path=\"url(#clip262)\" cx=\"667.943\" cy=\"246.646\" r=\"14.4\" fill=\"#009af9\" fill-rule=\"evenodd\" fill-opacity=\"1\" stroke=\"#000000\" stroke-opacity=\"1\" stroke-width=\"3.2\"/>\n",
       "<circle clip-path=\"url(#clip262)\" cx=\"912.505\" cy=\"319.741\" r=\"14.4\" fill=\"#009af9\" fill-rule=\"evenodd\" fill-opacity=\"1\" stroke=\"#000000\" stroke-opacity=\"1\" stroke-width=\"3.2\"/>\n",
       "<circle clip-path=\"url(#clip262)\" cx=\"877.872\" cy=\"324.072\" r=\"14.4\" fill=\"#009af9\" fill-rule=\"evenodd\" fill-opacity=\"1\" stroke=\"#000000\" stroke-opacity=\"1\" stroke-width=\"3.2\"/>\n",
       "<circle clip-path=\"url(#clip262)\" cx=\"973.537\" cy=\"332.182\" r=\"14.4\" fill=\"#009af9\" fill-rule=\"evenodd\" fill-opacity=\"1\" stroke=\"#000000\" stroke-opacity=\"1\" stroke-width=\"3.2\"/>\n",
       "<circle clip-path=\"url(#clip262)\" cx=\"1054.19\" cy=\"360.284\" r=\"14.4\" fill=\"#009af9\" fill-rule=\"evenodd\" fill-opacity=\"1\" stroke=\"#000000\" stroke-opacity=\"1\" stroke-width=\"3.2\"/>\n",
       "<circle clip-path=\"url(#clip262)\" cx=\"1091.32\" cy=\"362.497\" r=\"14.4\" fill=\"#009af9\" fill-rule=\"evenodd\" fill-opacity=\"1\" stroke=\"#000000\" stroke-opacity=\"1\" stroke-width=\"3.2\"/>\n",
       "<circle clip-path=\"url(#clip262)\" cx=\"1487.4\" cy=\"363.201\" r=\"14.4\" fill=\"#009af9\" fill-rule=\"evenodd\" fill-opacity=\"1\" stroke=\"#000000\" stroke-opacity=\"1\" stroke-width=\"3.2\"/>\n",
       "<circle clip-path=\"url(#clip262)\" cx=\"1223.47\" cy=\"388.157\" r=\"14.4\" fill=\"#009af9\" fill-rule=\"evenodd\" fill-opacity=\"1\" stroke=\"#000000\" stroke-opacity=\"1\" stroke-width=\"3.2\"/>\n",
       "<circle clip-path=\"url(#clip262)\" cx=\"1171.5\" cy=\"390.07\" r=\"14.4\" fill=\"#009af9\" fill-rule=\"evenodd\" fill-opacity=\"1\" stroke=\"#000000\" stroke-opacity=\"1\" stroke-width=\"3.2\"/>\n",
       "<circle clip-path=\"url(#clip262)\" cx=\"1096.8\" cy=\"394.054\" r=\"14.4\" fill=\"#009af9\" fill-rule=\"evenodd\" fill-opacity=\"1\" stroke=\"#000000\" stroke-opacity=\"1\" stroke-width=\"3.2\"/>\n",
       "<circle clip-path=\"url(#clip262)\" cx=\"1181.69\" cy=\"397.212\" r=\"14.4\" fill=\"#009af9\" fill-rule=\"evenodd\" fill-opacity=\"1\" stroke=\"#000000\" stroke-opacity=\"1\" stroke-width=\"3.2\"/>\n",
       "<circle clip-path=\"url(#clip262)\" cx=\"1345.24\" cy=\"400.307\" r=\"14.4\" fill=\"#009af9\" fill-rule=\"evenodd\" fill-opacity=\"1\" stroke=\"#000000\" stroke-opacity=\"1\" stroke-width=\"3.2\"/>\n",
       "<circle clip-path=\"url(#clip262)\" cx=\"1160.67\" cy=\"400.513\" r=\"14.4\" fill=\"#009af9\" fill-rule=\"evenodd\" fill-opacity=\"1\" stroke=\"#000000\" stroke-opacity=\"1\" stroke-width=\"3.2\"/>\n",
       "<circle clip-path=\"url(#clip262)\" cx=\"1238.34\" cy=\"404.504\" r=\"14.4\" fill=\"#009af9\" fill-rule=\"evenodd\" fill-opacity=\"1\" stroke=\"#000000\" stroke-opacity=\"1\" stroke-width=\"3.2\"/>\n",
       "<circle clip-path=\"url(#clip262)\" cx=\"737.92\" cy=\"407.454\" r=\"14.4\" fill=\"#009af9\" fill-rule=\"evenodd\" fill-opacity=\"1\" stroke=\"#000000\" stroke-opacity=\"1\" stroke-width=\"3.2\"/>\n",
       "<circle clip-path=\"url(#clip262)\" cx=\"1362.65\" cy=\"410.326\" r=\"14.4\" fill=\"#009af9\" fill-rule=\"evenodd\" fill-opacity=\"1\" stroke=\"#000000\" stroke-opacity=\"1\" stroke-width=\"3.2\"/>\n",
       "<circle clip-path=\"url(#clip262)\" cx=\"1108.94\" cy=\"410.577\" r=\"14.4\" fill=\"#009af9\" fill-rule=\"evenodd\" fill-opacity=\"1\" stroke=\"#000000\" stroke-opacity=\"1\" stroke-width=\"3.2\"/>\n",
       "<circle clip-path=\"url(#clip262)\" cx=\"1441.63\" cy=\"411.088\" r=\"14.4\" fill=\"#009af9\" fill-rule=\"evenodd\" fill-opacity=\"1\" stroke=\"#000000\" stroke-opacity=\"1\" stroke-width=\"3.2\"/>\n",
       "<circle clip-path=\"url(#clip262)\" cx=\"1596.72\" cy=\"412.818\" r=\"14.4\" fill=\"#009af9\" fill-rule=\"evenodd\" fill-opacity=\"1\" stroke=\"#000000\" stroke-opacity=\"1\" stroke-width=\"3.2\"/>\n",
       "<circle clip-path=\"url(#clip262)\" cx=\"1393.28\" cy=\"412.865\" r=\"14.4\" fill=\"#009af9\" fill-rule=\"evenodd\" fill-opacity=\"1\" stroke=\"#000000\" stroke-opacity=\"1\" stroke-width=\"3.2\"/>\n",
       "<circle clip-path=\"url(#clip262)\" cx=\"1636.2\" cy=\"415.399\" r=\"14.4\" fill=\"#009af9\" fill-rule=\"evenodd\" fill-opacity=\"1\" stroke=\"#000000\" stroke-opacity=\"1\" stroke-width=\"3.2\"/>\n",
       "<circle clip-path=\"url(#clip262)\" cx=\"1316.06\" cy=\"416.858\" r=\"14.4\" fill=\"#009af9\" fill-rule=\"evenodd\" fill-opacity=\"1\" stroke=\"#000000\" stroke-opacity=\"1\" stroke-width=\"3.2\"/>\n",
       "<circle clip-path=\"url(#clip262)\" cx=\"1351.1\" cy=\"417.433\" r=\"14.4\" fill=\"#009af9\" fill-rule=\"evenodd\" fill-opacity=\"1\" stroke=\"#000000\" stroke-opacity=\"1\" stroke-width=\"3.2\"/>\n",
       "<circle clip-path=\"url(#clip262)\" cx=\"901.715\" cy=\"417.829\" r=\"14.4\" fill=\"#009af9\" fill-rule=\"evenodd\" fill-opacity=\"1\" stroke=\"#000000\" stroke-opacity=\"1\" stroke-width=\"3.2\"/>\n",
       "<circle clip-path=\"url(#clip262)\" cx=\"1191.31\" cy=\"419.079\" r=\"14.4\" fill=\"#009af9\" fill-rule=\"evenodd\" fill-opacity=\"1\" stroke=\"#000000\" stroke-opacity=\"1\" stroke-width=\"3.2\"/>\n",
       "<circle clip-path=\"url(#clip262)\" cx=\"1589.84\" cy=\"419.965\" r=\"14.4\" fill=\"#009af9\" fill-rule=\"evenodd\" fill-opacity=\"1\" stroke=\"#000000\" stroke-opacity=\"1\" stroke-width=\"3.2\"/>\n",
       "<circle clip-path=\"url(#clip262)\" cx=\"1825.64\" cy=\"420.217\" r=\"14.4\" fill=\"#009af9\" fill-rule=\"evenodd\" fill-opacity=\"1\" stroke=\"#000000\" stroke-opacity=\"1\" stroke-width=\"3.2\"/>\n",
       "<circle clip-path=\"url(#clip262)\" cx=\"1386.37\" cy=\"423.723\" r=\"14.4\" fill=\"#009af9\" fill-rule=\"evenodd\" fill-opacity=\"1\" stroke=\"#000000\" stroke-opacity=\"1\" stroke-width=\"3.2\"/>\n",
       "<circle clip-path=\"url(#clip262)\" cx=\"1763.36\" cy=\"424.144\" r=\"14.4\" fill=\"#009af9\" fill-rule=\"evenodd\" fill-opacity=\"1\" stroke=\"#000000\" stroke-opacity=\"1\" stroke-width=\"3.2\"/>\n",
       "<circle clip-path=\"url(#clip262)\" cx=\"2071.15\" cy=\"425.029\" r=\"14.4\" fill=\"#009af9\" fill-rule=\"evenodd\" fill-opacity=\"1\" stroke=\"#000000\" stroke-opacity=\"1\" stroke-width=\"3.2\"/>\n",
       "<circle clip-path=\"url(#clip262)\" cx=\"1156.91\" cy=\"426.373\" r=\"14.4\" fill=\"#009af9\" fill-rule=\"evenodd\" fill-opacity=\"1\" stroke=\"#000000\" stroke-opacity=\"1\" stroke-width=\"3.2\"/>\n",
       "<circle clip-path=\"url(#clip262)\" cx=\"1124.93\" cy=\"427.377\" r=\"14.4\" fill=\"#009af9\" fill-rule=\"evenodd\" fill-opacity=\"1\" stroke=\"#000000\" stroke-opacity=\"1\" stroke-width=\"3.2\"/>\n",
       "<circle clip-path=\"url(#clip262)\" cx=\"1827.17\" cy=\"428.571\" r=\"14.4\" fill=\"#009af9\" fill-rule=\"evenodd\" fill-opacity=\"1\" stroke=\"#000000\" stroke-opacity=\"1\" stroke-width=\"3.2\"/>\n",
       "<circle clip-path=\"url(#clip262)\" cx=\"966.032\" cy=\"428.895\" r=\"14.4\" fill=\"#009af9\" fill-rule=\"evenodd\" fill-opacity=\"1\" stroke=\"#000000\" stroke-opacity=\"1\" stroke-width=\"3.2\"/>\n",
       "<circle clip-path=\"url(#clip262)\" cx=\"1150.44\" cy=\"429.55\" r=\"14.4\" fill=\"#009af9\" fill-rule=\"evenodd\" fill-opacity=\"1\" stroke=\"#000000\" stroke-opacity=\"1\" stroke-width=\"3.2\"/>\n",
       "<circle clip-path=\"url(#clip262)\" cx=\"1281.54\" cy=\"430.427\" r=\"14.4\" fill=\"#009af9\" fill-rule=\"evenodd\" fill-opacity=\"1\" stroke=\"#000000\" stroke-opacity=\"1\" stroke-width=\"3.2\"/>\n",
       "<circle clip-path=\"url(#clip262)\" cx=\"1403.91\" cy=\"431.759\" r=\"14.4\" fill=\"#009af9\" fill-rule=\"evenodd\" fill-opacity=\"1\" stroke=\"#000000\" stroke-opacity=\"1\" stroke-width=\"3.2\"/>\n",
       "<circle clip-path=\"url(#clip262)\" cx=\"1605.15\" cy=\"433.874\" r=\"14.4\" fill=\"#009af9\" fill-rule=\"evenodd\" fill-opacity=\"1\" stroke=\"#000000\" stroke-opacity=\"1\" stroke-width=\"3.2\"/>\n",
       "<circle clip-path=\"url(#clip262)\" cx=\"1728.74\" cy=\"434.908\" r=\"14.4\" fill=\"#009af9\" fill-rule=\"evenodd\" fill-opacity=\"1\" stroke=\"#000000\" stroke-opacity=\"1\" stroke-width=\"3.2\"/>\n",
       "<circle clip-path=\"url(#clip262)\" cx=\"1272.03\" cy=\"435.368\" r=\"14.4\" fill=\"#009af9\" fill-rule=\"evenodd\" fill-opacity=\"1\" stroke=\"#000000\" stroke-opacity=\"1\" stroke-width=\"3.2\"/>\n",
       "<circle clip-path=\"url(#clip262)\" cx=\"1622.83\" cy=\"435.594\" r=\"14.4\" fill=\"#009af9\" fill-rule=\"evenodd\" fill-opacity=\"1\" stroke=\"#000000\" stroke-opacity=\"1\" stroke-width=\"3.2\"/>\n",
       "<circle clip-path=\"url(#clip262)\" cx=\"1280.3\" cy=\"437.533\" r=\"14.4\" fill=\"#009af9\" fill-rule=\"evenodd\" fill-opacity=\"1\" stroke=\"#000000\" stroke-opacity=\"1\" stroke-width=\"3.2\"/>\n",
       "<circle clip-path=\"url(#clip262)\" cx=\"1611.18\" cy=\"437.558\" r=\"14.4\" fill=\"#009af9\" fill-rule=\"evenodd\" fill-opacity=\"1\" stroke=\"#000000\" stroke-opacity=\"1\" stroke-width=\"3.2\"/>\n",
       "<circle clip-path=\"url(#clip262)\" cx=\"1628.94\" cy=\"438.143\" r=\"14.4\" fill=\"#009af9\" fill-rule=\"evenodd\" fill-opacity=\"1\" stroke=\"#000000\" stroke-opacity=\"1\" stroke-width=\"3.2\"/>\n",
       "<circle clip-path=\"url(#clip262)\" cx=\"1889.98\" cy=\"438.561\" r=\"14.4\" fill=\"#009af9\" fill-rule=\"evenodd\" fill-opacity=\"1\" stroke=\"#000000\" stroke-opacity=\"1\" stroke-width=\"3.2\"/>\n",
       "<circle clip-path=\"url(#clip262)\" cx=\"2032.28\" cy=\"439.253\" r=\"14.4\" fill=\"#009af9\" fill-rule=\"evenodd\" fill-opacity=\"1\" stroke=\"#000000\" stroke-opacity=\"1\" stroke-width=\"3.2\"/>\n",
       "<circle clip-path=\"url(#clip262)\" cx=\"1723.73\" cy=\"439.527\" r=\"14.4\" fill=\"#009af9\" fill-rule=\"evenodd\" fill-opacity=\"1\" stroke=\"#000000\" stroke-opacity=\"1\" stroke-width=\"3.2\"/>\n",
       "<circle clip-path=\"url(#clip262)\" cx=\"1857.8\" cy=\"440.455\" r=\"14.4\" fill=\"#009af9\" fill-rule=\"evenodd\" fill-opacity=\"1\" stroke=\"#000000\" stroke-opacity=\"1\" stroke-width=\"3.2\"/>\n",
       "<circle clip-path=\"url(#clip262)\" cx=\"1850.14\" cy=\"440.719\" r=\"14.4\" fill=\"#009af9\" fill-rule=\"evenodd\" fill-opacity=\"1\" stroke=\"#000000\" stroke-opacity=\"1\" stroke-width=\"3.2\"/>\n",
       "<circle clip-path=\"url(#clip262)\" cx=\"1079.81\" cy=\"440.725\" r=\"14.4\" fill=\"#009af9\" fill-rule=\"evenodd\" fill-opacity=\"1\" stroke=\"#000000\" stroke-opacity=\"1\" stroke-width=\"3.2\"/>\n",
       "<circle clip-path=\"url(#clip262)\" cx=\"1340.92\" cy=\"440.837\" r=\"14.4\" fill=\"#009af9\" fill-rule=\"evenodd\" fill-opacity=\"1\" stroke=\"#000000\" stroke-opacity=\"1\" stroke-width=\"3.2\"/>\n",
       "<circle clip-path=\"url(#clip262)\" cx=\"1928.83\" cy=\"442.091\" r=\"14.4\" fill=\"#009af9\" fill-rule=\"evenodd\" fill-opacity=\"1\" stroke=\"#000000\" stroke-opacity=\"1\" stroke-width=\"3.2\"/>\n",
       "<circle clip-path=\"url(#clip262)\" cx=\"1638.55\" cy=\"444.028\" r=\"14.4\" fill=\"#009af9\" fill-rule=\"evenodd\" fill-opacity=\"1\" stroke=\"#000000\" stroke-opacity=\"1\" stroke-width=\"3.2\"/>\n",
       "<circle clip-path=\"url(#clip262)\" cx=\"1706.91\" cy=\"444.47\" r=\"14.4\" fill=\"#009af9\" fill-rule=\"evenodd\" fill-opacity=\"1\" stroke=\"#000000\" stroke-opacity=\"1\" stroke-width=\"3.2\"/>\n",
       "<circle clip-path=\"url(#clip262)\" cx=\"1375.99\" cy=\"444.666\" r=\"14.4\" fill=\"#009af9\" fill-rule=\"evenodd\" fill-opacity=\"1\" stroke=\"#000000\" stroke-opacity=\"1\" stroke-width=\"3.2\"/>\n",
       "<circle clip-path=\"url(#clip262)\" cx=\"1696.43\" cy=\"446.579\" r=\"14.4\" fill=\"#009af9\" fill-rule=\"evenodd\" fill-opacity=\"1\" stroke=\"#000000\" stroke-opacity=\"1\" stroke-width=\"3.2\"/>\n",
       "<circle clip-path=\"url(#clip262)\" cx=\"907.194\" cy=\"447.656\" r=\"14.4\" fill=\"#009af9\" fill-rule=\"evenodd\" fill-opacity=\"1\" stroke=\"#000000\" stroke-opacity=\"1\" stroke-width=\"3.2\"/>\n",
       "<circle clip-path=\"url(#clip262)\" cx=\"1978.51\" cy=\"447.719\" r=\"14.4\" fill=\"#009af9\" fill-rule=\"evenodd\" fill-opacity=\"1\" stroke=\"#000000\" stroke-opacity=\"1\" stroke-width=\"3.2\"/>\n",
       "<circle clip-path=\"url(#clip262)\" cx=\"1317.06\" cy=\"448.591\" r=\"14.4\" fill=\"#009af9\" fill-rule=\"evenodd\" fill-opacity=\"1\" stroke=\"#000000\" stroke-opacity=\"1\" stroke-width=\"3.2\"/>\n",
       "<circle clip-path=\"url(#clip262)\" cx=\"1487.21\" cy=\"448.615\" r=\"14.4\" fill=\"#009af9\" fill-rule=\"evenodd\" fill-opacity=\"1\" stroke=\"#000000\" stroke-opacity=\"1\" stroke-width=\"3.2\"/>\n",
       "<circle clip-path=\"url(#clip262)\" cx=\"1414.79\" cy=\"448.85\" r=\"14.4\" fill=\"#009af9\" fill-rule=\"evenodd\" fill-opacity=\"1\" stroke=\"#000000\" stroke-opacity=\"1\" stroke-width=\"3.2\"/>\n",
       "<circle clip-path=\"url(#clip262)\" cx=\"2293.23\" cy=\"449.67\" r=\"14.4\" fill=\"#009af9\" fill-rule=\"evenodd\" fill-opacity=\"1\" stroke=\"#000000\" stroke-opacity=\"1\" stroke-width=\"3.2\"/>\n",
       "<circle clip-path=\"url(#clip262)\" cx=\"1347.35\" cy=\"449.813\" r=\"14.4\" fill=\"#009af9\" fill-rule=\"evenodd\" fill-opacity=\"1\" stroke=\"#000000\" stroke-opacity=\"1\" stroke-width=\"3.2\"/>\n",
       "<circle clip-path=\"url(#clip262)\" cx=\"1789.08\" cy=\"450.106\" r=\"14.4\" fill=\"#009af9\" fill-rule=\"evenodd\" fill-opacity=\"1\" stroke=\"#000000\" stroke-opacity=\"1\" stroke-width=\"3.2\"/>\n",
       "<circle clip-path=\"url(#clip262)\" cx=\"1669.09\" cy=\"451.593\" r=\"14.4\" fill=\"#009af9\" fill-rule=\"evenodd\" fill-opacity=\"1\" stroke=\"#000000\" stroke-opacity=\"1\" stroke-width=\"3.2\"/>\n",
       "<circle clip-path=\"url(#clip262)\" cx=\"2104.27\" cy=\"451.998\" r=\"14.4\" fill=\"#009af9\" fill-rule=\"evenodd\" fill-opacity=\"1\" stroke=\"#000000\" stroke-opacity=\"1\" stroke-width=\"3.2\"/>\n",
       "<circle clip-path=\"url(#clip262)\" cx=\"1613.09\" cy=\"452.534\" r=\"14.4\" fill=\"#009af9\" fill-rule=\"evenodd\" fill-opacity=\"1\" stroke=\"#000000\" stroke-opacity=\"1\" stroke-width=\"3.2\"/>\n",
       "<circle clip-path=\"url(#clip262)\" cx=\"1677.06\" cy=\"453.2\" r=\"14.4\" fill=\"#009af9\" fill-rule=\"evenodd\" fill-opacity=\"1\" stroke=\"#000000\" stroke-opacity=\"1\" stroke-width=\"3.2\"/>\n",
       "<circle clip-path=\"url(#clip262)\" cx=\"1305.66\" cy=\"453.399\" r=\"14.4\" fill=\"#009af9\" fill-rule=\"evenodd\" fill-opacity=\"1\" stroke=\"#000000\" stroke-opacity=\"1\" stroke-width=\"3.2\"/>\n",
       "<circle clip-path=\"url(#clip262)\" cx=\"884.149\" cy=\"453.399\" r=\"14.4\" fill=\"#009af9\" fill-rule=\"evenodd\" fill-opacity=\"1\" stroke=\"#000000\" stroke-opacity=\"1\" stroke-width=\"3.2\"/>\n",
       "<circle clip-path=\"url(#clip262)\" cx=\"1641.72\" cy=\"453.481\" r=\"14.4\" fill=\"#009af9\" fill-rule=\"evenodd\" fill-opacity=\"1\" stroke=\"#000000\" stroke-opacity=\"1\" stroke-width=\"3.2\"/>\n",
       "<circle clip-path=\"url(#clip262)\" cx=\"2014.31\" cy=\"454.076\" r=\"14.4\" fill=\"#009af9\" fill-rule=\"evenodd\" fill-opacity=\"1\" stroke=\"#000000\" stroke-opacity=\"1\" stroke-width=\"3.2\"/>\n",
       "<circle clip-path=\"url(#clip262)\" cx=\"2039.09\" cy=\"454.197\" r=\"14.4\" fill=\"#009af9\" fill-rule=\"evenodd\" fill-opacity=\"1\" stroke=\"#000000\" stroke-opacity=\"1\" stroke-width=\"3.2\"/>\n",
       "<circle clip-path=\"url(#clip262)\" cx=\"2136.84\" cy=\"454.268\" r=\"14.4\" fill=\"#009af9\" fill-rule=\"evenodd\" fill-opacity=\"1\" stroke=\"#000000\" stroke-opacity=\"1\" stroke-width=\"3.2\"/>\n",
       "<circle clip-path=\"url(#clip262)\" cx=\"1138.16\" cy=\"454.906\" r=\"14.4\" fill=\"#009af9\" fill-rule=\"evenodd\" fill-opacity=\"1\" stroke=\"#000000\" stroke-opacity=\"1\" stroke-width=\"3.2\"/>\n",
       "<circle clip-path=\"url(#clip262)\" cx=\"1720.61\" cy=\"454.997\" r=\"14.4\" fill=\"#009af9\" fill-rule=\"evenodd\" fill-opacity=\"1\" stroke=\"#000000\" stroke-opacity=\"1\" stroke-width=\"3.2\"/>\n",
       "<circle clip-path=\"url(#clip262)\" cx=\"1247.59\" cy=\"454.997\" r=\"14.4\" fill=\"#009af9\" fill-rule=\"evenodd\" fill-opacity=\"1\" stroke=\"#000000\" stroke-opacity=\"1\" stroke-width=\"3.2\"/>\n",
       "<circle clip-path=\"url(#clip262)\" cx=\"1212.79\" cy=\"455.354\" r=\"14.4\" fill=\"#009af9\" fill-rule=\"evenodd\" fill-opacity=\"1\" stroke=\"#000000\" stroke-opacity=\"1\" stroke-width=\"3.2\"/>\n",
       "<circle clip-path=\"url(#clip262)\" cx=\"1591.58\" cy=\"455.468\" r=\"14.4\" fill=\"#009af9\" fill-rule=\"evenodd\" fill-opacity=\"1\" stroke=\"#000000\" stroke-opacity=\"1\" stroke-width=\"3.2\"/>\n",
       "<circle clip-path=\"url(#clip262)\" cx=\"1772.55\" cy=\"456.261\" r=\"14.4\" fill=\"#009af9\" fill-rule=\"evenodd\" fill-opacity=\"1\" stroke=\"#000000\" stroke-opacity=\"1\" stroke-width=\"3.2\"/>\n",
       "<circle clip-path=\"url(#clip262)\" cx=\"1522.63\" cy=\"457.458\" r=\"14.4\" fill=\"#009af9\" fill-rule=\"evenodd\" fill-opacity=\"1\" stroke=\"#000000\" stroke-opacity=\"1\" stroke-width=\"3.2\"/>\n",
       "<circle clip-path=\"url(#clip262)\" cx=\"1085.66\" cy=\"457.483\" r=\"14.4\" fill=\"#009af9\" fill-rule=\"evenodd\" fill-opacity=\"1\" stroke=\"#000000\" stroke-opacity=\"1\" stroke-width=\"3.2\"/>\n",
       "<circle clip-path=\"url(#clip262)\" cx=\"1462.5\" cy=\"457.77\" r=\"14.4\" fill=\"#009af9\" fill-rule=\"evenodd\" fill-opacity=\"1\" stroke=\"#000000\" stroke-opacity=\"1\" stroke-width=\"3.2\"/>\n",
       "<circle clip-path=\"url(#clip262)\" cx=\"1771.04\" cy=\"457.902\" r=\"14.4\" fill=\"#009af9\" fill-rule=\"evenodd\" fill-opacity=\"1\" stroke=\"#000000\" stroke-opacity=\"1\" stroke-width=\"3.2\"/>\n",
       "<circle clip-path=\"url(#clip262)\" cx=\"1729.2\" cy=\"458.353\" r=\"14.4\" fill=\"#009af9\" fill-rule=\"evenodd\" fill-opacity=\"1\" stroke=\"#000000\" stroke-opacity=\"1\" stroke-width=\"3.2\"/>\n",
       "<circle clip-path=\"url(#clip262)\" cx=\"1382.64\" cy=\"459.245\" r=\"14.4\" fill=\"#009af9\" fill-rule=\"evenodd\" fill-opacity=\"1\" stroke=\"#000000\" stroke-opacity=\"1\" stroke-width=\"3.2\"/>\n",
       "<circle clip-path=\"url(#clip262)\" cx=\"1210.94\" cy=\"459.328\" r=\"14.4\" fill=\"#009af9\" fill-rule=\"evenodd\" fill-opacity=\"1\" stroke=\"#000000\" stroke-opacity=\"1\" stroke-width=\"3.2\"/>\n",
       "<circle clip-path=\"url(#clip262)\" cx=\"1977.08\" cy=\"459.546\" r=\"14.4\" fill=\"#009af9\" fill-rule=\"evenodd\" fill-opacity=\"1\" stroke=\"#000000\" stroke-opacity=\"1\" stroke-width=\"3.2\"/>\n",
       "<circle clip-path=\"url(#clip262)\" cx=\"1584.59\" cy=\"459.635\" r=\"14.4\" fill=\"#009af9\" fill-rule=\"evenodd\" fill-opacity=\"1\" stroke=\"#000000\" stroke-opacity=\"1\" stroke-width=\"3.2\"/>\n",
       "<circle clip-path=\"url(#clip262)\" cx=\"1888.54\" cy=\"459.926\" r=\"14.4\" fill=\"#009af9\" fill-rule=\"evenodd\" fill-opacity=\"1\" stroke=\"#000000\" stroke-opacity=\"1\" stroke-width=\"3.2\"/>\n",
       "<circle clip-path=\"url(#clip262)\" cx=\"1506.66\" cy=\"461.057\" r=\"14.4\" fill=\"#009af9\" fill-rule=\"evenodd\" fill-opacity=\"1\" stroke=\"#000000\" stroke-opacity=\"1\" stroke-width=\"3.2\"/>\n",
       "<circle clip-path=\"url(#clip262)\" cx=\"1860.58\" cy=\"461.097\" r=\"14.4\" fill=\"#009af9\" fill-rule=\"evenodd\" fill-opacity=\"1\" stroke=\"#000000\" stroke-opacity=\"1\" stroke-width=\"3.2\"/>\n",
       "<circle clip-path=\"url(#clip262)\" cx=\"1464.22\" cy=\"462.053\" r=\"14.4\" fill=\"#009af9\" fill-rule=\"evenodd\" fill-opacity=\"1\" stroke=\"#000000\" stroke-opacity=\"1\" stroke-width=\"3.2\"/>\n",
       "<circle clip-path=\"url(#clip262)\" cx=\"1742.54\" cy=\"462.116\" r=\"14.4\" fill=\"#009af9\" fill-rule=\"evenodd\" fill-opacity=\"1\" stroke=\"#000000\" stroke-opacity=\"1\" stroke-width=\"3.2\"/>\n",
       "<circle clip-path=\"url(#clip262)\" cx=\"1848.02\" cy=\"462.171\" r=\"14.4\" fill=\"#009af9\" fill-rule=\"evenodd\" fill-opacity=\"1\" stroke=\"#000000\" stroke-opacity=\"1\" stroke-width=\"3.2\"/>\n",
       "<circle clip-path=\"url(#clip262)\" cx=\"1769.59\" cy=\"463.491\" r=\"14.4\" fill=\"#009af9\" fill-rule=\"evenodd\" fill-opacity=\"1\" stroke=\"#000000\" stroke-opacity=\"1\" stroke-width=\"3.2\"/>\n",
       "<circle clip-path=\"url(#clip262)\" cx=\"1510.8\" cy=\"464.353\" r=\"14.4\" fill=\"#009af9\" fill-rule=\"evenodd\" fill-opacity=\"1\" stroke=\"#000000\" stroke-opacity=\"1\" stroke-width=\"3.2\"/>\n",
       "<circle clip-path=\"url(#clip262)\" cx=\"1525.05\" cy=\"464.606\" r=\"14.4\" fill=\"#009af9\" fill-rule=\"evenodd\" fill-opacity=\"1\" stroke=\"#000000\" stroke-opacity=\"1\" stroke-width=\"3.2\"/>\n",
       "<circle clip-path=\"url(#clip262)\" cx=\"1018.53\" cy=\"465.451\" r=\"14.4\" fill=\"#009af9\" fill-rule=\"evenodd\" fill-opacity=\"1\" stroke=\"#000000\" stroke-opacity=\"1\" stroke-width=\"3.2\"/>\n",
       "<circle clip-path=\"url(#clip262)\" cx=\"1809.24\" cy=\"468.02\" r=\"14.4\" fill=\"#009af9\" fill-rule=\"evenodd\" fill-opacity=\"1\" stroke=\"#000000\" stroke-opacity=\"1\" stroke-width=\"3.2\"/>\n",
       "<circle clip-path=\"url(#clip262)\" cx=\"1872.08\" cy=\"468.252\" r=\"14.4\" fill=\"#009af9\" fill-rule=\"evenodd\" fill-opacity=\"1\" stroke=\"#000000\" stroke-opacity=\"1\" stroke-width=\"3.2\"/>\n",
       "<circle clip-path=\"url(#clip262)\" cx=\"2096.25\" cy=\"470.222\" r=\"14.4\" fill=\"#009af9\" fill-rule=\"evenodd\" fill-opacity=\"1\" stroke=\"#000000\" stroke-opacity=\"1\" stroke-width=\"3.2\"/>\n",
       "<circle clip-path=\"url(#clip262)\" cx=\"1839.92\" cy=\"470.675\" r=\"14.4\" fill=\"#009af9\" fill-rule=\"evenodd\" fill-opacity=\"1\" stroke=\"#000000\" stroke-opacity=\"1\" stroke-width=\"3.2\"/>\n",
       "<circle clip-path=\"url(#clip262)\" cx=\"2019.11\" cy=\"471.182\" r=\"14.4\" fill=\"#009af9\" fill-rule=\"evenodd\" fill-opacity=\"1\" stroke=\"#000000\" stroke-opacity=\"1\" stroke-width=\"3.2\"/>\n",
       "<circle clip-path=\"url(#clip262)\" cx=\"706.454\" cy=\"471.777\" r=\"14.4\" fill=\"#009af9\" fill-rule=\"evenodd\" fill-opacity=\"1\" stroke=\"#000000\" stroke-opacity=\"1\" stroke-width=\"3.2\"/>\n",
       "<circle clip-path=\"url(#clip262)\" cx=\"706.454\" cy=\"471.777\" r=\"14.4\" fill=\"#009af9\" fill-rule=\"evenodd\" fill-opacity=\"1\" stroke=\"#000000\" stroke-opacity=\"1\" stroke-width=\"3.2\"/>\n",
       "<circle clip-path=\"url(#clip262)\" cx=\"1611.55\" cy=\"472.796\" r=\"14.4\" fill=\"#009af9\" fill-rule=\"evenodd\" fill-opacity=\"1\" stroke=\"#000000\" stroke-opacity=\"1\" stroke-width=\"3.2\"/>\n",
       "<circle clip-path=\"url(#clip262)\" cx=\"1534.41\" cy=\"473.263\" r=\"14.4\" fill=\"#009af9\" fill-rule=\"evenodd\" fill-opacity=\"1\" stroke=\"#000000\" stroke-opacity=\"1\" stroke-width=\"3.2\"/>\n",
       "<circle clip-path=\"url(#clip262)\" cx=\"1246.08\" cy=\"475.163\" r=\"14.4\" fill=\"#009af9\" fill-rule=\"evenodd\" fill-opacity=\"1\" stroke=\"#000000\" stroke-opacity=\"1\" stroke-width=\"3.2\"/>\n",
       "<circle clip-path=\"url(#clip262)\" cx=\"1181.69\" cy=\"479.152\" r=\"14.4\" fill=\"#009af9\" fill-rule=\"evenodd\" fill-opacity=\"1\" stroke=\"#000000\" stroke-opacity=\"1\" stroke-width=\"3.2\"/>\n",
       "<circle clip-path=\"url(#clip262)\" cx=\"1686.11\" cy=\"479.843\" r=\"14.4\" fill=\"#009af9\" fill-rule=\"evenodd\" fill-opacity=\"1\" stroke=\"#000000\" stroke-opacity=\"1\" stroke-width=\"3.2\"/>\n",
       "<circle clip-path=\"url(#clip262)\" cx=\"1446.2\" cy=\"480.448\" r=\"14.4\" fill=\"#009af9\" fill-rule=\"evenodd\" fill-opacity=\"1\" stroke=\"#000000\" stroke-opacity=\"1\" stroke-width=\"3.2\"/>\n",
       "<circle clip-path=\"url(#clip262)\" cx=\"1940.01\" cy=\"482.576\" r=\"14.4\" fill=\"#009af9\" fill-rule=\"evenodd\" fill-opacity=\"1\" stroke=\"#000000\" stroke-opacity=\"1\" stroke-width=\"3.2\"/>\n",
       "<circle clip-path=\"url(#clip262)\" cx=\"1123.4\" cy=\"487.858\" r=\"14.4\" fill=\"#009af9\" fill-rule=\"evenodd\" fill-opacity=\"1\" stroke=\"#000000\" stroke-opacity=\"1\" stroke-width=\"3.2\"/>\n",
       "<circle clip-path=\"url(#clip262)\" cx=\"1553.4\" cy=\"488.037\" r=\"14.4\" fill=\"#009af9\" fill-rule=\"evenodd\" fill-opacity=\"1\" stroke=\"#000000\" stroke-opacity=\"1\" stroke-width=\"3.2\"/>\n",
       "<circle clip-path=\"url(#clip262)\" cx=\"1376.35\" cy=\"489.019\" r=\"14.4\" fill=\"#009af9\" fill-rule=\"evenodd\" fill-opacity=\"1\" stroke=\"#000000\" stroke-opacity=\"1\" stroke-width=\"3.2\"/>\n",
       "<circle clip-path=\"url(#clip262)\" cx=\"1056.48\" cy=\"492.09\" r=\"14.4\" fill=\"#009af9\" fill-rule=\"evenodd\" fill-opacity=\"1\" stroke=\"#000000\" stroke-opacity=\"1\" stroke-width=\"3.2\"/>\n",
       "<circle clip-path=\"url(#clip262)\" cx=\"1455.67\" cy=\"492.883\" r=\"14.4\" fill=\"#009af9\" fill-rule=\"evenodd\" fill-opacity=\"1\" stroke=\"#000000\" stroke-opacity=\"1\" stroke-width=\"3.2\"/>\n",
       "<circle clip-path=\"url(#clip262)\" cx=\"1015.68\" cy=\"493.219\" r=\"14.4\" fill=\"#009af9\" fill-rule=\"evenodd\" fill-opacity=\"1\" stroke=\"#000000\" stroke-opacity=\"1\" stroke-width=\"3.2\"/>\n",
       "<circle clip-path=\"url(#clip262)\" cx=\"1610.54\" cy=\"494.174\" r=\"14.4\" fill=\"#009af9\" fill-rule=\"evenodd\" fill-opacity=\"1\" stroke=\"#000000\" stroke-opacity=\"1\" stroke-width=\"3.2\"/>\n",
       "<circle clip-path=\"url(#clip262)\" cx=\"1234.33\" cy=\"496.54\" r=\"14.4\" fill=\"#009af9\" fill-rule=\"evenodd\" fill-opacity=\"1\" stroke=\"#000000\" stroke-opacity=\"1\" stroke-width=\"3.2\"/>\n",
       "<circle clip-path=\"url(#clip262)\" cx=\"1253.49\" cy=\"496.642\" r=\"14.4\" fill=\"#009af9\" fill-rule=\"evenodd\" fill-opacity=\"1\" stroke=\"#000000\" stroke-opacity=\"1\" stroke-width=\"3.2\"/>\n",
       "<circle clip-path=\"url(#clip262)\" cx=\"1509.98\" cy=\"497.947\" r=\"14.4\" fill=\"#009af9\" fill-rule=\"evenodd\" fill-opacity=\"1\" stroke=\"#000000\" stroke-opacity=\"1\" stroke-width=\"3.2\"/>\n",
       "<circle clip-path=\"url(#clip262)\" cx=\"1275.26\" cy=\"500.366\" r=\"14.4\" fill=\"#009af9\" fill-rule=\"evenodd\" fill-opacity=\"1\" stroke=\"#000000\" stroke-opacity=\"1\" stroke-width=\"3.2\"/>\n",
       "<circle clip-path=\"url(#clip262)\" cx=\"1112.26\" cy=\"502.408\" r=\"14.4\" fill=\"#009af9\" fill-rule=\"evenodd\" fill-opacity=\"1\" stroke=\"#000000\" stroke-opacity=\"1\" stroke-width=\"3.2\"/>\n",
       "<circle clip-path=\"url(#clip262)\" cx=\"980.729\" cy=\"505.908\" r=\"14.4\" fill=\"#009af9\" fill-rule=\"evenodd\" fill-opacity=\"1\" stroke=\"#000000\" stroke-opacity=\"1\" stroke-width=\"3.2\"/>\n",
       "<circle clip-path=\"url(#clip262)\" cx=\"737.92\" cy=\"514.66\" r=\"14.4\" fill=\"#009af9\" fill-rule=\"evenodd\" fill-opacity=\"1\" stroke=\"#000000\" stroke-opacity=\"1\" stroke-width=\"3.2\"/>\n",
       "<circle clip-path=\"url(#clip262)\" cx=\"667.943\" cy=\"568.262\" r=\"14.4\" fill=\"#009af9\" fill-rule=\"evenodd\" fill-opacity=\"1\" stroke=\"#000000\" stroke-opacity=\"1\" stroke-width=\"3.2\"/>\n",
       "<circle clip-path=\"url(#clip262)\" cx=\"798.031\" cy=\"615.559\" r=\"14.4\" fill=\"#009af9\" fill-rule=\"evenodd\" fill-opacity=\"1\" stroke=\"#000000\" stroke-opacity=\"1\" stroke-width=\"3.2\"/>\n",
       "<circle clip-path=\"url(#clip262)\" cx=\"1021.34\" cy=\"646.073\" r=\"14.4\" fill=\"#009af9\" fill-rule=\"evenodd\" fill-opacity=\"1\" stroke=\"#000000\" stroke-opacity=\"1\" stroke-width=\"3.2\"/>\n",
       "<circle clip-path=\"url(#clip262)\" cx=\"945.705\" cy=\"696.909\" r=\"14.4\" fill=\"#009af9\" fill-rule=\"evenodd\" fill-opacity=\"1\" stroke=\"#000000\" stroke-opacity=\"1\" stroke-width=\"3.2\"/>\n",
       "<circle clip-path=\"url(#clip262)\" cx=\"667.943\" cy=\"729.07\" r=\"14.4\" fill=\"#009af9\" fill-rule=\"evenodd\" fill-opacity=\"1\" stroke=\"#000000\" stroke-opacity=\"1\" stroke-width=\"3.2\"/>\n",
       "<circle clip-path=\"url(#clip262)\" cx=\"737.92\" cy=\"729.07\" r=\"14.4\" fill=\"#009af9\" fill-rule=\"evenodd\" fill-opacity=\"1\" stroke=\"#000000\" stroke-opacity=\"1\" stroke-width=\"3.2\"/>\n",
       "<circle clip-path=\"url(#clip262)\" cx=\"428.692\" cy=\"729.07\" r=\"14.4\" fill=\"#009af9\" fill-rule=\"evenodd\" fill-opacity=\"1\" stroke=\"#000000\" stroke-opacity=\"1\" stroke-width=\"3.2\"/>\n",
       "<circle clip-path=\"url(#clip262)\" cx=\"850.2\" cy=\"757.037\" r=\"14.4\" fill=\"#009af9\" fill-rule=\"evenodd\" fill-opacity=\"1\" stroke=\"#000000\" stroke-opacity=\"1\" stroke-width=\"3.2\"/>\n",
       "<circle clip-path=\"url(#clip262)\" cx=\"737.92\" cy=\"836.276\" r=\"14.4\" fill=\"#009af9\" fill-rule=\"evenodd\" fill-opacity=\"1\" stroke=\"#000000\" stroke-opacity=\"1\" stroke-width=\"3.2\"/>\n",
       "<circle clip-path=\"url(#clip262)\" cx=\"309.067\" cy=\"1372.3\" r=\"14.4\" fill=\"#009af9\" fill-rule=\"evenodd\" fill-opacity=\"1\" stroke=\"#000000\" stroke-opacity=\"1\" stroke-width=\"3.2\"/>\n",
       "<circle clip-path=\"url(#clip262)\" cx=\"428.692\" cy=\"1372.3\" r=\"14.4\" fill=\"#009af9\" fill-rule=\"evenodd\" fill-opacity=\"1\" stroke=\"#000000\" stroke-opacity=\"1\" stroke-width=\"3.2\"/>\n",
       "<circle clip-path=\"url(#clip262)\" cx=\"309.067\" cy=\"1372.3\" r=\"14.4\" fill=\"#009af9\" fill-rule=\"evenodd\" fill-opacity=\"1\" stroke=\"#000000\" stroke-opacity=\"1\" stroke-width=\"3.2\"/>\n",
       "</svg>\n"
      ]
     },
     "execution_count": 96,
     "metadata": {},
     "output_type": "execute_result"
    }
   ],
   "source": [
    "scatter(df4.nrow, df4.MeanHighPopularity,\n",
    "        xlabel=\"number of puzzles\",\n",
    "        ylabel=\"probability of above average popularity\",\n",
    "        label=nothing,\n",
    "        xaxis=:log)"
   ]
  },
  {
   "cell_type": "markdown",
   "metadata": {},
   "source": [
    "How can we take into account not only deviation from the population mean of a given opening but only number of times it was played? Let me pick a simplest approach here using the `BinomialTest`. In the results we see that the results for Caro-Kann Defense are indeed most surprising."
   ]
  },
  {
   "cell_type": "code",
   "execution_count": 97,
   "metadata": {},
   "outputs": [
    {
     "data": {
      "text/html": [
       "<div class=\"data-frame\"><p>147 rows × 4 columns</p><table class=\"data-frame\"><thead><tr><th></th><th>OpeningFamily</th><th>nrow</th><th>DevMeanHighPopularity</th><th>pvalue</th></tr><tr><th></th><th title=\"String\">String</th><th title=\"Int64\">Int64</th><th title=\"Float64\">Float64</th><th title=\"Float64\">Float64</th></tr></thead><tbody><tr><th>1</th><td>Caro-Kann_Defense</td><td>27175</td><td>0.0208433</td><td>1.77125e-14</td></tr><tr><th>2</th><td>Philidor_Defense</td><td>12711</td><td>-0.0238896</td><td>3.3513e-9</td></tr><tr><th>3</th><td>Italian_Game</td><td>31430</td><td>-0.0142863</td><td>2.39405e-8</td></tr><tr><th>4</th><td>Catalan_Opening</td><td>923</td><td>0.0689034</td><td>2.28776e-6</td></tr><tr><th>5</th><td>Ruy_Lopez</td><td>20101</td><td>-0.0150326</td><td>2.69364e-6</td></tr><tr><th>6</th><td>Vienna_Game</td><td>6552</td><td>0.0245841</td><td>9.21446e-6</td></tr><tr><th>7</th><td>Kings_Indian_Defense</td><td>6610</td><td>0.0180902</td><td>0.00109228</td></tr><tr><th>8</th><td>Nimzo-Larsen_Attack</td><td>4567</td><td>0.0215312</td><td>0.00123113</td></tr><tr><th>9</th><td>Scandinavian_Defense</td><td>21695</td><td>0.00978703</td><td>0.00138542</td></tr><tr><th>10</th><td>Blackmar-Diemer_Gambit</td><td>1884</td><td>-0.0329051</td><td>0.00187296</td></tr><tr><th>11</th><td>Englund_Gambit_Complex</td><td>2186</td><td>0.028329</td><td>0.00329228</td></tr><tr><th>12</th><td>Englund_Gambit</td><td>1739</td><td>0.0303356</td><td>0.00503737</td></tr><tr><th>&vellip;</th><td>&vellip;</td><td>&vellip;</td><td>&vellip;</td><td>&vellip;</td></tr></tbody></table></div>"
      ],
      "text/latex": [
       "\\begin{tabular}{r|cccc}\n",
       "\t& OpeningFamily & nrow & DevMeanHighPopularity & pvalue\\\\\n",
       "\t\\hline\n",
       "\t& String & Int64 & Float64 & Float64\\\\\n",
       "\t\\hline\n",
       "\t1 & Caro-Kann\\_Defense & 27175 & 0.0208433 & 1.77125e-14 \\\\\n",
       "\t2 & Philidor\\_Defense & 12711 & -0.0238896 & 3.3513e-9 \\\\\n",
       "\t3 & Italian\\_Game & 31430 & -0.0142863 & 2.39405e-8 \\\\\n",
       "\t4 & Catalan\\_Opening & 923 & 0.0689034 & 2.28776e-6 \\\\\n",
       "\t5 & Ruy\\_Lopez & 20101 & -0.0150326 & 2.69364e-6 \\\\\n",
       "\t6 & Vienna\\_Game & 6552 & 0.0245841 & 9.21446e-6 \\\\\n",
       "\t7 & Kings\\_Indian\\_Defense & 6610 & 0.0180902 & 0.00109228 \\\\\n",
       "\t8 & Nimzo-Larsen\\_Attack & 4567 & 0.0215312 & 0.00123113 \\\\\n",
       "\t9 & Scandinavian\\_Defense & 21695 & 0.00978703 & 0.00138542 \\\\\n",
       "\t10 & Blackmar-Diemer\\_Gambit & 1884 & -0.0329051 & 0.00187296 \\\\\n",
       "\t11 & Englund\\_Gambit\\_Complex & 2186 & 0.028329 & 0.00329228 \\\\\n",
       "\t12 & Englund\\_Gambit & 1739 & 0.0303356 & 0.00503737 \\\\\n",
       "\t$\\dots$ & $\\dots$ & $\\dots$ & $\\dots$ & $\\dots$ \\\\\n",
       "\\end{tabular}\n"
      ],
      "text/plain": [
       "\u001b[1m147×4 DataFrame\u001b[0m\n",
       "\u001b[1m Row \u001b[0m│\u001b[1m OpeningFamily           \u001b[0m\u001b[1m nrow  \u001b[0m\u001b[1m DevMeanHighPopularity \u001b[0m\u001b[1m pvalue      \u001b[0m\n",
       "\u001b[1m     \u001b[0m│\u001b[90m String                  \u001b[0m\u001b[90m Int64 \u001b[0m\u001b[90m Float64               \u001b[0m\u001b[90m Float64     \u001b[0m\n",
       "─────┼────────────────────────────────────────────────────────────────────\n",
       "   1 │ Caro-Kann_Defense        27175             0.0208433   1.77125e-14\n",
       "   2 │ Philidor_Defense         12711            -0.0238896   3.3513e-9\n",
       "  ⋮  │            ⋮               ⋮              ⋮                 ⋮\n",
       " 147 │ Zukertort_Defense            2             0.284505    1.0\n",
       "\u001b[36m                                                          144 rows omitted\u001b[0m"
      ]
     },
     "execution_count": 97,
     "metadata": {},
     "output_type": "execute_result"
    }
   ],
   "source": [
    "df4 = @chain df begin\n",
    "    @select(:OpeningFamily, :HighPopularity = :Popularity .> mean(:Popularity))\n",
    "    @aside prob_high = mean(_.HighPopularity)\n",
    "    groupby(:OpeningFamily)\n",
    "    @combine($nrow,\n",
    "             :DevMeanHighPopularity = mean(:HighPopularity) - prob_high,\n",
    "             :pvalue = pvalue(BinomialTest(:HighPopularity, prob_high)))\n",
    "    sort(:pvalue)\n",
    "end"
   ]
  },
  {
   "cell_type": "markdown",
   "metadata": {},
   "source": [
    "To wrap-up our workshop let us plot the results again, now using color to highlight most surprising results."
   ]
  },
  {
   "cell_type": "code",
   "execution_count": 98,
   "metadata": {},
   "outputs": [
    {
     "data": {
      "image/svg+xml": [
       "<?xml version=\"1.0\" encoding=\"utf-8\"?>\n",
       "<svg xmlns=\"http://www.w3.org/2000/svg\" xmlns:xlink=\"http://www.w3.org/1999/xlink\" width=\"600\" height=\"400\" viewBox=\"0 0 2400 1600\">\n",
       "<defs>\n",
       "  <clipPath id=\"clip300\">\n",
       "    <rect x=\"0\" y=\"0\" width=\"2400\" height=\"1600\"/>\n",
       "  </clipPath>\n",
       "</defs>\n",
       "<path clip-path=\"url(#clip300)\" d=\"\n",
       "M0 1600 L2400 1600 L2400 0 L0 0  Z\n",
       "  \" fill=\"#ffffff\" fill-rule=\"evenodd\" fill-opacity=\"1\"/>\n",
       "<defs>\n",
       "  <clipPath id=\"clip301\">\n",
       "    <rect x=\"480\" y=\"0\" width=\"1681\" height=\"1600\"/>\n",
       "  </clipPath>\n",
       "</defs>\n",
       "<path clip-path=\"url(#clip300)\" d=\"\n",
       "M257.69 1410.9 L2112.76 1410.9 L2112.76 47.2441 L257.69 47.2441  Z\n",
       "  \" fill=\"#ffffff\" fill-rule=\"evenodd\" fill-opacity=\"1\"/>\n",
       "<defs>\n",
       "  <clipPath id=\"clip302\">\n",
       "    <rect x=\"257\" y=\"47\" width=\"1856\" height=\"1365\"/>\n",
       "  </clipPath>\n",
       "</defs>\n",
       "<polyline clip-path=\"url(#clip302)\" style=\"stroke:#000000; stroke-linecap:butt; stroke-linejoin:round; stroke-width:2; stroke-opacity:0.1; fill:none\" points=\"\n",
       "  310.192,1410.9 310.192,47.2441 \n",
       "  \"/>\n",
       "<polyline clip-path=\"url(#clip302)\" style=\"stroke:#000000; stroke-linecap:butt; stroke-linejoin:round; stroke-width:2; stroke-opacity:0.1; fill:none\" points=\"\n",
       "  1361.7,1410.9 1361.7,47.2441 \n",
       "  \"/>\n",
       "<polyline clip-path=\"url(#clip300)\" style=\"stroke:#000000; stroke-linecap:butt; stroke-linejoin:round; stroke-width:4; stroke-opacity:1; fill:none\" points=\"\n",
       "  257.69,1410.9 2112.76,1410.9 \n",
       "  \"/>\n",
       "<polyline clip-path=\"url(#clip300)\" style=\"stroke:#000000; stroke-linecap:butt; stroke-linejoin:round; stroke-width:4; stroke-opacity:1; fill:none\" points=\"\n",
       "  310.192,1410.9 310.192,1392 \n",
       "  \"/>\n",
       "<polyline clip-path=\"url(#clip300)\" style=\"stroke:#000000; stroke-linecap:butt; stroke-linejoin:round; stroke-width:4; stroke-opacity:1; fill:none\" points=\"\n",
       "  1361.7,1410.9 1361.7,1392 \n",
       "  \"/>\n",
       "<path clip-path=\"url(#clip300)\" d=\"M275.175 1485.02 L282.814 1485.02 L282.814 1458.66 L274.504 1460.32 L274.504 1456.06 L282.767 1454.4 L287.443 1454.4 L287.443 1485.02 L295.082 1485.02 L295.082 1488.96 L275.175 1488.96 L275.175 1485.02 Z\" fill=\"#000000\" fill-rule=\"evenodd\" fill-opacity=\"1\" /><path clip-path=\"url(#clip300)\" d=\"M314.526 1457.48 Q310.915 1457.48 309.087 1461.04 Q307.281 1464.58 307.281 1471.71 Q307.281 1478.82 309.087 1482.38 Q310.915 1485.92 314.526 1485.92 Q318.161 1485.92 319.966 1482.38 Q321.795 1478.82 321.795 1471.71 Q321.795 1464.58 319.966 1461.04 Q318.161 1457.48 314.526 1457.48 M314.526 1453.77 Q320.337 1453.77 323.392 1458.38 Q326.471 1462.96 326.471 1471.71 Q326.471 1480.44 323.392 1485.04 Q320.337 1489.63 314.526 1489.63 Q308.716 1489.63 305.638 1485.04 Q302.582 1480.44 302.582 1471.71 Q302.582 1462.96 305.638 1458.38 Q308.716 1453.77 314.526 1453.77 Z\" fill=\"#000000\" fill-rule=\"evenodd\" fill-opacity=\"1\" /><path clip-path=\"url(#clip300)\" d=\"M336.176 1435.97 Q333.242 1435.97 331.756 1438.86 Q330.289 1441.74 330.289 1447.53 Q330.289 1453.31 331.756 1456.2 Q333.242 1459.08 336.176 1459.08 Q339.128 1459.08 340.595 1456.2 Q342.081 1453.31 342.081 1447.53 Q342.081 1441.74 340.595 1438.86 Q339.128 1435.97 336.176 1435.97 M336.176 1432.96 Q340.896 1432.96 343.379 1436.7 Q345.88 1440.43 345.88 1447.53 Q345.88 1454.62 343.379 1458.37 Q340.896 1462.09 336.176 1462.09 Q331.455 1462.09 328.953 1458.37 Q326.471 1454.62 326.471 1447.53 Q326.471 1440.43 328.953 1436.7 Q331.455 1432.96 336.176 1432.96 Z\" fill=\"#000000\" fill-rule=\"evenodd\" fill-opacity=\"1\" /><path clip-path=\"url(#clip300)\" d=\"M1327.14 1485.02 L1334.78 1485.02 L1334.78 1458.66 L1326.47 1460.32 L1326.47 1456.06 L1334.73 1454.4 L1339.41 1454.4 L1339.41 1485.02 L1347.05 1485.02 L1347.05 1488.96 L1327.14 1488.96 L1327.14 1485.02 Z\" fill=\"#000000\" fill-rule=\"evenodd\" fill-opacity=\"1\" /><path clip-path=\"url(#clip300)\" d=\"M1366.49 1457.48 Q1362.88 1457.48 1361.05 1461.04 Q1359.25 1464.58 1359.25 1471.71 Q1359.25 1478.82 1361.05 1482.38 Q1362.88 1485.92 1366.49 1485.92 Q1370.13 1485.92 1371.93 1482.38 Q1373.76 1478.82 1373.76 1471.71 Q1373.76 1464.58 1371.93 1461.04 Q1370.13 1457.48 1366.49 1457.48 M1366.49 1453.77 Q1372.3 1453.77 1375.36 1458.38 Q1378.44 1462.96 1378.44 1471.71 Q1378.44 1480.44 1375.36 1485.04 Q1372.3 1489.63 1366.49 1489.63 Q1360.68 1489.63 1357.6 1485.04 Q1354.55 1480.44 1354.55 1471.71 Q1354.55 1462.96 1357.6 1458.38 Q1360.68 1453.77 1366.49 1453.77 Z\" fill=\"#000000\" fill-rule=\"evenodd\" fill-opacity=\"1\" /><path clip-path=\"url(#clip300)\" d=\"M1391.13 1446.41 Q1393.86 1446.99 1395.38 1448.83 Q1396.92 1450.68 1396.92 1453.38 Q1396.92 1457.54 1394.06 1459.82 Q1391.21 1462.09 1385.94 1462.09 Q1384.17 1462.09 1382.29 1461.73 Q1380.43 1461.4 1378.44 1460.7 L1378.44 1457.03 Q1380.02 1457.95 1381.9 1458.42 Q1383.78 1458.89 1385.83 1458.89 Q1389.4 1458.89 1391.26 1457.48 Q1393.14 1456.07 1393.14 1453.38 Q1393.14 1450.9 1391.39 1449.51 Q1389.66 1448.1 1386.56 1448.1 L1383.29 1448.1 L1383.29 1444.98 L1386.71 1444.98 Q1389.51 1444.98 1391 1443.87 Q1392.48 1442.74 1392.48 1440.63 Q1392.48 1438.47 1390.94 1437.32 Q1389.42 1436.16 1386.56 1436.16 Q1385 1436.16 1383.21 1436.49 Q1381.43 1436.83 1379.28 1437.55 L1379.28 1434.16 Q1381.44 1433.56 1383.33 1433.26 Q1385.23 1432.96 1386.9 1432.96 Q1391.22 1432.96 1393.75 1434.93 Q1396.27 1436.89 1396.27 1440.24 Q1396.27 1442.57 1394.93 1444.19 Q1393.59 1445.79 1391.13 1446.41 Z\" fill=\"#000000\" fill-rule=\"evenodd\" fill-opacity=\"1\" /><path clip-path=\"url(#clip300)\" d=\"M918.643 1552.67 L918.643 1574.19 L912.787 1574.19 L912.787 1552.86 Q912.787 1547.8 910.813 1545.29 Q908.84 1542.77 904.893 1542.77 Q900.151 1542.77 897.414 1545.79 Q894.676 1548.82 894.676 1554.04 L894.676 1574.19 L888.788 1574.19 L888.788 1538.54 L894.676 1538.54 L894.676 1544.08 Q896.777 1540.86 899.61 1539.27 Q902.474 1537.68 906.198 1537.68 Q912.341 1537.68 915.492 1541.5 Q918.643 1545.29 918.643 1552.67 Z\" fill=\"#000000\" fill-rule=\"evenodd\" fill-opacity=\"1\" /><path clip-path=\"url(#clip300)\" d=\"M929.719 1560.12 L929.719 1538.54 L935.576 1538.54 L935.576 1559.89 Q935.576 1564.96 937.549 1567.5 Q939.523 1570.02 943.469 1570.02 Q948.212 1570.02 950.949 1566.99 Q953.718 1563.97 953.718 1558.75 L953.718 1538.54 L959.575 1538.54 L959.575 1574.19 L953.718 1574.19 L953.718 1568.71 Q951.586 1571.96 948.753 1573.55 Q945.952 1575.11 942.228 1575.11 Q936.085 1575.11 932.902 1571.29 Q929.719 1567.47 929.719 1560.12 M944.456 1537.68 L944.456 1537.68 Z\" fill=\"#000000\" fill-rule=\"evenodd\" fill-opacity=\"1\" /><path clip-path=\"url(#clip300)\" d=\"M999.392 1545.38 Q1001.59 1541.43 1004.64 1539.56 Q1007.7 1537.68 1011.84 1537.68 Q1017.41 1537.68 1020.43 1541.59 Q1023.45 1545.48 1023.45 1552.67 L1023.45 1574.19 L1017.57 1574.19 L1017.57 1552.86 Q1017.57 1547.74 1015.75 1545.25 Q1013.94 1542.77 1010.21 1542.77 Q1005.66 1542.77 1003.02 1545.79 Q1000.38 1548.82 1000.38 1554.04 L1000.38 1574.19 L994.491 1574.19 L994.491 1552.86 Q994.491 1547.7 992.676 1545.25 Q990.862 1542.77 987.074 1542.77 Q982.587 1542.77 979.945 1545.83 Q977.303 1548.85 977.303 1554.04 L977.303 1574.19 L971.415 1574.19 L971.415 1538.54 L977.303 1538.54 L977.303 1544.08 Q979.308 1540.8 982.109 1539.24 Q984.91 1537.68 988.761 1537.68 Q992.644 1537.68 995.35 1539.65 Q998.087 1541.62 999.392 1545.38 Z\" fill=\"#000000\" fill-rule=\"evenodd\" fill-opacity=\"1\" /><path clip-path=\"url(#clip300)\" d=\"M1060.73 1556.39 Q1060.73 1549.93 1058.05 1546.27 Q1055.41 1542.58 1050.76 1542.58 Q1046.12 1542.58 1043.44 1546.27 Q1040.8 1549.93 1040.8 1556.39 Q1040.8 1562.85 1043.44 1566.55 Q1046.12 1570.21 1050.76 1570.21 Q1055.41 1570.21 1058.05 1566.55 Q1060.73 1562.85 1060.73 1556.39 M1040.8 1543.95 Q1042.65 1540.77 1045.45 1539.24 Q1048.28 1537.68 1052.2 1537.68 Q1058.69 1537.68 1062.73 1542.83 Q1066.8 1547.99 1066.8 1556.39 Q1066.8 1564.8 1062.73 1569.95 Q1058.69 1575.11 1052.2 1575.11 Q1048.28 1575.11 1045.45 1573.58 Q1042.65 1572.02 1040.8 1568.84 L1040.8 1574.19 L1034.91 1574.19 L1034.91 1524.66 L1040.8 1524.66 L1040.8 1543.95 Z\" fill=\"#000000\" fill-rule=\"evenodd\" fill-opacity=\"1\" /><path clip-path=\"url(#clip300)\" d=\"M1107 1554.9 L1107 1557.76 L1080.08 1557.76 Q1080.46 1563.81 1083.71 1566.99 Q1086.98 1570.14 1092.81 1570.14 Q1096.18 1570.14 1099.33 1569.32 Q1102.52 1568.49 1105.64 1566.83 L1105.64 1572.37 Q1102.48 1573.71 1099.17 1574.41 Q1095.86 1575.11 1092.46 1575.11 Q1083.93 1575.11 1078.93 1570.14 Q1073.97 1565.18 1073.97 1556.71 Q1073.97 1547.96 1078.68 1542.83 Q1083.42 1537.68 1091.44 1537.68 Q1098.63 1537.68 1102.8 1542.33 Q1107 1546.94 1107 1554.9 M1101.15 1553.18 Q1101.08 1548.37 1098.44 1545.51 Q1095.83 1542.64 1091.5 1542.64 Q1086.6 1542.64 1083.64 1545.41 Q1080.71 1548.18 1080.27 1553.21 L1101.15 1553.18 Z\" fill=\"#000000\" fill-rule=\"evenodd\" fill-opacity=\"1\" /><path clip-path=\"url(#clip300)\" d=\"M1137.27 1544.01 Q1136.29 1543.44 1135.11 1543.18 Q1133.96 1542.9 1132.56 1542.9 Q1127.6 1542.9 1124.92 1546.14 Q1122.28 1549.36 1122.28 1555.41 L1122.28 1574.19 L1116.39 1574.19 L1116.39 1538.54 L1122.28 1538.54 L1122.28 1544.08 Q1124.13 1540.83 1127.09 1539.27 Q1130.05 1537.68 1134.28 1537.68 Q1134.89 1537.68 1135.62 1537.77 Q1136.35 1537.84 1137.24 1538 L1137.27 1544.01 Z\" fill=\"#000000\" fill-rule=\"evenodd\" fill-opacity=\"1\" /><path clip-path=\"url(#clip300)\" d=\"M1177.95 1542.64 Q1173.24 1542.64 1170.5 1546.34 Q1167.77 1550 1167.77 1556.39 Q1167.77 1562.79 1170.47 1566.48 Q1173.21 1570.14 1177.95 1570.14 Q1182.63 1570.14 1185.37 1566.45 Q1188.1 1562.76 1188.1 1556.39 Q1188.1 1550.06 1185.37 1546.37 Q1182.63 1542.64 1177.95 1542.64 M1177.95 1537.68 Q1185.59 1537.68 1189.95 1542.64 Q1194.31 1547.61 1194.31 1556.39 Q1194.31 1565.15 1189.95 1570.14 Q1185.59 1575.11 1177.95 1575.11 Q1170.28 1575.11 1165.92 1570.14 Q1161.59 1565.15 1161.59 1556.39 Q1161.59 1547.61 1165.92 1542.64 Q1170.28 1537.68 1177.95 1537.68 Z\" fill=\"#000000\" fill-rule=\"evenodd\" fill-opacity=\"1\" /><path clip-path=\"url(#clip300)\" d=\"M1222.06 1524.66 L1222.06 1529.53 L1216.46 1529.53 Q1213.31 1529.53 1212.07 1530.8 Q1210.86 1532.08 1210.86 1535.39 L1210.86 1538.54 L1220.5 1538.54 L1220.5 1543.09 L1210.86 1543.09 L1210.86 1574.19 L1204.97 1574.19 L1204.97 1543.09 L1199.37 1543.09 L1199.37 1538.54 L1204.97 1538.54 L1204.97 1536.05 Q1204.97 1530.1 1207.74 1527.4 Q1210.51 1524.66 1216.53 1524.66 L1222.06 1524.66 Z\" fill=\"#000000\" fill-rule=\"evenodd\" fill-opacity=\"1\" /><path clip-path=\"url(#clip300)\" d=\"M1253.35 1568.84 L1253.35 1587.74 L1247.46 1587.74 L1247.46 1538.54 L1253.35 1538.54 L1253.35 1543.95 Q1255.2 1540.77 1258 1539.24 Q1260.83 1537.68 1264.75 1537.68 Q1271.24 1537.68 1275.28 1542.83 Q1279.36 1547.99 1279.36 1556.39 Q1279.36 1564.8 1275.28 1569.95 Q1271.24 1575.11 1264.75 1575.11 Q1260.83 1575.11 1258 1573.58 Q1255.2 1572.02 1253.35 1568.84 M1273.28 1556.39 Q1273.28 1549.93 1270.6 1546.27 Q1267.96 1542.58 1263.31 1542.58 Q1258.67 1542.58 1255.99 1546.27 Q1253.35 1549.93 1253.35 1556.39 Q1253.35 1562.85 1255.99 1566.55 Q1258.67 1570.21 1263.31 1570.21 Q1267.96 1570.21 1270.6 1566.55 Q1273.28 1562.85 1273.28 1556.39 Z\" fill=\"#000000\" fill-rule=\"evenodd\" fill-opacity=\"1\" /><path clip-path=\"url(#clip300)\" d=\"M1288.46 1560.12 L1288.46 1538.54 L1294.32 1538.54 L1294.32 1559.89 Q1294.32 1564.96 1296.29 1567.5 Q1298.26 1570.02 1302.21 1570.02 Q1306.95 1570.02 1309.69 1566.99 Q1312.46 1563.97 1312.46 1558.75 L1312.46 1538.54 L1318.31 1538.54 L1318.31 1574.19 L1312.46 1574.19 L1312.46 1568.71 Q1310.33 1571.96 1307.49 1573.55 Q1304.69 1575.11 1300.97 1575.11 Q1294.82 1575.11 1291.64 1571.29 Q1288.46 1567.47 1288.46 1560.12 M1303.2 1537.68 L1303.2 1537.68 Z\" fill=\"#000000\" fill-rule=\"evenodd\" fill-opacity=\"1\" /><path clip-path=\"url(#clip300)\" d=\"M1327.83 1538.54 L1355.65 1538.54 L1355.65 1543.88 L1333.62 1569.51 L1355.65 1569.51 L1355.65 1574.19 L1327.04 1574.19 L1327.04 1568.84 L1349.06 1543.22 L1327.83 1543.22 L1327.83 1538.54 Z\" fill=\"#000000\" fill-rule=\"evenodd\" fill-opacity=\"1\" /><path clip-path=\"url(#clip300)\" d=\"M1362.05 1538.54 L1389.86 1538.54 L1389.86 1543.88 L1367.84 1569.51 L1389.86 1569.51 L1389.86 1574.19 L1361.25 1574.19 L1361.25 1568.84 L1383.28 1543.22 L1362.05 1543.22 L1362.05 1538.54 Z\" fill=\"#000000\" fill-rule=\"evenodd\" fill-opacity=\"1\" /><path clip-path=\"url(#clip300)\" d=\"M1398.81 1524.66 L1404.66 1524.66 L1404.66 1574.19 L1398.81 1574.19 L1398.81 1524.66 Z\" fill=\"#000000\" fill-rule=\"evenodd\" fill-opacity=\"1\" /><path clip-path=\"url(#clip300)\" d=\"M1447.41 1554.9 L1447.41 1557.76 L1420.48 1557.76 Q1420.87 1563.81 1424.11 1566.99 Q1427.39 1570.14 1433.22 1570.14 Q1436.59 1570.14 1439.74 1569.32 Q1442.92 1568.49 1446.04 1566.83 L1446.04 1572.37 Q1442.89 1573.71 1439.58 1574.41 Q1436.27 1575.11 1432.86 1575.11 Q1424.33 1575.11 1419.34 1570.14 Q1414.37 1565.18 1414.37 1556.71 Q1414.37 1547.96 1419.08 1542.83 Q1423.83 1537.68 1431.85 1537.68 Q1439.04 1537.68 1443.21 1542.33 Q1447.41 1546.94 1447.41 1554.9 M1441.55 1553.18 Q1441.49 1548.37 1438.85 1545.51 Q1436.24 1542.64 1431.91 1542.64 Q1427.01 1542.64 1424.05 1545.41 Q1421.12 1548.18 1420.67 1553.21 L1441.55 1553.18 Z\" fill=\"#000000\" fill-rule=\"evenodd\" fill-opacity=\"1\" /><path clip-path=\"url(#clip300)\" d=\"M1479.75 1539.59 L1479.75 1545.13 Q1477.27 1543.85 1474.59 1543.22 Q1471.92 1542.58 1469.05 1542.58 Q1464.69 1542.58 1462.5 1543.92 Q1460.33 1545.25 1460.33 1547.93 Q1460.33 1549.96 1461.89 1551.14 Q1463.45 1552.29 1468.16 1553.34 L1470.17 1553.78 Q1476.41 1555.12 1479.02 1557.57 Q1481.66 1559.99 1481.66 1564.35 Q1481.66 1569.32 1477.71 1572.21 Q1473.8 1575.11 1466.92 1575.11 Q1464.06 1575.11 1460.94 1574.54 Q1457.85 1573.99 1454.41 1572.88 L1454.41 1566.83 Q1457.66 1568.52 1460.81 1569.38 Q1463.96 1570.21 1467.05 1570.21 Q1471.19 1570.21 1473.41 1568.81 Q1475.64 1567.37 1475.64 1564.8 Q1475.64 1562.41 1474.02 1561.14 Q1472.43 1559.86 1466.99 1558.68 L1464.95 1558.21 Q1459.51 1557.06 1457.09 1554.71 Q1454.67 1552.32 1454.67 1548.18 Q1454.67 1543.15 1458.23 1540.42 Q1461.8 1537.68 1468.35 1537.68 Q1471.6 1537.68 1474.46 1538.16 Q1477.33 1538.63 1479.75 1539.59 Z\" fill=\"#000000\" fill-rule=\"evenodd\" fill-opacity=\"1\" /><polyline clip-path=\"url(#clip302)\" style=\"stroke:#000000; stroke-linecap:butt; stroke-linejoin:round; stroke-width:2; stroke-opacity:0.1; fill:none\" points=\"\n",
       "  257.69,1223.72 2112.76,1223.72 \n",
       "  \"/>\n",
       "<polyline clip-path=\"url(#clip302)\" style=\"stroke:#000000; stroke-linecap:butt; stroke-linejoin:round; stroke-width:2; stroke-opacity:0.1; fill:none\" points=\"\n",
       "  257.69,966.429 2112.76,966.429 \n",
       "  \"/>\n",
       "<polyline clip-path=\"url(#clip302)\" style=\"stroke:#000000; stroke-linecap:butt; stroke-linejoin:round; stroke-width:2; stroke-opacity:0.1; fill:none\" points=\"\n",
       "  257.69,709.136 2112.76,709.136 \n",
       "  \"/>\n",
       "<polyline clip-path=\"url(#clip302)\" style=\"stroke:#000000; stroke-linecap:butt; stroke-linejoin:round; stroke-width:2; stroke-opacity:0.1; fill:none\" points=\"\n",
       "  257.69,451.843 2112.76,451.843 \n",
       "  \"/>\n",
       "<polyline clip-path=\"url(#clip302)\" style=\"stroke:#000000; stroke-linecap:butt; stroke-linejoin:round; stroke-width:2; stroke-opacity:0.1; fill:none\" points=\"\n",
       "  257.69,194.55 2112.76,194.55 \n",
       "  \"/>\n",
       "<polyline clip-path=\"url(#clip300)\" style=\"stroke:#000000; stroke-linecap:butt; stroke-linejoin:round; stroke-width:4; stroke-opacity:1; fill:none\" points=\"\n",
       "  257.69,1410.9 257.69,47.2441 \n",
       "  \"/>\n",
       "<polyline clip-path=\"url(#clip300)\" style=\"stroke:#000000; stroke-linecap:butt; stroke-linejoin:round; stroke-width:4; stroke-opacity:1; fill:none\" points=\"\n",
       "  257.69,1223.72 274.423,1223.72 \n",
       "  \"/>\n",
       "<polyline clip-path=\"url(#clip300)\" style=\"stroke:#000000; stroke-linecap:butt; stroke-linejoin:round; stroke-width:4; stroke-opacity:1; fill:none\" points=\"\n",
       "  257.69,966.429 274.423,966.429 \n",
       "  \"/>\n",
       "<polyline clip-path=\"url(#clip300)\" style=\"stroke:#000000; stroke-linecap:butt; stroke-linejoin:round; stroke-width:4; stroke-opacity:1; fill:none\" points=\"\n",
       "  257.69,709.136 274.423,709.136 \n",
       "  \"/>\n",
       "<polyline clip-path=\"url(#clip300)\" style=\"stroke:#000000; stroke-linecap:butt; stroke-linejoin:round; stroke-width:4; stroke-opacity:1; fill:none\" points=\"\n",
       "  257.69,451.843 274.423,451.843 \n",
       "  \"/>\n",
       "<polyline clip-path=\"url(#clip300)\" style=\"stroke:#000000; stroke-linecap:butt; stroke-linejoin:round; stroke-width:4; stroke-opacity:1; fill:none\" points=\"\n",
       "  257.69,194.55 274.423,194.55 \n",
       "  \"/>\n",
       "<path clip-path=\"url(#clip300)\" d=\"M114.584 1224.17 L144.26 1224.17 L144.26 1228.11 L114.584 1228.11 L114.584 1224.17 Z\" fill=\"#000000\" fill-rule=\"evenodd\" fill-opacity=\"1\" /><path clip-path=\"url(#clip300)\" d=\"M164.352 1209.52 Q160.741 1209.52 158.913 1213.09 Q157.107 1216.63 157.107 1223.76 Q157.107 1230.86 158.913 1234.43 Q160.741 1237.97 164.352 1237.97 Q167.987 1237.97 169.792 1234.43 Q171.621 1230.86 171.621 1223.76 Q171.621 1216.63 169.792 1213.09 Q167.987 1209.52 164.352 1209.52 M164.352 1205.82 Q170.163 1205.82 173.218 1210.42 Q176.297 1215.01 176.297 1223.76 Q176.297 1232.48 173.218 1237.09 Q170.163 1241.67 164.352 1241.67 Q158.542 1241.67 155.464 1237.09 Q152.408 1232.48 152.408 1223.76 Q152.408 1215.01 155.464 1210.42 Q158.542 1205.82 164.352 1205.82 Z\" fill=\"#000000\" fill-rule=\"evenodd\" fill-opacity=\"1\" /><path clip-path=\"url(#clip300)\" d=\"M184.514 1235.12 L189.399 1235.12 L189.399 1241 L184.514 1241 L184.514 1235.12 Z\" fill=\"#000000\" fill-rule=\"evenodd\" fill-opacity=\"1\" /><path clip-path=\"url(#clip300)\" d=\"M210.162 1221.86 Q207.014 1221.86 205.162 1224.01 Q203.334 1226.16 203.334 1229.91 Q203.334 1233.64 205.162 1235.82 Q207.014 1237.97 210.162 1237.97 Q213.311 1237.97 215.139 1235.82 Q216.991 1233.64 216.991 1229.91 Q216.991 1226.16 215.139 1224.01 Q213.311 1221.86 210.162 1221.86 M219.445 1207.21 L219.445 1211.47 Q217.686 1210.63 215.88 1210.19 Q214.098 1209.75 212.338 1209.75 Q207.709 1209.75 205.255 1212.88 Q202.824 1216 202.477 1222.32 Q203.843 1220.31 205.903 1219.24 Q207.963 1218.15 210.44 1218.15 Q215.649 1218.15 218.658 1221.33 Q221.69 1224.47 221.69 1229.91 Q221.69 1235.24 218.542 1238.46 Q215.394 1241.67 210.162 1241.67 Q204.167 1241.67 200.996 1237.09 Q197.825 1232.48 197.825 1223.76 Q197.825 1215.56 201.713 1210.7 Q205.602 1205.82 212.153 1205.82 Q213.912 1205.82 215.695 1206.16 Q217.5 1206.51 219.445 1207.21 Z\" fill=\"#000000\" fill-rule=\"evenodd\" fill-opacity=\"1\" /><path clip-path=\"url(#clip300)\" d=\"M114.26 966.881 L143.936 966.881 L143.936 970.816 L114.26 970.816 L114.26 966.881 Z\" fill=\"#000000\" fill-rule=\"evenodd\" fill-opacity=\"1\" /><path clip-path=\"url(#clip300)\" d=\"M164.028 952.228 Q160.417 952.228 158.589 955.793 Q156.783 959.334 156.783 966.464 Q156.783 973.57 158.589 977.135 Q160.417 980.677 164.028 980.677 Q167.663 980.677 169.468 977.135 Q171.297 973.57 171.297 966.464 Q171.297 959.334 169.468 955.793 Q167.663 952.228 164.028 952.228 M164.028 948.524 Q169.839 948.524 172.894 953.131 Q175.973 957.714 175.973 966.464 Q175.973 975.191 172.894 979.797 Q169.839 984.38 164.028 984.38 Q158.218 984.38 155.14 979.797 Q152.084 975.191 152.084 966.464 Q152.084 957.714 155.14 953.131 Q158.218 948.524 164.028 948.524 Z\" fill=\"#000000\" fill-rule=\"evenodd\" fill-opacity=\"1\" /><path clip-path=\"url(#clip300)\" d=\"M184.19 977.83 L189.075 977.83 L189.075 983.709 L184.19 983.709 L184.19 977.83 Z\" fill=\"#000000\" fill-rule=\"evenodd\" fill-opacity=\"1\" /><path clip-path=\"url(#clip300)\" d=\"M212.107 953.223 L200.301 971.672 L212.107 971.672 L212.107 953.223 M210.88 949.149 L216.76 949.149 L216.76 971.672 L221.69 971.672 L221.69 975.561 L216.76 975.561 L216.76 983.709 L212.107 983.709 L212.107 975.561 L196.505 975.561 L196.505 971.047 L210.88 949.149 Z\" fill=\"#000000\" fill-rule=\"evenodd\" fill-opacity=\"1\" /><path clip-path=\"url(#clip300)\" d=\"M116.343 709.588 L146.019 709.588 L146.019 713.523 L116.343 713.523 L116.343 709.588 Z\" fill=\"#000000\" fill-rule=\"evenodd\" fill-opacity=\"1\" /><path clip-path=\"url(#clip300)\" d=\"M166.112 694.935 Q162.501 694.935 160.672 698.5 Q158.866 702.041 158.866 709.171 Q158.866 716.277 160.672 719.842 Q162.501 723.384 166.112 723.384 Q169.746 723.384 171.552 719.842 Q173.38 716.277 173.38 709.171 Q173.38 702.041 171.552 698.5 Q169.746 694.935 166.112 694.935 M166.112 691.231 Q171.922 691.231 174.977 695.838 Q178.056 700.421 178.056 709.171 Q178.056 717.898 174.977 722.504 Q171.922 727.088 166.112 727.088 Q160.302 727.088 157.223 722.504 Q154.167 717.898 154.167 709.171 Q154.167 700.421 157.223 695.838 Q160.302 691.231 166.112 691.231 Z\" fill=\"#000000\" fill-rule=\"evenodd\" fill-opacity=\"1\" /><path clip-path=\"url(#clip300)\" d=\"M186.274 720.537 L191.158 720.537 L191.158 726.416 L186.274 726.416 L186.274 720.537 Z\" fill=\"#000000\" fill-rule=\"evenodd\" fill-opacity=\"1\" /><path clip-path=\"url(#clip300)\" d=\"M205.371 722.481 L221.69 722.481 L221.69 726.416 L199.746 726.416 L199.746 722.481 Q202.408 719.726 206.991 715.097 Q211.598 710.444 212.778 709.102 Q215.024 706.578 215.903 704.842 Q216.806 703.083 216.806 701.393 Q216.806 698.639 214.861 696.902 Q212.94 695.166 209.838 695.166 Q207.639 695.166 205.186 695.93 Q202.755 696.694 199.977 698.245 L199.977 693.523 Q202.801 692.389 205.255 691.81 Q207.709 691.231 209.746 691.231 Q215.116 691.231 218.311 693.916 Q221.505 696.602 221.505 701.092 Q221.505 703.222 220.695 705.143 Q219.908 707.041 217.801 709.634 Q217.223 710.305 214.121 713.523 Q211.019 716.717 205.371 722.481 Z\" fill=\"#000000\" fill-rule=\"evenodd\" fill-opacity=\"1\" /><path clip-path=\"url(#clip300)\" d=\"M164.515 437.642 Q160.903 437.642 159.075 441.207 Q157.269 444.748 157.269 451.878 Q157.269 458.984 159.075 462.549 Q160.903 466.091 164.515 466.091 Q168.149 466.091 169.954 462.549 Q171.783 458.984 171.783 451.878 Q171.783 444.748 169.954 441.207 Q168.149 437.642 164.515 437.642 M164.515 433.938 Q170.325 433.938 173.38 438.545 Q176.459 443.128 176.459 451.878 Q176.459 460.605 173.38 465.211 Q170.325 469.795 164.515 469.795 Q158.704 469.795 155.626 465.211 Q152.57 460.605 152.57 451.878 Q152.57 443.128 155.626 438.545 Q158.704 433.938 164.515 433.938 Z\" fill=\"#000000\" fill-rule=\"evenodd\" fill-opacity=\"1\" /><path clip-path=\"url(#clip300)\" d=\"M184.676 463.244 L189.561 463.244 L189.561 469.123 L184.676 469.123 L184.676 463.244 Z\" fill=\"#000000\" fill-rule=\"evenodd\" fill-opacity=\"1\" /><path clip-path=\"url(#clip300)\" d=\"M209.746 437.642 Q206.135 437.642 204.306 441.207 Q202.5 444.748 202.5 451.878 Q202.5 458.984 204.306 462.549 Q206.135 466.091 209.746 466.091 Q213.38 466.091 215.186 462.549 Q217.014 458.984 217.014 451.878 Q217.014 444.748 215.186 441.207 Q213.38 437.642 209.746 437.642 M209.746 433.938 Q215.556 433.938 218.611 438.545 Q221.69 443.128 221.69 451.878 Q221.69 460.605 218.611 465.211 Q215.556 469.795 209.746 469.795 Q203.936 469.795 200.857 465.211 Q197.801 460.605 197.801 451.878 Q197.801 443.128 200.857 438.545 Q203.936 433.938 209.746 433.938 Z\" fill=\"#000000\" fill-rule=\"evenodd\" fill-opacity=\"1\" /><path clip-path=\"url(#clip300)\" d=\"M166.112 180.349 Q162.501 180.349 160.672 183.914 Q158.866 187.455 158.866 194.585 Q158.866 201.692 160.672 205.256 Q162.501 208.798 166.112 208.798 Q169.746 208.798 171.552 205.256 Q173.38 201.692 173.38 194.585 Q173.38 187.455 171.552 183.914 Q169.746 180.349 166.112 180.349 M166.112 176.645 Q171.922 176.645 174.977 181.252 Q178.056 185.835 178.056 194.585 Q178.056 203.312 174.977 207.918 Q171.922 212.502 166.112 212.502 Q160.302 212.502 157.223 207.918 Q154.167 203.312 154.167 194.585 Q154.167 185.835 157.223 181.252 Q160.302 176.645 166.112 176.645 Z\" fill=\"#000000\" fill-rule=\"evenodd\" fill-opacity=\"1\" /><path clip-path=\"url(#clip300)\" d=\"M186.274 205.951 L191.158 205.951 L191.158 211.83 L186.274 211.83 L186.274 205.951 Z\" fill=\"#000000\" fill-rule=\"evenodd\" fill-opacity=\"1\" /><path clip-path=\"url(#clip300)\" d=\"M205.371 207.895 L221.69 207.895 L221.69 211.83 L199.746 211.83 L199.746 207.895 Q202.408 205.141 206.991 200.511 Q211.598 195.858 212.778 194.516 Q215.024 191.993 215.903 190.256 Q216.806 188.497 216.806 186.807 Q216.806 184.053 214.861 182.317 Q212.94 180.581 209.838 180.581 Q207.639 180.581 205.186 181.344 Q202.755 182.108 199.977 183.659 L199.977 178.937 Q202.801 177.803 205.255 177.224 Q207.709 176.645 209.746 176.645 Q215.116 176.645 218.311 179.331 Q221.505 182.016 221.505 186.506 Q221.505 188.636 220.695 190.557 Q219.908 192.455 217.801 195.048 Q217.223 195.719 214.121 198.937 Q211.019 202.131 205.371 207.895 Z\" fill=\"#000000\" fill-rule=\"evenodd\" fill-opacity=\"1\" /><path clip-path=\"url(#clip300)\" d=\"M58.657 1364.89 L77.5631 1364.89 L77.5631 1370.78 L28.3562 1370.78 L28.3562 1364.89 L33.7671 1364.89 Q30.5842 1363.05 29.0564 1360.25 Q27.4968 1357.41 27.4968 1353.5 Q27.4968 1347.01 32.6531 1342.96 Q37.8093 1338.89 46.212 1338.89 Q54.6147 1338.89 59.771 1342.96 Q64.9272 1347.01 64.9272 1353.5 Q64.9272 1357.41 63.3994 1360.25 Q61.8398 1363.05 58.657 1364.89 M46.212 1344.97 Q39.7508 1344.97 36.0905 1347.64 Q32.3984 1350.28 32.3984 1354.93 Q32.3984 1359.58 36.0905 1362.25 Q39.7508 1364.89 46.212 1364.89 Q52.6732 1364.89 56.3653 1362.25 Q60.0256 1359.58 60.0256 1354.93 Q60.0256 1350.28 56.3653 1347.64 Q52.6732 1344.97 46.212 1344.97 Z\" fill=\"#000000\" fill-rule=\"evenodd\" fill-opacity=\"1\" /><path clip-path=\"url(#clip300)\" d=\"M33.8307 1308.52 Q33.2578 1309.51 33.0032 1310.69 Q32.7167 1311.83 32.7167 1313.24 Q32.7167 1318.2 35.9632 1320.87 Q39.1779 1323.52 45.2253 1323.52 L64.0042 1323.52 L64.0042 1329.4 L28.3562 1329.4 L28.3562 1323.52 L33.8944 1323.52 Q30.6479 1321.67 29.0883 1318.71 Q27.4968 1315.75 27.4968 1311.52 Q27.4968 1310.91 27.5923 1310.18 Q27.656 1309.45 27.8151 1308.56 L33.8307 1308.52 Z\" fill=\"#000000\" fill-rule=\"evenodd\" fill-opacity=\"1\" /><path clip-path=\"url(#clip300)\" d=\"M32.4621 1290 Q32.4621 1294.71 36.1542 1297.45 Q39.8145 1300.19 46.212 1300.19 Q52.6095 1300.19 56.3017 1297.48 Q59.9619 1294.74 59.9619 1290 Q59.9619 1285.32 56.2698 1282.58 Q52.5777 1279.85 46.212 1279.85 Q39.8781 1279.85 36.186 1282.58 Q32.4621 1285.32 32.4621 1290 M27.4968 1290 Q27.4968 1282.36 32.4621 1278 Q37.4273 1273.64 46.212 1273.64 Q54.9649 1273.64 59.9619 1278 Q64.9272 1282.36 64.9272 1290 Q64.9272 1297.67 59.9619 1302.03 Q54.9649 1306.36 46.212 1306.36 Q37.4273 1306.36 32.4621 1302.03 Q27.4968 1297.67 27.4968 1290 Z\" fill=\"#000000\" fill-rule=\"evenodd\" fill-opacity=\"1\" /><path clip-path=\"url(#clip300)\" d=\"M46.212 1238.34 Q39.7508 1238.34 36.0905 1241.02 Q32.3984 1243.66 32.3984 1248.31 Q32.3984 1252.95 36.0905 1255.63 Q39.7508 1258.27 46.212 1258.27 Q52.6732 1258.27 56.3653 1255.63 Q60.0256 1252.95 60.0256 1248.31 Q60.0256 1243.66 56.3653 1241.02 Q52.6732 1238.34 46.212 1238.34 M33.7671 1258.27 Q30.5842 1256.42 29.0564 1253.62 Q27.4968 1250.79 27.4968 1246.87 Q27.4968 1240.38 32.6531 1236.34 Q37.8093 1232.26 46.212 1232.26 Q54.6147 1232.26 59.771 1236.34 Q64.9272 1240.38 64.9272 1246.87 Q64.9272 1250.79 63.3994 1253.62 Q61.8398 1256.42 58.657 1258.27 L64.0042 1258.27 L64.0042 1264.16 L14.479 1264.16 L14.479 1258.27 L33.7671 1258.27 Z\" fill=\"#000000\" fill-rule=\"evenodd\" fill-opacity=\"1\" /><path clip-path=\"url(#clip300)\" d=\"M46.0847 1206.36 Q46.0847 1213.45 47.7079 1216.19 Q49.3312 1218.93 53.2461 1218.93 Q56.3653 1218.93 58.2114 1216.89 Q60.0256 1214.82 60.0256 1211.29 Q60.0256 1206.42 56.5881 1203.49 Q53.1188 1200.53 47.3897 1200.53 L46.0847 1200.53 L46.0847 1206.36 M43.6657 1194.67 L64.0042 1194.67 L64.0042 1200.53 L58.5933 1200.53 Q61.8398 1202.54 63.3994 1205.53 Q64.9272 1208.52 64.9272 1212.85 Q64.9272 1218.32 61.8716 1221.57 Q58.7843 1224.78 53.6281 1224.78 Q47.6125 1224.78 44.5569 1220.77 Q41.5014 1216.73 41.5014 1208.74 L41.5014 1200.53 L40.9285 1200.53 Q36.8862 1200.53 34.6901 1203.2 Q32.4621 1205.85 32.4621 1210.65 Q32.4621 1213.71 33.1941 1216.6 Q33.9262 1219.5 35.3903 1222.17 L29.9795 1222.17 Q28.7381 1218.96 28.1334 1215.94 Q27.4968 1212.91 27.4968 1210.05 Q27.4968 1202.31 31.5072 1198.49 Q35.5176 1194.67 43.6657 1194.67 Z\" fill=\"#000000\" fill-rule=\"evenodd\" fill-opacity=\"1\" /><path clip-path=\"url(#clip300)\" d=\"M46.212 1157.02 Q39.7508 1157.02 36.0905 1159.69 Q32.3984 1162.34 32.3984 1166.98 Q32.3984 1171.63 36.0905 1174.3 Q39.7508 1176.95 46.212 1176.95 Q52.6732 1176.95 56.3653 1174.3 Q60.0256 1171.63 60.0256 1166.98 Q60.0256 1162.34 56.3653 1159.69 Q52.6732 1157.02 46.212 1157.02 M33.7671 1176.95 Q30.5842 1175.1 29.0564 1172.3 Q27.4968 1169.47 27.4968 1165.55 Q27.4968 1159.06 32.6531 1155.02 Q37.8093 1150.94 46.212 1150.94 Q54.6147 1150.94 59.771 1155.02 Q64.9272 1159.06 64.9272 1165.55 Q64.9272 1169.47 63.3994 1172.3 Q61.8398 1175.1 58.657 1176.95 L64.0042 1176.95 L64.0042 1182.83 L14.479 1182.83 L14.479 1176.95 L33.7671 1176.95 Z\" fill=\"#000000\" fill-rule=\"evenodd\" fill-opacity=\"1\" /><path clip-path=\"url(#clip300)\" d=\"M28.3562 1141.23 L28.3562 1135.38 L64.0042 1135.38 L64.0042 1141.23 L28.3562 1141.23 M14.479 1141.23 L14.479 1135.38 L21.895 1135.38 L21.895 1141.23 L14.479 1141.23 Z\" fill=\"#000000\" fill-rule=\"evenodd\" fill-opacity=\"1\" /><path clip-path=\"url(#clip300)\" d=\"M14.479 1123.12 L14.479 1117.27 L64.0042 1117.27 L64.0042 1123.12 L14.479 1123.12 Z\" fill=\"#000000\" fill-rule=\"evenodd\" fill-opacity=\"1\" /><path clip-path=\"url(#clip300)\" d=\"M28.3562 1105.01 L28.3562 1099.16 L64.0042 1099.16 L64.0042 1105.01 L28.3562 1105.01 M14.479 1105.01 L14.479 1099.16 L21.895 1099.16 L21.895 1105.01 L14.479 1105.01 Z\" fill=\"#000000\" fill-rule=\"evenodd\" fill-opacity=\"1\" /><path clip-path=\"url(#clip300)\" d=\"M18.2347 1081.11 L28.3562 1081.11 L28.3562 1069.05 L32.9077 1069.05 L32.9077 1081.11 L52.2594 1081.11 Q56.6199 1081.11 57.8613 1079.93 Q59.1026 1078.72 59.1026 1075.06 L59.1026 1069.05 L64.0042 1069.05 L64.0042 1075.06 Q64.0042 1081.84 61.4897 1084.42 Q58.9434 1087 52.2594 1087 L32.9077 1087 L32.9077 1091.29 L28.3562 1091.29 L28.3562 1087 L18.2347 1087 L18.2347 1081.11 Z\" fill=\"#000000\" fill-rule=\"evenodd\" fill-opacity=\"1\" /><path clip-path=\"url(#clip300)\" d=\"M67.3143 1046.51 Q73.68 1048.99 75.6216 1051.35 Q77.5631 1053.71 77.5631 1057.65 L77.5631 1062.33 L72.6615 1062.33 L72.6615 1058.89 Q72.6615 1056.47 71.5157 1055.14 Q70.3699 1053.8 66.1048 1052.18 L63.4312 1051.13 L28.3562 1065.55 L28.3562 1059.34 L56.238 1048.2 L28.3562 1037.06 L28.3562 1030.85 L67.3143 1046.51 Z\" fill=\"#000000\" fill-rule=\"evenodd\" fill-opacity=\"1\" /><path clip-path=\"url(#clip300)\" d=\"M32.4621 988.234 Q32.4621 992.945 36.1542 995.682 Q39.8145 998.419 46.212 998.419 Q52.6095 998.419 56.3017 995.714 Q59.9619 992.977 59.9619 988.234 Q59.9619 983.555 56.2698 980.818 Q52.5777 978.081 46.212 978.081 Q39.8781 978.081 36.186 980.818 Q32.4621 983.555 32.4621 988.234 M27.4968 988.234 Q27.4968 980.595 32.4621 976.235 Q37.4273 971.874 46.212 971.874 Q54.9649 971.874 59.9619 976.235 Q64.9272 980.595 64.9272 988.234 Q64.9272 995.905 59.9619 1000.27 Q54.9649 1004.59 46.212 1004.59 Q37.4273 1004.59 32.4621 1000.27 Q27.4968 995.905 27.4968 988.234 Z\" fill=\"#000000\" fill-rule=\"evenodd\" fill-opacity=\"1\" /><path clip-path=\"url(#clip300)\" d=\"M14.479 944.12 L19.3487 944.12 L19.3487 949.722 Q19.3487 952.873 20.6219 954.114 Q21.895 955.323 25.2052 955.323 L28.3562 955.323 L28.3562 945.679 L32.9077 945.679 L32.9077 955.323 L64.0042 955.323 L64.0042 961.212 L32.9077 961.212 L32.9077 966.814 L28.3562 966.814 L28.3562 961.212 L25.8736 961.212 Q19.9216 961.212 17.2162 958.443 Q14.479 955.674 14.479 949.658 L14.479 944.12 Z\" fill=\"#000000\" fill-rule=\"evenodd\" fill-opacity=\"1\" /><path clip-path=\"url(#clip300)\" d=\"M46.0847 902.297 Q46.0847 909.395 47.7079 912.132 Q49.3312 914.869 53.2461 914.869 Q56.3653 914.869 58.2114 912.832 Q60.0256 910.764 60.0256 907.231 Q60.0256 902.361 56.5881 899.433 Q53.1188 896.473 47.3897 896.473 L46.0847 896.473 L46.0847 902.297 M43.6657 890.616 L64.0042 890.616 L64.0042 896.473 L58.5933 896.473 Q61.8398 898.478 63.3994 901.47 Q64.9272 904.462 64.9272 908.79 Q64.9272 914.265 61.8716 917.511 Q58.7843 920.726 53.6281 920.726 Q47.6125 920.726 44.5569 916.715 Q41.5014 912.673 41.5014 904.684 L41.5014 896.473 L40.9285 896.473 Q36.8862 896.473 34.6901 899.146 Q32.4621 901.788 32.4621 906.594 Q32.4621 909.65 33.1941 912.546 Q33.9262 915.442 35.3903 918.116 L29.9795 918.116 Q28.7381 914.901 28.1334 911.878 Q27.4968 908.854 27.4968 905.989 Q27.4968 898.255 31.5072 894.436 Q35.5176 890.616 43.6657 890.616 Z\" fill=\"#000000\" fill-rule=\"evenodd\" fill-opacity=\"1\" /><path clip-path=\"url(#clip300)\" d=\"M46.212 852.963 Q39.7508 852.963 36.0905 855.637 Q32.3984 858.278 32.3984 862.925 Q32.3984 867.572 36.0905 870.246 Q39.7508 872.888 46.212 872.888 Q52.6732 872.888 56.3653 870.246 Q60.0256 867.572 60.0256 862.925 Q60.0256 858.278 56.3653 855.637 Q52.6732 852.963 46.212 852.963 M33.7671 872.888 Q30.5842 871.042 29.0564 868.241 Q27.4968 865.408 27.4968 861.493 Q27.4968 855 32.6531 850.958 Q37.8093 846.884 46.212 846.884 Q54.6147 846.884 59.771 850.958 Q64.9272 855 64.9272 861.493 Q64.9272 865.408 63.3994 868.241 Q61.8398 871.042 58.657 872.888 L64.0042 872.888 L64.0042 878.776 L14.479 878.776 L14.479 872.888 L33.7671 872.888 Z\" fill=\"#000000\" fill-rule=\"evenodd\" fill-opacity=\"1\" /><path clip-path=\"url(#clip300)\" d=\"M32.4621 823.362 Q32.4621 828.073 36.1542 830.81 Q39.8145 833.548 46.212 833.548 Q52.6095 833.548 56.3017 830.842 Q59.9619 828.105 59.9619 823.362 Q59.9619 818.684 56.2698 815.946 Q52.5777 813.209 46.212 813.209 Q39.8781 813.209 36.186 815.946 Q32.4621 818.684 32.4621 823.362 M27.4968 823.362 Q27.4968 815.724 32.4621 811.363 Q37.4273 807.003 46.212 807.003 Q54.9649 807.003 59.9619 811.363 Q64.9272 815.724 64.9272 823.362 Q64.9272 831.033 59.9619 835.394 Q54.9649 839.722 46.212 839.722 Q37.4273 839.722 32.4621 835.394 Q27.4968 831.033 27.4968 823.362 Z\" fill=\"#000000\" fill-rule=\"evenodd\" fill-opacity=\"1\" /><path clip-path=\"url(#clip300)\" d=\"M28.3562 801.496 L28.3562 795.29 L58.275 784.15 L28.3562 773.01 L28.3562 766.803 L64.0042 780.171 L64.0042 788.128 L28.3562 801.496 Z\" fill=\"#000000\" fill-rule=\"evenodd\" fill-opacity=\"1\" /><path clip-path=\"url(#clip300)\" d=\"M44.7161 728.227 L47.5806 728.227 L47.5806 755.154 Q53.6281 754.772 56.8109 751.525 Q59.9619 748.247 59.9619 742.422 Q59.9619 739.049 59.1344 735.898 Q58.3069 732.715 56.6518 729.596 L62.1899 729.596 Q63.5267 732.747 64.227 736.057 Q64.9272 739.367 64.9272 742.773 Q64.9272 751.303 59.9619 756.3 Q54.9967 761.265 46.5303 761.265 Q37.7774 761.265 32.6531 756.554 Q27.4968 751.812 27.4968 743.791 Q27.4968 736.598 32.1438 732.428 Q36.7589 728.227 44.7161 728.227 M42.9973 734.083 Q38.1912 734.147 35.3266 736.789 Q32.4621 739.399 32.4621 743.727 Q32.4621 748.629 35.2312 751.589 Q38.0002 754.517 43.0292 754.963 L42.9973 734.083 Z\" fill=\"#000000\" fill-rule=\"evenodd\" fill-opacity=\"1\" /><path clip-path=\"url(#clip300)\" d=\"M46.0847 681.694 Q46.0847 688.791 47.7079 691.529 Q49.3312 694.266 53.2461 694.266 Q56.3653 694.266 58.2114 692.229 Q60.0256 690.16 60.0256 686.627 Q60.0256 681.757 56.5881 678.829 Q53.1188 675.869 47.3897 675.869 L46.0847 675.869 L46.0847 681.694 M43.6657 670.013 L64.0042 670.013 L64.0042 675.869 L58.5933 675.869 Q61.8398 677.874 63.3994 680.866 Q64.9272 683.858 64.9272 688.187 Q64.9272 693.661 61.8716 696.908 Q58.7843 700.122 53.6281 700.122 Q47.6125 700.122 44.5569 696.112 Q41.5014 692.07 41.5014 684.081 L41.5014 675.869 L40.9285 675.869 Q36.8862 675.869 34.6901 678.543 Q32.4621 681.184 32.4621 685.99 Q32.4621 689.046 33.1941 691.942 Q33.9262 694.839 35.3903 697.512 L29.9795 697.512 Q28.7381 694.298 28.1334 691.274 Q27.4968 688.25 27.4968 685.386 Q27.4968 677.651 31.5072 673.832 Q35.5176 670.013 43.6657 670.013 Z\" fill=\"#000000\" fill-rule=\"evenodd\" fill-opacity=\"1\" /><path clip-path=\"url(#clip300)\" d=\"M28.3562 662.151 L28.3562 655.944 L58.275 644.804 L28.3562 633.664 L28.3562 627.458 L64.0042 640.826 L64.0042 648.783 L28.3562 662.151 Z\" fill=\"#000000\" fill-rule=\"evenodd\" fill-opacity=\"1\" /><path clip-path=\"url(#clip300)\" d=\"M44.7161 588.882 L47.5806 588.882 L47.5806 615.809 Q53.6281 615.427 56.8109 612.18 Q59.9619 608.902 59.9619 603.077 Q59.9619 599.703 59.1344 596.552 Q58.3069 593.369 56.6518 590.25 L62.1899 590.25 Q63.5267 593.401 64.227 596.711 Q64.9272 600.022 64.9272 603.427 Q64.9272 611.957 59.9619 616.954 Q54.9967 621.92 46.5303 621.92 Q37.7774 621.92 32.6531 617.209 Q27.4968 612.467 27.4968 604.446 Q27.4968 597.252 32.1438 593.083 Q36.7589 588.882 44.7161 588.882 M42.9973 594.738 Q38.1912 594.802 35.3266 597.443 Q32.4621 600.053 32.4621 604.382 Q32.4621 609.284 35.2312 612.244 Q38.0002 615.172 43.0292 615.618 L42.9973 594.738 Z\" fill=\"#000000\" fill-rule=\"evenodd\" fill-opacity=\"1\" /><path clip-path=\"url(#clip300)\" d=\"M33.8307 558.613 Q33.2578 559.599 33.0032 560.777 Q32.7167 561.923 32.7167 563.323 Q32.7167 568.289 35.9632 570.962 Q39.1779 573.604 45.2253 573.604 L64.0042 573.604 L64.0042 579.492 L28.3562 579.492 L28.3562 573.604 L33.8944 573.604 Q30.6479 571.758 29.0883 568.798 Q27.4968 565.838 27.4968 561.605 Q27.4968 561 27.5923 560.268 Q27.656 559.536 27.8151 558.644 L33.8307 558.613 Z\" fill=\"#000000\" fill-rule=\"evenodd\" fill-opacity=\"1\" /><path clip-path=\"url(#clip300)\" d=\"M46.0847 536.269 Q46.0847 543.367 47.7079 546.104 Q49.3312 548.841 53.2461 548.841 Q56.3653 548.841 58.2114 546.804 Q60.0256 544.735 60.0256 541.202 Q60.0256 536.333 56.5881 533.404 Q53.1188 530.444 47.3897 530.444 L46.0847 530.444 L46.0847 536.269 M43.6657 524.588 L64.0042 524.588 L64.0042 530.444 L58.5933 530.444 Q61.8398 532.45 63.3994 535.441 Q64.9272 538.433 64.9272 542.762 Q64.9272 548.237 61.8716 551.483 Q58.7843 554.698 53.6281 554.698 Q47.6125 554.698 44.5569 550.687 Q41.5014 546.645 41.5014 538.656 L41.5014 530.444 L40.9285 530.444 Q36.8862 530.444 34.6901 533.118 Q32.4621 535.76 32.4621 540.566 Q32.4621 543.621 33.1941 546.518 Q33.9262 549.414 35.3903 552.088 L29.9795 552.088 Q28.7381 548.873 28.1334 545.849 Q27.4968 542.826 27.4968 539.961 Q27.4968 532.227 31.5072 528.407 Q35.5176 524.588 43.6657 524.588 Z\" fill=\"#000000\" fill-rule=\"evenodd\" fill-opacity=\"1\" /><path clip-path=\"url(#clip300)\" d=\"M45.7664 489.067 Q39.4007 489.067 35.8996 491.709 Q32.3984 494.319 32.3984 499.061 Q32.3984 503.772 35.8996 506.414 Q39.4007 509.024 45.7664 509.024 Q52.1003 509.024 55.6014 506.414 Q59.1026 503.772 59.1026 499.061 Q59.1026 494.319 55.6014 491.709 Q52.1003 489.067 45.7664 489.067 M59.58 483.211 Q68.683 483.211 73.1071 487.253 Q77.5631 491.295 77.5631 499.634 Q77.5631 502.722 77.0857 505.459 Q76.6401 508.196 75.6852 510.774 L69.9879 510.774 Q71.3884 508.196 72.0568 505.682 Q72.7252 503.167 72.7252 500.557 Q72.7252 494.796 69.7015 491.932 Q66.7096 489.067 60.6303 489.067 L57.7339 489.067 Q60.885 490.882 62.4446 493.714 Q64.0042 496.547 64.0042 500.494 Q64.0042 507.05 59.0071 511.061 Q54.01 515.071 45.7664 515.071 Q37.491 515.071 32.4939 511.061 Q27.4968 507.05 27.4968 500.494 Q27.4968 496.547 29.0564 493.714 Q30.616 490.882 33.7671 489.067 L28.3562 489.067 L28.3562 483.211 L59.58 483.211 Z\" fill=\"#000000\" fill-rule=\"evenodd\" fill-opacity=\"1\" /><path clip-path=\"url(#clip300)\" d=\"M44.7161 440.656 L47.5806 440.656 L47.5806 467.583 Q53.6281 467.201 56.8109 463.955 Q59.9619 460.676 59.9619 454.852 Q59.9619 451.478 59.1344 448.327 Q58.3069 445.144 56.6518 442.025 L62.1899 442.025 Q63.5267 445.176 64.227 448.486 Q64.9272 451.796 64.9272 455.202 Q64.9272 463.732 59.9619 468.729 Q54.9967 473.694 46.5303 473.694 Q37.7774 473.694 32.6531 468.984 Q27.4968 464.241 27.4968 456.22 Q27.4968 449.027 32.1438 444.857 Q36.7589 440.656 44.7161 440.656 M42.9973 446.513 Q38.1912 446.576 35.3266 449.218 Q32.4621 451.828 32.4621 456.157 Q32.4621 461.058 35.2312 464.018 Q38.0002 466.946 43.0292 467.392 L42.9973 446.513 Z\" fill=\"#000000\" fill-rule=\"evenodd\" fill-opacity=\"1\" /><path clip-path=\"url(#clip300)\" d=\"M58.657 404.658 L77.5631 404.658 L77.5631 410.546 L28.3562 410.546 L28.3562 404.658 L33.7671 404.658 Q30.5842 402.812 29.0564 400.011 Q27.4968 397.178 27.4968 393.263 Q27.4968 386.77 32.6531 382.728 Q37.8093 378.654 46.212 378.654 Q54.6147 378.654 59.771 382.728 Q64.9272 386.77 64.9272 393.263 Q64.9272 397.178 63.3994 400.011 Q61.8398 402.812 58.657 404.658 M46.212 384.733 Q39.7508 384.733 36.0905 387.407 Q32.3984 390.049 32.3984 394.696 Q32.3984 399.343 36.0905 402.016 Q39.7508 404.658 46.212 404.658 Q52.6732 404.658 56.3653 402.016 Q60.0256 399.343 60.0256 394.696 Q60.0256 390.049 56.3653 387.407 Q52.6732 384.733 46.212 384.733 Z\" fill=\"#000000\" fill-rule=\"evenodd\" fill-opacity=\"1\" /><path clip-path=\"url(#clip300)\" d=\"M32.4621 355.133 Q32.4621 359.843 36.1542 362.581 Q39.8145 365.318 46.212 365.318 Q52.6095 365.318 56.3017 362.613 Q59.9619 359.875 59.9619 355.133 Q59.9619 350.454 56.2698 347.717 Q52.5777 344.98 46.212 344.98 Q39.8781 344.98 36.186 347.717 Q32.4621 350.454 32.4621 355.133 M27.4968 355.133 Q27.4968 347.494 32.4621 343.133 Q37.4273 338.773 46.212 338.773 Q54.9649 338.773 59.9619 343.133 Q64.9272 347.494 64.9272 355.133 Q64.9272 362.804 59.9619 367.164 Q54.9649 371.493 46.212 371.493 Q37.4273 371.493 32.4621 367.164 Q27.4968 362.804 27.4968 355.133 Z\" fill=\"#000000\" fill-rule=\"evenodd\" fill-opacity=\"1\" /><path clip-path=\"url(#clip300)\" d=\"M58.657 323.4 L77.5631 323.4 L77.5631 329.288 L28.3562 329.288 L28.3562 323.4 L33.7671 323.4 Q30.5842 321.554 29.0564 318.753 Q27.4968 315.92 27.4968 312.005 Q27.4968 305.512 32.6531 301.47 Q37.8093 297.396 46.212 297.396 Q54.6147 297.396 59.771 301.47 Q64.9272 305.512 64.9272 312.005 Q64.9272 315.92 63.3994 318.753 Q61.8398 321.554 58.657 323.4 M46.212 303.475 Q39.7508 303.475 36.0905 306.149 Q32.3984 308.791 32.3984 313.437 Q32.3984 318.084 36.0905 320.758 Q39.7508 323.4 46.212 323.4 Q52.6732 323.4 56.3653 320.758 Q60.0256 318.084 60.0256 313.437 Q60.0256 308.791 56.3653 306.149 Q52.6732 303.475 46.212 303.475 Z\" fill=\"#000000\" fill-rule=\"evenodd\" fill-opacity=\"1\" /><path clip-path=\"url(#clip300)\" d=\"M49.9359 288.293 L28.3562 288.293 L28.3562 282.436 L49.7131 282.436 Q54.7739 282.436 57.3202 280.463 Q59.8346 278.49 59.8346 274.543 Q59.8346 269.801 56.8109 267.063 Q53.7872 264.294 48.5673 264.294 L28.3562 264.294 L28.3562 258.438 L64.0042 258.438 L64.0042 264.294 L58.5296 264.294 Q61.7762 266.427 63.3676 269.259 Q64.9272 272.06 64.9272 275.784 Q64.9272 281.927 61.1078 285.11 Q57.2883 288.293 49.9359 288.293 M27.4968 273.556 L27.4968 273.556 Z\" fill=\"#000000\" fill-rule=\"evenodd\" fill-opacity=\"1\" /><path clip-path=\"url(#clip300)\" d=\"M14.479 246.375 L14.479 240.518 L64.0042 240.518 L64.0042 246.375 L14.479 246.375 Z\" fill=\"#000000\" fill-rule=\"evenodd\" fill-opacity=\"1\" /><path clip-path=\"url(#clip300)\" d=\"M46.0847 212.064 Q46.0847 219.161 47.7079 221.899 Q49.3312 224.636 53.2461 224.636 Q56.3653 224.636 58.2114 222.599 Q60.0256 220.53 60.0256 216.997 Q60.0256 212.127 56.5881 209.199 Q53.1188 206.239 47.3897 206.239 L46.0847 206.239 L46.0847 212.064 M43.6657 200.383 L64.0042 200.383 L64.0042 206.239 L58.5933 206.239 Q61.8398 208.244 63.3994 211.236 Q64.9272 214.228 64.9272 218.557 Q64.9272 224.031 61.8716 227.278 Q58.7843 230.492 53.6281 230.492 Q47.6125 230.492 44.5569 226.482 Q41.5014 222.44 41.5014 214.451 L41.5014 206.239 L40.9285 206.239 Q36.8862 206.239 34.6901 208.913 Q32.4621 211.554 32.4621 216.36 Q32.4621 219.416 33.1941 222.312 Q33.9262 225.209 35.3903 227.882 L29.9795 227.882 Q28.7381 224.668 28.1334 221.644 Q27.4968 218.62 27.4968 215.756 Q27.4968 208.021 31.5072 204.202 Q35.5176 200.383 43.6657 200.383 Z\" fill=\"#000000\" fill-rule=\"evenodd\" fill-opacity=\"1\" /><path clip-path=\"url(#clip300)\" d=\"M33.8307 167.663 Q33.2578 168.649 33.0032 169.827 Q32.7167 170.973 32.7167 172.373 Q32.7167 177.339 35.9632 180.012 Q39.1779 182.654 45.2253 182.654 L64.0042 182.654 L64.0042 188.542 L28.3562 188.542 L28.3562 182.654 L33.8944 182.654 Q30.6479 180.808 29.0883 177.848 Q27.4968 174.888 27.4968 170.655 Q27.4968 170.05 27.5923 169.318 Q27.656 168.586 27.8151 167.695 L33.8307 167.663 Z\" fill=\"#000000\" fill-rule=\"evenodd\" fill-opacity=\"1\" /><path clip-path=\"url(#clip300)\" d=\"M28.3562 161.52 L28.3562 155.663 L64.0042 155.663 L64.0042 161.52 L28.3562 161.52 M14.479 161.52 L14.479 155.663 L21.895 155.663 L21.895 161.52 L14.479 161.52 Z\" fill=\"#000000\" fill-rule=\"evenodd\" fill-opacity=\"1\" /><path clip-path=\"url(#clip300)\" d=\"M18.2347 137.617 L28.3562 137.617 L28.3562 125.554 L32.9077 125.554 L32.9077 137.617 L52.2594 137.617 Q56.6199 137.617 57.8613 136.439 Q59.1026 135.23 59.1026 131.569 L59.1026 125.554 L64.0042 125.554 L64.0042 131.569 Q64.0042 138.349 61.4897 140.927 Q58.9434 143.505 52.2594 143.505 L32.9077 143.505 L32.9077 147.802 L28.3562 147.802 L28.3562 143.505 L18.2347 143.505 L18.2347 137.617 Z\" fill=\"#000000\" fill-rule=\"evenodd\" fill-opacity=\"1\" /><path clip-path=\"url(#clip300)\" d=\"M67.3143 103.019 Q73.68 105.502 75.6216 107.857 Q77.5631 110.212 77.5631 114.159 L77.5631 118.838 L72.6615 118.838 L72.6615 115.4 Q72.6615 112.981 71.5157 111.645 Q70.3699 110.308 66.1048 108.685 L63.4312 107.634 L28.3562 122.052 L28.3562 115.846 L56.238 104.706 L28.3562 93.566 L28.3562 87.3594 L67.3143 103.019 Z\" fill=\"#000000\" fill-rule=\"evenodd\" fill-opacity=\"1\" /><circle clip-path=\"url(#clip302)\" cx=\"1864.37\" cy=\"425.029\" r=\"14.4\" fill=\"#000003\" fill-rule=\"evenodd\" fill-opacity=\"1\" stroke=\"#000000\" stroke-opacity=\"1\" stroke-width=\"3.2\"/>\n",
       "<circle clip-path=\"url(#clip302)\" cx=\"1748.71\" cy=\"482.576\" r=\"14.4\" fill=\"#000003\" fill-rule=\"evenodd\" fill-opacity=\"1\" stroke=\"#000000\" stroke-opacity=\"1\" stroke-width=\"3.2\"/>\n",
       "<circle clip-path=\"url(#clip302)\" cx=\"1886.52\" cy=\"470.222\" r=\"14.4\" fill=\"#000003\" fill-rule=\"evenodd\" fill-opacity=\"1\" stroke=\"#000000\" stroke-opacity=\"1\" stroke-width=\"3.2\"/>\n",
       "<circle clip-path=\"url(#clip302)\" cx=\"1349.5\" cy=\"363.201\" r=\"14.4\" fill=\"#000003\" fill-rule=\"evenodd\" fill-opacity=\"1\" stroke=\"#000000\" stroke-opacity=\"1\" stroke-width=\"3.2\"/>\n",
       "<circle clip-path=\"url(#clip302)\" cx=\"1818.48\" cy=\"471.182\" r=\"14.4\" fill=\"#000003\" fill-rule=\"evenodd\" fill-opacity=\"1\" stroke=\"#000000\" stroke-opacity=\"1\" stroke-width=\"3.2\"/>\n",
       "<circle clip-path=\"url(#clip302)\" cx=\"1647.84\" cy=\"420.217\" r=\"14.4\" fill=\"#000003\" fill-rule=\"evenodd\" fill-opacity=\"1\" stroke=\"#000000\" stroke-opacity=\"1\" stroke-width=\"3.2\"/>\n",
       "<circle clip-path=\"url(#clip302)\" cx=\"1649.18\" cy=\"428.571\" r=\"14.4\" fill=\"#fcfea4\" fill-rule=\"evenodd\" fill-opacity=\"1\" stroke=\"#000000\" stroke-opacity=\"1\" stroke-width=\"3.2\"/>\n",
       "<circle clip-path=\"url(#clip302)\" cx=\"1592.9\" cy=\"424.144\" r=\"14.4\" fill=\"#fcfea4\" fill-rule=\"evenodd\" fill-opacity=\"1\" stroke=\"#000000\" stroke-opacity=\"1\" stroke-width=\"3.2\"/>\n",
       "<circle clip-path=\"url(#clip302)\" cx=\"1830.09\" cy=\"439.253\" r=\"14.4\" fill=\"#fcfea4\" fill-rule=\"evenodd\" fill-opacity=\"1\" stroke=\"#000000\" stroke-opacity=\"1\" stroke-width=\"3.2\"/>\n",
       "<circle clip-path=\"url(#clip302)\" cx=\"1458.11\" cy=\"494.174\" r=\"14.4\" fill=\"#fcfea4\" fill-rule=\"evenodd\" fill-opacity=\"1\" stroke=\"#000000\" stroke-opacity=\"1\" stroke-width=\"3.2\"/>\n",
       "<circle clip-path=\"url(#clip302)\" cx=\"1480.74\" cy=\"415.399\" r=\"14.4\" fill=\"#fcfea4\" fill-rule=\"evenodd\" fill-opacity=\"1\" stroke=\"#000000\" stroke-opacity=\"1\" stroke-width=\"3.2\"/>\n",
       "<circle clip-path=\"url(#clip302)\" cx=\"1445.92\" cy=\"412.818\" r=\"14.4\" fill=\"#fcfea4\" fill-rule=\"evenodd\" fill-opacity=\"1\" stroke=\"#000000\" stroke-opacity=\"1\" stroke-width=\"3.2\"/>\n",
       "<circle clip-path=\"url(#clip302)\" cx=\"1660.43\" cy=\"470.675\" r=\"14.4\" fill=\"#fcfea4\" fill-rule=\"evenodd\" fill-opacity=\"1\" stroke=\"#000000\" stroke-opacity=\"1\" stroke-width=\"3.2\"/>\n",
       "<circle clip-path=\"url(#clip302)\" cx=\"1688.8\" cy=\"468.252\" r=\"14.4\" fill=\"#fcfea4\" fill-rule=\"evenodd\" fill-opacity=\"1\" stroke=\"#000000\" stroke-opacity=\"1\" stroke-width=\"3.2\"/>\n",
       "<circle clip-path=\"url(#clip302)\" cx=\"1524.76\" cy=\"479.843\" r=\"14.4\" fill=\"#fcfea4\" fill-rule=\"evenodd\" fill-opacity=\"1\" stroke=\"#000000\" stroke-opacity=\"1\" stroke-width=\"3.2\"/>\n",
       "<circle clip-path=\"url(#clip302)\" cx=\"1369.41\" cy=\"497.947\" r=\"14.4\" fill=\"#fcfea4\" fill-rule=\"evenodd\" fill-opacity=\"1\" stroke=\"#000000\" stroke-opacity=\"1\" stroke-width=\"3.2\"/>\n",
       "<circle clip-path=\"url(#clip302)\" cx=\"938.428\" cy=\"646.073\" r=\"14.4\" fill=\"#fcfea4\" fill-rule=\"evenodd\" fill-opacity=\"1\" stroke=\"#000000\" stroke-opacity=\"1\" stroke-width=\"3.2\"/>\n",
       "<circle clip-path=\"url(#clip302)\" cx=\"871.716\" cy=\"696.909\" r=\"14.4\" fill=\"#fcfea4\" fill-rule=\"evenodd\" fill-opacity=\"1\" stroke=\"#000000\" stroke-opacity=\"1\" stroke-width=\"3.2\"/>\n",
       "<circle clip-path=\"url(#clip302)\" cx=\"1407.72\" cy=\"488.037\" r=\"14.4\" fill=\"#fcfea4\" fill-rule=\"evenodd\" fill-opacity=\"1\" stroke=\"#000000\" stroke-opacity=\"1\" stroke-width=\"3.2\"/>\n",
       "<circle clip-path=\"url(#clip302)\" cx=\"1439.85\" cy=\"419.965\" r=\"14.4\" fill=\"#fcfea4\" fill-rule=\"evenodd\" fill-opacity=\"1\" stroke=\"#000000\" stroke-opacity=\"1\" stroke-width=\"3.2\"/>\n",
       "<circle clip-path=\"url(#clip302)\" cx=\"1704.58\" cy=\"438.561\" r=\"14.4\" fill=\"#fcfea4\" fill-rule=\"evenodd\" fill-opacity=\"1\" stroke=\"#000000\" stroke-opacity=\"1\" stroke-width=\"3.2\"/>\n",
       "<circle clip-path=\"url(#clip302)\" cx=\"787.479\" cy=\"757.037\" r=\"14.4\" fill=\"#fcfea4\" fill-rule=\"evenodd\" fill-opacity=\"1\" stroke=\"#000000\" stroke-opacity=\"1\" stroke-width=\"3.2\"/>\n",
       "<circle clip-path=\"url(#clip302)\" cx=\"1633.37\" cy=\"468.02\" r=\"14.4\" fill=\"#fcfea4\" fill-rule=\"evenodd\" fill-opacity=\"1\" stroke=\"#000000\" stroke-opacity=\"1\" stroke-width=\"3.2\"/>\n",
       "<circle clip-path=\"url(#clip302)\" cx=\"675.201\" cy=\"85.838\" r=\"14.4\" fill=\"#fcfea4\" fill-rule=\"evenodd\" fill-opacity=\"1\" stroke=\"#000000\" stroke-opacity=\"1\" stroke-width=\"3.2\"/>\n",
       "<circle clip-path=\"url(#clip302)\" cx=\"1321.51\" cy=\"492.883\" r=\"14.4\" fill=\"#fcfea4\" fill-rule=\"evenodd\" fill-opacity=\"1\" stroke=\"#000000\" stroke-opacity=\"1\" stroke-width=\"3.2\"/>\n",
       "<circle clip-path=\"url(#clip302)\" cx=\"688.446\" cy=\"836.276\" r=\"14.4\" fill=\"#fcfea4\" fill-rule=\"evenodd\" fill-opacity=\"1\" stroke=\"#000000\" stroke-opacity=\"1\" stroke-width=\"3.2\"/>\n",
       "<circle clip-path=\"url(#clip302)\" cx=\"1309.13\" cy=\"411.088\" r=\"14.4\" fill=\"#fcfea4\" fill-rule=\"evenodd\" fill-opacity=\"1\" stroke=\"#000000\" stroke-opacity=\"1\" stroke-width=\"3.2\"/>\n",
       "<circle clip-path=\"url(#clip302)\" cx=\"1738.84\" cy=\"442.091\" r=\"14.4\" fill=\"#fcfea4\" fill-rule=\"evenodd\" fill-opacity=\"1\" stroke=\"#000000\" stroke-opacity=\"1\" stroke-width=\"3.2\"/>\n",
       "<circle clip-path=\"url(#clip302)\" cx=\"1562.37\" cy=\"434.908\" r=\"14.4\" fill=\"#fcfea4\" fill-rule=\"evenodd\" fill-opacity=\"1\" stroke=\"#000000\" stroke-opacity=\"1\" stroke-width=\"3.2\"/>\n",
       "<circle clip-path=\"url(#clip302)\" cx=\"1224.11\" cy=\"400.307\" r=\"14.4\" fill=\"#fcfea4\" fill-rule=\"evenodd\" fill-opacity=\"1\" stroke=\"#000000\" stroke-opacity=\"1\" stroke-width=\"3.2\"/>\n",
       "<circle clip-path=\"url(#clip302)\" cx=\"1676.2\" cy=\"440.455\" r=\"14.4\" fill=\"#fcfea4\" fill-rule=\"evenodd\" fill-opacity=\"1\" stroke=\"#000000\" stroke-opacity=\"1\" stroke-width=\"3.2\"/>\n",
       "<circle clip-path=\"url(#clip302)\" cx=\"1669.44\" cy=\"440.719\" r=\"14.4\" fill=\"#fcfea4\" fill-rule=\"evenodd\" fill-opacity=\"1\" stroke=\"#000000\" stroke-opacity=\"1\" stroke-width=\"3.2\"/>\n",
       "<circle clip-path=\"url(#clip302)\" cx=\"1781.4\" cy=\"459.546\" r=\"14.4\" fill=\"#fcfea4\" fill-rule=\"evenodd\" fill-opacity=\"1\" stroke=\"#000000\" stroke-opacity=\"1\" stroke-width=\"3.2\"/>\n",
       "<circle clip-path=\"url(#clip302)\" cx=\"1459\" cy=\"472.796\" r=\"14.4\" fill=\"#fcfea4\" fill-rule=\"evenodd\" fill-opacity=\"1\" stroke=\"#000000\" stroke-opacity=\"1\" stroke-width=\"3.2\"/>\n",
       "<circle clip-path=\"url(#clip302)\" cx=\"1667.57\" cy=\"462.171\" r=\"14.4\" fill=\"#fcfea4\" fill-rule=\"evenodd\" fill-opacity=\"1\" stroke=\"#000000\" stroke-opacity=\"1\" stroke-width=\"3.2\"/>\n",
       "<circle clip-path=\"url(#clip302)\" cx=\"1266.48\" cy=\"412.865\" r=\"14.4\" fill=\"#fcfea4\" fill-rule=\"evenodd\" fill-opacity=\"1\" stroke=\"#000000\" stroke-opacity=\"1\" stroke-width=\"3.2\"/>\n",
       "<circle clip-path=\"url(#clip302)\" cx=\"1116.71\" cy=\"388.157\" r=\"14.4\" fill=\"#fcfea4\" fill-rule=\"evenodd\" fill-opacity=\"1\" stroke=\"#000000\" stroke-opacity=\"1\" stroke-width=\"3.2\"/>\n",
       "<circle clip-path=\"url(#clip302)\" cx=\"1239.47\" cy=\"410.326\" r=\"14.4\" fill=\"#fcfea4\" fill-rule=\"evenodd\" fill-opacity=\"1\" stroke=\"#000000\" stroke-opacity=\"1\" stroke-width=\"3.2\"/>\n",
       "<circle clip-path=\"url(#clip302)\" cx=\"1678.65\" cy=\"461.097\" r=\"14.4\" fill=\"#fcfea4\" fill-rule=\"evenodd\" fill-opacity=\"1\" stroke=\"#000000\" stroke-opacity=\"1\" stroke-width=\"3.2\"/>\n",
       "<circle clip-path=\"url(#clip302)\" cx=\"415.703\" cy=\"1372.3\" r=\"14.4\" fill=\"#fcfea4\" fill-rule=\"evenodd\" fill-opacity=\"1\" stroke=\"#000000\" stroke-opacity=\"1\" stroke-width=\"3.2\"/>\n",
       "<circle clip-path=\"url(#clip302)\" cx=\"1000.15\" cy=\"362.497\" r=\"14.4\" fill=\"#fcfea4\" fill-rule=\"evenodd\" fill-opacity=\"1\" stroke=\"#000000\" stroke-opacity=\"1\" stroke-width=\"3.2\"/>\n",
       "<circle clip-path=\"url(#clip302)\" cx=\"1598.4\" cy=\"463.491\" r=\"14.4\" fill=\"#fcfea4\" fill-rule=\"evenodd\" fill-opacity=\"1\" stroke=\"#000000\" stroke-opacity=\"1\" stroke-width=\"3.2\"/>\n",
       "<circle clip-path=\"url(#clip302)\" cx=\"1251.55\" cy=\"489.019\" r=\"14.4\" fill=\"#fcfea4\" fill-rule=\"evenodd\" fill-opacity=\"1\" stroke=\"#000000\" stroke-opacity=\"1\" stroke-width=\"3.2\"/>\n",
       "<circle clip-path=\"url(#clip302)\" cx=\"1703.31\" cy=\"459.926\" r=\"14.4\" fill=\"#fcfea4\" fill-rule=\"evenodd\" fill-opacity=\"1\" stroke=\"#000000\" stroke-opacity=\"1\" stroke-width=\"3.2\"/>\n",
       "<circle clip-path=\"url(#clip302)\" cx=\"688.446\" cy=\"729.07\" r=\"14.4\" fill=\"#fcfea4\" fill-rule=\"evenodd\" fill-opacity=\"1\" stroke=\"#000000\" stroke-opacity=\"1\" stroke-width=\"3.2\"/>\n",
       "<circle clip-path=\"url(#clip302)\" cx=\"1162.39\" cy=\"500.366\" r=\"14.4\" fill=\"#fcfea4\" fill-rule=\"evenodd\" fill-opacity=\"1\" stroke=\"#000000\" stroke-opacity=\"1\" stroke-width=\"3.2\"/>\n",
       "<circle clip-path=\"url(#clip302)\" cx=\"1453.35\" cy=\"433.874\" r=\"14.4\" fill=\"#fcfea4\" fill-rule=\"evenodd\" fill-opacity=\"1\" stroke=\"#000000\" stroke-opacity=\"1\" stroke-width=\"3.2\"/>\n",
       "<circle clip-path=\"url(#clip302)\" cx=\"1313.16\" cy=\"480.448\" r=\"14.4\" fill=\"#fcfea4\" fill-rule=\"evenodd\" fill-opacity=\"1\" stroke=\"#000000\" stroke-opacity=\"1\" stroke-width=\"3.2\"/>\n",
       "<circle clip-path=\"url(#clip302)\" cx=\"896.264\" cy=\"332.182\" r=\"14.4\" fill=\"#fcfea4\" fill-rule=\"evenodd\" fill-opacity=\"1\" stroke=\"#000000\" stroke-opacity=\"1\" stroke-width=\"3.2\"/>\n",
       "<circle clip-path=\"url(#clip302)\" cx=\"1557.94\" cy=\"439.527\" r=\"14.4\" fill=\"#fcfea4\" fill-rule=\"evenodd\" fill-opacity=\"1\" stroke=\"#000000\" stroke-opacity=\"1\" stroke-width=\"3.2\"/>\n",
       "<circle clip-path=\"url(#clip302)\" cx=\"1390.96\" cy=\"473.263\" r=\"14.4\" fill=\"#fcfea4\" fill-rule=\"evenodd\" fill-opacity=\"1\" stroke=\"#000000\" stroke-opacity=\"1\" stroke-width=\"3.2\"/>\n",
       "<circle clip-path=\"url(#clip302)\" cx=\"967.403\" cy=\"360.284\" r=\"14.4\" fill=\"#fcfea4\" fill-rule=\"evenodd\" fill-opacity=\"1\" stroke=\"#000000\" stroke-opacity=\"1\" stroke-width=\"3.2\"/>\n",
       "<circle clip-path=\"url(#clip302)\" cx=\"1468.95\" cy=\"435.594\" r=\"14.4\" fill=\"#fcfea4\" fill-rule=\"evenodd\" fill-opacity=\"1\" stroke=\"#000000\" stroke-opacity=\"1\" stroke-width=\"3.2\"/>\n",
       "<circle clip-path=\"url(#clip302)\" cx=\"1070.87\" cy=\"390.07\" r=\"14.4\" fill=\"#fcfea4\" fill-rule=\"evenodd\" fill-opacity=\"1\" stroke=\"#000000\" stroke-opacity=\"1\" stroke-width=\"3.2\"/>\n",
       "<circle clip-path=\"url(#clip302)\" cx=\"2060.25\" cy=\"449.67\" r=\"14.4\" fill=\"#fcfea4\" fill-rule=\"evenodd\" fill-opacity=\"1\" stroke=\"#000000\" stroke-opacity=\"1\" stroke-width=\"3.2\"/>\n",
       "<circle clip-path=\"url(#clip302)\" cx=\"1229.28\" cy=\"417.433\" r=\"14.4\" fill=\"#fcfea4\" fill-rule=\"evenodd\" fill-opacity=\"1\" stroke=\"#000000\" stroke-opacity=\"1\" stroke-width=\"3.2\"/>\n",
       "<circle clip-path=\"url(#clip302)\" cx=\"1129.82\" cy=\"404.504\" r=\"14.4\" fill=\"#fcfea4\" fill-rule=\"evenodd\" fill-opacity=\"1\" stroke=\"#000000\" stroke-opacity=\"1\" stroke-width=\"3.2\"/>\n",
       "<circle clip-path=\"url(#clip302)\" cx=\"842.433\" cy=\"319.741\" r=\"14.4\" fill=\"#fcfea4\" fill-rule=\"evenodd\" fill-opacity=\"1\" stroke=\"#000000\" stroke-opacity=\"1\" stroke-width=\"3.2\"/>\n",
       "<circle clip-path=\"url(#clip302)\" cx=\"1143.19\" cy=\"496.642\" r=\"14.4\" fill=\"#fcfea4\" fill-rule=\"evenodd\" fill-opacity=\"1\" stroke=\"#000000\" stroke-opacity=\"1\" stroke-width=\"3.2\"/>\n",
       "<circle clip-path=\"url(#clip302)\" cx=\"1574.53\" cy=\"462.116\" r=\"14.4\" fill=\"#fcfea4\" fill-rule=\"evenodd\" fill-opacity=\"1\" stroke=\"#000000\" stroke-opacity=\"1\" stroke-width=\"3.2\"/>\n",
       "<circle clip-path=\"url(#clip302)\" cx=\"582.935\" cy=\"85.838\" r=\"14.4\" fill=\"#fcfea4\" fill-rule=\"evenodd\" fill-opacity=\"1\" stroke=\"#000000\" stroke-opacity=\"1\" stroke-width=\"3.2\"/>\n",
       "<circle clip-path=\"url(#clip302)\" cx=\"1079.86\" cy=\"397.212\" r=\"14.4\" fill=\"#fcfea4\" fill-rule=\"evenodd\" fill-opacity=\"1\" stroke=\"#000000\" stroke-opacity=\"1\" stroke-width=\"3.2\"/>\n",
       "<circle clip-path=\"url(#clip302)\" cx=\"1474.34\" cy=\"438.143\" r=\"14.4\" fill=\"#fcfea4\" fill-rule=\"evenodd\" fill-opacity=\"1\" stroke=\"#000000\" stroke-opacity=\"1\" stroke-width=\"3.2\"/>\n",
       "<circle clip-path=\"url(#clip302)\" cx=\"1198.37\" cy=\"416.858\" r=\"14.4\" fill=\"#fcfea4\" fill-rule=\"evenodd\" fill-opacity=\"1\" stroke=\"#000000\" stroke-opacity=\"1\" stroke-width=\"3.2\"/>\n",
       "<circle clip-path=\"url(#clip302)\" cx=\"1260.39\" cy=\"423.723\" r=\"14.4\" fill=\"#fcfea4\" fill-rule=\"evenodd\" fill-opacity=\"1\" stroke=\"#000000\" stroke-opacity=\"1\" stroke-width=\"3.2\"/>\n",
       "<circle clip-path=\"url(#clip302)\" cx=\"1126.29\" cy=\"496.54\" r=\"14.4\" fill=\"#fcfea4\" fill-rule=\"evenodd\" fill-opacity=\"1\" stroke=\"#000000\" stroke-opacity=\"1\" stroke-width=\"3.2\"/>\n",
       "<circle clip-path=\"url(#clip302)\" cx=\"1458.68\" cy=\"437.558\" r=\"14.4\" fill=\"#fcfea4\" fill-rule=\"evenodd\" fill-opacity=\"1\" stroke=\"#000000\" stroke-opacity=\"1\" stroke-width=\"3.2\"/>\n",
       "<circle clip-path=\"url(#clip302)\" cx=\"626.726\" cy=\"729.07\" r=\"14.4\" fill=\"#fcfea4\" fill-rule=\"evenodd\" fill-opacity=\"1\" stroke=\"#000000\" stroke-opacity=\"1\" stroke-width=\"3.2\"/>\n",
       "<circle clip-path=\"url(#clip302)\" cx=\"1061.32\" cy=\"400.513\" r=\"14.4\" fill=\"#fcfea4\" fill-rule=\"evenodd\" fill-opacity=\"1\" stroke=\"#000000\" stroke-opacity=\"1\" stroke-width=\"3.2\"/>\n",
       "<circle clip-path=\"url(#clip302)\" cx=\"811.887\" cy=\"324.072\" r=\"14.4\" fill=\"#fcfea4\" fill-rule=\"evenodd\" fill-opacity=\"1\" stroke=\"#000000\" stroke-opacity=\"1\" stroke-width=\"3.2\"/>\n",
       "<circle clip-path=\"url(#clip302)\" cx=\"741.466\" cy=\"615.559\" r=\"14.4\" fill=\"#fcfea4\" fill-rule=\"evenodd\" fill-opacity=\"1\" stroke=\"#000000\" stroke-opacity=\"1\" stroke-width=\"3.2\"/>\n",
       "<circle clip-path=\"url(#clip302)\" cx=\"1782.66\" cy=\"447.719\" r=\"14.4\" fill=\"#fcfea4\" fill-rule=\"evenodd\" fill-opacity=\"1\" stroke=\"#000000\" stroke-opacity=\"1\" stroke-width=\"3.2\"/>\n",
       "<circle clip-path=\"url(#clip302)\" cx=\"1004.98\" cy=\"394.054\" r=\"14.4\" fill=\"#fcfea4\" fill-rule=\"evenodd\" fill-opacity=\"1\" stroke=\"#000000\" stroke-opacity=\"1\" stroke-width=\"3.2\"/>\n",
       "<circle clip-path=\"url(#clip302)\" cx=\"1922.32\" cy=\"454.268\" r=\"14.4\" fill=\"#fcfea4\" fill-rule=\"evenodd\" fill-opacity=\"1\" stroke=\"#000000\" stroke-opacity=\"1\" stroke-width=\"3.2\"/>\n",
       "<circle clip-path=\"url(#clip302)\" cx=\"1018.62\" cy=\"502.408\" r=\"14.4\" fill=\"#fcfea4\" fill-rule=\"evenodd\" fill-opacity=\"1\" stroke=\"#000000\" stroke-opacity=\"1\" stroke-width=\"3.2\"/>\n",
       "<circle clip-path=\"url(#clip302)\" cx=\"1275.86\" cy=\"431.759\" r=\"14.4\" fill=\"#fcfea4\" fill-rule=\"evenodd\" fill-opacity=\"1\" stroke=\"#000000\" stroke-opacity=\"1\" stroke-width=\"3.2\"/>\n",
       "<circle clip-path=\"url(#clip302)\" cx=\"644.655\" cy=\"228.779\" r=\"14.4\" fill=\"#fcfea4\" fill-rule=\"evenodd\" fill-opacity=\"1\" stroke=\"#000000\" stroke-opacity=\"1\" stroke-width=\"3.2\"/>\n",
       "<circle clip-path=\"url(#clip302)\" cx=\"1382.71\" cy=\"464.606\" r=\"14.4\" fill=\"#fcfea4\" fill-rule=\"evenodd\" fill-opacity=\"1\" stroke=\"#000000\" stroke-opacity=\"1\" stroke-width=\"3.2\"/>\n",
       "<circle clip-path=\"url(#clip302)\" cx=\"1543.11\" cy=\"444.47\" r=\"14.4\" fill=\"#fcfea4\" fill-rule=\"evenodd\" fill-opacity=\"1\" stroke=\"#000000\" stroke-opacity=\"1\" stroke-width=\"3.2\"/>\n",
       "<circle clip-path=\"url(#clip302)\" cx=\"1599.68\" cy=\"457.902\" r=\"14.4\" fill=\"#fcfea4\" fill-rule=\"evenodd\" fill-opacity=\"1\" stroke=\"#000000\" stroke-opacity=\"1\" stroke-width=\"3.2\"/>\n",
       "<circle clip-path=\"url(#clip302)\" cx=\"1562.77\" cy=\"458.353\" r=\"14.4\" fill=\"#fcfea4\" fill-rule=\"evenodd\" fill-opacity=\"1\" stroke=\"#000000\" stroke-opacity=\"1\" stroke-width=\"3.2\"/>\n",
       "<circle clip-path=\"url(#clip302)\" cx=\"1370.13\" cy=\"464.353\" r=\"14.4\" fill=\"#fcfea4\" fill-rule=\"evenodd\" fill-opacity=\"1\" stroke=\"#000000\" stroke-opacity=\"1\" stroke-width=\"3.2\"/>\n",
       "<circle clip-path=\"url(#clip302)\" cx=\"1088.34\" cy=\"419.079\" r=\"14.4\" fill=\"#fcfea4\" fill-rule=\"evenodd\" fill-opacity=\"1\" stroke=\"#000000\" stroke-opacity=\"1\" stroke-width=\"3.2\"/>\n",
       "<circle clip-path=\"url(#clip302)\" cx=\"1482.82\" cy=\"444.028\" r=\"14.4\" fill=\"#fcfea4\" fill-rule=\"evenodd\" fill-opacity=\"1\" stroke=\"#000000\" stroke-opacity=\"1\" stroke-width=\"3.2\"/>\n",
       "<circle clip-path=\"url(#clip302)\" cx=\"1836.1\" cy=\"454.197\" r=\"14.4\" fill=\"#fcfea4\" fill-rule=\"evenodd\" fill-opacity=\"1\" stroke=\"#000000\" stroke-opacity=\"1\" stroke-width=\"3.2\"/>\n",
       "<circle clip-path=\"url(#clip302)\" cx=\"1015.69\" cy=\"410.577\" r=\"14.4\" fill=\"#fcfea4\" fill-rule=\"evenodd\" fill-opacity=\"1\" stroke=\"#000000\" stroke-opacity=\"1\" stroke-width=\"3.2\"/>\n",
       "<circle clip-path=\"url(#clip302)\" cx=\"310.192\" cy=\"1372.3\" r=\"14.4\" fill=\"#fcfea4\" fill-rule=\"evenodd\" fill-opacity=\"1\" stroke=\"#000000\" stroke-opacity=\"1\" stroke-width=\"3.2\"/>\n",
       "<circle clip-path=\"url(#clip302)\" cx=\"310.192\" cy=\"1372.3\" r=\"14.4\" fill=\"#fcfea4\" fill-rule=\"evenodd\" fill-opacity=\"1\" stroke=\"#000000\" stroke-opacity=\"1\" stroke-width=\"3.2\"/>\n",
       "<circle clip-path=\"url(#clip302)\" cx=\"1028.45\" cy=\"487.858\" r=\"14.4\" fill=\"#fcfea4\" fill-rule=\"evenodd\" fill-opacity=\"1\" stroke=\"#000000\" stroke-opacity=\"1\" stroke-width=\"3.2\"/>\n",
       "<circle clip-path=\"url(#clip302)\" cx=\"626.726\" cy=\"246.646\" r=\"14.4\" fill=\"#fcfea4\" fill-rule=\"evenodd\" fill-opacity=\"1\" stroke=\"#000000\" stroke-opacity=\"1\" stroke-width=\"3.2\"/>\n",
       "<circle clip-path=\"url(#clip302)\" cx=\"626.726\" cy=\"246.646\" r=\"14.4\" fill=\"#fcfea4\" fill-rule=\"evenodd\" fill-opacity=\"1\" stroke=\"#000000\" stroke-opacity=\"1\" stroke-width=\"3.2\"/>\n",
       "<circle clip-path=\"url(#clip302)\" cx=\"1167.92\" cy=\"430.427\" r=\"14.4\" fill=\"#fcfea4\" fill-rule=\"evenodd\" fill-opacity=\"1\" stroke=\"#000000\" stroke-opacity=\"1\" stroke-width=\"3.2\"/>\n",
       "<circle clip-path=\"url(#clip302)\" cx=\"1136.65\" cy=\"475.163\" r=\"14.4\" fill=\"#fcfea4\" fill-rule=\"evenodd\" fill-opacity=\"1\" stroke=\"#000000\" stroke-opacity=\"1\" stroke-width=\"3.2\"/>\n",
       "<circle clip-path=\"url(#clip302)\" cx=\"1814.24\" cy=\"454.076\" r=\"14.4\" fill=\"#fcfea4\" fill-rule=\"evenodd\" fill-opacity=\"1\" stroke=\"#000000\" stroke-opacity=\"1\" stroke-width=\"3.2\"/>\n",
       "<circle clip-path=\"url(#clip302)\" cx=\"1435.23\" cy=\"459.635\" r=\"14.4\" fill=\"#fcfea4\" fill-rule=\"evenodd\" fill-opacity=\"1\" stroke=\"#000000\" stroke-opacity=\"1\" stroke-width=\"3.2\"/>\n",
       "<circle clip-path=\"url(#clip302)\" cx=\"1601.01\" cy=\"456.261\" r=\"14.4\" fill=\"#fcfea4\" fill-rule=\"evenodd\" fill-opacity=\"1\" stroke=\"#000000\" stroke-opacity=\"1\" stroke-width=\"3.2\"/>\n",
       "<circle clip-path=\"url(#clip302)\" cx=\"1079.86\" cy=\"479.152\" r=\"14.4\" fill=\"#fcfea4\" fill-rule=\"evenodd\" fill-opacity=\"1\" stroke=\"#000000\" stroke-opacity=\"1\" stroke-width=\"3.2\"/>\n",
       "<circle clip-path=\"url(#clip302)\" cx=\"902.608\" cy=\"505.908\" r=\"14.4\" fill=\"#fcfea4\" fill-rule=\"evenodd\" fill-opacity=\"1\" stroke=\"#000000\" stroke-opacity=\"1\" stroke-width=\"3.2\"/>\n",
       "<circle clip-path=\"url(#clip302)\" cx=\"969.42\" cy=\"492.09\" r=\"14.4\" fill=\"#fcfea4\" fill-rule=\"evenodd\" fill-opacity=\"1\" stroke=\"#000000\" stroke-opacity=\"1\" stroke-width=\"3.2\"/>\n",
       "<circle clip-path=\"url(#clip302)\" cx=\"1533.87\" cy=\"446.579\" r=\"14.4\" fill=\"#fcfea4\" fill-rule=\"evenodd\" fill-opacity=\"1\" stroke=\"#000000\" stroke-opacity=\"1\" stroke-width=\"3.2\"/>\n",
       "<circle clip-path=\"url(#clip302)\" cx=\"1366.49\" cy=\"461.057\" r=\"14.4\" fill=\"#fcfea4\" fill-rule=\"evenodd\" fill-opacity=\"1\" stroke=\"#000000\" stroke-opacity=\"1\" stroke-width=\"3.2\"/>\n",
       "<circle clip-path=\"url(#clip302)\" cx=\"1329.05\" cy=\"462.053\" r=\"14.4\" fill=\"#fcfea4\" fill-rule=\"evenodd\" fill-opacity=\"1\" stroke=\"#000000\" stroke-opacity=\"1\" stroke-width=\"3.2\"/>\n",
       "<circle clip-path=\"url(#clip302)\" cx=\"933.436\" cy=\"493.219\" r=\"14.4\" fill=\"#fcfea4\" fill-rule=\"evenodd\" fill-opacity=\"1\" stroke=\"#000000\" stroke-opacity=\"1\" stroke-width=\"3.2\"/>\n",
       "<circle clip-path=\"url(#clip302)\" cx=\"1058\" cy=\"426.373\" r=\"14.4\" fill=\"#fcfea4\" fill-rule=\"evenodd\" fill-opacity=\"1\" stroke=\"#000000\" stroke-opacity=\"1\" stroke-width=\"3.2\"/>\n",
       "<circle clip-path=\"url(#clip302)\" cx=\"1159.54\" cy=\"435.368\" r=\"14.4\" fill=\"#fcfea4\" fill-rule=\"evenodd\" fill-opacity=\"1\" stroke=\"#000000\" stroke-opacity=\"1\" stroke-width=\"3.2\"/>\n",
       "<circle clip-path=\"url(#clip302)\" cx=\"477.424\" cy=\"85.838\" r=\"14.4\" fill=\"#fcfea4\" fill-rule=\"evenodd\" fill-opacity=\"1\" stroke=\"#000000\" stroke-opacity=\"1\" stroke-width=\"3.2\"/>\n",
       "<circle clip-path=\"url(#clip302)\" cx=\"1166.83\" cy=\"437.533\" r=\"14.4\" fill=\"#fcfea4\" fill-rule=\"evenodd\" fill-opacity=\"1\" stroke=\"#000000\" stroke-opacity=\"1\" stroke-width=\"3.2\"/>\n",
       "<circle clip-path=\"url(#clip302)\" cx=\"1029.8\" cy=\"427.377\" r=\"14.4\" fill=\"#fcfea4\" fill-rule=\"evenodd\" fill-opacity=\"1\" stroke=\"#000000\" stroke-opacity=\"1\" stroke-width=\"3.2\"/>\n",
       "<circle clip-path=\"url(#clip302)\" cx=\"1052.3\" cy=\"429.55\" r=\"14.4\" fill=\"#fcfea4\" fill-rule=\"evenodd\" fill-opacity=\"1\" stroke=\"#000000\" stroke-opacity=\"1\" stroke-width=\"3.2\"/>\n",
       "<circle clip-path=\"url(#clip302)\" cx=\"1220.3\" cy=\"440.837\" r=\"14.4\" fill=\"#fcfea4\" fill-rule=\"evenodd\" fill-opacity=\"1\" stroke=\"#000000\" stroke-opacity=\"1\" stroke-width=\"3.2\"/>\n",
       "<circle clip-path=\"url(#clip302)\" cx=\"1555.19\" cy=\"454.997\" r=\"14.4\" fill=\"#fcfea4\" fill-rule=\"evenodd\" fill-opacity=\"1\" stroke=\"#000000\" stroke-opacity=\"1\" stroke-width=\"3.2\"/>\n",
       "<circle clip-path=\"url(#clip302)\" cx=\"1380.57\" cy=\"457.458\" r=\"14.4\" fill=\"#fcfea4\" fill-rule=\"evenodd\" fill-opacity=\"1\" stroke=\"#000000\" stroke-opacity=\"1\" stroke-width=\"3.2\"/>\n",
       "<circle clip-path=\"url(#clip302)\" cx=\"1327.54\" cy=\"457.77\" r=\"14.4\" fill=\"#fcfea4\" fill-rule=\"evenodd\" fill-opacity=\"1\" stroke=\"#000000\" stroke-opacity=\"1\" stroke-width=\"3.2\"/>\n",
       "<circle clip-path=\"url(#clip302)\" cx=\"1257.1\" cy=\"459.245\" r=\"14.4\" fill=\"#fcfea4\" fill-rule=\"evenodd\" fill-opacity=\"1\" stroke=\"#000000\" stroke-opacity=\"1\" stroke-width=\"3.2\"/>\n",
       "<circle clip-path=\"url(#clip302)\" cx=\"1441.39\" cy=\"455.468\" r=\"14.4\" fill=\"#fcfea4\" fill-rule=\"evenodd\" fill-opacity=\"1\" stroke=\"#000000\" stroke-opacity=\"1\" stroke-width=\"3.2\"/>\n",
       "<circle clip-path=\"url(#clip302)\" cx=\"626.726\" cy=\"568.262\" r=\"14.4\" fill=\"#fcfea4\" fill-rule=\"evenodd\" fill-opacity=\"1\" stroke=\"#000000\" stroke-opacity=\"1\" stroke-width=\"3.2\"/>\n",
       "<circle clip-path=\"url(#clip302)\" cx=\"1251.23\" cy=\"444.666\" r=\"14.4\" fill=\"#fcfea4\" fill-rule=\"evenodd\" fill-opacity=\"1\" stroke=\"#000000\" stroke-opacity=\"1\" stroke-width=\"3.2\"/>\n",
       "<circle clip-path=\"url(#clip302)\" cx=\"1615.58\" cy=\"450.106\" r=\"14.4\" fill=\"#fcfea4\" fill-rule=\"evenodd\" fill-opacity=\"1\" stroke=\"#000000\" stroke-opacity=\"1\" stroke-width=\"3.2\"/>\n",
       "<circle clip-path=\"url(#clip302)\" cx=\"1349.33\" cy=\"448.615\" r=\"14.4\" fill=\"#fcfea4\" fill-rule=\"evenodd\" fill-opacity=\"1\" stroke=\"#000000\" stroke-opacity=\"1\" stroke-width=\"3.2\"/>\n",
       "<circle clip-path=\"url(#clip302)\" cx=\"1485.61\" cy=\"453.481\" r=\"14.4\" fill=\"#fcfea4\" fill-rule=\"evenodd\" fill-opacity=\"1\" stroke=\"#000000\" stroke-opacity=\"1\" stroke-width=\"3.2\"/>\n",
       "<circle clip-path=\"url(#clip302)\" cx=\"1105.66\" cy=\"459.328\" r=\"14.4\" fill=\"#fcfea4\" fill-rule=\"evenodd\" fill-opacity=\"1\" stroke=\"#000000\" stroke-opacity=\"1\" stroke-width=\"3.2\"/>\n",
       "<circle clip-path=\"url(#clip302)\" cx=\"1516.79\" cy=\"453.2\" r=\"14.4\" fill=\"#fcfea4\" fill-rule=\"evenodd\" fill-opacity=\"1\" stroke=\"#000000\" stroke-opacity=\"1\" stroke-width=\"3.2\"/>\n",
       "<circle clip-path=\"url(#clip302)\" cx=\"688.446\" cy=\"514.66\" r=\"14.4\" fill=\"#fcfea4\" fill-rule=\"evenodd\" fill-opacity=\"1\" stroke=\"#000000\" stroke-opacity=\"1\" stroke-width=\"3.2\"/>\n",
       "<circle clip-path=\"url(#clip302)\" cx=\"832.916\" cy=\"417.829\" r=\"14.4\" fill=\"#fcfea4\" fill-rule=\"evenodd\" fill-opacity=\"1\" stroke=\"#000000\" stroke-opacity=\"1\" stroke-width=\"3.2\"/>\n",
       "<circle clip-path=\"url(#clip302)\" cx=\"889.645\" cy=\"428.895\" r=\"14.4\" fill=\"#fcfea4\" fill-rule=\"evenodd\" fill-opacity=\"1\" stroke=\"#000000\" stroke-opacity=\"1\" stroke-width=\"3.2\"/>\n",
       "<circle clip-path=\"url(#clip302)\" cx=\"1285.45\" cy=\"448.85\" r=\"14.4\" fill=\"#fcfea4\" fill-rule=\"evenodd\" fill-opacity=\"1\" stroke=\"#000000\" stroke-opacity=\"1\" stroke-width=\"3.2\"/>\n",
       "<circle clip-path=\"url(#clip302)\" cx=\"935.952\" cy=\"465.451\" r=\"14.4\" fill=\"#fcfea4\" fill-rule=\"evenodd\" fill-opacity=\"1\" stroke=\"#000000\" stroke-opacity=\"1\" stroke-width=\"3.2\"/>\n",
       "<circle clip-path=\"url(#clip302)\" cx=\"1893.59\" cy=\"451.998\" r=\"14.4\" fill=\"#fcfea4\" fill-rule=\"evenodd\" fill-opacity=\"1\" stroke=\"#000000\" stroke-opacity=\"1\" stroke-width=\"3.2\"/>\n",
       "<circle clip-path=\"url(#clip302)\" cx=\"989.996\" cy=\"440.725\" r=\"14.4\" fill=\"#fcfea4\" fill-rule=\"evenodd\" fill-opacity=\"1\" stroke=\"#000000\" stroke-opacity=\"1\" stroke-width=\"3.2\"/>\n",
       "<circle clip-path=\"url(#clip302)\" cx=\"1199.26\" cy=\"448.591\" r=\"14.4\" fill=\"#fcfea4\" fill-rule=\"evenodd\" fill-opacity=\"1\" stroke=\"#000000\" stroke-opacity=\"1\" stroke-width=\"3.2\"/>\n",
       "<circle clip-path=\"url(#clip302)\" cx=\"1460.36\" cy=\"452.534\" r=\"14.4\" fill=\"#fcfea4\" fill-rule=\"evenodd\" fill-opacity=\"1\" stroke=\"#000000\" stroke-opacity=\"1\" stroke-width=\"3.2\"/>\n",
       "<circle clip-path=\"url(#clip302)\" cx=\"415.703\" cy=\"729.07\" r=\"14.4\" fill=\"#fcfea4\" fill-rule=\"evenodd\" fill-opacity=\"1\" stroke=\"#000000\" stroke-opacity=\"1\" stroke-width=\"3.2\"/>\n",
       "<circle clip-path=\"url(#clip302)\" cx=\"1137.98\" cy=\"454.997\" r=\"14.4\" fill=\"#fcfea4\" fill-rule=\"evenodd\" fill-opacity=\"1\" stroke=\"#000000\" stroke-opacity=\"1\" stroke-width=\"3.2\"/>\n",
       "<circle clip-path=\"url(#clip302)\" cx=\"1107.29\" cy=\"455.354\" r=\"14.4\" fill=\"#fcfea4\" fill-rule=\"evenodd\" fill-opacity=\"1\" stroke=\"#000000\" stroke-opacity=\"1\" stroke-width=\"3.2\"/>\n",
       "<circle clip-path=\"url(#clip302)\" cx=\"1225.98\" cy=\"449.813\" r=\"14.4\" fill=\"#fcfea4\" fill-rule=\"evenodd\" fill-opacity=\"1\" stroke=\"#000000\" stroke-opacity=\"1\" stroke-width=\"3.2\"/>\n",
       "<circle clip-path=\"url(#clip302)\" cx=\"1509.76\" cy=\"451.593\" r=\"14.4\" fill=\"#fcfea4\" fill-rule=\"evenodd\" fill-opacity=\"1\" stroke=\"#000000\" stroke-opacity=\"1\" stroke-width=\"3.2\"/>\n",
       "<circle clip-path=\"url(#clip302)\" cx=\"1189.2\" cy=\"453.399\" r=\"14.4\" fill=\"#fcfea4\" fill-rule=\"evenodd\" fill-opacity=\"1\" stroke=\"#000000\" stroke-opacity=\"1\" stroke-width=\"3.2\"/>\n",
       "<circle clip-path=\"url(#clip302)\" cx=\"1041.46\" cy=\"454.906\" r=\"14.4\" fill=\"#fcfea4\" fill-rule=\"evenodd\" fill-opacity=\"1\" stroke=\"#000000\" stroke-opacity=\"1\" stroke-width=\"3.2\"/>\n",
       "<circle clip-path=\"url(#clip302)\" cx=\"995.157\" cy=\"457.483\" r=\"14.4\" fill=\"#fcfea4\" fill-rule=\"evenodd\" fill-opacity=\"1\" stroke=\"#000000\" stroke-opacity=\"1\" stroke-width=\"3.2\"/>\n",
       "<circle clip-path=\"url(#clip302)\" cx=\"817.423\" cy=\"453.399\" r=\"14.4\" fill=\"#fcfea4\" fill-rule=\"evenodd\" fill-opacity=\"1\" stroke=\"#000000\" stroke-opacity=\"1\" stroke-width=\"3.2\"/>\n",
       "<circle clip-path=\"url(#clip302)\" cx=\"688.446\" cy=\"407.454\" r=\"14.4\" fill=\"#fcfea4\" fill-rule=\"evenodd\" fill-opacity=\"1\" stroke=\"#000000\" stroke-opacity=\"1\" stroke-width=\"3.2\"/>\n",
       "<circle clip-path=\"url(#clip302)\" cx=\"660.693\" cy=\"471.777\" r=\"14.4\" fill=\"#fcfea4\" fill-rule=\"evenodd\" fill-opacity=\"1\" stroke=\"#000000\" stroke-opacity=\"1\" stroke-width=\"3.2\"/>\n",
       "<circle clip-path=\"url(#clip302)\" cx=\"837.749\" cy=\"447.656\" r=\"14.4\" fill=\"#fcfea4\" fill-rule=\"evenodd\" fill-opacity=\"1\" stroke=\"#000000\" stroke-opacity=\"1\" stroke-width=\"3.2\"/>\n",
       "<circle clip-path=\"url(#clip302)\" cx=\"660.693\" cy=\"471.777\" r=\"14.4\" fill=\"#fcfea4\" fill-rule=\"evenodd\" fill-opacity=\"1\" stroke=\"#000000\" stroke-opacity=\"1\" stroke-width=\"3.2\"/>\n",
       "<circle clip-path=\"url(#clip302)\" cx=\"310.192\" cy=\"85.838\" r=\"14.4\" fill=\"#fcfea4\" fill-rule=\"evenodd\" fill-opacity=\"1\" stroke=\"#000000\" stroke-opacity=\"1\" stroke-width=\"3.2\"/>\n",
       "<circle clip-path=\"url(#clip302)\" cx=\"415.703\" cy=\"85.838\" r=\"14.4\" fill=\"#fcfea4\" fill-rule=\"evenodd\" fill-opacity=\"1\" stroke=\"#000000\" stroke-opacity=\"1\" stroke-width=\"3.2\"/>\n",
       "<circle clip-path=\"url(#clip302)\" cx=\"415.703\" cy=\"85.838\" r=\"14.4\" fill=\"#fcfea4\" fill-rule=\"evenodd\" fill-opacity=\"1\" stroke=\"#000000\" stroke-opacity=\"1\" stroke-width=\"3.2\"/>\n",
       "<defs>\n",
       "  <clipPath id=\"clip303\">\n",
       "    <rect x=\"2160\" y=\"47\" width=\"73\" height=\"1365\"/>\n",
       "  </clipPath>\n",
       "</defs>\n",
       "<g clip-path=\"url(#clip303)\">\n",
       "<image width=\"72\" height=\"1364\" xlink:href=\"data:image/png;base64,\n",
       "iVBORw0KGgoAAAANSUhEUgAAAEgAAAVUCAYAAABzwV4AAAAL0klEQVR4nO3dwY3sRhAFQY5Q/lsh\n",
       "L6XfLQtUeSQPERYsEg+zZJM7+/v3/H0f/tdfb/8AXydQECgIFAQKc+6/b/8Mn2ZBQaAgUBAozL1/\n",
       "3v4ZPs2CgkBBoCBQcCUdLCgIFAQKAgWBwly/xVYWFAQKAgWBwtzjQ3pjQUGgIFAQKLiSDhYUBAoC\n",
       "BYGCQMFvsWBBQaAgUBAoOA8KFhQECgIFgcI8rqRXFhQECgIFgYJAwXlQsKAgUBAoCBTmcR60sqAg\n",
       "UBAoCBTmOf+8/TN8mgUFgYJAQaAgUPBUI1hQECgIFAQKzoOCBQWBgkBBoOBDOlhQECgIFAQKAgXn\n",
       "QcGCgkBBoCBQmJ9bjZUFBYGCQEGgMM/xpf8bCwoCBYGCQEGg4FYjWFAQKAgUBApuNYIFBYGCQEGg\n",
       "4P2gYEFBoCBQECgIFObnVmNlQUGgIFAQKHiJM1hQECgIFAQKrqSDBQWBgkBBoCBQ8Og5WFAQKAgU\n",
       "BApuNYIFBYGCQEGg4Eo6WFAQKAgUBAoCBbcawYKCQEGgIFCY55y3f4ZPs6AgUBAoCBRcSQcLCgIF\n",
       "gYJAQaDgqUawoCBQECgIFHxIBwsKAgWBgkBhfg7tVxYUBAoCBYGCQMGtRrCgIFAQKAgUvB8ULCgI\n",
       "FAQKAgXnQcGCgkBBoCBQECg4DwoWFAQKAgWBgvOgYEFBoCBQECj4kA4WFAQKAgWBgkDBXz0HCwoC\n",
       "BYGCQMGtRrCgIFAQKAgUfEgHCwoCBYGCQEGg4LdYsKAgUBAoCBR8SAcLCgIFgYJAYZ7rQ3pjQUGg\n",
       "IFAQKAgU3GoECwoCBYGCQMGHdLCgIFAQKAgUfEgHCwoCBYGCQEGgMM+5b/8Mn2ZBQaAgUBAouNUI\n",
       "FhQECgIFgYIr6WBBQaAgUBAoCBTcagQLCgIFgYJAwa1GsKAgUBAoCBTmcSG9sqAgUBAoCBQECvNc\n",
       "txobCwoCBYGCQMGtRrCgIFAQKAgUfEgHCwoCBYGCQEGgML4Eb2dBQaAgUBAouNUIFhQECgIFgYIP\n",
       "6WBBQaAgUBAoCBTmOb+3f4ZPs6AgUBAoCBTmXh/SGwsKAgWBgkDBeVCwoCBQECgIFBx3BAsKAgWB\n",
       "gkBBoDD3aLRRJwgUBAoCBbcawYKCQEGgIFCYx5PVlQUFgYJAQaAgUJjrVmNlQUGgIFAQKMzj0H6l\n",
       "ThAoCBQECq6kgwUFgYJAQaAgUPBUI1hQECgIFAQKXuIM6gSBgkBBoOAlzmBBQaAgUBAoCBQ81QgW\n",
       "FAQKAgWBwtyr0UadIFAQKAgUnAcFCwoCBYGCQEGg4DwoWFAQKAgUBArzOA9aqRMECgIFgYIr6WBB\n",
       "QaAgUBAoCBT8FgsWFAQKAgWBgj/qDRYUBAoCBYGCP+oN6gSBgkBBoCBQ8P/mgwUFgYJAQaDg0D5Y\n",
       "UBAoCBQECr70P6gTBAoCBYGCQMF5ULCgIFAQKAgUnAcFCwoCBYGCQMGVdLCgIFAQKAgUBArecg3q\n",
       "BIGCQEGg4FYjWFAQKAgUBAoO7YMFBYGCQEGgIFBwqxEsKAgUBAoCBf+6JlhQECgIFAQK/glkUCcI\n",
       "FAQKAgWBgvOgYEFBoCBQECh49BwsKAgUBAoCBVfSwYKCQEGgIFAQKMzxW2xlQUGgIFAQKPij3qBO\n",
       "ECgIFAQKzoOCBQWBgkBBoCBQ8FssWFAQKAgUBAreDwoWFAQKAgWBgivpYEFBoCBQECgIFPwWCxYU\n",
       "BAoCBYGCr6YI6gSBgkBBoDDHof3KgoJAQaAgUBAoOA8KFhQECgIFgYIP6WBBQaAgUBAo+JAOFhQE\n",
       "CgIFgYJAwfcHBQsKAgWBgkDBrUawoCBQECgIFHxIBwsKAgWBgkBBoOBPEYI6QaAgUBAo+FOEYEFB\n",
       "oCBQECg4DwoWFAQKAgWBgkDBb7FgQUGgIFAQKHiJM1hQECgIFAQKrqSDBQWBgkBBoCBQmPv4Lbax\n",
       "oCBQECgIFJwHBQsKAgWBgkDBeVCwoCBQECgIFAQKbjWCBQWBgkBBoOBWI1hQECgIFAQKrqSDBQWB\n",
       "gkBBoCBQcKsRLCgIFAQKAgUf0sGCgkBBoCBQmONN+5UFBYGCQEGg4Eo6WFAQKAgUBAoCBY+egwUF\n",
       "gYJAQaAw9779I3ybBQWBgkBBoOBKOlhQECgIFAQKAgVf8hYsKAgUBAoCBbcawYKCQEGgIFDwflCw\n",
       "oCBQECgIFAQK/hQhWFAQKAgUBAreDwoWFAQKAgWBgkP7YEFBoCBQECgIFDzVCBYUBAoCBYGCQ/tg\n",
       "QUGgIFAQKDgPChYUBAoCBYGCQMGj52BBQaAgUBAoOA8KFhQECgIFgYInq8GCgkBBoCBQECjMefsn\n",
       "+DgLCgIFgYJAwa1GsKAgUBAoCBS8HxQsKAgUBAoCBYGC86BgQUGgIFAQKDgPChYUBAoCBYGCK+lg\n",
       "QUGgIFAQKAgU3GoECwoCBYGCQMGj52BBQaAgUBAojC9e2FlQECgIFAQKAgW3GsGCgkBBoCBQ8Og5\n",
       "WFAQKAgUBAqerAYLCgIFgYJAQaDgViNYUBAoCBQECm41ggUFgYJAQaAwxwtCKwsKAgWBgkBBoOA8\n",
       "KFhQECgIFAQKzoOCBQWBgkBBoOBKOlhQECgIFAQKAgX/bz5YUBAoCBQECv7ffLCgIFAQKAgUvB8U\n",
       "LCgIFAQKAgWBgm/BCxYUBAoCBYGCL3kLFhQECgIFgYInq8GCgkBBoCBQECh4yzVYUBAoCBQECv5e\n",
       "LFhQECgIFAQKrqSDBQWBgkBBoCBQ8JZrsKAgUBAoCBS8xBksKAgUBAoCBVfSwYKCQEGgIFAQKHjL\n",
       "NVhQECgIFAQKvj8oWFAQKAgUBArOg4IFBYGCQEGgIFDw6DlYUBAoCBQECm41ggUFgYJAQaDgSjpY\n",
       "UBAoCBQECgIFtxrBgoJAQaAgUPAhHSwoCBQECgIF50HBgoJAQaAgUBAouNUIFhQECgIFgYJbjWBB\n",
       "QaAgUBAouJIOFhQECgIFgYJAwfcHBQsKAgWBgkDBv64JFhQECgIFgYLzoGBBQaAgUBAoCBTmPn6N\n",
       "bSwoCBQECgIFtxrBgoJAQaAgUPBkNVhQECgIFAQKnqwGCwoCBYGCQEGg4DwoWFAQKAgUBAqerAYL\n",
       "CgIFgYJAwZV0sKAgUBAoCBQECr4/KFhQECgIFAQKc7wgtLKgIFAQKAgUvB8ULCgIFAQKAgWBwly3\n",
       "GisLCgIFgYJAwa1GsKAgUBAoCBQc2gcLCgIFgYJAQaDg/aBgQUGgIFAQKMzx92IrCwoCBYGCQMF5\n",
       "ULCgIFAQKAgUBAq+miJYUBAoCBQECt4PChYUBAoCBYGCQ/tgQUGgIFAQKAgUnAcFCwoCBYGCQGHO\n",
       "40RoY0FBoCBQECg4DwoWFAQKAgWBgkDBb7FgQUGgIFAQKDi0DxYUBAoCBYGCQ/tgQUGgIFAQKAgU\n",
       "5vzcamwsKAgUBAoCBbcawYKCQEGgIFCY60N6ZUFBoCBQECgIFNxqBAsKAgWBgkBhzs+H9MaCgkBB\n",
       "oCBQcCUdLCgIFAQKAgWBgqcawYKCQEGgIFBwqxEsKAgUBAoCBR/SwYKCQEGgIFAQKHj0HCwoCBQE\n",
       "CgKFuc+ft3+GT7OgIFAQKAgUnAcFCwoCBYGCQEGg4P2gYEFBoCBQECjMuc6DNhYUBAoCBYGCK+lg\n",
       "QUGgIFAQKAgU5nj0vLKgIFAQKAgU3GoECwoCBYGCQMGVdLCgIFAQKAgUBApzr1uNjQUFgYJAQaDg\n",
       "PChYUBAoCBQECl7iDBYUBAoCBYGCQMGtRrCgIFAQKAgU5rrVWFlQECgIFAQKrqSDBQWBgkBBoCBQ\n",
       "mOP9oJUFBYGCQEGg4PukgwUFgYJAQaDgTftgQUGgIFAQKAgUPNUIFhQECgIFgYJbjWBBQaAgUBAo\n",
       "+JAOFhQECgIFgYJAwaPnYEFBoCBQECi41QgWFAQKAgWBwjyerK4sKAgUBAoCBYGCW41gQUGgIFAQ\n",
       "KHiJM1hQECgIFAQK87iSXllQECgIFAQKAgXvBwULCgIFgYJAwaPnYEFBoCBQECg4DwoWFAQKAgWB\n",
       "gkBh7nPf/hk+zYKCQEGgIFBwHhQsKAgUBAoChXlcSa8sKAgUBAoChf8AJ8ztt7m0cDkAAAAASUVO\n",
       "RK5CYII=\n",
       "\" transform=\"translate(2161, 47)\"/>\n",
       "</g>\n",
       "<path clip-path=\"url(#clip300)\" d=\"M2280.7 1393.07 Q2277.09 1393.07 2275.26 1396.63 Q2273.45 1400.17 2273.45 1407.3 Q2273.45 1414.41 2275.26 1417.97 Q2277.09 1421.52 2280.7 1421.52 Q2284.33 1421.52 2286.14 1417.97 Q2287.97 1414.41 2287.97 1407.3 Q2287.97 1400.17 2286.14 1396.63 Q2284.33 1393.07 2280.7 1393.07 M2280.7 1389.36 Q2286.51 1389.36 2289.57 1393.97 Q2292.64 1398.55 2292.64 1407.3 Q2292.64 1416.03 2289.57 1420.64 Q2286.51 1425.22 2280.7 1425.22 Q2274.89 1425.22 2271.81 1420.64 Q2268.76 1416.03 2268.76 1407.3 Q2268.76 1398.55 2271.81 1393.97 Q2274.89 1389.36 2280.7 1389.36 Z\" fill=\"#000000\" fill-rule=\"evenodd\" fill-opacity=\"1\" /><path clip-path=\"url(#clip300)\" d=\"M2280.7 1256.7 Q2277.09 1256.7 2275.26 1260.27 Q2273.45 1263.81 2273.45 1270.94 Q2273.45 1278.04 2275.26 1281.61 Q2277.09 1285.15 2280.7 1285.15 Q2284.33 1285.15 2286.14 1281.61 Q2287.97 1278.04 2287.97 1270.94 Q2287.97 1263.81 2286.14 1260.27 Q2284.33 1256.7 2280.7 1256.7 M2280.7 1253 Q2286.51 1253 2289.57 1257.6 Q2292.64 1262.19 2292.64 1270.94 Q2292.64 1279.66 2289.57 1284.27 Q2286.51 1288.85 2280.7 1288.85 Q2274.89 1288.85 2271.81 1284.27 Q2268.76 1279.66 2268.76 1270.94 Q2268.76 1262.19 2271.81 1257.6 Q2274.89 1253 2280.7 1253 Z\" fill=\"#000000\" fill-rule=\"evenodd\" fill-opacity=\"1\" /><path clip-path=\"url(#clip300)\" d=\"M2300.86 1282.3 L2305.75 1282.3 L2305.75 1288.18 L2300.86 1288.18 L2300.86 1282.3 Z\" fill=\"#000000\" fill-rule=\"evenodd\" fill-opacity=\"1\" /><path clip-path=\"url(#clip300)\" d=\"M2316.74 1284.25 L2324.38 1284.25 L2324.38 1257.88 L2316.07 1259.55 L2316.07 1255.29 L2324.33 1253.62 L2329.01 1253.62 L2329.01 1284.25 L2336.65 1284.25 L2336.65 1288.18 L2316.74 1288.18 L2316.74 1284.25 Z\" fill=\"#000000\" fill-rule=\"evenodd\" fill-opacity=\"1\" /><path clip-path=\"url(#clip300)\" d=\"M2280.7 1120.34 Q2277.09 1120.34 2275.26 1123.9 Q2273.45 1127.44 2273.45 1134.57 Q2273.45 1141.68 2275.26 1145.24 Q2277.09 1148.78 2280.7 1148.78 Q2284.33 1148.78 2286.14 1145.24 Q2287.97 1141.68 2287.97 1134.57 Q2287.97 1127.44 2286.14 1123.9 Q2284.33 1120.34 2280.7 1120.34 M2280.7 1116.63 Q2286.51 1116.63 2289.57 1121.24 Q2292.64 1125.82 2292.64 1134.57 Q2292.64 1143.3 2289.57 1147.91 Q2286.51 1152.49 2280.7 1152.49 Q2274.89 1152.49 2271.81 1147.91 Q2268.76 1143.3 2268.76 1134.57 Q2268.76 1125.82 2271.81 1121.24 Q2274.89 1116.63 2280.7 1116.63 Z\" fill=\"#000000\" fill-rule=\"evenodd\" fill-opacity=\"1\" /><path clip-path=\"url(#clip300)\" d=\"M2300.86 1145.94 L2305.75 1145.94 L2305.75 1151.82 L2300.86 1151.82 L2300.86 1145.94 Z\" fill=\"#000000\" fill-rule=\"evenodd\" fill-opacity=\"1\" /><path clip-path=\"url(#clip300)\" d=\"M2319.96 1147.88 L2336.28 1147.88 L2336.28 1151.82 L2314.33 1151.82 L2314.33 1147.88 Q2317 1145.13 2321.58 1140.5 Q2326.19 1135.85 2327.37 1134.5 Q2329.61 1131.98 2330.49 1130.24 Q2331.39 1128.48 2331.39 1126.79 Q2331.39 1124.04 2329.45 1122.3 Q2327.53 1120.57 2324.43 1120.57 Q2322.23 1120.57 2319.77 1121.33 Q2317.34 1122.1 2314.57 1123.65 L2314.57 1118.92 Q2317.39 1117.79 2319.84 1117.21 Q2322.3 1116.63 2324.33 1116.63 Q2329.7 1116.63 2332.9 1119.32 Q2336.09 1122 2336.09 1126.49 Q2336.09 1128.62 2335.28 1130.54 Q2334.5 1132.44 2332.39 1135.04 Q2331.81 1135.71 2328.71 1138.92 Q2325.61 1142.12 2319.96 1147.88 Z\" fill=\"#000000\" fill-rule=\"evenodd\" fill-opacity=\"1\" /><path clip-path=\"url(#clip300)\" d=\"M2280.7 983.971 Q2277.09 983.971 2275.26 987.536 Q2273.45 991.077 2273.45 998.207 Q2273.45 1005.31 2275.26 1008.88 Q2277.09 1012.42 2280.7 1012.42 Q2284.33 1012.42 2286.14 1008.88 Q2287.97 1005.31 2287.97 998.207 Q2287.97 991.077 2286.14 987.536 Q2284.33 983.971 2280.7 983.971 M2280.7 980.267 Q2286.51 980.267 2289.57 984.874 Q2292.64 989.457 2292.64 998.207 Q2292.64 1006.93 2289.57 1011.54 Q2286.51 1016.12 2280.7 1016.12 Q2274.89 1016.12 2271.81 1011.54 Q2268.76 1006.93 2268.76 998.207 Q2268.76 989.457 2271.81 984.874 Q2274.89 980.267 2280.7 980.267 Z\" fill=\"#000000\" fill-rule=\"evenodd\" fill-opacity=\"1\" /><path clip-path=\"url(#clip300)\" d=\"M2300.86 1009.57 L2305.75 1009.57 L2305.75 1015.45 L2300.86 1015.45 L2300.86 1009.57 Z\" fill=\"#000000\" fill-rule=\"evenodd\" fill-opacity=\"1\" /><path clip-path=\"url(#clip300)\" d=\"M2330.1 996.818 Q2333.45 997.536 2335.33 999.804 Q2337.23 1002.07 2337.23 1005.41 Q2337.23 1010.52 2333.71 1013.32 Q2330.19 1016.12 2323.71 1016.12 Q2321.53 1016.12 2319.22 1015.68 Q2316.93 1015.27 2314.47 1014.41 L2314.47 1009.9 Q2316.42 1011.03 2318.73 1011.61 Q2321.05 1012.19 2323.57 1012.19 Q2327.97 1012.19 2330.26 1010.45 Q2332.58 1008.72 2332.58 1005.41 Q2332.58 1002.35 2330.42 1000.64 Q2328.29 998.901 2324.47 998.901 L2320.45 998.901 L2320.45 995.059 L2324.66 995.059 Q2328.11 995.059 2329.94 993.693 Q2331.76 992.304 2331.76 989.711 Q2331.76 987.049 2329.87 985.637 Q2327.99 984.202 2324.47 984.202 Q2322.55 984.202 2320.35 984.619 Q2318.15 985.036 2315.51 985.915 L2315.51 981.749 Q2318.18 981.008 2320.49 980.637 Q2322.83 980.267 2324.89 980.267 Q2330.21 980.267 2333.32 982.698 Q2336.42 985.105 2336.42 989.225 Q2336.42 992.096 2334.77 994.086 Q2333.13 996.054 2330.1 996.818 Z\" fill=\"#000000\" fill-rule=\"evenodd\" fill-opacity=\"1\" /><path clip-path=\"url(#clip300)\" d=\"M2280.7 847.606 Q2277.09 847.606 2275.26 851.17 Q2273.45 854.712 2273.45 861.842 Q2273.45 868.948 2275.26 872.513 Q2277.09 876.054 2280.7 876.054 Q2284.33 876.054 2286.14 872.513 Q2287.97 868.948 2287.97 861.842 Q2287.97 854.712 2286.14 851.17 Q2284.33 847.606 2280.7 847.606 M2280.7 843.902 Q2286.51 843.902 2289.57 848.508 Q2292.64 853.092 2292.64 861.842 Q2292.64 870.568 2289.57 875.175 Q2286.51 879.758 2280.7 879.758 Q2274.89 879.758 2271.81 875.175 Q2268.76 870.568 2268.76 861.842 Q2268.76 853.092 2271.81 848.508 Q2274.89 843.902 2280.7 843.902 Z\" fill=\"#000000\" fill-rule=\"evenodd\" fill-opacity=\"1\" /><path clip-path=\"url(#clip300)\" d=\"M2300.86 873.207 L2305.75 873.207 L2305.75 879.087 L2300.86 879.087 L2300.86 873.207 Z\" fill=\"#000000\" fill-rule=\"evenodd\" fill-opacity=\"1\" /><path clip-path=\"url(#clip300)\" d=\"M2328.78 848.601 L2316.97 867.05 L2328.78 867.05 L2328.78 848.601 M2327.55 844.527 L2333.43 844.527 L2333.43 867.05 L2338.36 867.05 L2338.36 870.939 L2333.43 870.939 L2333.43 879.087 L2328.78 879.087 L2328.78 870.939 L2313.18 870.939 L2313.18 866.425 L2327.55 844.527 Z\" fill=\"#000000\" fill-rule=\"evenodd\" fill-opacity=\"1\" /><path clip-path=\"url(#clip300)\" d=\"M2280.7 711.24 Q2277.09 711.24 2275.26 714.805 Q2273.45 718.347 2273.45 725.476 Q2273.45 732.583 2275.26 736.148 Q2277.09 739.689 2280.7 739.689 Q2284.33 739.689 2286.14 736.148 Q2287.97 732.583 2287.97 725.476 Q2287.97 718.347 2286.14 714.805 Q2284.33 711.24 2280.7 711.24 M2280.7 707.537 Q2286.51 707.537 2289.57 712.143 Q2292.64 716.726 2292.64 725.476 Q2292.64 734.203 2289.57 738.81 Q2286.51 743.393 2280.7 743.393 Q2274.89 743.393 2271.81 738.81 Q2268.76 734.203 2268.76 725.476 Q2268.76 716.726 2271.81 712.143 Q2274.89 707.537 2280.7 707.537 Z\" fill=\"#000000\" fill-rule=\"evenodd\" fill-opacity=\"1\" /><path clip-path=\"url(#clip300)\" d=\"M2300.86 736.842 L2305.75 736.842 L2305.75 742.722 L2300.86 742.722 L2300.86 736.842 Z\" fill=\"#000000\" fill-rule=\"evenodd\" fill-opacity=\"1\" /><path clip-path=\"url(#clip300)\" d=\"M2315.98 708.162 L2334.33 708.162 L2334.33 712.097 L2320.26 712.097 L2320.26 720.569 Q2321.28 720.222 2322.3 720.06 Q2323.32 719.874 2324.33 719.874 Q2330.12 719.874 2333.5 723.046 Q2336.88 726.217 2336.88 731.634 Q2336.88 737.212 2333.41 740.314 Q2329.94 743.393 2323.62 743.393 Q2321.44 743.393 2319.17 743.022 Q2316.93 742.652 2314.52 741.911 L2314.52 737.212 Q2316.6 738.347 2318.83 738.902 Q2321.05 739.458 2323.52 739.458 Q2327.53 739.458 2329.87 737.351 Q2332.2 735.245 2332.2 731.634 Q2332.2 728.023 2329.87 725.916 Q2327.53 723.81 2323.52 723.81 Q2321.65 723.81 2319.77 724.226 Q2317.92 724.643 2315.98 725.523 L2315.98 708.162 Z\" fill=\"#000000\" fill-rule=\"evenodd\" fill-opacity=\"1\" /><path clip-path=\"url(#clip300)\" d=\"M2280.7 574.875 Q2277.09 574.875 2275.26 578.44 Q2273.45 581.981 2273.45 589.111 Q2273.45 596.217 2275.26 599.782 Q2277.09 603.324 2280.7 603.324 Q2284.33 603.324 2286.14 599.782 Q2287.97 596.217 2287.97 589.111 Q2287.97 581.981 2286.14 578.44 Q2284.33 574.875 2280.7 574.875 M2280.7 571.171 Q2286.51 571.171 2289.57 575.778 Q2292.64 580.361 2292.64 589.111 Q2292.64 597.838 2289.57 602.444 Q2286.51 607.028 2280.7 607.028 Q2274.89 607.028 2271.81 602.444 Q2268.76 597.838 2268.76 589.111 Q2268.76 580.361 2271.81 575.778 Q2274.89 571.171 2280.7 571.171 Z\" fill=\"#000000\" fill-rule=\"evenodd\" fill-opacity=\"1\" /><path clip-path=\"url(#clip300)\" d=\"M2300.86 600.477 L2305.75 600.477 L2305.75 606.356 L2300.86 606.356 L2300.86 600.477 Z\" fill=\"#000000\" fill-rule=\"evenodd\" fill-opacity=\"1\" /><path clip-path=\"url(#clip300)\" d=\"M2326.51 587.213 Q2323.36 587.213 2321.51 589.366 Q2319.68 591.518 2319.68 595.268 Q2319.68 598.995 2321.51 601.171 Q2323.36 603.324 2326.51 603.324 Q2329.66 603.324 2331.49 601.171 Q2333.34 598.995 2333.34 595.268 Q2333.34 591.518 2331.49 589.366 Q2329.66 587.213 2326.51 587.213 M2335.79 572.56 L2335.79 576.819 Q2334.03 575.986 2332.23 575.546 Q2330.45 575.106 2328.69 575.106 Q2324.06 575.106 2321.6 578.231 Q2319.17 581.356 2318.83 587.676 Q2320.19 585.662 2322.25 584.597 Q2324.31 583.509 2326.79 583.509 Q2332 583.509 2335.01 586.68 Q2338.04 589.829 2338.04 595.268 Q2338.04 600.592 2334.89 603.81 Q2331.74 607.028 2326.51 607.028 Q2320.51 607.028 2317.34 602.444 Q2314.17 597.838 2314.17 589.111 Q2314.17 580.917 2318.06 576.056 Q2321.95 571.171 2328.5 571.171 Q2330.26 571.171 2332.04 571.519 Q2333.85 571.866 2335.79 572.56 Z\" fill=\"#000000\" fill-rule=\"evenodd\" fill-opacity=\"1\" /><path clip-path=\"url(#clip300)\" d=\"M2280.7 438.51 Q2277.09 438.51 2275.26 442.075 Q2273.45 445.616 2273.45 452.746 Q2273.45 459.852 2275.26 463.417 Q2277.09 466.959 2280.7 466.959 Q2284.33 466.959 2286.14 463.417 Q2287.97 459.852 2287.97 452.746 Q2287.97 445.616 2286.14 442.075 Q2284.33 438.51 2280.7 438.51 M2280.7 434.806 Q2286.51 434.806 2289.57 439.413 Q2292.64 443.996 2292.64 452.746 Q2292.64 461.473 2289.57 466.079 Q2286.51 470.662 2280.7 470.662 Q2274.89 470.662 2271.81 466.079 Q2268.76 461.473 2268.76 452.746 Q2268.76 443.996 2271.81 439.413 Q2274.89 434.806 2280.7 434.806 Z\" fill=\"#000000\" fill-rule=\"evenodd\" fill-opacity=\"1\" /><path clip-path=\"url(#clip300)\" d=\"M2300.86 464.111 L2305.75 464.111 L2305.75 469.991 L2300.86 469.991 L2300.86 464.111 Z\" fill=\"#000000\" fill-rule=\"evenodd\" fill-opacity=\"1\" /><path clip-path=\"url(#clip300)\" d=\"M2314.75 435.431 L2336.97 435.431 L2336.97 437.422 L2324.43 469.991 L2319.54 469.991 L2331.35 439.366 L2314.75 439.366 L2314.75 435.431 Z\" fill=\"#000000\" fill-rule=\"evenodd\" fill-opacity=\"1\" /><path clip-path=\"url(#clip300)\" d=\"M2280.7 302.144 Q2277.09 302.144 2275.26 305.709 Q2273.45 309.251 2273.45 316.381 Q2273.45 323.487 2275.26 327.052 Q2277.09 330.593 2280.7 330.593 Q2284.33 330.593 2286.14 327.052 Q2287.97 323.487 2287.97 316.381 Q2287.97 309.251 2286.14 305.709 Q2284.33 302.144 2280.7 302.144 M2280.7 298.441 Q2286.51 298.441 2289.57 303.047 Q2292.64 307.631 2292.64 316.381 Q2292.64 325.107 2289.57 329.714 Q2286.51 334.297 2280.7 334.297 Q2274.89 334.297 2271.81 329.714 Q2268.76 325.107 2268.76 316.381 Q2268.76 307.631 2271.81 303.047 Q2274.89 298.441 2280.7 298.441 Z\" fill=\"#000000\" fill-rule=\"evenodd\" fill-opacity=\"1\" /><path clip-path=\"url(#clip300)\" d=\"M2300.86 327.746 L2305.75 327.746 L2305.75 333.626 L2300.86 333.626 L2300.86 327.746 Z\" fill=\"#000000\" fill-rule=\"evenodd\" fill-opacity=\"1\" /><path clip-path=\"url(#clip300)\" d=\"M2325.93 317.214 Q2322.6 317.214 2320.68 318.996 Q2318.78 320.779 2318.78 323.904 Q2318.78 327.029 2320.68 328.811 Q2322.6 330.593 2325.93 330.593 Q2329.26 330.593 2331.19 328.811 Q2333.11 327.005 2333.11 323.904 Q2333.11 320.779 2331.19 318.996 Q2329.29 317.214 2325.93 317.214 M2321.26 315.223 Q2318.25 314.482 2316.56 312.422 Q2314.89 310.362 2314.89 307.399 Q2314.89 303.256 2317.83 300.848 Q2320.79 298.441 2325.93 298.441 Q2331.09 298.441 2334.03 300.848 Q2336.97 303.256 2336.97 307.399 Q2336.97 310.362 2335.28 312.422 Q2333.62 314.482 2330.63 315.223 Q2334.01 316.01 2335.89 318.302 Q2337.78 320.593 2337.78 323.904 Q2337.78 328.927 2334.7 331.612 Q2331.65 334.297 2325.93 334.297 Q2320.21 334.297 2317.14 331.612 Q2314.08 328.927 2314.08 323.904 Q2314.08 320.593 2315.98 318.302 Q2317.88 316.01 2321.26 315.223 M2319.54 307.839 Q2319.54 310.524 2321.21 312.029 Q2322.9 313.533 2325.93 313.533 Q2328.94 313.533 2330.63 312.029 Q2332.34 310.524 2332.34 307.839 Q2332.34 305.154 2330.63 303.649 Q2328.94 302.144 2325.93 302.144 Q2322.9 302.144 2321.21 303.649 Q2319.54 305.154 2319.54 307.839 Z\" fill=\"#000000\" fill-rule=\"evenodd\" fill-opacity=\"1\" /><path clip-path=\"url(#clip300)\" d=\"M2280.7 165.779 Q2277.09 165.779 2275.26 169.344 Q2273.45 172.886 2273.45 180.015 Q2273.45 187.122 2275.26 190.687 Q2277.09 194.228 2280.7 194.228 Q2284.33 194.228 2286.14 190.687 Q2287.97 187.122 2287.97 180.015 Q2287.97 172.886 2286.14 169.344 Q2284.33 165.779 2280.7 165.779 M2280.7 162.076 Q2286.51 162.076 2289.57 166.682 Q2292.64 171.265 2292.64 180.015 Q2292.64 188.742 2289.57 193.349 Q2286.51 197.932 2280.7 197.932 Q2274.89 197.932 2271.81 193.349 Q2268.76 188.742 2268.76 180.015 Q2268.76 171.265 2271.81 166.682 Q2274.89 162.076 2280.7 162.076 Z\" fill=\"#000000\" fill-rule=\"evenodd\" fill-opacity=\"1\" /><path clip-path=\"url(#clip300)\" d=\"M2300.86 191.381 L2305.75 191.381 L2305.75 197.261 L2300.86 197.261 L2300.86 191.381 Z\" fill=\"#000000\" fill-rule=\"evenodd\" fill-opacity=\"1\" /><path clip-path=\"url(#clip300)\" d=\"M2316.07 196.543 L2316.07 192.284 Q2317.83 193.117 2319.64 193.557 Q2321.44 193.997 2323.18 193.997 Q2327.81 193.997 2330.24 190.895 Q2332.69 187.77 2333.04 181.427 Q2331.7 183.418 2329.64 184.483 Q2327.58 185.548 2325.08 185.548 Q2319.89 185.548 2316.86 182.423 Q2313.85 179.275 2313.85 173.835 Q2313.85 168.511 2317 165.293 Q2320.14 162.076 2325.38 162.076 Q2331.37 162.076 2334.52 166.682 Q2337.69 171.265 2337.69 180.015 Q2337.69 188.187 2333.8 193.071 Q2329.94 197.932 2323.39 197.932 Q2321.63 197.932 2319.82 197.585 Q2318.01 197.237 2316.07 196.543 M2325.38 181.89 Q2328.52 181.89 2330.35 179.737 Q2332.2 177.585 2332.2 173.835 Q2332.2 170.108 2330.35 167.955 Q2328.52 165.779 2325.38 165.779 Q2322.23 165.779 2320.38 167.955 Q2318.55 170.108 2318.55 173.835 Q2318.55 177.585 2320.38 179.737 Q2322.23 181.89 2325.38 181.89 Z\" fill=\"#000000\" fill-rule=\"evenodd\" fill-opacity=\"1\" /><path clip-path=\"url(#clip300)\" d=\"M2269.43 56.9601 L2277.07 56.9601 L2277.07 30.5945 L2268.76 32.2612 L2268.76 28.002 L2277.02 26.3353 L2281.7 26.3353 L2281.7 56.9601 L2289.33 56.9601 L2289.33 60.8953 L2269.43 60.8953 L2269.43 56.9601 Z\" fill=\"#000000\" fill-rule=\"evenodd\" fill-opacity=\"1\" /><path clip-path=\"url(#clip300)\" d=\"M2298.78 55.0157 L2303.66 55.0157 L2303.66 60.8953 L2298.78 60.8953 L2298.78 55.0157 Z\" fill=\"#000000\" fill-rule=\"evenodd\" fill-opacity=\"1\" /><path clip-path=\"url(#clip300)\" d=\"M2323.85 29.414 Q2320.24 29.414 2318.41 32.9788 Q2316.6 36.5204 2316.6 43.65 Q2316.6 50.7565 2318.41 54.3213 Q2320.24 57.8629 2323.85 57.8629 Q2327.48 57.8629 2329.29 54.3213 Q2331.12 50.7565 2331.12 43.65 Q2331.12 36.5204 2329.29 32.9788 Q2327.48 29.414 2323.85 29.414 M2323.85 25.7103 Q2329.66 25.7103 2332.71 30.3168 Q2335.79 34.9001 2335.79 43.65 Q2335.79 52.3768 2332.71 56.9833 Q2329.66 61.5666 2323.85 61.5666 Q2318.04 61.5666 2314.96 56.9833 Q2311.9 52.3768 2311.9 43.65 Q2311.9 34.9001 2314.96 30.3168 Q2318.04 25.7103 2323.85 25.7103 Z\" fill=\"#000000\" fill-rule=\"evenodd\" fill-opacity=\"1\" /><polyline clip-path=\"url(#clip300)\" style=\"stroke:#000000; stroke-linecap:butt; stroke-linejoin:round; stroke-width:4; stroke-opacity:1; fill:none\" points=\"\n",
       "  2232.76,1410.9 2232.76,1410.9 2256.76,1410.9 2232.76,1410.9 2232.76,1274.53 2256.76,1274.53 2232.76,1274.53 2232.76,1138.17 2256.76,1138.17 2232.76,1138.17 \n",
       "  2232.76,1001.8 2256.76,1001.8 2232.76,1001.8 2232.76,865.436 2256.76,865.436 2232.76,865.436 2232.76,729.07 2256.76,729.07 2232.76,729.07 2232.76,592.705 \n",
       "  2256.76,592.705 2232.76,592.705 2232.76,456.34 2256.76,456.34 2232.76,456.34 2232.76,319.975 2256.76,319.975 2232.76,319.975 2232.76,183.609 2256.76,183.609 \n",
       "  2232.76,183.609 2232.76,47.2441 2256.76,47.2441 2232.76,47.2441 \n",
       "  \"/>\n",
       "</svg>\n"
      ]
     },
     "execution_count": 98,
     "metadata": {},
     "output_type": "execute_result"
    }
   ],
   "source": [
    "scatter(df4.nrow, df4.DevMeanHighPopularity,\n",
    "        xlabel=\"number of puzzles\",\n",
    "        ylabel=\"probability of above average popularity\",\n",
    "        label=nothing,\n",
    "        xaxis=:log,\n",
    "        zcolor=df4.pvalue .> 0.001)"
   ]
  },
  {
   "cell_type": "markdown",
   "metadata": {},
   "source": [
    "## Summary of available functions and macros\n",
    "\n",
    "These rules are simplified (but hopefully easy to remember and they should be enough in practice; if you want to know all corner-cases of the syntax please refer to documentation)\n",
    "\n",
    "| DataFrames.jl | DataFramesMeta.jl | Operation |\n",
    "|:--------------|:------------------|:----------|\n",
    "| `select`      | `@select`         | select/transform whole columns of source; keep number and order of columns fixed |\n",
    "|               | `@rselect`        | same as `@select` but all operations are applied by row (same as `ByRow` in `select`) |\n",
    "| `transform`   | `@transform`      | same as `select` but keeps all columns from the source (`:` is passed as a first argument to `select`) |\n",
    "|               | `@rtransform`     | same as `@transform` but all operations are applied by row (same as `ByRow` in `transform`) |\n",
    "| `select!`     | `@select!`        | same as `select` but updates parent data frame in-place |\n",
    "|               | `@rselect!`       | same as `@rselect!` but updates parent data frame in-place |\n",
    "| `transform!`  | `@transform!`     | same as `transform` but updates parent data frame in-place |\n",
    "|               | `@rtransform!`    | same as `@rtransform!` but updates parent data frame in-place |\n",
    "| `combine`     | `@combine`        | same as `select` but combines rows (e.g. produces one row from many rows); for `GroupedDataFrame` keeps order of groups |\n",
    "| `subset`      | `@subset`         | subset rows of a data frame based on conditions (passing target column name is not allowed) |\n",
    "|               | `@rsubset`        | same as `@subset` but all operations are applied by row (same as `ByRow` in `subset`) |\n",
    "| `subset!`     | `@subset!`        | same as `subset` but updates parent data frame in-place |\n",
    "|               | `@rsubset!`       | same as `@rsubset!` but updates parent data frame in-place |\n",
    "\n",
    "General rules:\n",
    "* `combine` is typically used for aggregation; because of this it does not have `r` nor `!` modifiers\n",
    "* for other operations there are three funtions `select`, `transform`, and `subset` and they allow `r` and `!` modifiers\n",
    "\n",
    "In total you need to learn 4 names (`select`, `transform`, `subset`, and `combine`) and the fact that there are three modifiers:\n",
    "* `!` suffix: in place operation;\n",
    "* `@` prefix: use macro instead of a function (assignment syntax using `=` instead of pair syntax using `=>`);\n",
    "* `r` prefix: in macros apply all operations by row instead to whole columns.\n",
    "\n",
    "The special feature of `subset[!]` is that it does not allow specifying target column name."
   ]
  },
  {
   "cell_type": "markdown",
   "metadata": {},
   "source": [
    "Regarding operation specification syntax the allowed styles are:\n",
    "\n",
    "* `input columns => function => output_coumns` (full specification)\n",
    "* `input column => output_coumns` (column renaming if single output column or column unnesting on multiple output columns)\n",
    "* `input columns => function` (automatic generation of output column name)\n",
    "* `input columns` (reuse columns \"as is\")\n",
    "* `function` (style most useful with `do`-`end` block syntax with grouped data, function gets passed a whole data frame)\n",
    "\n",
    "For `input columns` you can use:\n",
    "\n",
    "* any column selector - arguments are passed as positional argument\n",
    "* any column selector wrapped in `AsTable` - arguments are passed as single `NamedTuple`; for this case fast row aggregations are supported for common functions\n",
    "\n",
    "For `output columns` you can use:\n",
    "\n",
    "* a signle column name\n",
    "* a function generating single column name\n",
    "* multiple column names\n",
    "* `AsTable` to automatically generate multiple column names\n",
    "\n",
    "For `function`:\n",
    "\n",
    "* normally function takes whole columns as positional arguments\n",
    "* if source is `AsTable` it is a single `NamedTuple` of vectors\n",
    "* There is a special `ByRow` wrapper which broadcasts the function over all rows\n",
    "* if `function` is the only thing passed as an argument then it takes a data frame as its argument\n",
    "\n",
    "Return value of `function`:\n",
    "\n",
    "* normally vectors are expected to be returned and they are stored as a single column\n",
    "* if a scalar is returned it is appropriately repeated if needed (a.k.a pseudo broadcasting)\n",
    "* as a special rule if you want a vector to be treated as scalar wrap it in `Ref` to protect it from being spread over multiple rows \n",
    "* if multiple `output columns` are requested (by explicit vector of column names or `AsTable`) then the return value should be table-like and it gets appropriately expanded\n",
    "\n",
    "Additionally you can pass vectors of matrices of `=>` (`Pair`) operations. This is especially convenient in combination with broadcasting."
   ]
  },
  {
   "cell_type": "markdown",
   "metadata": {},
   "source": [
    "### Afterword\n",
    "\n",
    "This tutorial was prepared under DataFrames.jl 1.3.4. You can expect DataFrames.jl 1.4 to be released soon. Here are some of the features that it will bring.\n",
    "\n",
    "#### Change in how broadcasting assignment works\n",
    "\n",
    "On Julia 1.7 or newer broadcasting assignment into an existing column of a data frame replaces it. Under Julia 1.6 or older it is an in place operation.\n",
    "\n",
    "Old behavior:\n",
    "```\n",
    "julia> df = DataFrame(x=1:3)\n",
    "3×1 DataFrame\n",
    " Row │ x\n",
    "     │ Int64\n",
    "─────┼───────\n",
    "   1 │     1\n",
    "   2 │     2\n",
    "   3 │     3\n",
    "\n",
    "julia> df.x .= 'x'\n",
    "3-element Vector{Int64}:\n",
    " 120\n",
    " 120\n",
    " 120\n",
    "\n",
    "julia> df # people typically expect that `:x` column contains 'x' Char values after the previous operation\n",
    "3×1 DataFrame\n",
    " Row │ x\n",
    "     │ Int64\n",
    "─────┼───────\n",
    "   1 │   120\n",
    "   2 │   120\n",
    "   3 │   120\n",
    "```\n",
    "\n",
    "New behavior:\n",
    "```\n",
    "julia> df = DataFrame(x=1:3)\n",
    "3×1 DataFrame\n",
    " Row │ x     \n",
    "     │ Int64 \n",
    "─────┼───────\n",
    "   1 │     1\n",
    "   2 │     2\n",
    "   3 │     3\n",
    "\n",
    "julia> df.x .= 'x'\n",
    "3-element Vector{Char}:\n",
    " 'x': ASCII/Unicode U+0078 (category Ll: Letter, lowercase)\n",
    " 'x': ASCII/Unicode U+0078 (category Ll: Letter, lowercase)\n",
    " 'x': ASCII/Unicode U+0078 (category Ll: Letter, lowercase)\n",
    "\n",
    "julia> df\n",
    "3×1 DataFrame\n",
    " Row │ x    \n",
    "     │ Char \n",
    "─────┼──────\n",
    "   1 │ x\n",
    "   2 │ x\n",
    "   3 │ x\n",
    "```\n",
    "\n",
    "#### Fully functional pivot table\n",
    "\n",
    "`unstack` allows passing a function in valuestransform keyword argument; this allows for a convenient creation of two dimensional pivot tables.\n",
    "\n",
    "```\n",
    "julia> df = DataFrame(row=[\"a\", \"b\", \"b\", \"b\"], col=[\"x\", \"x\", \"y\", \"y\"], val=1:4)\n",
    "4×3 DataFrame\n",
    " Row │ row     col     val   \n",
    "     │ String  String  Int64 \n",
    "─────┼───────────────────────\n",
    "   1 │ a       x           1\n",
    "   2 │ b       x           2\n",
    "   3 │ b       y           3\n",
    "   4 │ b       y           4\n",
    "\n",
    "julia> unstack(df, :row, :col, :val, valuestransform=copy)\n",
    "2×3 DataFrame\n",
    " Row │ row     x        y       \n",
    "     │ String  Array…?  Array…? \n",
    "─────┼──────────────────────────\n",
    "   1 │ a       [1]      missing \n",
    "   2 │ b       [2]      [3, 4]\n",
    "\n",
    "julia> unstack(df, :row, :col, :val, valuestransform=sum)\n",
    "2×3 DataFrame\n",
    " Row │ row     x       y       \n",
    "     │ String  Int64?  Int64?  \n",
    "─────┼─────────────────────────\n",
    "   1 │ a            1  missing \n",
    "   2 │ b            2        7\n",
    "\n",
    "julia> unstack(df, :row, :col, :val, valuestransform=sum, fill=0)\n",
    "2×3 DataFrame\n",
    " Row │ row     x      y     \n",
    "     │ String  Int64  Int64 \n",
    "─────┼──────────────────────\n",
    "   1 │ a           1      0\n",
    "   2 │ b           2      7\n",
    "```\n",
    "\n",
    "#### Full support for Base Julia opeations on rows\n",
    "\n",
    "* row adding: `push!`, `pushfirst!`, `insert!`\n",
    "* row removal: `resize!`, `keepat!`, `pop!`, `popfirst!`, `popat!`, `deleteat!`\n",
    "* row reordering: `reverse`, `reverse!`, `permute!`, `invpermute!`, `shuffle`, `shuffle!`\n",
    "\n",
    "#### Creation of data frames covering all combinations of inputs\n",
    "\n",
    "* `allcombinations`\n",
    "\n",
    "```\n",
    "julia> allcombinations(DataFrame, a=1:2, b='a':'c')\n",
    "6×2 DataFrame\n",
    " Row │ a      b\n",
    "     │ Int64  Char\n",
    "─────┼─────────────\n",
    "   1 │     1  a\n",
    "   2 │     2  a\n",
    "   3 │     1  b\n",
    "   4 │     2  b\n",
    "   5 │     1  c\n",
    "   6 │     2  c\n",
    "julia> allcombinations(DataFrame, \"a\" => 1:2, \"b\" => 'a':'c', \"c\" => \"const\")\n",
    "6×3 DataFrame\n",
    " Row │ a      b     c\n",
    "     │ Int64  Char  String\n",
    "─────┼─────────────────────\n",
    "   1 │     1  a     const\n",
    "   2 │     2  a     const\n",
    "   3 │     1  b     const\n",
    "   4 │     2  b     const\n",
    "   5 │     1  c     const\n",
    "   6 │     2  c     const\n",
    "```\n",
    "\n",
    "* `fillcombinations`\n",
    "\n",
    "```\n",
    "julia> df = DataFrame(x=1:2, y='a':'b', z=[\"x\", \"y\"])\n",
    "2×3 DataFrame\n",
    " Row │ x      y     z\n",
    "     │ Int64  Char  String\n",
    "─────┼─────────────────────\n",
    "   1 │     1  a     x\n",
    "   2 │     2  b     y\n",
    "julia> fillcombinations(df, [:x, :y])\n",
    "4×3 DataFrame\n",
    " Row │ x      y     z\n",
    "     │ Int64  Char  String?\n",
    "─────┼──────────────────────\n",
    "   1 │     1  a     x\n",
    "   2 │     2  a     missing\n",
    "   3 │     1  b     missing\n",
    "   4 │     2  b     y\n",
    "julia> fillcombinations(df, [:y, :z], fill=0)\n",
    "4×3 DataFrame\n",
    " Row │ x       y     z\n",
    "     │ Int64?  Char  String\n",
    "─────┼──────────────────────\n",
    "   1 │      1  a     x\n",
    "   2 │      0  b     x\n",
    "   3 │      0  a     y\n",
    "   4 │      2  b     y\n",
    "```\n",
    "\n",
    "#### Improved correctness of handling of threading\n",
    "\n",
    "New `threads` argument allows disabling multithreading in `combine`, `select`, `select!`, `transform`, `transform!`, `subset` and `subset!`\n",
    "\n",
    "#### Planned additional changes that are \"in the works\"\n",
    "\n",
    "* switch data frame printing backend in HTML output to PrettyTables.jl, see [this PR](https://github.com/JuliaData/DataFrames.jl/pull/3096) for details\n",
    "* add a possibility to add \"notes\" for data frame and its columns allowing to add descriptive annotations, see [this Discourse thread](https://discourse.julialang.org/t/dataframes-jl-metadata/84544) for discussion."
   ]
  },
  {
   "cell_type": "markdown",
   "metadata": {},
   "source": [
    "### What if I want to learn DataFrames.jl from a book?\n",
    "\n",
    "You can check out the following resources:\n",
    "* [Julia Data Science](https://juliadatascience.io/)\n",
    "* [Statistics with Julia: Fundamentals for Data Science, Machine Learning and Artificial Intelligence](https://www.amazon.com/Statistics-Julia-Fundamentals-Artificial-Intelligence/dp/3030709000/)\n",
    "\n",
    "---\n",
    "\n",
    "Also I have written the book [Julia for Data Analysis](https://www.manning.com/books/julia-for-data-analysis) that focuses on working with DataFrames.jl. It should be available in Autumn 2022.\n",
    "\n",
    "Currently you can view its preview at:\n",
    "* [Manning MEAP](https://www.manning.com/books/julia-for-data-analysis);\n",
    "* all source code is available in [book's GitHub repository](https://github.com/bkamins/JuliaForDataAnalysis); you can also find there links to related video tutorials I have recorded."
   ]
  },
  {
   "cell_type": "markdown",
   "metadata": {},
   "source": [
    "### What is next?\n",
    "\n",
    "SGH Warsaw School of Economics and MIT Julia Lab have received funding supporting further development of JuliaData ecosystem and teaching materials, so we have a bright future ahead!\n",
    "\n",
    "*Preparation of this worksop has been supported by the Polish National Agency for Academic Exchange under the Strategic Partnerships programme, grant number BPI/PST/2021/1/00069/U/00001.*\n",
    "\n",
    "![SGH & NAWA](logo.png)"
   ]
  }
 ],
 "metadata": {
  "kernelspec": {
   "display_name": "Julia 1.6.2",
   "language": "julia",
   "name": "julia-1.6"
  },
  "language_info": {
   "file_extension": ".jl",
   "mimetype": "application/julia",
   "name": "julia",
   "version": "1.6.2"
  }
 },
 "nbformat": 4,
 "nbformat_minor": 5
}
